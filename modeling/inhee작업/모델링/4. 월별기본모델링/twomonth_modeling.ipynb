{
 "cells": [
  {
   "attachments": {},
   "cell_type": "markdown",
   "metadata": {},
   "source": [
    "# Feature Selection\n",
    "1. Wrapper\n",
    "2. Filter\n",
    "3. Embedded"
   ]
  },
  {
   "cell_type": "code",
   "execution_count": 1,
   "metadata": {},
   "outputs": [],
   "source": [
    "import pandas as pd\n",
    "import numpy as np\n",
    "import matplotlib.pyplot as plt\n",
    "\n",
    "import seaborn as sns\n",
    "\n",
    "import matplotlib.font_manager as fm\n",
    "\n",
    "from sklearn.preprocessing import StandardScaler, MinMaxScaler\n",
    "from sklearn.model_selection import train_test_split\n",
    "from sklearn.ensemble import RandomForestClassifier\n",
    "from sklearn.metrics import classification_report, accuracy_score\n",
    "from sklearn.preprocessing import LabelEncoder"
   ]
  },
  {
   "cell_type": "code",
   "execution_count": 2,
   "metadata": {},
   "outputs": [],
   "source": [
    "from sklearn.model_selection import cross_val_score\n",
    "from sklearn.tree import DecisionTreeClassifier\n",
    "from sklearn.linear_model import LogisticRegression\n",
    "from sklearn.ensemble import RandomForestClassifier\n",
    "from sklearn.metrics import accuracy_score, precision_score, recall_score, f1_score\n",
    "from sklearn.svm import SVC\n",
    "from xgboost import XGBClassifier\n",
    "from lightgbm import LGBMClassifier\n",
    "from sklearn.model_selection import GridSearchCV\n",
    "from sklearn.metrics import r2_score, mean_squared_error"
   ]
  },
  {
   "cell_type": "code",
   "execution_count": 3,
   "metadata": {},
   "outputs": [],
   "source": [
    "# 라이브러리 호출\n",
    "import pandas as pd\n",
    "from sklearn.model_selection import train_test_split\n",
    "\n",
    "# 경고창 제거\n",
    "import warnings\n",
    "warnings.filterwarnings('ignore')"
   ]
  },
  {
   "cell_type": "code",
   "execution_count": 4,
   "metadata": {},
   "outputs": [],
   "source": [
    "# plt.rc('font', family='Malgun Gothic') # 폰트 지정\n",
    "# plt.rc('axes', unicode_minus=False) # 마이너스 폰트 설정\n",
    "# %config InlineBackend.figure_format='retina' # 그래프 글씨 뚜렷"
   ]
  },
  {
   "cell_type": "code",
   "execution_count": 5,
   "metadata": {},
   "outputs": [
    {
     "data": {
      "text/html": [
       "<div>\n",
       "<style scoped>\n",
       "    .dataframe tbody tr th:only-of-type {\n",
       "        vertical-align: middle;\n",
       "    }\n",
       "\n",
       "    .dataframe tbody tr th {\n",
       "        vertical-align: top;\n",
       "    }\n",
       "\n",
       "    .dataframe thead th {\n",
       "        text-align: right;\n",
       "    }\n",
       "</style>\n",
       "<table border=\"1\" class=\"dataframe\">\n",
       "  <thead>\n",
       "    <tr style=\"text-align: right;\">\n",
       "      <th></th>\n",
       "      <th>시장베이시스</th>\n",
       "      <th>이론베이시스</th>\n",
       "      <th>괴리율</th>\n",
       "      <th>원위안 야간변동율</th>\n",
       "      <th>원엔 야간변동율</th>\n",
       "      <th>KOSPI 전날변동율</th>\n",
       "      <th>KOSPI 야간변동율</th>\n",
       "      <th>KS200 전날변동율</th>\n",
       "      <th>KS200 야간변동율</th>\n",
       "      <th>NAS 야간변동율</th>\n",
       "      <th>...</th>\n",
       "      <th>JNIV 종가변동율</th>\n",
       "      <th>JNIV 전날변동율</th>\n",
       "      <th>JNIV 전날변화량</th>\n",
       "      <th>CD 전날변동율</th>\n",
       "      <th>CD 전날변화량</th>\n",
       "      <th>KOSPI 오전변동율</th>\n",
       "      <th>KOSPI 오전변화량</th>\n",
       "      <th>KS200 오전변동율</th>\n",
       "      <th>KS200 오전변화량</th>\n",
       "      <th>VKOSPI_Label</th>\n",
       "    </tr>\n",
       "  </thead>\n",
       "  <tbody>\n",
       "    <tr>\n",
       "      <th>2023-10-10</th>\n",
       "      <td>1.56</td>\n",
       "      <td>2.31</td>\n",
       "      <td>-0.23</td>\n",
       "      <td>0.070</td>\n",
       "      <td>0.056</td>\n",
       "      <td>0.21</td>\n",
       "      <td>1.156</td>\n",
       "      <td>0.11</td>\n",
       "      <td>1.264</td>\n",
       "      <td>0.39</td>\n",
       "      <td>...</td>\n",
       "      <td>-8.44</td>\n",
       "      <td>1.214</td>\n",
       "      <td>0.76</td>\n",
       "      <td>-0.261</td>\n",
       "      <td>0.01</td>\n",
       "      <td>-0.289</td>\n",
       "      <td>15.89</td>\n",
       "      <td>-0.317</td>\n",
       "      <td>2.25</td>\n",
       "      <td>1.0</td>\n",
       "    </tr>\n",
       "    <tr>\n",
       "      <th>2023-10-11</th>\n",
       "      <td>2.34</td>\n",
       "      <td>2.17</td>\n",
       "      <td>0.05</td>\n",
       "      <td>0.109</td>\n",
       "      <td>0.105</td>\n",
       "      <td>-0.26</td>\n",
       "      <td>1.413</td>\n",
       "      <td>0.05</td>\n",
       "      <td>1.520</td>\n",
       "      <td>0.58</td>\n",
       "      <td>...</td>\n",
       "      <td>-1.78</td>\n",
       "      <td>-1.964</td>\n",
       "      <td>0.92</td>\n",
       "      <td>0.000</td>\n",
       "      <td>0.00</td>\n",
       "      <td>-0.028</td>\n",
       "      <td>16.21</td>\n",
       "      <td>0.052</td>\n",
       "      <td>2.00</td>\n",
       "      <td>1.0</td>\n",
       "    </tr>\n",
       "    <tr>\n",
       "      <th>2023-10-12</th>\n",
       "      <td>2.26</td>\n",
       "      <td>2.18</td>\n",
       "      <td>0.02</td>\n",
       "      <td>0.093</td>\n",
       "      <td>0.105</td>\n",
       "      <td>1.98</td>\n",
       "      <td>0.617</td>\n",
       "      <td>1.76</td>\n",
       "      <td>0.662</td>\n",
       "      <td>0.71</td>\n",
       "      <td>...</td>\n",
       "      <td>3.03</td>\n",
       "      <td>1.983</td>\n",
       "      <td>0.69</td>\n",
       "      <td>0.000</td>\n",
       "      <td>0.00</td>\n",
       "      <td>0.140</td>\n",
       "      <td>10.62</td>\n",
       "      <td>0.238</td>\n",
       "      <td>1.71</td>\n",
       "      <td>1.0</td>\n",
       "    </tr>\n",
       "    <tr>\n",
       "      <th>2023-10-13</th>\n",
       "      <td>1.60</td>\n",
       "      <td>2.17</td>\n",
       "      <td>-0.17</td>\n",
       "      <td>0.043</td>\n",
       "      <td>0.036</td>\n",
       "      <td>1.21</td>\n",
       "      <td>-0.765</td>\n",
       "      <td>1.27</td>\n",
       "      <td>-0.833</td>\n",
       "      <td>-0.63</td>\n",
       "      <td>...</td>\n",
       "      <td>-1.99</td>\n",
       "      <td>1.423</td>\n",
       "      <td>0.86</td>\n",
       "      <td>0.000</td>\n",
       "      <td>0.00</td>\n",
       "      <td>0.053</td>\n",
       "      <td>12.23</td>\n",
       "      <td>0.046</td>\n",
       "      <td>1.90</td>\n",
       "      <td>0.0</td>\n",
       "    </tr>\n",
       "    <tr>\n",
       "      <th>2023-10-16</th>\n",
       "      <td>2.08</td>\n",
       "      <td>2.11</td>\n",
       "      <td>-0.01</td>\n",
       "      <td>0.081</td>\n",
       "      <td>0.124</td>\n",
       "      <td>-0.95</td>\n",
       "      <td>-0.559</td>\n",
       "      <td>-0.94</td>\n",
       "      <td>-0.513</td>\n",
       "      <td>-1.23</td>\n",
       "      <td>...</td>\n",
       "      <td>0.05</td>\n",
       "      <td>0.878</td>\n",
       "      <td>0.93</td>\n",
       "      <td>0.000</td>\n",
       "      <td>0.00</td>\n",
       "      <td>-0.206</td>\n",
       "      <td>15.99</td>\n",
       "      <td>-0.298</td>\n",
       "      <td>2.50</td>\n",
       "      <td>0.0</td>\n",
       "    </tr>\n",
       "  </tbody>\n",
       "</table>\n",
       "<p>5 rows × 34 columns</p>\n",
       "</div>"
      ],
      "text/plain": [
       "            시장베이시스  이론베이시스   괴리율  원위안 야간변동율  원엔 야간변동율  KOSPI 전날변동율  \\\n",
       "2023-10-10    1.56    2.31 -0.23      0.070     0.056         0.21   \n",
       "2023-10-11    2.34    2.17  0.05      0.109     0.105        -0.26   \n",
       "2023-10-12    2.26    2.18  0.02      0.093     0.105         1.98   \n",
       "2023-10-13    1.60    2.17 -0.17      0.043     0.036         1.21   \n",
       "2023-10-16    2.08    2.11 -0.01      0.081     0.124        -0.95   \n",
       "\n",
       "            KOSPI 야간변동율  KS200 전날변동율  KS200 야간변동율  NAS 야간변동율  ...  JNIV 종가변동율  \\\n",
       "2023-10-10        1.156         0.11        1.264       0.39  ...       -8.44   \n",
       "2023-10-11        1.413         0.05        1.520       0.58  ...       -1.78   \n",
       "2023-10-12        0.617         1.76        0.662       0.71  ...        3.03   \n",
       "2023-10-13       -0.765         1.27       -0.833      -0.63  ...       -1.99   \n",
       "2023-10-16       -0.559        -0.94       -0.513      -1.23  ...        0.05   \n",
       "\n",
       "            JNIV 전날변동율  JNIV 전날변화량  CD 전날변동율  CD 전날변화량  KOSPI 오전변동율  \\\n",
       "2023-10-10       1.214        0.76    -0.261      0.01       -0.289   \n",
       "2023-10-11      -1.964        0.92     0.000      0.00       -0.028   \n",
       "2023-10-12       1.983        0.69     0.000      0.00        0.140   \n",
       "2023-10-13       1.423        0.86     0.000      0.00        0.053   \n",
       "2023-10-16       0.878        0.93     0.000      0.00       -0.206   \n",
       "\n",
       "            KOSPI 오전변화량  KS200 오전변동율  KS200 오전변화량  VKOSPI_Label  \n",
       "2023-10-10        15.89       -0.317         2.25           1.0  \n",
       "2023-10-11        16.21        0.052         2.00           1.0  \n",
       "2023-10-12        10.62        0.238         1.71           1.0  \n",
       "2023-10-13        12.23        0.046         1.90           0.0  \n",
       "2023-10-16        15.99       -0.298         2.50           0.0  \n",
       "\n",
       "[5 rows x 34 columns]"
      ]
     },
     "execution_count": 5,
     "metadata": {},
     "output_type": "execute_result"
    }
   ],
   "source": [
    "train_df = pd.read_csv('../DATA/two_month_features.csv',index_col=0)\n",
    "train_df.head()\n",
    "test_df = pd.read_csv(\"../DATA/test_features_2month.csv\",index_col=0)\n",
    "test_df.head()"
   ]
  },
  {
   "cell_type": "code",
   "execution_count": 6,
   "metadata": {},
   "outputs": [],
   "source": [
    "X_train = train_df.drop(columns='VKOSPI_Label',axis=1)\n",
    "y_train = train_df[['VKOSPI_Label']]\n",
    "X_val = test_df.drop(columns='VKOSPI_Label',axis=1)\n",
    "y_val = test_df[['VKOSPI_Label']]"
   ]
  },
  {
   "cell_type": "code",
   "execution_count": 7,
   "metadata": {},
   "outputs": [],
   "source": [
    "# 표준화\n",
    "features_to_standardize = ['KOSPI 전날변동율','KOSPI 야간변동율', 'KS200 전날변동율', 'KS200 야간변동율']\n",
    "scaler_standardize = StandardScaler()\n",
    "X_train = scaler_standardize.fit_transform(X_train[features_to_standardize])\n",
    "X_val = scaler_standardize.transform(X_val[features_to_standardize])\n",
    "\n",
    "X_train = pd.DataFrame(X_train, columns=features_to_standardize)\n",
    "X_val = pd.DataFrame(X_val, columns=features_to_standardize)"
   ]
  },
  {
   "cell_type": "markdown",
   "metadata": {},
   "source": [
    "## RF 기반 feature importance"
   ]
  },
  {
   "cell_type": "code",
   "execution_count": 8,
   "metadata": {},
   "outputs": [
    {
     "data": {
      "text/html": [
       "<div>\n",
       "<style scoped>\n",
       "    .dataframe tbody tr th:only-of-type {\n",
       "        vertical-align: middle;\n",
       "    }\n",
       "\n",
       "    .dataframe tbody tr th {\n",
       "        vertical-align: top;\n",
       "    }\n",
       "\n",
       "    .dataframe thead th {\n",
       "        text-align: right;\n",
       "    }\n",
       "</style>\n",
       "<table border=\"1\" class=\"dataframe\">\n",
       "  <thead>\n",
       "    <tr style=\"text-align: right;\">\n",
       "      <th></th>\n",
       "      <th>feature importances</th>\n",
       "    </tr>\n",
       "  </thead>\n",
       "  <tbody>\n",
       "    <tr>\n",
       "      <th>KS200 야간변동율</th>\n",
       "      <td>0.140358</td>\n",
       "    </tr>\n",
       "    <tr>\n",
       "      <th>KOSPI 야간변동율</th>\n",
       "      <td>0.158954</td>\n",
       "    </tr>\n",
       "    <tr>\n",
       "      <th>KOSPI 전날변동율</th>\n",
       "      <td>0.347136</td>\n",
       "    </tr>\n",
       "    <tr>\n",
       "      <th>KS200 전날변동율</th>\n",
       "      <td>0.353552</td>\n",
       "    </tr>\n",
       "  </tbody>\n",
       "</table>\n",
       "</div>"
      ],
      "text/plain": [
       "             feature importances\n",
       "KS200 야간변동율             0.140358\n",
       "KOSPI 야간변동율             0.158954\n",
       "KOSPI 전날변동율             0.347136\n",
       "KS200 전날변동율             0.353552"
      ]
     },
     "execution_count": 8,
     "metadata": {},
     "output_type": "execute_result"
    }
   ],
   "source": [
    "# Feature_Importances\n",
    "rfc = RandomForestClassifier(random_state=42)\n",
    "\n",
    "rfc.fit(X_train, y_train)\n",
    "\n",
    "rfc.feature_importances_\n",
    "\n",
    "ftr_importances = pd.Series(rfc.feature_importances_, index=X_train.columns)\n",
    "sorted_feature_importance = ftr_importances.sort_values(ascending=True)\n",
    "\n",
    "data = sorted_feature_importance\n",
    "importance = pd.DataFrame(data, columns=['feature importances'])\n",
    "importance"
   ]
  },
  {
   "cell_type": "code",
   "execution_count": 9,
   "metadata": {},
   "outputs": [
    {
     "data": {
      "image/png": "[encoded data removed]",
      "text/plain": [
       "<Figure size 1000x600 with 1 Axes>"
      ]
     },
     "metadata": {},
     "output_type": "display_data"
    }
   ],
   "source": [
    "plt.figure(figsize=(10, 6))\n",
    "colors = plt.cm.tab20(np.linspace(0, 1, len(importance)))\n",
    "\n",
    "plt.barh(importance.index, importance['feature importances'], color=colors)  # Changed to barh for horizontal bar chart\n",
    "plt.ylabel('Features')  # Changed to 'Features' for Y-axis label\n",
    "plt.xlabel('Importance')  # Changed to 'Importance' for X-axis label\n",
    "plt.title('Feature Importances')\n",
    "\n",
    "# Rotating x labels for better visibility if needed\n",
    "plt.xticks(rotation=45)\n",
    "\n",
    "# Show the plot\n",
    "plt.tight_layout()\n",
    "plt.show()"
   ]
  },
  {
   "cell_type": "markdown",
   "metadata": {},
   "source": [
    "# Logit기반 피쳐 갯수 선정"
   ]
  },
  {
   "cell_type": "code",
   "execution_count": 10,
   "metadata": {},
   "outputs": [],
   "source": [
    "from sklearn.linear_model import LogisticRegression\n",
    "from sklearn.feature_selection import SelectFromModel\n",
    "import statsmodels.api as sm\n",
    "import numpy as np\n",
    "lr_clf = LogisticRegression()\n",
    "\n",
    "\n",
    "logit = SelectFromModel(LogisticRegression())\n",
    "logit.fit(X_train, y_train)\n",
    "logit_support = logit.get_support()\n",
    "lr_feature = X_train.loc[:,logit_support].columns.tolist()"
   ]
  },
  {
   "cell_type": "code",
   "execution_count": 11,
   "metadata": {},
   "outputs": [
    {
     "name": "stdout",
     "output_type": "stream",
     "text": [
      "['KOSPI 전날변동율', 'KS200 전날변동율']\n",
      "2\n"
     ]
    }
   ],
   "source": [
    "print(lr_feature)\n",
    "print(len(lr_feature))"
   ]
  },
  {
   "attachments": {},
   "cell_type": "markdown",
   "metadata": {},
   "source": [
    "## 1. Wrapper : 모델링을 돌리면서 변수를 선택하는 방법\n",
    "\n",
    "- Forward Selection(전진 선택) : 변수가 없는 상태로 시작하며 반복할 때마다 가장 중요한 변수를 추가하여 더 이상 성능의 향상이 없을 때까지 변수를 추가한다.\n",
    "- Backward Elimination(후방 제거) : 모든 변수를 가지고 시작하며, 가장 덜 중요한 변수를 하나씩 제거하면서 모델의 성능을 향상시킨다. 더 이상 성능의 향상이 없을 때까지 반복한다.\n",
    "- Stepwise Selection(단계별 선택): Foward Selection 과 Backward Elimination 을 결합하여 사용하는 방식으로, 모든  변수를 가지고 시작하여 가장 도움이 되지 않는 변수를 삭제하거나, 모델에서 빠져있는 변수 중에서 가장 중요한 변수를 추가하는 방법이다. 이와 같이 변수를 추가 또는 삭제를 반복한다. 반대로 아무것도 없는 모델에서 출발해 변수를 추가, 삭제를 반복할 수도 있다."
   ]
  },
  {
   "cell_type": "code",
   "execution_count": 12,
   "metadata": {},
   "outputs": [
    {
     "name": "stdout",
     "output_type": "stream",
     "text": [
      "Selected feature: KOSPI 야간변동율, Accuracy: 0.4737\n",
      "\n",
      "Forward selected features:\n"
     ]
    }
   ],
   "source": [
    "# Forward Selection\n",
    "import pandas as pd\n",
    "from sklearn.linear_model import LogisticRegression\n",
    "\n",
    "# Forward feature selection 수행\n",
    "selected_features = []\n",
    "best_score = 0\n",
    "\n",
    "while len(selected_features) < X_train.shape[1]:\n",
    "    best_feature = None\n",
    "    best_model = None\n",
    "    best_score_local = 0\n",
    "\n",
    "    for feature in X_train.columns:\n",
    "        if feature not in selected_features:\n",
    "            features = selected_features + [feature]\n",
    "            X_train_selected = X_train[features]\n",
    "            X_val_selected = X_val[features]\n",
    "\n",
    "            model = LogisticRegression()\n",
    "            model.fit(X_train_selected, y_train)\n",
    "            score = model.score(X_val_selected, y_val)\n",
    "\n",
    "            if score > best_score_local:\n",
    "                best_score_local = score\n",
    "                best_feature = feature\n",
    "                best_model = model\n",
    "\n",
    "    if best_score_local > best_score:\n",
    "        selected_features.append(best_feature)\n",
    "        best_score = best_score_local\n",
    "        print(f\"Selected feature: {best_feature}, Accuracy: {best_score:.4f}\")\n",
    "\n",
    "    else:\n",
    "        break\n",
    "\n",
    "print(\"\\nForward selected features:\")\n",
    "Forward = selected_features\n"
   ]
  },
  {
   "cell_type": "code",
   "execution_count": 13,
   "metadata": {},
   "outputs": [
    {
     "name": "stdout",
     "output_type": "stream",
     "text": [
      "Removed feature: KOSPI 전날변동율, Accuracy: 0.3684\n",
      "Removed feature: KS200 전날변동율, Accuracy: 0.4737\n",
      "\n",
      "Final selected features:\n"
     ]
    }
   ],
   "source": [
    "# Backward Elimination\n",
    "import pandas as pd\n",
    "from sklearn.model_selection import train_test_split\n",
    "from sklearn.linear_model import LogisticRegression\n",
    "\n",
    "# Backward feature selection 수행\n",
    "selected_features = X_train.columns.tolist()\n",
    "best_score = 0\n",
    "\n",
    "while len(selected_features) > 0:\n",
    "    worst_feature = None\n",
    "    best_model = None\n",
    "    best_score_local = 0\n",
    "\n",
    "    for feature in selected_features:\n",
    "        features = selected_features.copy()\n",
    "        features.remove(feature)\n",
    "\n",
    "        X_train_selected = X_train[features]\n",
    "        X_val_selected = X_val[features]\n",
    "\n",
    "        model = LogisticRegression()\n",
    "        model.fit(X_train_selected, y_train)\n",
    "        score = model.score(X_val_selected, y_val)\n",
    "\n",
    "        if score > best_score_local:\n",
    "            best_score_local = score\n",
    "            worst_feature = feature\n",
    "            best_model = model\n",
    "\n",
    "    if best_score_local > best_score:\n",
    "        selected_features.remove(worst_feature)\n",
    "        best_score = best_score_local\n",
    "        print(f\"Removed feature: {worst_feature}, Accuracy: {best_score:.4f}\")\n",
    "\n",
    "    else:\n",
    "        break\n",
    "\n",
    "print(\"\\nFinal selected features:\")\n",
    "Backward = selected_features\n"
   ]
  },
  {
   "cell_type": "code",
   "execution_count": 14,
   "metadata": {},
   "outputs": [],
   "source": [
    "# # Stepwise Selection\n",
    "# import pandas as pd\n",
    "# from sklearn.model_selection import train_test_split\n",
    "# from sklearn.linear_model import LogisticRegression\n",
    "\n",
    "# # Stepwise feature selection 수행\n",
    "# selected_features = []\n",
    "# best_score = 0\n",
    "\n",
    "# # Forward step\n",
    "# while len(selected_features) < X.shape[1]:\n",
    "#     best_feature = None\n",
    "#     best_model = None\n",
    "#     best_score_local = 0\n",
    "\n",
    "#     for feature in X_train.columns:\n",
    "#         if feature not in selected_features:\n",
    "#             features = selected_features + [feature]\n",
    "#             X_train_selected = X_train[features]\n",
    "#             X_val_selected = X_val[features]\n",
    "\n",
    "#             model = LogisticRegression()\n",
    "#             model.fit(X_train_selected, y_train)\n",
    "#             score = model.score(X_val_selected, y_val)\n",
    "\n",
    "#             if score > best_score_local:\n",
    "#                 best_score_local = score\n",
    "#                 best_feature = feature\n",
    "#                 best_model = model\n",
    "\n",
    "#     if best_score_local > best_score:\n",
    "#         selected_features.append(best_feature)\n",
    "#         best_score = best_score_local\n",
    "#         print(f\"Selected feature: {best_feature}, Accuracy: {best_score:.4f}\")\n",
    "\n",
    "#     else:\n",
    "#         break\n",
    "\n",
    "# # Backward step\n",
    "# while len(selected_features) > 0:\n",
    "#     worst_feature = None\n",
    "#     best_model = None\n",
    "#     best_score_local = 0\n",
    "\n",
    "#     for feature in selected_features:\n",
    "#         features = selected_features.copy()\n",
    "#         features.remove(feature)\n",
    "\n",
    "#         X_train_selected = X_train[features]\n",
    "#         X_val_selected = X_val[features]\n",
    "\n",
    "#         model = LogisticRegression()\n",
    "#         model.fit(X_train_selected, y_train)\n",
    "#         score = model.score(X_val_selected, y_val)\n",
    "\n",
    "#         if score > best_score_local:\n",
    "#             best_score_local = score\n",
    "#             worst_feature = feature\n",
    "#             best_model = model\n",
    "\n",
    "#     if best_score_local > best_score:\n",
    "#         selected_features.remove(worst_feature)\n",
    "#         best_score = best_score_local\n",
    "#         print(f\"Removed feature: {worst_feature}, Accuracy: {best_score:.4f}\")\n",
    "\n",
    "#     else:\n",
    "#         break\n",
    "\n",
    "# print(\"\\nFinal selected features:\")\n",
    "# Stepwise = selected_features\n"
   ]
  },
  {
   "attachments": {},
   "cell_type": "markdown",
   "metadata": {},
   "source": [
    "## 3. Embedded\n",
    "- Lasso, Ridge, Elastic Net 등 내장함수 사용하여 변수를 선택하는 방법"
   ]
  },
  {
   "cell_type": "code",
   "execution_count": 15,
   "metadata": {},
   "outputs": [
    {
     "name": "stdout",
     "output_type": "stream",
     "text": [
      "GridSearchCV 최적 파라미터: {'C': 1, 'penalty': 'l1', 'solver': 'liblinear'}\n",
      "GridSearchCV 최고 정확도:0.7750\n"
     ]
    }
   ],
   "source": [
    "import numpy as np\n",
    "from sklearn.linear_model import LogisticRegression\n",
    "from sklearn.model_selection import GridSearchCV\n",
    "from sklearn.metrics import r2_score, mean_squared_error\n",
    "import warnings\n",
    "warnings.simplefilter('ignore')\n",
    "\n",
    "lasso_model = LogisticRegression()\n",
    "param_grid = {'penalty' : ['l1'], \n",
    "                'C' : [0.001, 0.01, 0.1, 1, 2, 5, 10],\n",
    "                'solver' : ['liblinear']}\n",
    "\n",
    "grid_search = GridSearchCV(lasso_model, param_grid=param_grid, return_train_score=True, cv=5)\n",
    "grid_search.fit(X_train, y_train)\n",
    "\n",
    "df = pd.DataFrame(grid_search.cv_results_)\n",
    "df = df.sort_values(by=['rank_test_score'], ascending=True)\n",
    "df[['params', 'mean_train_score', 'mean_test_score', 'rank_test_score']]\n",
    "print('GridSearchCV 최적 파라미터:', grid_search.best_params_)\n",
    "print('GridSearchCV 최고 정확도:{0:.4f}'.format(grid_search.best_score_))"
   ]
  },
  {
   "cell_type": "code",
   "execution_count": 16,
   "metadata": {},
   "outputs": [
    {
     "data": {
      "text/html": [
       "<div>\n",
       "<style scoped>\n",
       "    .dataframe tbody tr th:only-of-type {\n",
       "        vertical-align: middle;\n",
       "    }\n",
       "\n",
       "    .dataframe tbody tr th {\n",
       "        vertical-align: top;\n",
       "    }\n",
       "\n",
       "    .dataframe thead th {\n",
       "        text-align: right;\n",
       "    }\n",
       "</style>\n",
       "<table border=\"1\" class=\"dataframe\">\n",
       "  <thead>\n",
       "    <tr style=\"text-align: right;\">\n",
       "      <th></th>\n",
       "      <th>feature</th>\n",
       "      <th>coef</th>\n",
       "    </tr>\n",
       "  </thead>\n",
       "  <tbody>\n",
       "    <tr>\n",
       "      <th>0</th>\n",
       "      <td>KOSPI 전날변동율</td>\n",
       "      <td>-1.899971</td>\n",
       "    </tr>\n",
       "    <tr>\n",
       "      <th>1</th>\n",
       "      <td>KOSPI 야간변동율</td>\n",
       "      <td>-0.256001</td>\n",
       "    </tr>\n",
       "    <tr>\n",
       "      <th>2</th>\n",
       "      <td>KS200 전날변동율</td>\n",
       "      <td>-0.996875</td>\n",
       "    </tr>\n",
       "  </tbody>\n",
       "</table>\n",
       "</div>"
      ],
      "text/plain": [
       "       feature      coef\n",
       "0  KOSPI 전날변동율 -1.899971\n",
       "1  KOSPI 야간변동율 -0.256001\n",
       "2  KS200 전날변동율 -0.996875"
      ]
     },
     "execution_count": 16,
     "metadata": {},
     "output_type": "execute_result"
    }
   ],
   "source": [
    "lasso_best = LogisticRegression(C=8, penalty='l1', solver='liblinear').fit(X_train, y_train)\n",
    "\n",
    "df_lasso = pd.DataFrame()\n",
    "df_lasso['feature'] = X_train.columns\n",
    "df_lasso['coef'] = lasso_best.coef_[0]\n",
    "df_lasso.drop(df_lasso[df_lasso['coef']==0].index, inplace=True)\n",
    "df_lasso"
   ]
  },
  {
   "cell_type": "code",
   "execution_count": 17,
   "metadata": {},
   "outputs": [
    {
     "name": "stdout",
     "output_type": "stream",
     "text": [
      "Lasso에서 선택된 피처 수 3 개\n"
     ]
    },
    {
     "data": {
      "text/plain": [
       "['KOSPI 전날변동율', 'KOSPI 야간변동율', 'KS200 전날변동율']"
      ]
     },
     "execution_count": 17,
     "metadata": {},
     "output_type": "execute_result"
    }
   ],
   "source": [
    "# 라쏘에서 선택된 피처\n",
    "lasso = df_lasso['feature'].values.tolist()\n",
    "print('Lasso에서 선택된 피처 수 {0:1.0f}'.format(len(df_lasso)), '개')\n",
    "lasso"
   ]
  },
  {
   "cell_type": "code",
   "execution_count": 18,
   "metadata": {},
   "outputs": [],
   "source": [
    "list_Forward = list(Forward)\n",
    "list_Backward = list(Backward)\n",
    "# list_Stepwise = list(Stepwise)\n",
    "list_lasso = list(lasso)\n",
    "list_col_all = X_train.columns"
   ]
  },
  {
   "cell_type": "code",
   "execution_count": 19,
   "metadata": {},
   "outputs": [],
   "source": [
    "def func_Forward(x):\n",
    "    if x in list_Forward:\n",
    "        return 1\n",
    "    else:\n",
    "        return 0\n",
    "    \n",
    "def func_Backward(x):\n",
    "    if x in list_Backward:\n",
    "        return 1\n",
    "    else:\n",
    "        return 0\n",
    "\n",
    "\n",
    "# def func_Stepwise(x):\n",
    "#     if x in list_Stepwise:\n",
    "#         return 1\n",
    "#     else:\n",
    "#         return 0\n",
    "\n",
    "    \n",
    "def func_lasso(x):\n",
    "    if x in list_lasso:\n",
    "        return 1\n",
    "    else:\n",
    "        return 0"
   ]
  },
  {
   "cell_type": "code",
   "execution_count": 20,
   "metadata": {},
   "outputs": [
    {
     "name": "stdout",
     "output_type": "stream",
     "text": [
      "선택된 피쳐수 : 1\n"
     ]
    },
    {
     "data": {
      "text/html": [
       "<div>\n",
       "<style scoped>\n",
       "    .dataframe tbody tr th:only-of-type {\n",
       "        vertical-align: middle;\n",
       "    }\n",
       "\n",
       "    .dataframe tbody tr th {\n",
       "        vertical-align: top;\n",
       "    }\n",
       "\n",
       "    .dataframe thead th {\n",
       "        text-align: right;\n",
       "    }\n",
       "</style>\n",
       "<table border=\"1\" class=\"dataframe\">\n",
       "  <thead>\n",
       "    <tr style=\"text-align: right;\">\n",
       "      <th></th>\n",
       "      <th>Feature</th>\n",
       "      <th>Forward</th>\n",
       "      <th>Backward</th>\n",
       "      <th>lasso</th>\n",
       "      <th>total</th>\n",
       "    </tr>\n",
       "  </thead>\n",
       "  <tbody>\n",
       "    <tr>\n",
       "      <th>1</th>\n",
       "      <td>KOSPI 야간변동율</td>\n",
       "      <td>1</td>\n",
       "      <td>1</td>\n",
       "      <td>1</td>\n",
       "      <td>3</td>\n",
       "    </tr>\n",
       "  </tbody>\n",
       "</table>\n",
       "</div>"
      ],
      "text/plain": [
       "       Feature  Forward  Backward  lasso  total\n",
       "1  KOSPI 야간변동율        1         1      1      3"
      ]
     },
     "execution_count": 20,
     "metadata": {},
     "output_type": "execute_result"
    }
   ],
   "source": [
    "# 2번 선택된 Feature\n",
    "\n",
    "feature_counts = pd.DataFrame()\n",
    "feature_counts['Feature'] = list_col_all\n",
    "feature_counts['Forward'] = list_col_all.map(func_Forward)\n",
    "feature_counts['Backward'] = list_col_all.map(func_Backward)\n",
    "#feature_counts['Stepwise'] = list_col_all.map(func_Stepwise)\n",
    "feature_counts['lasso'] = list_col_all.map(func_lasso)\n",
    "\n",
    "feature_counts[\"total\"] = feature_counts[\"Forward\"]+feature_counts['Backward']+feature_counts[\"lasso\"]\n",
    "feature_final = feature_counts[feature_counts[\"total\"]>=2]\n",
    "list_feature_final = list(feature_final[\"Feature\"])\n",
    "print(\"선택된 피쳐수 :\", len(list_feature_final))\n",
    "feature_final"
   ]
  },
  {
   "cell_type": "code",
   "execution_count": 21,
   "metadata": {},
   "outputs": [
    {
     "data": {
      "text/plain": [
       "array([['KOSPI 야간변동율']], dtype=object)"
      ]
     },
     "execution_count": 21,
     "metadata": {},
     "output_type": "execute_result"
    }
   ],
   "source": [
    "feature_final[['Feature']]\n",
    "np.array(feature_final[['Feature']])"
   ]
  },
  {
   "cell_type": "code",
   "execution_count": 22,
   "metadata": {},
   "outputs": [
    {
     "name": "stdout",
     "output_type": "stream",
     "text": [
      "선택된 피쳐수 : 1\n"
     ]
    },
    {
     "data": {
      "text/html": [
       "<div>\n",
       "<style scoped>\n",
       "    .dataframe tbody tr th:only-of-type {\n",
       "        vertical-align: middle;\n",
       "    }\n",
       "\n",
       "    .dataframe tbody tr th {\n",
       "        vertical-align: top;\n",
       "    }\n",
       "\n",
       "    .dataframe thead th {\n",
       "        text-align: right;\n",
       "    }\n",
       "</style>\n",
       "<table border=\"1\" class=\"dataframe\">\n",
       "  <thead>\n",
       "    <tr style=\"text-align: right;\">\n",
       "      <th></th>\n",
       "      <th>Feature</th>\n",
       "      <th>Forward</th>\n",
       "      <th>Backward</th>\n",
       "      <th>lasso</th>\n",
       "      <th>total</th>\n",
       "    </tr>\n",
       "  </thead>\n",
       "  <tbody>\n",
       "    <tr>\n",
       "      <th>1</th>\n",
       "      <td>KOSPI 야간변동율</td>\n",
       "      <td>1</td>\n",
       "      <td>1</td>\n",
       "      <td>1</td>\n",
       "      <td>3</td>\n",
       "    </tr>\n",
       "  </tbody>\n",
       "</table>\n",
       "</div>"
      ],
      "text/plain": [
       "       Feature  Forward  Backward  lasso  total\n",
       "1  KOSPI 야간변동율        1         1      1      3"
      ]
     },
     "execution_count": 22,
     "metadata": {},
     "output_type": "execute_result"
    }
   ],
   "source": [
    "# 3번 선택된 Feature\n",
    "\n",
    "feature_counts = pd.DataFrame()\n",
    "feature_counts['Feature'] = list_col_all\n",
    "feature_counts['Forward'] = list_col_all.map(func_Forward)\n",
    "feature_counts['Backward'] = list_col_all.map(func_Backward)\n",
    "# feature_counts['Stepwise'] = list_col_all.map(func_Stepwise)\n",
    "feature_counts['lasso'] = list_col_all.map(func_lasso)\n",
    "\n",
    "feature_counts[\"total\"] = feature_counts[\"Forward\"]+feature_counts['Backward']+feature_counts[\"lasso\"]\n",
    "feature_final = feature_counts[feature_counts[\"total\"]>=3]\n",
    "list_feature_final = list(feature_final[\"Feature\"])\n",
    "print(\"선택된 피쳐수 :\", len(list_feature_final))\n",
    "feature_final"
   ]
  },
  {
   "cell_type": "code",
   "execution_count": 23,
   "metadata": {},
   "outputs": [
    {
     "ename": "KeyError",
     "evalue": "\"['원엔 야간변동율', 'NAS 당일변동율', 'P/C Ratio', 'S&P 당일변화량', '원달러 야간변동율', 'VIX 당일변화량', 'JNIV 종가변동율', 'JNIV 전날변동율', 'KS200 오전변동율'] not in index\"",
     "output_type": "error",
     "traceback": [
      "\u001b[0;31m---------------------------------------------------------------------------\u001b[0m",
      "\u001b[0;31mKeyError\u001b[0m                                  Traceback (most recent call last)",
      "\u001b[1;32m/Users/haninnisfree/Ubion/pro1/Project1/modeling/inhee작업/모델링/twomonth_modeling.ipynb 셀 28\u001b[0m line \u001b[0;36m1\n\u001b[0;32m----> <a href='vscode-notebook-cell:/Users/haninnisfree/Ubion/pro1/Project1/modeling/inhee%EC%9E%91%EC%97%85/%EB%AA%A8%EB%8D%B8%EB%A7%81/twomonth_modeling.ipynb#X36sZmlsZQ%3D%3D?line=0'>1</a>\u001b[0m X_train \u001b[39m=\u001b[39m X_train[[\u001b[39m'\u001b[39;49m\u001b[39m원엔 야간변동율\u001b[39;49m\u001b[39m'\u001b[39;49m,\n\u001b[1;32m      <a href='vscode-notebook-cell:/Users/haninnisfree/Ubion/pro1/Project1/modeling/inhee%EC%9E%91%EC%97%85/%EB%AA%A8%EB%8D%B8%EB%A7%81/twomonth_modeling.ipynb#X36sZmlsZQ%3D%3D?line=1'>2</a>\u001b[0m        \u001b[39m'\u001b[39;49m\u001b[39mKS200 야간변동율\u001b[39;49m\u001b[39m'\u001b[39;49m,\n\u001b[1;32m      <a href='vscode-notebook-cell:/Users/haninnisfree/Ubion/pro1/Project1/modeling/inhee%EC%9E%91%EC%97%85/%EB%AA%A8%EB%8D%B8%EB%A7%81/twomonth_modeling.ipynb#X36sZmlsZQ%3D%3D?line=2'>3</a>\u001b[0m        \u001b[39m'\u001b[39;49m\u001b[39mNAS 당일변동율\u001b[39;49m\u001b[39m'\u001b[39;49m,\n\u001b[1;32m      <a href='vscode-notebook-cell:/Users/haninnisfree/Ubion/pro1/Project1/modeling/inhee%EC%9E%91%EC%97%85/%EB%AA%A8%EB%8D%B8%EB%A7%81/twomonth_modeling.ipynb#X36sZmlsZQ%3D%3D?line=3'>4</a>\u001b[0m        \u001b[39m'\u001b[39;49m\u001b[39mP/C Ratio\u001b[39;49m\u001b[39m'\u001b[39;49m,\n\u001b[1;32m      <a href='vscode-notebook-cell:/Users/haninnisfree/Ubion/pro1/Project1/modeling/inhee%EC%9E%91%EC%97%85/%EB%AA%A8%EB%8D%B8%EB%A7%81/twomonth_modeling.ipynb#X36sZmlsZQ%3D%3D?line=4'>5</a>\u001b[0m        \u001b[39m'\u001b[39;49m\u001b[39mS&P 당일변화량\u001b[39;49m\u001b[39m'\u001b[39;49m,\n\u001b[1;32m      <a href='vscode-notebook-cell:/Users/haninnisfree/Ubion/pro1/Project1/modeling/inhee%EC%9E%91%EC%97%85/%EB%AA%A8%EB%8D%B8%EB%A7%81/twomonth_modeling.ipynb#X36sZmlsZQ%3D%3D?line=5'>6</a>\u001b[0m        \u001b[39m'\u001b[39;49m\u001b[39m원달러 야간변동율\u001b[39;49m\u001b[39m'\u001b[39;49m,\n\u001b[1;32m      <a href='vscode-notebook-cell:/Users/haninnisfree/Ubion/pro1/Project1/modeling/inhee%EC%9E%91%EC%97%85/%EB%AA%A8%EB%8D%B8%EB%A7%81/twomonth_modeling.ipynb#X36sZmlsZQ%3D%3D?line=6'>7</a>\u001b[0m        \u001b[39m'\u001b[39;49m\u001b[39mVIX 당일변화량\u001b[39;49m\u001b[39m'\u001b[39;49m,\n\u001b[1;32m      <a href='vscode-notebook-cell:/Users/haninnisfree/Ubion/pro1/Project1/modeling/inhee%EC%9E%91%EC%97%85/%EB%AA%A8%EB%8D%B8%EB%A7%81/twomonth_modeling.ipynb#X36sZmlsZQ%3D%3D?line=7'>8</a>\u001b[0m        \u001b[39m'\u001b[39;49m\u001b[39mJNIV 종가변동율\u001b[39;49m\u001b[39m'\u001b[39;49m,\n\u001b[1;32m      <a href='vscode-notebook-cell:/Users/haninnisfree/Ubion/pro1/Project1/modeling/inhee%EC%9E%91%EC%97%85/%EB%AA%A8%EB%8D%B8%EB%A7%81/twomonth_modeling.ipynb#X36sZmlsZQ%3D%3D?line=8'>9</a>\u001b[0m        \u001b[39m'\u001b[39;49m\u001b[39mJNIV 전날변동율\u001b[39;49m\u001b[39m'\u001b[39;49m,\n\u001b[1;32m     <a href='vscode-notebook-cell:/Users/haninnisfree/Ubion/pro1/Project1/modeling/inhee%EC%9E%91%EC%97%85/%EB%AA%A8%EB%8D%B8%EB%A7%81/twomonth_modeling.ipynb#X36sZmlsZQ%3D%3D?line=9'>10</a>\u001b[0m        \u001b[39m'\u001b[39;49m\u001b[39mKS200 오전변동율\u001b[39;49m\u001b[39m'\u001b[39;49m]]\n\u001b[1;32m     <a href='vscode-notebook-cell:/Users/haninnisfree/Ubion/pro1/Project1/modeling/inhee%EC%9E%91%EC%97%85/%EB%AA%A8%EB%8D%B8%EB%A7%81/twomonth_modeling.ipynb#X36sZmlsZQ%3D%3D?line=10'>11</a>\u001b[0m X_val \u001b[39m=\u001b[39m X_val[[\u001b[39m'\u001b[39m\u001b[39m원엔 야간변동율\u001b[39m\u001b[39m'\u001b[39m,\n\u001b[1;32m     <a href='vscode-notebook-cell:/Users/haninnisfree/Ubion/pro1/Project1/modeling/inhee%EC%9E%91%EC%97%85/%EB%AA%A8%EB%8D%B8%EB%A7%81/twomonth_modeling.ipynb#X36sZmlsZQ%3D%3D?line=11'>12</a>\u001b[0m        \u001b[39m'\u001b[39m\u001b[39mKS200 야간변동율\u001b[39m\u001b[39m'\u001b[39m,\n\u001b[1;32m     <a href='vscode-notebook-cell:/Users/haninnisfree/Ubion/pro1/Project1/modeling/inhee%EC%9E%91%EC%97%85/%EB%AA%A8%EB%8D%B8%EB%A7%81/twomonth_modeling.ipynb#X36sZmlsZQ%3D%3D?line=12'>13</a>\u001b[0m        \u001b[39m'\u001b[39m\u001b[39mNAS 당일변동율\u001b[39m\u001b[39m'\u001b[39m,\n\u001b[0;32m   (...)\u001b[0m\n\u001b[1;32m     <a href='vscode-notebook-cell:/Users/haninnisfree/Ubion/pro1/Project1/modeling/inhee%EC%9E%91%EC%97%85/%EB%AA%A8%EB%8D%B8%EB%A7%81/twomonth_modeling.ipynb#X36sZmlsZQ%3D%3D?line=18'>19</a>\u001b[0m        \u001b[39m'\u001b[39m\u001b[39mJNIV 전날변동율\u001b[39m\u001b[39m'\u001b[39m,\n\u001b[1;32m     <a href='vscode-notebook-cell:/Users/haninnisfree/Ubion/pro1/Project1/modeling/inhee%EC%9E%91%EC%97%85/%EB%AA%A8%EB%8D%B8%EB%A7%81/twomonth_modeling.ipynb#X36sZmlsZQ%3D%3D?line=19'>20</a>\u001b[0m        \u001b[39m'\u001b[39m\u001b[39mKS200 오전변동율\u001b[39m\u001b[39m'\u001b[39m]]\n",
      "File \u001b[0;32m/Library/Frameworks/Python.framework/Versions/3.11/lib/python3.11/site-packages/pandas/core/frame.py:3902\u001b[0m, in \u001b[0;36mDataFrame.__getitem__\u001b[0;34m(self, key)\u001b[0m\n\u001b[1;32m   3900\u001b[0m     \u001b[39mif\u001b[39;00m is_iterator(key):\n\u001b[1;32m   3901\u001b[0m         key \u001b[39m=\u001b[39m \u001b[39mlist\u001b[39m(key)\n\u001b[0;32m-> 3902\u001b[0m     indexer \u001b[39m=\u001b[39m \u001b[39mself\u001b[39;49m\u001b[39m.\u001b[39;49mcolumns\u001b[39m.\u001b[39;49m_get_indexer_strict(key, \u001b[39m\"\u001b[39;49m\u001b[39mcolumns\u001b[39;49m\u001b[39m\"\u001b[39;49m)[\u001b[39m1\u001b[39m]\n\u001b[1;32m   3904\u001b[0m \u001b[39m# take() does not accept boolean indexers\u001b[39;00m\n\u001b[1;32m   3905\u001b[0m \u001b[39mif\u001b[39;00m \u001b[39mgetattr\u001b[39m(indexer, \u001b[39m\"\u001b[39m\u001b[39mdtype\u001b[39m\u001b[39m\"\u001b[39m, \u001b[39mNone\u001b[39;00m) \u001b[39m==\u001b[39m \u001b[39mbool\u001b[39m:\n",
      "File \u001b[0;32m/Library/Frameworks/Python.framework/Versions/3.11/lib/python3.11/site-packages/pandas/core/indexes/base.py:6114\u001b[0m, in \u001b[0;36mIndex._get_indexer_strict\u001b[0;34m(self, key, axis_name)\u001b[0m\n\u001b[1;32m   6111\u001b[0m \u001b[39melse\u001b[39;00m:\n\u001b[1;32m   6112\u001b[0m     keyarr, indexer, new_indexer \u001b[39m=\u001b[39m \u001b[39mself\u001b[39m\u001b[39m.\u001b[39m_reindex_non_unique(keyarr)\n\u001b[0;32m-> 6114\u001b[0m \u001b[39mself\u001b[39;49m\u001b[39m.\u001b[39;49m_raise_if_missing(keyarr, indexer, axis_name)\n\u001b[1;32m   6116\u001b[0m keyarr \u001b[39m=\u001b[39m \u001b[39mself\u001b[39m\u001b[39m.\u001b[39mtake(indexer)\n\u001b[1;32m   6117\u001b[0m \u001b[39mif\u001b[39;00m \u001b[39misinstance\u001b[39m(key, Index):\n\u001b[1;32m   6118\u001b[0m     \u001b[39m# GH 42790 - Preserve name from an Index\u001b[39;00m\n",
      "File \u001b[0;32m/Library/Frameworks/Python.framework/Versions/3.11/lib/python3.11/site-packages/pandas/core/indexes/base.py:6178\u001b[0m, in \u001b[0;36mIndex._raise_if_missing\u001b[0;34m(self, key, indexer, axis_name)\u001b[0m\n\u001b[1;32m   6175\u001b[0m     \u001b[39mraise\u001b[39;00m \u001b[39mKeyError\u001b[39;00m(\u001b[39mf\u001b[39m\u001b[39m\"\u001b[39m\u001b[39mNone of [\u001b[39m\u001b[39m{\u001b[39;00mkey\u001b[39m}\u001b[39;00m\u001b[39m] are in the [\u001b[39m\u001b[39m{\u001b[39;00maxis_name\u001b[39m}\u001b[39;00m\u001b[39m]\u001b[39m\u001b[39m\"\u001b[39m)\n\u001b[1;32m   6177\u001b[0m not_found \u001b[39m=\u001b[39m \u001b[39mlist\u001b[39m(ensure_index(key)[missing_mask\u001b[39m.\u001b[39mnonzero()[\u001b[39m0\u001b[39m]]\u001b[39m.\u001b[39munique())\n\u001b[0;32m-> 6178\u001b[0m \u001b[39mraise\u001b[39;00m \u001b[39mKeyError\u001b[39;00m(\u001b[39mf\u001b[39m\u001b[39m\"\u001b[39m\u001b[39m{\u001b[39;00mnot_found\u001b[39m}\u001b[39;00m\u001b[39m not in index\u001b[39m\u001b[39m\"\u001b[39m)\n",
      "\u001b[0;31mKeyError\u001b[0m: \"['원엔 야간변동율', 'NAS 당일변동율', 'P/C Ratio', 'S&P 당일변화량', '원달러 야간변동율', 'VIX 당일변화량', 'JNIV 종가변동율', 'JNIV 전날변동율', 'KS200 오전변동율'] not in index\""
     ]
    }
   ],
   "source": [
    "X_train = X_train[['원엔 야간변동율',\n",
    "       'KS200 야간변동율',\n",
    "       'NAS 당일변동율',\n",
    "       'P/C Ratio',\n",
    "       'S&P 당일변화량',\n",
    "       '원달러 야간변동율',\n",
    "       'VIX 당일변화량',\n",
    "       'JNIV 종가변동율',\n",
    "       'JNIV 전날변동율',\n",
    "       'KS200 오전변동율']]\n",
    "X_val = X_val[['원엔 야간변동율',\n",
    "       'KS200 야간변동율',\n",
    "       'NAS 당일변동율',\n",
    "       'P/C Ratio',\n",
    "       'S&P 당일변화량',\n",
    "       '원달러 야간변동율',\n",
    "       'VIX 당일변화량',\n",
    "       'JNIV 종가변동율',\n",
    "       'JNIV 전날변동율',\n",
    "       'KS200 오전변동율']]"
   ]
  },
  {
   "cell_type": "code",
   "execution_count": null,
   "metadata": {},
   "outputs": [],
   "source": [
    "from sklearn.model_selection import GridSearchCV\n",
    "\n",
    "def model_basic_with_gridsearch(X_train, y_train, X_val, y_val):\n",
    "    # 모델 및 해당 하이퍼파라미터 그리드 정의\n",
    "    models_and_grids = {\n",
    "        LogisticRegression(): {\n",
    "            'penalty': ['l1', 'l2'],\n",
    "            'C': [0.01, 0.1, 1, 10]\n",
    "        },\n",
    "        DecisionTreeClassifier(): {\n",
    "            'max_depth': [1,3,7,10],\n",
    "            'min_samples_split': [2, 5, 10],\n",
    "            'min_samples_leaf': [1, 2, 4]\n",
    "        },\n",
    "        SVC(): {\n",
    "            'C': [0.1, 1, 10],\n",
    "            'kernel': ['linear', 'rbf']\n",
    "        },\n",
    "        RandomForestClassifier(): {\n",
    "            'n_estimators': [5,10,15,20],\n",
    "            'max_depth': [1,3,7,10],\n",
    "            'min_samples_split': [2, 5, 10]\n",
    "        },\n",
    "        XGBClassifier(): {\n",
    "            'n_estimators': [5,10,15,20,50,100],\n",
    "            'learning_rate': [0.01, 0.1, 0.5]\n",
    "        },\n",
    "        LGBMClassifier(): {\n",
    "            'n_estimators': [5,10,15,20,50,100],\n",
    "            'learning_rate': [0.01, 0.1, 0.5]\n",
    "        }\n",
    "    }\n",
    "\n",
    "    rdict = {'model': [], 'best_params': [], 'accuracy': [], 'precision': [], 'recall': [], 'f1_score': []}\n",
    "\n",
    "    for model, grid in models_and_grids.items():\n",
    "        clf = GridSearchCV(model, grid, cv=5)\n",
    "        clf.fit(X_train, y_train)\n",
    "        best_model = clf.best_estimator_\n",
    "\n",
    "        pred = best_model.predict(X_val)\n",
    "        results = (round(accuracy_score(y_val, pred), 2),\n",
    "                   round(precision_score(y_val, pred, average='weighted'), 2),\n",
    "                   round(recall_score(y_val, pred, average='weighted'), 2),\n",
    "                   round(f1_score(y_val, pred, average='weighted'), 2))\n",
    "\n",
    "        rdict['model'].append(best_model.__class__.__name__)\n",
    "        rdict['best_params'].append(clf.best_params_)\n",
    "        rdict['accuracy'].append(results[0])\n",
    "        rdict['precision'].append(results[1])\n",
    "        rdict['recall'].append(results[2])\n",
    "        rdict['f1_score'].append(results[3])\n",
    "\n",
    "    rdf = pd.DataFrame(data=rdict)\n",
    "    return rdf\n"
   ]
  },
  {
   "cell_type": "code",
   "execution_count": null,
   "metadata": {},
   "outputs": [],
   "source": [
    "model_basic_with_gridsearch(X_train, y_train, X_val, y_val)"
   ]
  },
  {
   "cell_type": "code",
   "execution_count": null,
   "metadata": {},
   "outputs": [],
   "source": []
  }
 ],
 "metadata": {
  "kernelspec": {
   "display_name": "Python 3",
   "language": "python",
   "name": "python3"
  },
  "language_info": {
   "codemirror_mode": {
    "name": "ipython",
    "version": 3
   },
   "file_extension": ".py",
   "mimetype": "text/x-python",
   "name": "python",
   "nbconvert_exporter": "python",
   "pygments_lexer": "ipython3",
   "version": "3.11.6"
  },
  "orig_nbformat": 4
 },
 "nbformat": 4,
 "nbformat_minor": 2
}

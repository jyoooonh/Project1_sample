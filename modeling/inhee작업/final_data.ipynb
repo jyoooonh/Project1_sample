{
 "cells": [
  {
   "cell_type": "markdown",
   "metadata": {},
   "source": [
    "### final_model_data 만들기\n",
    "    * clean_feature_data랑 Vkospi_label_data 불러오기\n",
    "    * 데이터 합치기"
   ]
  },
  {
   "cell_type": "code",
   "execution_count": 18,
   "metadata": {},
   "outputs": [],
   "source": [
    "import pandas as pd \n",
    "\n",
    "# clean_feature_data\n",
    "feature = pd.read_csv(\"../../dataset/clean_feature/feature.csv\", index_col=0)\n",
    "# label_data\n",
    "label = pd.read_csv(\"../../dataset/clean_feature/VKOSPI_Label.csv\", index_col = 0)"
   ]
  },
  {
   "cell_type": "code",
   "execution_count": 19,
   "metadata": {},
   "outputs": [],
   "source": [
    "label.rename(columns={'날짜':'date'},inplace=True)\n",
    "label.set_index('date',inplace=True)\n",
    "\n",
    "# merge_data\n",
    "model_df = pd.merge(feature, label, on='date', how='inner')\n",
    "# Save the final data as a CSV file\n",
    "model_df.to_csv(\"../../dataset/clean_feature/model_df.csv\", index = True)"
   ]
  },
  {
   "cell_type": "markdown",
   "metadata": {},
   "source": [
    "### SVM (테스트)\n",
    "\n"
   ]
  }
 ],
 "metadata": {
  "kernelspec": {
   "display_name": "Python 3",
   "language": "python",
   "name": "python3"
  },
  "language_info": {
   "codemirror_mode": {
    "name": "ipython",
    "version": 3
   },
   "file_extension": ".py",
   "mimetype": "text/x-python",
   "name": "python",
   "nbconvert_exporter": "python",
   "pygments_lexer": "ipython3",
   "version": "3.12.0"
  }
 },
 "nbformat": 4,
 "nbformat_minor": 2
}

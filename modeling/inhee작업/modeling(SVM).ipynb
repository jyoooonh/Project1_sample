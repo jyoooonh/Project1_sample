{
 "cells": [
  {
   "cell_type": "code",
   "execution_count": 3,
   "metadata": {},
   "outputs": [],
   "source": [
    "import pandas as pd\n",
    "merged_data = pd.read_csv(\"../../dataset/clean_feature/model_df.csv\",index_col=0)"
   ]
  },
  {
   "cell_type": "markdown",
   "metadata": {},
   "source": [
    "#### Standard Scaling"
   ]
  },
  {
   "cell_type": "code",
   "execution_count": 5,
   "metadata": {},
   "outputs": [],
   "source": [
    "from sklearn.preprocessing import StandardScaler\n",
    "columns_to_scale_merged = merged_data.columns.difference(['date', 'VKOSPI_Label'])\n",
    "\n",
    "# 스탠다드 스케일링 진행\n",
    "scaler = StandardScaler()\n",
    "scaled_values_merged = scaler.fit_transform(merged_data[columns_to_scale_merged])\n",
    "\n",
    "# 스케일링된 값을 원본 데이터프레임 'merged_data'의 해당 컬럼에 적용\n",
    "merged_data[columns_to_scale_merged] = scaled_values_merged\n",
    "\n",
    "Standard_Scled_Data = merged_data.to_csv(\"../../dataset/clean_feature/Standard_Sclaed_Data.csv\")\n"
   ]
  },
  {
   "cell_type": "markdown",
   "metadata": {},
   "source": [
    "### SVM "
   ]
  },
  {
   "cell_type": "code",
   "execution_count": 7,
   "metadata": {},
   "outputs": [
    {
     "data": {
      "text/plain": [
       "0.6345454545454545"
      ]
     },
     "execution_count": 7,
     "metadata": {},
     "output_type": "execute_result"
    }
   ],
   "source": [
    "from sklearn.model_selection import cross_val_score\n",
    "from sklearn.svm import SVC\n",
    "\n",
    "# 1. Cross-Validation\n",
    "\n",
    "X = merged_data.drop(columns=['VKOSPI_Label'])\n",
    "y = merged_data['VKOSPI_Label']\n",
    "\n",
    "\n",
    "# 5-fold SVM\n",
    "cv_scores = cross_val_score(SVC(kernel='linear'), X, y, cv=5, scoring='accuracy')\n",
    "cv_mean = cv_scores.mean()\n",
    "\n",
    "cv_mean"
   ]
  },
  {
   "cell_type": "code",
   "execution_count": 8,
   "metadata": {},
   "outputs": [
    {
     "data": {
      "text/plain": [
       "({'C': 1, 'gamma': 'scale', 'kernel': 'sigmoid'}, 0.7254545454545454)"
      ]
     },
     "execution_count": 8,
     "metadata": {},
     "output_type": "execute_result"
    }
   ],
   "source": [
    "# 2. 하이퍼파라미터 튜닝\n",
    "\n",
    "from sklearn.model_selection import GridSearchCV\n",
    "from sklearn.svm import SVC\n",
    "\n",
    "param_grid = {\n",
    "    'C': [0.1, 1, 10, 100],\n",
    "    'kernel': ['linear', 'rbf', 'poly', 'sigmoid'],\n",
    "    'gamma': ['scale', 'auto']\n",
    "}\n",
    "\n",
    "grid_search_cv = GridSearchCV(SVC(), param_grid, cv=5, n_jobs=-1)\n",
    "grid_search_cv.fit(X, y)\n",
    "\n",
    "best_params_cv = grid_search_cv.best_params_\n",
    "best_score_cv = grid_search_cv.best_score_\n",
    "\n",
    "best_params_cv, best_score_cv"
   ]
  },
  {
   "cell_type": "code",
   "execution_count": 9,
   "metadata": {},
   "outputs": [
    {
     "data": {
      "text/html": [
       "<div>\n",
       "<style scoped>\n",
       "    .dataframe tbody tr th:only-of-type {\n",
       "        vertical-align: middle;\n",
       "    }\n",
       "\n",
       "    .dataframe tbody tr th {\n",
       "        vertical-align: top;\n",
       "    }\n",
       "\n",
       "    .dataframe thead th {\n",
       "        text-align: right;\n",
       "    }\n",
       "</style>\n",
       "<table border=\"1\" class=\"dataframe\">\n",
       "  <thead>\n",
       "    <tr style=\"text-align: right;\">\n",
       "      <th></th>\n",
       "      <th>Feature</th>\n",
       "      <th>Importance</th>\n",
       "    </tr>\n",
       "  </thead>\n",
       "  <tbody>\n",
       "    <tr>\n",
       "      <th>10</th>\n",
       "      <td>kospi_p_range</td>\n",
       "      <td>1.088974</td>\n",
       "    </tr>\n",
       "    <tr>\n",
       "      <th>15</th>\n",
       "      <td>NAS_day_fluc_range</td>\n",
       "      <td>0.738331</td>\n",
       "    </tr>\n",
       "    <tr>\n",
       "      <th>6</th>\n",
       "      <td>cny_night_change</td>\n",
       "      <td>0.445919</td>\n",
       "    </tr>\n",
       "    <tr>\n",
       "      <th>21</th>\n",
       "      <td>sp_day_change</td>\n",
       "      <td>0.402114</td>\n",
       "    </tr>\n",
       "    <tr>\n",
       "      <th>16</th>\n",
       "      <td>niv_night_change</td>\n",
       "      <td>0.276642</td>\n",
       "    </tr>\n",
       "    <tr>\n",
       "      <th>27</th>\n",
       "      <td>vix_day_fluc_range</td>\n",
       "      <td>0.195732</td>\n",
       "    </tr>\n",
       "    <tr>\n",
       "      <th>5</th>\n",
       "      <td>cny_yesterday_change</td>\n",
       "      <td>0.092880</td>\n",
       "    </tr>\n",
       "    <tr>\n",
       "      <th>25</th>\n",
       "      <td>vix_close_change</td>\n",
       "      <td>0.045611</td>\n",
       "    </tr>\n",
       "    <tr>\n",
       "      <th>3</th>\n",
       "      <td>cd_p_change(%)</td>\n",
       "      <td>-0.043847</td>\n",
       "    </tr>\n",
       "    <tr>\n",
       "      <th>14</th>\n",
       "      <td>NAS_day_change</td>\n",
       "      <td>-0.065680</td>\n",
       "    </tr>\n",
       "    <tr>\n",
       "      <th>4</th>\n",
       "      <td>cd_p_range</td>\n",
       "      <td>-0.095733</td>\n",
       "    </tr>\n",
       "    <tr>\n",
       "      <th>24</th>\n",
       "      <td>usd_night_change</td>\n",
       "      <td>-0.156287</td>\n",
       "    </tr>\n",
       "    <tr>\n",
       "      <th>26</th>\n",
       "      <td>vix_day_change</td>\n",
       "      <td>-0.158155</td>\n",
       "    </tr>\n",
       "    <tr>\n",
       "      <th>18</th>\n",
       "      <td>put_volume_fluc</td>\n",
       "      <td>-0.168233</td>\n",
       "    </tr>\n",
       "    <tr>\n",
       "      <th>9</th>\n",
       "      <td>kospi_p_change(%)</td>\n",
       "      <td>-0.168259</td>\n",
       "    </tr>\n",
       "    <tr>\n",
       "      <th>19</th>\n",
       "      <td>call_volume_fluc</td>\n",
       "      <td>-0.258190</td>\n",
       "    </tr>\n",
       "    <tr>\n",
       "      <th>0</th>\n",
       "      <td>basis</td>\n",
       "      <td>-0.304560</td>\n",
       "    </tr>\n",
       "    <tr>\n",
       "      <th>20</th>\n",
       "      <td>sp_close_change</td>\n",
       "      <td>-0.339588</td>\n",
       "    </tr>\n",
       "    <tr>\n",
       "      <th>17</th>\n",
       "      <td>P/C Ratio</td>\n",
       "      <td>-0.401680</td>\n",
       "    </tr>\n",
       "    <tr>\n",
       "      <th>23</th>\n",
       "      <td>usd_yesterday_change</td>\n",
       "      <td>-0.427388</td>\n",
       "    </tr>\n",
       "    <tr>\n",
       "      <th>13</th>\n",
       "      <td>NAS_close_change</td>\n",
       "      <td>-0.437027</td>\n",
       "    </tr>\n",
       "    <tr>\n",
       "      <th>2</th>\n",
       "      <td>basis_disparate_ratio</td>\n",
       "      <td>-0.473497</td>\n",
       "    </tr>\n",
       "    <tr>\n",
       "      <th>1</th>\n",
       "      <td>basis_risk</td>\n",
       "      <td>-0.547405</td>\n",
       "    </tr>\n",
       "    <tr>\n",
       "      <th>11</th>\n",
       "      <td>ks200_p_change(%)</td>\n",
       "      <td>-0.629292</td>\n",
       "    </tr>\n",
       "    <tr>\n",
       "      <th>12</th>\n",
       "      <td>ks200_p_range</td>\n",
       "      <td>-0.646052</td>\n",
       "    </tr>\n",
       "    <tr>\n",
       "      <th>7</th>\n",
       "      <td>jpy_yesterday_change</td>\n",
       "      <td>-0.715062</td>\n",
       "    </tr>\n",
       "    <tr>\n",
       "      <th>8</th>\n",
       "      <td>jpy_night_change</td>\n",
       "      <td>-0.786587</td>\n",
       "    </tr>\n",
       "    <tr>\n",
       "      <th>22</th>\n",
       "      <td>sp_day_fluc_range</td>\n",
       "      <td>-0.945410</td>\n",
       "    </tr>\n",
       "  </tbody>\n",
       "</table>\n",
       "</div>"
      ],
      "text/plain": [
       "                  Feature  Importance\n",
       "10          kospi_p_range    1.088974\n",
       "15     NAS_day_fluc_range    0.738331\n",
       "6        cny_night_change    0.445919\n",
       "21          sp_day_change    0.402114\n",
       "16       niv_night_change    0.276642\n",
       "27     vix_day_fluc_range    0.195732\n",
       "5    cny_yesterday_change    0.092880\n",
       "25       vix_close_change    0.045611\n",
       "3          cd_p_change(%)   -0.043847\n",
       "14         NAS_day_change   -0.065680\n",
       "4              cd_p_range   -0.095733\n",
       "24       usd_night_change   -0.156287\n",
       "26         vix_day_change   -0.158155\n",
       "18        put_volume_fluc   -0.168233\n",
       "9       kospi_p_change(%)   -0.168259\n",
       "19       call_volume_fluc   -0.258190\n",
       "0                   basis   -0.304560\n",
       "20        sp_close_change   -0.339588\n",
       "17              P/C Ratio   -0.401680\n",
       "23   usd_yesterday_change   -0.427388\n",
       "13       NAS_close_change   -0.437027\n",
       "2   basis_disparate_ratio   -0.473497\n",
       "1              basis_risk   -0.547405\n",
       "11      ks200_p_change(%)   -0.629292\n",
       "12          ks200_p_range   -0.646052\n",
       "7    jpy_yesterday_change   -0.715062\n",
       "8        jpy_night_change   -0.786587\n",
       "22      sp_day_fluc_range   -0.945410"
      ]
     },
     "execution_count": 9,
     "metadata": {},
     "output_type": "execute_result"
    }
   ],
   "source": [
    "# 3. Feature Importance\n",
    "best_svm_model = SVC(kernel='linear', C=best_params_cv['C'], gamma=best_params_cv['gamma'])\n",
    "best_svm_model.fit(X, y)\n",
    "\n",
    "feature_importances = best_svm_model.coef_\n",
    "\n",
    "# 데이터프레임으로 정리\n",
    "feature_importance_df = pd.DataFrame({\n",
    "    'Feature': X.columns,\n",
    "    'Importance': feature_importances[0]\n",
    "}).sort_values(by='Importance', ascending=False)\n",
    "\n",
    "feature_importance_df\n"
   ]
  },
  {
   "cell_type": "markdown",
   "metadata": {},
   "source": [
    "### Standard Scaling이 필요한 모델 분석\n",
    "    * 로지스틱회귀\n",
    "    * 서포트벡터머신\n",
    "    * 신경망\n",
    "    * K-최근접 이웃\n",
    "    * 주성분 분석을 사용하는 모델\n",
    "\n",
    "# 분석 개요\n",
    "\n",
    "1. 모델 정의\n",
    "2. CV를 통한 모델 성능 평가\n",
    "3. 각 모델별 하이퍼파라미터 튜닝"
   ]
  },
  {
   "cell_type": "markdown",
   "metadata": {},
   "source": [
    "##### 모델 정의 -> CV 성능평가"
   ]
  },
  {
   "cell_type": "code",
   "execution_count": 11,
   "metadata": {},
   "outputs": [
    {
     "data": {
      "text/plain": [
       "{'로지스틱 회귀': 0.6327272727272728,\n",
       " '신경망': 0.6854545454545453,\n",
       " 'k-최근접 이웃': 0.6890909090909091,\n",
       " 'PCA로 주성분 분석 후 로지스틱 회귀': 0.6890909090909091}"
      ]
     },
     "execution_count": 11,
     "metadata": {},
     "output_type": "execute_result"
    }
   ],
   "source": [
    "# 필요한 라이브러리 및 모듈 불러오기\n",
    "from sklearn.linear_model import LogisticRegression\n",
    "from sklearn.neural_network import MLPClassifier\n",
    "from sklearn.neighbors import KNeighborsClassifier\n",
    "from sklearn.decomposition import PCA\n",
    "from sklearn.pipeline import make_pipeline\n",
    "from sklearn.model_selection import cross_val_score\n",
    "\n",
    "# 모델 정의\n",
    "models = {\n",
    "    '로지스틱 회귀': LogisticRegression(max_iter=1000, random_state=42),\n",
    "    '신경망': MLPClassifier(max_iter=1000, random_state=42),\n",
    "    'k-최근접 이웃': KNeighborsClassifier(),\n",
    "    'PCA로 주성분 분석 후 로지스틱 회귀': make_pipeline(PCA(n_components=10), LogisticRegression(max_iter=1000, random_state=42))\n",
    "}\n",
    "\n",
    "# 크로스 밸리데이션을 통한 모델 성능 평가\n",
    "results = {}\n",
    "for model_name, model in models.items():\n",
    "    cv_score = cross_val_score(model, X, y, cv=5, scoring='accuracy').mean()\n",
    "    results[model_name] = cv_score\n",
    "\n",
    "results"
   ]
  },
  {
   "cell_type": "markdown",
   "metadata": {},
   "source": [
    "##### 하이퍼파라미터 튜닝"
   ]
  },
  {
   "cell_type": "code",
   "execution_count": 12,
   "metadata": {},
   "outputs": [
    {
     "data": {
      "text/plain": [
       "({'로지스틱 회귀': {'C': 0.1},\n",
       "  '신경망': {'alpha': 0.1, 'hidden_layer_sizes': (100,)},\n",
       "  'k-최근접 이웃': {'n_neighbors': 7},\n",
       "  'PCA로 주성분 분석 후 로지스틱 회귀': {'logisticregression__C': 0.1,\n",
       "   'pca__n_components': 5}},\n",
       " {'로지스틱 회귀': 0.6872727272727273,\n",
       "  '신경망': 0.7036363636363635,\n",
       "  'k-최근접 이웃': 0.7236363636363636,\n",
       "  'PCA로 주성분 분석 후 로지스틱 회귀': 0.7418181818181818})"
      ]
     },
     "execution_count": 12,
     "metadata": {},
     "output_type": "execute_result"
    }
   ],
   "source": [
    "# 필요한 라이브러리 및 모듈 불러오기\n",
    "from sklearn.model_selection import GridSearchCV\n",
    "\n",
    "# 각 모델별 하이퍼파라미터 그리드 정의\n",
    "param_grids = {\n",
    "    '로지스틱 회귀': {\n",
    "        'C': [0.001, 0.01, 0.1, 1, 10, 100]\n",
    "    },\n",
    "    '신경망': {\n",
    "        'alpha': [0.0001, 0.001, 0.01, 0.1],\n",
    "        'hidden_layer_sizes': [(50,), (100,), (50, 50)]\n",
    "    },\n",
    "    'k-최근접 이웃': {\n",
    "        'n_neighbors': [3, 5, 7, 9, 11]\n",
    "    },\n",
    "    'PCA로 주성분 분석 후 로지스틱 회귀': {\n",
    "        'pca__n_components': [5, 10, 15],\n",
    "        'logisticregression__C': [0.001, 0.01, 0.1, 1, 10, 100]\n",
    "    }\n",
    "}\n",
    "\n",
    "# GridSearchCV를 사용하여 하이퍼파라미터 튜닝 진행\n",
    "tuned_parameters = {}\n",
    "best_scores = {}\n",
    "\n",
    "for model_name, model in models.items():\n",
    "    grid_search = GridSearchCV(model, param_grids[model_name], cv=5, scoring='accuracy')\n",
    "    grid_search.fit(X, y)\n",
    "    \n",
    "    # 최적의 하이퍼파라미터와 해당 정확도 저장\n",
    "    tuned_parameters[model_name] = grid_search.best_params_\n",
    "    best_scores[model_name] = grid_search.best_score_\n",
    "\n",
    "tuned_parameters, best_scores\n"
   ]
  },
  {
   "cell_type": "markdown",
   "metadata": {},
   "source": [
    "##### 로지스틱 회귀분석만 피처셀렉 (임베디드 방법 : SelectFromModel)\n",
    "* 신경망, k-최근접 이웃 : 접적인 특성 중요도를 제공하지 않음\n",
    "* PCA로 주성분 분석 후 로지스틱 회귀: PCA 자체가 차원 축소 기법이므로 추가적인 특성 선택은 생략"
   ]
  },
  {
   "cell_type": "code",
   "execution_count": 13,
   "metadata": {},
   "outputs": [
    {
     "name": "stdout",
     "output_type": "stream",
     "text": [
      "로지스틱 회귀 (선택된 특성): 정확도 = 0.7236\n"
     ]
    },
    {
     "data": {
      "text/plain": [
       "{'로지스틱 회귀 (선택된 특성)': 0.7236363636363636}"
      ]
     },
     "execution_count": 13,
     "metadata": {},
     "output_type": "execute_result"
    }
   ],
   "source": [
    "# 필요한 모듈 불러오기\n",
    "from sklearn.feature_selection import SelectFromModel\n",
    "\n",
    "# 로지스틱 회귀를 위한 특성 선택\n",
    "selector = SelectFromModel(estimator=LogisticRegression(max_iter=1000, random_state=42)).fit(X, y)\n",
    "X_selected = selector.transform(X)\n",
    "\n",
    "# 특성 선택 후의 모델 정의\n",
    "models_selected = {\n",
    "    '로지스틱 회귀 (선택된 특성)': LogisticRegression(max_iter=1000, random_state=42)\n",
    "}\n",
    "\n",
    "# 크로스 밸리데이션을 통한 모델 성능 평가\n",
    "results_selected = {}\n",
    "for model_name, model in models_selected.items():\n",
    "    cv_score = cross_val_score(model, X_selected, y, cv=5, scoring='accuracy').mean()\n",
    "    results_selected[model_name] = cv_score\n",
    "    print(f\"{model_name}: 정확도 = {cv_score:.4f}\")\n",
    "\n",
    "results_selected\n"
   ]
  },
  {
   "cell_type": "markdown",
   "metadata": {},
   "source": [
    "##### 로지스틱 회귀계수에 따른 피처 중요도"
   ]
  },
  {
   "cell_type": "code",
   "execution_count": 14,
   "metadata": {},
   "outputs": [
    {
     "data": {
      "text/html": [
       "<div>\n",
       "<style scoped>\n",
       "    .dataframe tbody tr th:only-of-type {\n",
       "        vertical-align: middle;\n",
       "    }\n",
       "\n",
       "    .dataframe tbody tr th {\n",
       "        vertical-align: top;\n",
       "    }\n",
       "\n",
       "    .dataframe thead th {\n",
       "        text-align: right;\n",
       "    }\n",
       "</style>\n",
       "<table border=\"1\" class=\"dataframe\">\n",
       "  <thead>\n",
       "    <tr style=\"text-align: right;\">\n",
       "      <th></th>\n",
       "      <th>특성</th>\n",
       "      <th>계수 (중요도)</th>\n",
       "    </tr>\n",
       "  </thead>\n",
       "  <tbody>\n",
       "    <tr>\n",
       "      <th>5</th>\n",
       "      <td>kospi_p_range</td>\n",
       "      <td>1.118065</td>\n",
       "    </tr>\n",
       "    <tr>\n",
       "      <th>9</th>\n",
       "      <td>sp_day_change</td>\n",
       "      <td>0.513973</td>\n",
       "    </tr>\n",
       "    <tr>\n",
       "      <th>12</th>\n",
       "      <td>vix_close_change</td>\n",
       "      <td>0.496348</td>\n",
       "    </tr>\n",
       "    <tr>\n",
       "      <th>0</th>\n",
       "      <td>basis</td>\n",
       "      <td>-0.383437</td>\n",
       "    </tr>\n",
       "    <tr>\n",
       "      <th>7</th>\n",
       "      <td>NAS_close_change</td>\n",
       "      <td>-0.398166</td>\n",
       "    </tr>\n",
       "    <tr>\n",
       "      <th>8</th>\n",
       "      <td>put_volume_fluc</td>\n",
       "      <td>-0.399763</td>\n",
       "    </tr>\n",
       "    <tr>\n",
       "      <th>11</th>\n",
       "      <td>usd_yesterday_change</td>\n",
       "      <td>-0.435076</td>\n",
       "    </tr>\n",
       "    <tr>\n",
       "      <th>2</th>\n",
       "      <td>basis_disparate_ratio</td>\n",
       "      <td>-0.481379</td>\n",
       "    </tr>\n",
       "    <tr>\n",
       "      <th>3</th>\n",
       "      <td>jpy_yesterday_change</td>\n",
       "      <td>-0.530402</td>\n",
       "    </tr>\n",
       "    <tr>\n",
       "      <th>1</th>\n",
       "      <td>basis_risk</td>\n",
       "      <td>-0.680370</td>\n",
       "    </tr>\n",
       "    <tr>\n",
       "      <th>10</th>\n",
       "      <td>sp_day_fluc_range</td>\n",
       "      <td>-0.716072</td>\n",
       "    </tr>\n",
       "    <tr>\n",
       "      <th>4</th>\n",
       "      <td>jpy_night_change</td>\n",
       "      <td>-0.722449</td>\n",
       "    </tr>\n",
       "    <tr>\n",
       "      <th>6</th>\n",
       "      <td>ks200_p_change(%)</td>\n",
       "      <td>-0.807711</td>\n",
       "    </tr>\n",
       "  </tbody>\n",
       "</table>\n",
       "</div>"
      ],
      "text/plain": [
       "                       특성  계수 (중요도)\n",
       "5           kospi_p_range  1.118065\n",
       "9           sp_day_change  0.513973\n",
       "12       vix_close_change  0.496348\n",
       "0                   basis -0.383437\n",
       "7        NAS_close_change -0.398166\n",
       "8         put_volume_fluc -0.399763\n",
       "11   usd_yesterday_change -0.435076\n",
       "2   basis_disparate_ratio -0.481379\n",
       "3    jpy_yesterday_change -0.530402\n",
       "1              basis_risk -0.680370\n",
       "10      sp_day_fluc_range -0.716072\n",
       "4        jpy_night_change -0.722449\n",
       "6       ks200_p_change(%) -0.807711"
      ]
     },
     "execution_count": 14,
     "metadata": {},
     "output_type": "execute_result"
    }
   ],
   "source": [
    "# 모든 특성을 사용하여 로지스틱 회귀 모델 학습\n",
    "logreg = LogisticRegression(max_iter=1000, random_state=42).fit(X, y)\n",
    "\n",
    "# 선택된 특성의 이름 가져오기\n",
    "selected_features = X.columns[selector.get_support()]\n",
    "\n",
    "# 선택된 특성에 대한 계수 가져오기\n",
    "selected_coef = logreg.coef_[0][selector.get_support()]\n",
    "\n",
    "# 특성 중요도를 표시하기 위한 DataFrame 생성\n",
    "feature_importance = pd.DataFrame({\n",
    "    '특성': selected_features,\n",
    "    '계수 (중요도)': selected_coef\n",
    "}).sort_values(by='계수 (중요도)', ascending=False)\n",
    "\n",
    "feature_importance\n"
   ]
  },
  {
   "cell_type": "code",
   "execution_count": 15,
   "metadata": {},
   "outputs": [
    {
     "data": {
      "text/plain": [
       "{'로지스틱 회귀': Index(['basis_disparate_ratio', 'kospi_p_range', 'ks200_p_change(%)',\n",
       "        'put_volume_fluc'],\n",
       "       dtype='object')}"
      ]
     },
     "execution_count": 15,
     "metadata": {},
     "output_type": "execute_result"
    }
   ],
   "source": [
    "from sklearn.feature_selection import RFECV\n",
    "\n",
    "# 한글 주석으로 코드 정리\n",
    "selected_features_by_wrapper = {}\n",
    "\n",
    "# 로지스틱 회귀에 대한 래퍼 방법 적용\n",
    "selector_logreg = RFECV(estimator=LogisticRegression(max_iter=1000, random_state=42), step=1, cv=5).fit(X, y)\n",
    "selected_features_by_wrapper['로지스틱 회귀'] = X.columns[selector_logreg.support_]\n",
    "\n",
    "# 신경망에 대한 래퍼 방법 적용\n",
    "# 신경망은 학습 시간이 오래 걸릴 수 있으므로 여기서는 생략하겠습니다.\n",
    "\n",
    "# k-최근접 이웃에 대한 래퍼 방법 적용\n",
    "# k-최근접 이웃은 느린 계산 속도로 인해 RFECV에 부적합할 수 있으므로 여기서는 생략하겠습니다.\n",
    "\n",
    "selected_features_by_wrapper"
   ]
  },
  {
   "cell_type": "code",
   "execution_count": 16,
   "metadata": {},
   "outputs": [
    {
     "data": {
      "text/plain": [
       "0.7981818181818181"
      ]
     },
     "execution_count": 16,
     "metadata": {},
     "output_type": "execute_result"
    }
   ],
   "source": [
    "# 선택된 특성으로 데이터셋 준비\n",
    "X_selected_logreg = X[selected_features_by_wrapper['로지스틱 회귀']]\n",
    "\n",
    "# 로지스틱 회귀 모델 학습 및 평가\n",
    "logreg_selected_score = cross_val_score(LogisticRegression(max_iter=1000, random_state=42), \n",
    "                                        X_selected_logreg, y, cv=5, scoring='accuracy').mean()\n",
    "\n",
    "logreg_selected_score\n"
   ]
  },
  {
   "cell_type": "code",
   "execution_count": null,
   "metadata": {},
   "outputs": [],
   "source": []
  }
 ],
 "metadata": {
  "kernelspec": {
   "display_name": "Python 3",
   "language": "python",
   "name": "python3"
  },
  "language_info": {
   "codemirror_mode": {
    "name": "ipython",
    "version": 3
   },
   "file_extension": ".py",
   "mimetype": "text/x-python",
   "name": "python",
   "nbconvert_exporter": "python",
   "pygments_lexer": "ipython3",
   "version": "3.11.6"
  }
 },
 "nbformat": 4,
 "nbformat_minor": 2
}

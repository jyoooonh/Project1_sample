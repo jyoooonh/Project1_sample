{
 "cells": [
  {
   "cell_type": "markdown",
   "metadata": {},
   "source": [
    "### MinMax_scaled_data 만들기\n",
    "    * model_df 불러오기\n",
    "    * model_df 의 컬럼 'date','VKOSPI_Label'를 제외하고 \n",
    "    * MinMaxScaler()\n",
    "    * dataset 저장 -> 파일 이름 : MinMax_df.csv"
   ]
  },
  {
   "cell_type": "code",
   "execution_count": 5,
   "metadata": {},
   "outputs": [],
   "source": [
    "import pandas as pd\n",
    "\n",
    "model_df = pd.read_csv(\"../../../dataset/clean_feature/model_df.csv\", index_col = 0)"
   ]
  },
  {
   "cell_type": "code",
   "execution_count": 12,
   "metadata": {},
   "outputs": [],
   "source": [
    "from sklearn.preprocessing import MinMaxScaler\n",
    "\n",
    "MinMax_columns = model_df.columns.difference(['date','VKOSPI_Label'])\n",
    "scaler = MinMaxScaler()\n",
    "model_df[MinMax_columns] = scaler.fit_transform(model_df[MinMax_columns])"
   ]
  },
  {
   "cell_type": "code",
   "execution_count": 13,
   "metadata": {},
   "outputs": [],
   "source": [
    "model_df.to_csv(\"../../../dataset/clean_feature/MinMax_df.csv\")"
   ]
  }
 ],
 "metadata": {
  "kernelspec": {
   "display_name": "Python 3",
   "language": "python",
   "name": "python3"
  },
  "language_info": {
   "codemirror_mode": {
    "name": "ipython",
    "version": 3
   },
   "file_extension": ".py",
   "mimetype": "text/x-python",
   "name": "python",
   "nbconvert_exporter": "python",
   "pygments_lexer": "ipython3",
   "version": "3.11.6"
  }
 },
 "nbformat": 4,
 "nbformat_minor": 2
}

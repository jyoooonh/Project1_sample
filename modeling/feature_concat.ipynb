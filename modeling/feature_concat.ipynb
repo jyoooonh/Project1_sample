{
 "cells": [
  {
   "cell_type": "code",
   "execution_count": null,
   "metadata": {},
   "outputs": [],
   "source": [
    "import pandas as pd\n",
    "\n",
    "pd.options.display.float_format = '{:.5f}'.format"
   ]
  },
  {
   "cell_type": "code",
   "execution_count": null,
   "metadata": {},
   "outputs": [],
   "source": [
    "feature_list = []"
   ]
  },
  {
   "cell_type": "code",
   "execution_count": null,
   "metadata": {},
   "outputs": [],
   "source": [
    "basis = pd.read_csv('../dataset/clean_feature/basis.csv')\n",
    "basis['date'] = pd.to_datetime(basis['date'])\n",
    "basis = basis.set_index('date')\n",
    "feature_list.append(basis)\n",
    "basis.head(3)"
   ]
  },
  {
   "cell_type": "code",
   "execution_count": null,
   "metadata": {},
   "outputs": [],
   "source": [
    "CD = pd.read_csv('../dataset/clean_feature/CD.csv', index_col=0)\n",
    "CD['date'] = pd.to_datetime(CD['date'])\n",
    "CD = CD.set_index('date')\n",
    "feature_list.append(CD)\n",
    "CD.head(3)"
   ]
  },
  {
   "cell_type": "code",
   "execution_count": null,
   "metadata": {},
   "outputs": [],
   "source": [
    "cny = pd.read_csv('../dataset/clean_feature/cny_krw_final.csv', index_col=0)\n",
    "cny['date'] = pd.to_datetime(cny['date'])\n",
    "cny = cny.set_index('date')\n",
    "feature_list.append(cny)\n",
    "cny.head(3)"
   ]
  },
  {
   "cell_type": "code",
   "execution_count": null,
   "metadata": {},
   "outputs": [],
   "source": [
    "jpy = pd.read_csv('../dataset/clean_feature/jpy_krw_final.csv', index_col=0)\n",
    "jpy['date'] = pd.to_datetime(jpy['date'])\n",
    "jpy = jpy.set_index('date')\n",
    "feature_list.append(jpy)\n",
    "jpy.head(3)"
   ]
  },
  {
   "cell_type": "code",
   "execution_count": null,
   "metadata": {},
   "outputs": [],
   "source": [
    "kospi = pd.read_csv('../dataset/clean_feature/kospi_present.csv', index_col=0)\n",
    "kospi['date'] = pd.to_datetime(kospi['date'])\n",
    "kospi = kospi.set_index('date')\n",
    "feature_list.append(kospi)\n",
    "kospi.head(3)"
   ]
  },
  {
   "cell_type": "code",
   "execution_count": null,
   "metadata": {},
   "outputs": [],
   "source": [
    "ks200 = pd.read_csv('../dataset/clean_feature/ks200_present.csv', index_col=0)\n",
    "ks200['date'] = pd.to_datetime(ks200['date'])\n",
    "ks200 = ks200.set_index('date')\n",
    "feature_list.append(ks200)\n",
    "ks200.head(3)"
   ]
  },
  {
   "cell_type": "code",
   "execution_count": null,
   "metadata": {},
   "outputs": [],
   "source": [
    "nas = pd.read_csv('../dataset/clean_feature/nas_clean.csv', index_col=0)\n",
    "nas['date'] = pd.to_datetime(nas['date'])\n",
    "nas = nas.set_index('date')\n",
    "feature_list.append(nas)\n",
    "nas.info()"
   ]
  },
  {
   "cell_type": "code",
   "execution_count": null,
   "metadata": {},
   "outputs": [],
   "source": [
    "niv = pd.read_csv('../dataset/clean_feature/niv_final.csv', index_col=0)\n",
    "niv['date'] = pd.to_datetime(niv['date'])\n",
    "niv = niv.set_index('date')\n",
    "feature_list.append(niv)\n",
    "niv.info()"
   ]
  },
  {
   "cell_type": "code",
   "execution_count": null,
   "metadata": {},
   "outputs": [],
   "source": [
    "pc_ratio = pd.read_csv('../dataset/clean_feature/put_call_ratio.csv', index_col=0)\n",
    "pc_ratio['date'] = pd.to_datetime(pc_ratio['date'])\n",
    "pc_ratio = pc_ratio.set_index('date')\n",
    "feature_list.append(pc_ratio)\n",
    "pc_ratio.info()"
   ]
  },
  {
   "cell_type": "code",
   "execution_count": null,
   "metadata": {},
   "outputs": [],
   "source": [
    "snp = pd.read_csv('../dataset/clean_feature/snp_clean.csv', index_col=0)\n",
    "snp['date'] = pd.to_datetime(snp['date']) \n",
    "snp = snp.set_index('date')\n",
    "feature_list.append(snp)\n",
    "snp.head(3)\n",
    "snp.info()"
   ]
  },
  {
   "cell_type": "code",
   "execution_count": null,
   "metadata": {},
   "outputs": [],
   "source": [
    "usd = pd.read_csv('../dataset/clean_feature/usd_krw_final.csv', index_col=0)\n",
    "usd['date'] = pd.to_datetime(usd['date'])\n",
    "usd = usd.set_index('date')\n",
    "feature_list.append(usd)\n",
    "usd.info()"
   ]
  },
  {
   "cell_type": "code",
   "execution_count": null,
   "metadata": {},
   "outputs": [],
   "source": [
    "vix = pd.read_csv('../dataset/clean_feature/vix.csv', index_col=0)\n",
    "vix['date'] = pd.to_datetime(vix['date'])\n",
    "vix = vix.set_index('date')\n",
    "feature_list.append(vix)\n",
    "usd.info()"
   ]
  },
  {
   "cell_type": "code",
   "execution_count": null,
   "metadata": {},
   "outputs": [],
   "source": [
    "df = pd.concat(feature_list, axis=1)\n",
    "df['sp_day_change'] = round(df['sp_day_change'], 3)\n",
    "df['sp_close_change'] = round(df['sp_close_change'] * 100, 3)\n",
    "df['NAS_day_change'] = round(df['NAS_day_change'], 3)\n",
    "df"
   ]
  },
  {
   "cell_type": "code",
   "execution_count": null,
   "metadata": {},
   "outputs": [],
   "source": [
    "df.to_csv('../dataset/clean_feature/feature.csv')"
   ]
  },
  {
   "cell_type": "code",
   "execution_count": null,
   "metadata": {},
   "outputs": [],
   "source": [
    "len(df.columns)"
   ]
  },
  {
   "cell_type": "code",
   "execution_count": null,
   "metadata": {},
   "outputs": [],
   "source": [
    "df.info()"
   ]
  },
  {
   "cell_type": "code",
   "execution_count": null,
   "metadata": {},
   "outputs": [],
   "source": [
    "df[['basis_disparate_ratio', 'kospi_p_range', 'ks200_p_change(%)', 'put_volume_fluc', 'niv_night_change', 'sp_day_fluc_range', 'usd_night_change', 'vix_day_fluc_range']].describe().to_csv('./describe.csv')"
   ]
  },
  {
   "cell_type": "code",
   "execution_count": null,
   "metadata": {},
   "outputs": [],
   "source": [
    "des = pd.read_csv('./describe.csv', index_col=0)\n",
    "des"
   ]
  },
  {
   "cell_type": "code",
   "execution_count": null,
   "metadata": {},
   "outputs": [],
   "source": [
    "des.columns = ['베이시스 괴리율', '코스피 (고가 - 시가)', '코스피200 등락율', '풋 거래량 변화율', 'NIV 야간 변화율', 'S&P (고가 - 시가)', 'USD/KRW 야간 변화율', 'VIX (시가 - 종가)']"
   ]
  },
  {
   "cell_type": "code",
   "execution_count": null,
   "metadata": {},
   "outputs": [],
   "source": [
    "des = round(des, 2)"
   ]
  },
  {
   "cell_type": "code",
   "execution_count": null,
   "metadata": {},
   "outputs": [],
   "source": [
    "des.to_csv('./describe.csv')"
   ]
  },
  {
   "cell_type": "code",
   "execution_count": null,
   "metadata": {},
   "outputs": [],
   "source": []
  }
 ],
 "metadata": {
  "kernelspec": {
   "display_name": "Python 3",
   "language": "python",
   "name": "python3"
  },
  "language_info": {
   "codemirror_mode": {
    "name": "ipython",
    "version": 3
   },
   "file_extension": ".py",
   "mimetype": "text/x-python",
   "name": "python",
   "nbconvert_exporter": "python",
   "pygments_lexer": "ipython3",
   "version": "3.11.4"
  }
 },
 "nbformat": 4,
 "nbformat_minor": 2
}

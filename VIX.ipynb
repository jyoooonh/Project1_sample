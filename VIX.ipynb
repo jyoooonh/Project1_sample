{
 "cells": [
  {
   "cell_type": "code",
   "execution_count": 37,
   "metadata": {},
   "outputs": [],
   "source": [
    "import pandas as pd"
   ]
  },
  {
   "cell_type": "code",
   "execution_count": 46,
   "metadata": {},
   "outputs": [
    {
     "data": {
      "text/html": [
       "<div>\n",
       "<style scoped>\n",
       "    .dataframe tbody tr th:only-of-type {\n",
       "        vertical-align: middle;\n",
       "    }\n",
       "\n",
       "    .dataframe tbody tr th {\n",
       "        vertical-align: top;\n",
       "    }\n",
       "\n",
       "    .dataframe thead th {\n",
       "        text-align: right;\n",
       "    }\n",
       "</style>\n",
       "<table border=\"1\" class=\"dataframe\">\n",
       "  <thead>\n",
       "    <tr style=\"text-align: right;\">\n",
       "      <th></th>\n",
       "      <th>날짜</th>\n",
       "      <th>종가</th>\n",
       "      <th>시가</th>\n",
       "      <th>고가</th>\n",
       "      <th>저가</th>\n",
       "      <th>거래량</th>\n",
       "      <th>변동 %</th>\n",
       "    </tr>\n",
       "  </thead>\n",
       "  <tbody>\n",
       "    <tr>\n",
       "      <th>0</th>\n",
       "      <td>2023- 10- 23</td>\n",
       "      <td>22.41</td>\n",
       "      <td>21.83</td>\n",
       "      <td>23.08</td>\n",
       "      <td>21.77</td>\n",
       "      <td>NaN</td>\n",
       "      <td>3.22%</td>\n",
       "    </tr>\n",
       "    <tr>\n",
       "      <th>1</th>\n",
       "      <td>2023- 10- 20</td>\n",
       "      <td>21.71</td>\n",
       "      <td>21.59</td>\n",
       "      <td>21.83</td>\n",
       "      <td>20.42</td>\n",
       "      <td>NaN</td>\n",
       "      <td>1.45%</td>\n",
       "    </tr>\n",
       "    <tr>\n",
       "      <th>2</th>\n",
       "      <td>2023- 10- 19</td>\n",
       "      <td>21.40</td>\n",
       "      <td>19.73</td>\n",
       "      <td>21.40</td>\n",
       "      <td>18.55</td>\n",
       "      <td>NaN</td>\n",
       "      <td>11.34%</td>\n",
       "    </tr>\n",
       "    <tr>\n",
       "      <th>3</th>\n",
       "      <td>2023- 10- 18</td>\n",
       "      <td>19.22</td>\n",
       "      <td>18.36</td>\n",
       "      <td>20.15</td>\n",
       "      <td>17.88</td>\n",
       "      <td>NaN</td>\n",
       "      <td>7.49%</td>\n",
       "    </tr>\n",
       "    <tr>\n",
       "      <th>4</th>\n",
       "      <td>2023- 10- 17</td>\n",
       "      <td>17.88</td>\n",
       "      <td>17.41</td>\n",
       "      <td>18.54</td>\n",
       "      <td>16.97</td>\n",
       "      <td>NaN</td>\n",
       "      <td>3.89%</td>\n",
       "    </tr>\n",
       "  </tbody>\n",
       "</table>\n",
       "</div>"
      ],
      "text/plain": [
       "             날짜     종가     시가     고가     저가  거래량    변동 %\n",
       "0  2023- 10- 23  22.41  21.83  23.08  21.77  NaN   3.22%\n",
       "1  2023- 10- 20  21.71  21.59  21.83  20.42  NaN   1.45%\n",
       "2  2023- 10- 19  21.40  19.73  21.40  18.55  NaN  11.34%\n",
       "3  2023- 10- 18  19.22  18.36  20.15  17.88  NaN   7.49%\n",
       "4  2023- 10- 17  17.88  17.41  18.54  16.97  NaN   3.89%"
      ]
     },
     "execution_count": 46,
     "metadata": {},
     "output_type": "execute_result"
    }
   ],
   "source": [
    "VIX = pd.read_csv(\"./Datasets/VIX.csv\")\n",
    "VIX.head()"
   ]
  },
  {
   "cell_type": "code",
   "execution_count": 47,
   "metadata": {},
   "outputs": [],
   "source": [
    "VIX['날짜'] = pd.to_datetime(VIX['날짜'])\n",
    "VIX = VIX.sort_values(by='날짜', ascending=True)"
   ]
  },
  {
   "cell_type": "code",
   "execution_count": 48,
   "metadata": {},
   "outputs": [
    {
     "data": {
      "text/html": [
       "<div>\n",
       "<style scoped>\n",
       "    .dataframe tbody tr th:only-of-type {\n",
       "        vertical-align: middle;\n",
       "    }\n",
       "\n",
       "    .dataframe tbody tr th {\n",
       "        vertical-align: top;\n",
       "    }\n",
       "\n",
       "    .dataframe thead th {\n",
       "        text-align: right;\n",
       "    }\n",
       "</style>\n",
       "<table border=\"1\" class=\"dataframe\">\n",
       "  <thead>\n",
       "    <tr style=\"text-align: right;\">\n",
       "      <th></th>\n",
       "      <th>날짜</th>\n",
       "      <th>종가</th>\n",
       "      <th>시가</th>\n",
       "      <th>고가</th>\n",
       "      <th>저가</th>\n",
       "      <th>거래량</th>\n",
       "      <th>변동 %</th>\n",
       "    </tr>\n",
       "  </thead>\n",
       "  <tbody>\n",
       "    <tr>\n",
       "      <th>107</th>\n",
       "      <td>2023-05-25</td>\n",
       "      <td>19.14</td>\n",
       "      <td>19.54</td>\n",
       "      <td>19.95</td>\n",
       "      <td>18.70</td>\n",
       "      <td>NaN</td>\n",
       "      <td>-4.44%</td>\n",
       "    </tr>\n",
       "    <tr>\n",
       "      <th>106</th>\n",
       "      <td>2023-05-26</td>\n",
       "      <td>17.95</td>\n",
       "      <td>19.07</td>\n",
       "      <td>19.56</td>\n",
       "      <td>17.27</td>\n",
       "      <td>NaN</td>\n",
       "      <td>-6.22%</td>\n",
       "    </tr>\n",
       "    <tr>\n",
       "      <th>105</th>\n",
       "      <td>2023-05-29</td>\n",
       "      <td>17.46</td>\n",
       "      <td>17.53</td>\n",
       "      <td>17.60</td>\n",
       "      <td>17.34</td>\n",
       "      <td>NaN</td>\n",
       "      <td>-2.73%</td>\n",
       "    </tr>\n",
       "    <tr>\n",
       "      <th>104</th>\n",
       "      <td>2023-05-30</td>\n",
       "      <td>17.46</td>\n",
       "      <td>17.56</td>\n",
       "      <td>18.34</td>\n",
       "      <td>16.98</td>\n",
       "      <td>NaN</td>\n",
       "      <td>0.00%</td>\n",
       "    </tr>\n",
       "    <tr>\n",
       "      <th>103</th>\n",
       "      <td>2023-05-31</td>\n",
       "      <td>17.94</td>\n",
       "      <td>18.04</td>\n",
       "      <td>18.40</td>\n",
       "      <td>17.12</td>\n",
       "      <td>NaN</td>\n",
       "      <td>2.75%</td>\n",
       "    </tr>\n",
       "  </tbody>\n",
       "</table>\n",
       "</div>"
      ],
      "text/plain": [
       "            날짜     종가     시가     고가     저가  거래량    변동 %\n",
       "107 2023-05-25  19.14  19.54  19.95  18.70  NaN  -4.44%\n",
       "106 2023-05-26  17.95  19.07  19.56  17.27  NaN  -6.22%\n",
       "105 2023-05-29  17.46  17.53  17.60  17.34  NaN  -2.73%\n",
       "104 2023-05-30  17.46  17.56  18.34  16.98  NaN   0.00%\n",
       "103 2023-05-31  17.94  18.04  18.40  17.12  NaN   2.75%"
      ]
     },
     "execution_count": 48,
     "metadata": {},
     "output_type": "execute_result"
    }
   ],
   "source": [
    "VIX.head()"
   ]
  },
  {
   "cell_type": "code",
   "execution_count": 49,
   "metadata": {},
   "outputs": [],
   "source": [
    "VIX=VIX[['날짜','종가']]"
   ]
  },
  {
   "cell_type": "code",
   "execution_count": 50,
   "metadata": {},
   "outputs": [
    {
     "data": {
      "text/html": [
       "<div>\n",
       "<style scoped>\n",
       "    .dataframe tbody tr th:only-of-type {\n",
       "        vertical-align: middle;\n",
       "    }\n",
       "\n",
       "    .dataframe tbody tr th {\n",
       "        vertical-align: top;\n",
       "    }\n",
       "\n",
       "    .dataframe thead th {\n",
       "        text-align: right;\n",
       "    }\n",
       "</style>\n",
       "<table border=\"1\" class=\"dataframe\">\n",
       "  <thead>\n",
       "    <tr style=\"text-align: right;\">\n",
       "      <th></th>\n",
       "      <th>날짜</th>\n",
       "      <th>종가</th>\n",
       "      <th>종가차이</th>\n",
       "    </tr>\n",
       "  </thead>\n",
       "  <tbody>\n",
       "    <tr>\n",
       "      <th>107</th>\n",
       "      <td>2023-05-25</td>\n",
       "      <td>19.14</td>\n",
       "      <td>None</td>\n",
       "    </tr>\n",
       "    <tr>\n",
       "      <th>106</th>\n",
       "      <td>2023-05-26</td>\n",
       "      <td>17.95</td>\n",
       "      <td>None</td>\n",
       "    </tr>\n",
       "    <tr>\n",
       "      <th>105</th>\n",
       "      <td>2023-05-29</td>\n",
       "      <td>17.46</td>\n",
       "      <td>None</td>\n",
       "    </tr>\n",
       "    <tr>\n",
       "      <th>104</th>\n",
       "      <td>2023-05-30</td>\n",
       "      <td>17.46</td>\n",
       "      <td>None</td>\n",
       "    </tr>\n",
       "    <tr>\n",
       "      <th>103</th>\n",
       "      <td>2023-05-31</td>\n",
       "      <td>17.94</td>\n",
       "      <td>None</td>\n",
       "    </tr>\n",
       "  </tbody>\n",
       "</table>\n",
       "</div>"
      ],
      "text/plain": [
       "            날짜     종가  종가차이\n",
       "107 2023-05-25  19.14  None\n",
       "106 2023-05-26  17.95  None\n",
       "105 2023-05-29  17.46  None\n",
       "104 2023-05-30  17.46  None\n",
       "103 2023-05-31  17.94  None"
      ]
     },
     "execution_count": 50,
     "metadata": {},
     "output_type": "execute_result"
    }
   ],
   "source": [
    "VIX['종가차이'] = None\n",
    "VIX.head()"
   ]
  },
  {
   "cell_type": "code",
   "execution_count": 51,
   "metadata": {},
   "outputs": [
    {
     "name": "stdout",
     "output_type": "stream",
     "text": [
      "            날짜     종가  종가차이\n",
      "0   2023-05-25  19.14   NaN\n",
      "1   2023-05-26  17.95   NaN\n",
      "2   2023-05-29  17.46   NaN\n",
      "3   2023-05-30  17.46   NaN\n",
      "4   2023-05-31  17.94   NaN\n",
      "..         ...    ...   ...\n",
      "104 2023-10-18  19.22   NaN\n",
      "105 2023-10-19  21.40   NaN\n",
      "106 2023-10-20  21.71   NaN\n",
      "107 2023-10-23  22.41   NaN\n",
      "108 2023-10-24    NaN  -0.7\n",
      "\n",
      "[109 rows x 3 columns]\n"
     ]
    },
    {
     "name": "stderr",
     "output_type": "stream",
     "text": [
      "/var/folders/_6/2zcx5d0s79379ny3_nmcwpv40000gn/T/ipykernel_1215/2439599968.py:10: FutureWarning: The behavior of DataFrame concatenation with empty or all-NA entries is deprecated. In a future version, this will no longer exclude empty or all-NA columns when determining the result dtypes. To retain the old behavior, exclude the relevant entries before the concat operation.\n",
      "  VIX = pd.concat([VIX, new_data], ignore_index=True)\n"
     ]
    }
   ],
   "source": [
    "# 마지막 전 날짜의 '종가' 값과 마지막 날의 '종가' 값을 뺀다.\n",
    "difference = VIX.loc[VIX.index[-2], '종가'] - VIX.loc[VIX.index[-1], '종가']\n",
    "\n",
    "new_data = pd.DataFrame({\n",
    "    '날짜': [pd.to_datetime('2023-10-24')],\n",
    "    '종가': [None],\n",
    "    '종가차이': [difference]\n",
    "})\n",
    "\n",
    "VIX = pd.concat([VIX, new_data], ignore_index=True)\n",
    "print(VIX)"
   ]
  },
  {
   "cell_type": "code",
   "execution_count": 52,
   "metadata": {},
   "outputs": [
    {
     "name": "stdout",
     "output_type": "stream",
     "text": [
      "            날짜     종가  종가차이\n",
      "0   2023-05-25  19.14   NaN\n",
      "1   2023-05-26  17.95   NaN\n",
      "2   2023-05-29  17.46  1.19\n",
      "3   2023-05-30  17.46  0.49\n",
      "4   2023-05-31  17.94  0.00\n",
      "..         ...    ...   ...\n",
      "104 2023-10-18  19.22 -0.67\n",
      "105 2023-10-19  21.40 -1.34\n",
      "106 2023-10-20  21.71 -2.18\n",
      "107 2023-10-23  22.41 -0.31\n",
      "108 2023-10-24    NaN -0.70\n",
      "\n",
      "[109 rows x 3 columns]\n"
     ]
    }
   ],
   "source": [
    "for i in range(len(VIX) - 1):\n",
    "    difference = VIX.loc[i, '종가'] - VIX.loc[i + 1, '종가']\n",
    "    if i + 2 < len(VIX):  # 다음날 날짜가 존재하는 경우에만 값을 넣습니다.\n",
    "        VIX.loc[i + 2, '종가차이'] = difference\n",
    "\n",
    "print(VIX)"
   ]
  },
  {
   "cell_type": "code",
   "execution_count": 53,
   "metadata": {},
   "outputs": [],
   "source": [
    "VIX.to_csv('VIX_processed_timeseries_data.csv', index=False)"
   ]
  }
 ],
 "metadata": {
  "kernelspec": {
   "display_name": "Python 3",
   "language": "python",
   "name": "python3"
  },
  "language_info": {
   "codemirror_mode": {
    "name": "ipython",
    "version": 3
   },
   "file_extension": ".py",
   "mimetype": "text/x-python",
   "name": "python",
   "nbconvert_exporter": "python",
   "pygments_lexer": "ipython3",
   "version": "3.11.6"
  }
 },
 "nbformat": 4,
 "nbformat_minor": 2
}

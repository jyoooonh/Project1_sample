{
 "cells": [
  {
   "cell_type": "code",
   "execution_count": null,
   "metadata": {},
   "outputs": [],
   "source": [
    "import pandas as pd"
   ]
  },
  {
   "cell_type": "code",
   "execution_count": null,
   "metadata": {},
   "outputs": [],
   "source": [
    "ks200 = pd.read_csv('../dataset/kospi200_30min.csv', index_col=0)"
   ]
  },
  {
   "cell_type": "code",
   "execution_count": null,
   "metadata": {},
   "outputs": [],
   "source": [
    "ks200.drop(['대업종구분', '소업종구분', '종목정보', '전일종가'], axis=1, inplace=True)"
   ]
  },
  {
   "cell_type": "code",
   "execution_count": null,
   "metadata": {},
   "outputs": [],
   "source": [
    "ks200"
   ]
  },
  {
   "cell_type": "code",
   "execution_count": null,
   "metadata": {},
   "outputs": [],
   "source": [
    "ks200['체결시간']"
   ]
  },
  {
   "cell_type": "code",
   "execution_count": null,
   "metadata": {},
   "outputs": [],
   "source": [
    "ks200['체결시간'] = ks200['체결시간'].astype(str)"
   ]
  },
  {
   "cell_type": "code",
   "execution_count": null,
   "metadata": {},
   "outputs": [],
   "source": [
    "ks200.info()"
   ]
  },
  {
   "cell_type": "code",
   "execution_count": null,
   "metadata": {},
   "outputs": [],
   "source": [
    "ks200['체결시간']"
   ]
  },
  {
   "cell_type": "code",
   "execution_count": null,
   "metadata": {},
   "outputs": [],
   "source": [
    "ks200 = ks200[ks200['체결시간'].str.contains('090000|093000')]"
   ]
  },
  {
   "cell_type": "code",
   "execution_count": null,
   "metadata": {},
   "outputs": [],
   "source": [
    "ks200 = ks200.reset_index(drop=True)"
   ]
  },
  {
   "cell_type": "markdown",
   "metadata": {},
   "source": [
    "#### 09:00 ~ 09:30 변화율 확인\n",
    "* (09:30 - 09:00) / 09:00"
   ]
  },
  {
   "cell_type": "code",
   "execution_count": null,
   "metadata": {},
   "outputs": [],
   "source": [
    "ks200 = ks200[['현재가', '체결시간', '고가', '저가']]"
   ]
  },
  {
   "cell_type": "code",
   "execution_count": null,
   "metadata": {},
   "outputs": [],
   "source": [
    "ks200"
   ]
  },
  {
   "cell_type": "code",
   "execution_count": null,
   "metadata": {},
   "outputs": [],
   "source": [
    "ks200['현재가'] = abs(ks200['현재가'])\n",
    "ks200['고가'] = abs(ks200['고가'])\n",
    "ks200['저가'] = abs(ks200['저가'])"
   ]
  },
  {
   "cell_type": "code",
   "execution_count": null,
   "metadata": {},
   "outputs": [],
   "source": [
    "ks200['현재가'] = ks200['현재가'] / 100\n",
    "ks200['고가'] = ks200['고가'] / 100\n",
    "ks200['저가'] = ks200['저가'] / 100"
   ]
  },
  {
   "cell_type": "code",
   "execution_count": null,
   "metadata": {},
   "outputs": [],
   "source": [
    "ks200"
   ]
  },
  {
   "cell_type": "code",
   "execution_count": null,
   "metadata": {},
   "outputs": [],
   "source": [
    "date = []\n",
    "rate_of_change = []\n",
    "fluc_range = []\n",
    "\n",
    "for i in range(0, len(ks200), 2):\n",
    "\tdate.append(ks200['체결시간'][i][:8])\n",
    "\tchange_result = (ks200['현재가'][i] - ks200['현재가'][i + 1]) / ks200['현재가'][i + 1] * 100\n",
    "\n",
    "\tif ks200['저가'][i] > ks200['저가'][i + 1]:\n",
    "\t\tmin = ks200['저가'][i + 1]\n",
    "\telse:\n",
    "\t\tmin = ks200['저가'][i]\n",
    "\n",
    "\tif ks200['고가'][i] > ks200['고가'][i + 1]:\n",
    "\t\tmax = ks200['고가'][i]\n",
    "\telse:\n",
    "\t\tmax = ks200['고가'][i + 1]\n",
    "\n",
    "\tfluc_result = max - min\n",
    "\n",
    "\tfluc_result = round(fluc_result, 3)\n",
    "\tchange_result = round(change_result, 3)\n",
    "\n",
    "\trate_of_change.append(change_result)\n",
    "\tfluc_range.append(fluc_result)\n",
    "\n",
    "print(date)"
   ]
  },
  {
   "cell_type": "code",
   "execution_count": null,
   "metadata": {},
   "outputs": [],
   "source": [
    "rate_of_change"
   ]
  },
  {
   "cell_type": "code",
   "execution_count": null,
   "metadata": {},
   "outputs": [],
   "source": [
    "fluc_range"
   ]
  },
  {
   "cell_type": "code",
   "execution_count": null,
   "metadata": {},
   "outputs": [],
   "source": [
    "ks200 = pd.DataFrame(zip(date, rate_of_change, fluc_range), columns = ['date', 'ks200_p_change(%)', 'ks200_p_range'])"
   ]
  },
  {
   "cell_type": "code",
   "execution_count": null,
   "metadata": {},
   "outputs": [],
   "source": [
    "ks200"
   ]
  },
  {
   "cell_type": "code",
   "execution_count": null,
   "metadata": {},
   "outputs": [],
   "source": [
    "ks200 = ks200[1:55]"
   ]
  },
  {
   "cell_type": "code",
   "execution_count": null,
   "metadata": {},
   "outputs": [],
   "source": [
    "ks200 = ks200[::-1].reset_index(drop=True)"
   ]
  },
  {
   "cell_type": "code",
   "execution_count": null,
   "metadata": {},
   "outputs": [],
   "source": [
    "ks200['date'] = pd.to_datetime(ks200['date'])"
   ]
  },
  {
   "cell_type": "code",
   "execution_count": null,
   "metadata": {},
   "outputs": [],
   "source": [
    "ks200.to_csv('../dataset/clean_feature/ks200_present.csv')"
   ]
  },
  {
   "cell_type": "code",
   "execution_count": null,
   "metadata": {},
   "outputs": [],
   "source": []
  }
 ],
 "metadata": {
  "kernelspec": {
   "display_name": "Python 3",
   "language": "python",
   "name": "python3"
  },
  "language_info": {
   "codemirror_mode": {
    "name": "ipython",
    "version": 3
   },
   "file_extension": ".py",
   "mimetype": "text/x-python",
   "name": "python",
   "nbconvert_exporter": "python",
   "pygments_lexer": "ipython3",
   "version": "3.11.4"
  }
 },
 "nbformat": 4,
 "nbformat_minor": 2
}

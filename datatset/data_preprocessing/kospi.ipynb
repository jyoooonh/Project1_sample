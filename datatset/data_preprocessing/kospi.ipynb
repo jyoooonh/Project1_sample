{
 "cells": [
  {
   "cell_type": "code",
   "execution_count": 23,
   "metadata": {},
   "outputs": [],
   "source": [
    "import pandas as pd"
   ]
  },
  {
   "cell_type": "code",
   "execution_count": 24,
   "metadata": {},
   "outputs": [
    {
     "data": {
      "text/html": [
       "<div>\n",
       "<style scoped>\n",
       "    .dataframe tbody tr th:only-of-type {\n",
       "        vertical-align: middle;\n",
       "    }\n",
       "\n",
       "    .dataframe tbody tr th {\n",
       "        vertical-align: top;\n",
       "    }\n",
       "\n",
       "    .dataframe thead th {\n",
       "        text-align: right;\n",
       "    }\n",
       "</style>\n",
       "<table border=\"1\" class=\"dataframe\">\n",
       "  <thead>\n",
       "    <tr style=\"text-align: right;\">\n",
       "      <th></th>\n",
       "      <th>종가</th>\n",
       "      <th>시가</th>\n",
       "      <th>고가</th>\n",
       "      <th>저가</th>\n",
       "      <th>거래량</th>\n",
       "      <th>변동 %</th>\n",
       "    </tr>\n",
       "    <tr>\n",
       "      <th>날짜</th>\n",
       "      <th></th>\n",
       "      <th></th>\n",
       "      <th></th>\n",
       "      <th></th>\n",
       "      <th></th>\n",
       "      <th></th>\n",
       "    </tr>\n",
       "  </thead>\n",
       "  <tbody>\n",
       "    <tr>\n",
       "      <th>2023- 10- 31</th>\n",
       "      <td>2,284.70</td>\n",
       "      <td>2,318.39</td>\n",
       "      <td>2,322.45</td>\n",
       "      <td>2,280.75</td>\n",
       "      <td>273.04K</td>\n",
       "      <td>-1.12%</td>\n",
       "    </tr>\n",
       "    <tr>\n",
       "      <th>2023- 10- 30</th>\n",
       "      <td>2,310.55</td>\n",
       "      <td>2,292.34</td>\n",
       "      <td>2,317.75</td>\n",
       "      <td>2,292.34</td>\n",
       "      <td>444.84K</td>\n",
       "      <td>0.34%</td>\n",
       "    </tr>\n",
       "    <tr>\n",
       "      <th>2023- 10- 27</th>\n",
       "      <td>2,302.81</td>\n",
       "      <td>2,311.59</td>\n",
       "      <td>2,321.84</td>\n",
       "      <td>2,293.05</td>\n",
       "      <td>514.88M</td>\n",
       "      <td>0.16%</td>\n",
       "    </tr>\n",
       "    <tr>\n",
       "      <th>2023- 10- 26</th>\n",
       "      <td>2,299.08</td>\n",
       "      <td>2,325.82</td>\n",
       "      <td>2,330.55</td>\n",
       "      <td>2,299.08</td>\n",
       "      <td>531.07M</td>\n",
       "      <td>-2.71%</td>\n",
       "    </tr>\n",
       "    <tr>\n",
       "      <th>2023- 10- 25</th>\n",
       "      <td>2,363.17</td>\n",
       "      <td>2,389.23</td>\n",
       "      <td>2,389.90</td>\n",
       "      <td>2,362.69</td>\n",
       "      <td>440.81M</td>\n",
       "      <td>-0.85%</td>\n",
       "    </tr>\n",
       "    <tr>\n",
       "      <th>...</th>\n",
       "      <td>...</td>\n",
       "      <td>...</td>\n",
       "      <td>...</td>\n",
       "      <td>...</td>\n",
       "      <td>...</td>\n",
       "      <td>...</td>\n",
       "    </tr>\n",
       "    <tr>\n",
       "      <th>2022- 10- 19</th>\n",
       "      <td>2,237.44</td>\n",
       "      <td>2,249.35</td>\n",
       "      <td>2,266.80</td>\n",
       "      <td>2,234.59</td>\n",
       "      <td>895.16M</td>\n",
       "      <td>-0.56%</td>\n",
       "    </tr>\n",
       "    <tr>\n",
       "      <th>2022- 10- 18</th>\n",
       "      <td>2,249.95</td>\n",
       "      <td>2,249.15</td>\n",
       "      <td>2,251.74</td>\n",
       "      <td>2,220.71</td>\n",
       "      <td>580.89M</td>\n",
       "      <td>1.36%</td>\n",
       "    </tr>\n",
       "    <tr>\n",
       "      <th>2022- 10- 17</th>\n",
       "      <td>2,219.71</td>\n",
       "      <td>2,187.17</td>\n",
       "      <td>2,221.05</td>\n",
       "      <td>2,177.66</td>\n",
       "      <td>498.78M</td>\n",
       "      <td>0.32%</td>\n",
       "    </tr>\n",
       "    <tr>\n",
       "      <th>2022- 10- 14</th>\n",
       "      <td>2,212.55</td>\n",
       "      <td>2,200.66</td>\n",
       "      <td>2,220.54</td>\n",
       "      <td>2,193.63</td>\n",
       "      <td>513.52M</td>\n",
       "      <td>2.30%</td>\n",
       "    </tr>\n",
       "    <tr>\n",
       "      <th>2022- 10- 13</th>\n",
       "      <td>2,162.87</td>\n",
       "      <td>2,198.29</td>\n",
       "      <td>2,198.34</td>\n",
       "      <td>2,162.87</td>\n",
       "      <td>792.45M</td>\n",
       "      <td>-1.80%</td>\n",
       "    </tr>\n",
       "  </tbody>\n",
       "</table>\n",
       "<p>260 rows × 6 columns</p>\n",
       "</div>"
      ],
      "text/plain": [
       "                    종가        시가        고가        저가      거래량    변동 %\n",
       "날짜                                                                   \n",
       "2023- 10- 31  2,284.70  2,318.39  2,322.45  2,280.75  273.04K  -1.12%\n",
       "2023- 10- 30  2,310.55  2,292.34  2,317.75  2,292.34  444.84K   0.34%\n",
       "2023- 10- 27  2,302.81  2,311.59  2,321.84  2,293.05  514.88M   0.16%\n",
       "2023- 10- 26  2,299.08  2,325.82  2,330.55  2,299.08  531.07M  -2.71%\n",
       "2023- 10- 25  2,363.17  2,389.23  2,389.90  2,362.69  440.81M  -0.85%\n",
       "...                ...       ...       ...       ...      ...     ...\n",
       "2022- 10- 19  2,237.44  2,249.35  2,266.80  2,234.59  895.16M  -0.56%\n",
       "2022- 10- 18  2,249.95  2,249.15  2,251.74  2,220.71  580.89M   1.36%\n",
       "2022- 10- 17  2,219.71  2,187.17  2,221.05  2,177.66  498.78M   0.32%\n",
       "2022- 10- 14  2,212.55  2,200.66  2,220.54  2,193.63  513.52M   2.30%\n",
       "2022- 10- 13  2,162.87  2,198.29  2,198.34  2,162.87  792.45M  -1.80%\n",
       "\n",
       "[260 rows x 6 columns]"
      ]
     },
     "execution_count": 24,
     "metadata": {},
     "output_type": "execute_result"
    }
   ],
   "source": [
    "kospi = pd.read_csv('../data/KOSPI.csv', index_col=0)\n",
    "kospi"
   ]
  },
  {
   "cell_type": "code",
   "execution_count": 25,
   "metadata": {},
   "outputs": [
    {
     "name": "stdout",
     "output_type": "stream",
     "text": [
      "<class 'pandas.core.frame.DataFrame'>\n",
      "Index: 260 entries, 2022- 10- 13 to 2023- 10- 31\n",
      "Data columns (total 6 columns):\n",
      " #   Column  Non-Null Count  Dtype \n",
      "---  ------  --------------  ----- \n",
      " 0   종가      260 non-null    object\n",
      " 1   시가      260 non-null    object\n",
      " 2   고가      260 non-null    object\n",
      " 3   저가      260 non-null    object\n",
      " 4   거래량     260 non-null    object\n",
      " 5   변동 %    260 non-null    object\n",
      "dtypes: object(6)\n",
      "memory usage: 14.2+ KB\n"
     ]
    }
   ],
   "source": [
    "kospi = kospi[::-1]\n",
    "kospi.info()"
   ]
  },
  {
   "cell_type": "code",
   "execution_count": 26,
   "metadata": {},
   "outputs": [],
   "source": [
    "kospi = kospi.reset_index()"
   ]
  },
  {
   "cell_type": "code",
   "execution_count": 27,
   "metadata": {},
   "outputs": [
    {
     "data": {
      "text/html": [
       "<div>\n",
       "<style scoped>\n",
       "    .dataframe tbody tr th:only-of-type {\n",
       "        vertical-align: middle;\n",
       "    }\n",
       "\n",
       "    .dataframe tbody tr th {\n",
       "        vertical-align: top;\n",
       "    }\n",
       "\n",
       "    .dataframe thead th {\n",
       "        text-align: right;\n",
       "    }\n",
       "</style>\n",
       "<table border=\"1\" class=\"dataframe\">\n",
       "  <thead>\n",
       "    <tr style=\"text-align: right;\">\n",
       "      <th></th>\n",
       "      <th>날짜</th>\n",
       "      <th>종가</th>\n",
       "      <th>시가</th>\n",
       "      <th>고가</th>\n",
       "      <th>저가</th>\n",
       "      <th>거래량</th>\n",
       "      <th>변동 %</th>\n",
       "    </tr>\n",
       "  </thead>\n",
       "  <tbody>\n",
       "    <tr>\n",
       "      <th>0</th>\n",
       "      <td>2022- 10- 13</td>\n",
       "      <td>2,162.87</td>\n",
       "      <td>2,198.29</td>\n",
       "      <td>2,198.34</td>\n",
       "      <td>2,162.87</td>\n",
       "      <td>792.45M</td>\n",
       "      <td>-1.80%</td>\n",
       "    </tr>\n",
       "    <tr>\n",
       "      <th>1</th>\n",
       "      <td>2022- 10- 14</td>\n",
       "      <td>2,212.55</td>\n",
       "      <td>2,200.66</td>\n",
       "      <td>2,220.54</td>\n",
       "      <td>2,193.63</td>\n",
       "      <td>513.52M</td>\n",
       "      <td>2.30%</td>\n",
       "    </tr>\n",
       "    <tr>\n",
       "      <th>2</th>\n",
       "      <td>2022- 10- 17</td>\n",
       "      <td>2,219.71</td>\n",
       "      <td>2,187.17</td>\n",
       "      <td>2,221.05</td>\n",
       "      <td>2,177.66</td>\n",
       "      <td>498.78M</td>\n",
       "      <td>0.32%</td>\n",
       "    </tr>\n",
       "  </tbody>\n",
       "</table>\n",
       "</div>"
      ],
      "text/plain": [
       "             날짜        종가        시가        고가        저가      거래량    변동 %\n",
       "0  2022- 10- 13  2,162.87  2,198.29  2,198.34  2,162.87  792.45M  -1.80%\n",
       "1  2022- 10- 14  2,212.55  2,200.66  2,220.54  2,193.63  513.52M   2.30%\n",
       "2  2022- 10- 17  2,219.71  2,187.17  2,221.05  2,177.66  498.78M   0.32%"
      ]
     },
     "execution_count": 27,
     "metadata": {},
     "output_type": "execute_result"
    }
   ],
   "source": [
    "kospi.head(3)"
   ]
  },
  {
   "cell_type": "code",
   "execution_count": 28,
   "metadata": {},
   "outputs": [],
   "source": [
    "kospi = kospi[['날짜', '종가', '시가', '변동 %']]"
   ]
  },
  {
   "cell_type": "code",
   "execution_count": 29,
   "metadata": {},
   "outputs": [],
   "source": [
    "kospi['변동 %'] = kospi['변동 %'].astype(str)\n",
    "kospi[\"변동 %\"] = kospi[\"변동 %\"].str.rstrip('%')\n",
    "kospi[\"변동 %\"] = kospi[\"변동 %\"].astype(float)\n",
    "\n",
    "kospi[\"시가\"] = kospi[\"시가\"].str.replace(',', '')\n",
    "kospi[\"시가\"] = kospi[\"시가\"].astype(float)\n",
    "\n",
    "kospi[\"종가\"] = kospi[\"종가\"].str.replace(',', '')\n",
    "kospi[\"종가\"] = kospi[\"종가\"].astype(float)"
   ]
  },
  {
   "cell_type": "code",
   "execution_count": 30,
   "metadata": {},
   "outputs": [
    {
     "data": {
      "text/html": [
       "<div>\n",
       "<style scoped>\n",
       "    .dataframe tbody tr th:only-of-type {\n",
       "        vertical-align: middle;\n",
       "    }\n",
       "\n",
       "    .dataframe tbody tr th {\n",
       "        vertical-align: top;\n",
       "    }\n",
       "\n",
       "    .dataframe thead th {\n",
       "        text-align: right;\n",
       "    }\n",
       "</style>\n",
       "<table border=\"1\" class=\"dataframe\">\n",
       "  <thead>\n",
       "    <tr style=\"text-align: right;\">\n",
       "      <th></th>\n",
       "      <th>날짜</th>\n",
       "      <th>종가</th>\n",
       "      <th>시가</th>\n",
       "      <th>변동 %</th>\n",
       "    </tr>\n",
       "  </thead>\n",
       "  <tbody>\n",
       "    <tr>\n",
       "      <th>0</th>\n",
       "      <td>2022- 10- 13</td>\n",
       "      <td>2162.87</td>\n",
       "      <td>2198.29</td>\n",
       "      <td>NaN</td>\n",
       "    </tr>\n",
       "    <tr>\n",
       "      <th>1</th>\n",
       "      <td>2022- 10- 14</td>\n",
       "      <td>2212.55</td>\n",
       "      <td>2200.66</td>\n",
       "      <td>-1.80</td>\n",
       "    </tr>\n",
       "    <tr>\n",
       "      <th>2</th>\n",
       "      <td>2022- 10- 17</td>\n",
       "      <td>2219.71</td>\n",
       "      <td>2187.17</td>\n",
       "      <td>2.30</td>\n",
       "    </tr>\n",
       "    <tr>\n",
       "      <th>3</th>\n",
       "      <td>2022- 10- 18</td>\n",
       "      <td>2249.95</td>\n",
       "      <td>2249.15</td>\n",
       "      <td>0.32</td>\n",
       "    </tr>\n",
       "    <tr>\n",
       "      <th>4</th>\n",
       "      <td>2022- 10- 19</td>\n",
       "      <td>2237.44</td>\n",
       "      <td>2249.35</td>\n",
       "      <td>1.36</td>\n",
       "    </tr>\n",
       "    <tr>\n",
       "      <th>...</th>\n",
       "      <td>...</td>\n",
       "      <td>...</td>\n",
       "      <td>...</td>\n",
       "      <td>...</td>\n",
       "    </tr>\n",
       "    <tr>\n",
       "      <th>255</th>\n",
       "      <td>2023- 10- 25</td>\n",
       "      <td>2363.17</td>\n",
       "      <td>2389.23</td>\n",
       "      <td>1.12</td>\n",
       "    </tr>\n",
       "    <tr>\n",
       "      <th>256</th>\n",
       "      <td>2023- 10- 26</td>\n",
       "      <td>2299.08</td>\n",
       "      <td>2325.82</td>\n",
       "      <td>-0.85</td>\n",
       "    </tr>\n",
       "    <tr>\n",
       "      <th>257</th>\n",
       "      <td>2023- 10- 27</td>\n",
       "      <td>2302.81</td>\n",
       "      <td>2311.59</td>\n",
       "      <td>-2.71</td>\n",
       "    </tr>\n",
       "    <tr>\n",
       "      <th>258</th>\n",
       "      <td>2023- 10- 30</td>\n",
       "      <td>2310.55</td>\n",
       "      <td>2292.34</td>\n",
       "      <td>0.16</td>\n",
       "    </tr>\n",
       "    <tr>\n",
       "      <th>259</th>\n",
       "      <td>2023- 10- 31</td>\n",
       "      <td>2284.70</td>\n",
       "      <td>2318.39</td>\n",
       "      <td>0.34</td>\n",
       "    </tr>\n",
       "  </tbody>\n",
       "</table>\n",
       "<p>260 rows × 4 columns</p>\n",
       "</div>"
      ],
      "text/plain": [
       "               날짜       종가       시가  변동 %\n",
       "0    2022- 10- 13  2162.87  2198.29   NaN\n",
       "1    2022- 10- 14  2212.55  2200.66 -1.80\n",
       "2    2022- 10- 17  2219.71  2187.17  2.30\n",
       "3    2022- 10- 18  2249.95  2249.15  0.32\n",
       "4    2022- 10- 19  2237.44  2249.35  1.36\n",
       "..            ...      ...      ...   ...\n",
       "255  2023- 10- 25  2363.17  2389.23  1.12\n",
       "256  2023- 10- 26  2299.08  2325.82 -0.85\n",
       "257  2023- 10- 27  2302.81  2311.59 -2.71\n",
       "258  2023- 10- 30  2310.55  2292.34  0.16\n",
       "259  2023- 10- 31  2284.70  2318.39  0.34\n",
       "\n",
       "[260 rows x 4 columns]"
      ]
     },
     "execution_count": 30,
     "metadata": {},
     "output_type": "execute_result"
    }
   ],
   "source": [
    "kospi['변동 %'] = kospi['변동 %'].shift(1)\n",
    "kospi"
   ]
  },
  {
   "cell_type": "code",
   "execution_count": 31,
   "metadata": {},
   "outputs": [],
   "source": [
    "kospi = kospi.dropna()"
   ]
  },
  {
   "cell_type": "code",
   "execution_count": 32,
   "metadata": {},
   "outputs": [
    {
     "name": "stderr",
     "output_type": "stream",
     "text": [
      "/var/folders/y7/kjtd2q_j0c13ld5lwg5kd25r0000gn/T/ipykernel_39173/3770697944.py:1: SettingWithCopyWarning: \n",
      "A value is trying to be set on a copy of a slice from a DataFrame.\n",
      "Try using .loc[row_indexer,col_indexer] = value instead\n",
      "\n",
      "See the caveats in the documentation: https://pandas.pydata.org/pandas-docs/stable/user_guide/indexing.html#returning-a-view-versus-a-copy\n",
      "  kospi['종가'] = kospi['종가'].shift(1)\n"
     ]
    }
   ],
   "source": [
    "kospi['종가'] = kospi['종가'].shift(1)"
   ]
  },
  {
   "cell_type": "code",
   "execution_count": 33,
   "metadata": {},
   "outputs": [
    {
     "name": "stdout",
     "output_type": "stream",
     "text": [
      "<class 'pandas.core.frame.DataFrame'>\n",
      "Index: 259 entries, 1 to 259\n",
      "Data columns (total 4 columns):\n",
      " #   Column  Non-Null Count  Dtype  \n",
      "---  ------  --------------  -----  \n",
      " 0   날짜      259 non-null    object \n",
      " 1   종가      258 non-null    float64\n",
      " 2   시가      259 non-null    float64\n",
      " 3   변동 %    259 non-null    float64\n",
      "dtypes: float64(3), object(1)\n",
      "memory usage: 10.1+ KB\n"
     ]
    }
   ],
   "source": [
    "kospi.info()"
   ]
  },
  {
   "cell_type": "code",
   "execution_count": 34,
   "metadata": {},
   "outputs": [
    {
     "name": "stderr",
     "output_type": "stream",
     "text": [
      "/var/folders/y7/kjtd2q_j0c13ld5lwg5kd25r0000gn/T/ipykernel_39173/371561438.py:1: SettingWithCopyWarning: \n",
      "A value is trying to be set on a copy of a slice from a DataFrame.\n",
      "Try using .loc[row_indexer,col_indexer] = value instead\n",
      "\n",
      "See the caveats in the documentation: https://pandas.pydata.org/pandas-docs/stable/user_guide/indexing.html#returning-a-view-versus-a-copy\n",
      "  kospi['야간변화율'] = round(((kospi['시가'] - kospi['종가']) / kospi['종가']) * 100, 3)\n"
     ]
    }
   ],
   "source": [
    "kospi['야간변화율'] = round(((kospi['시가'] - kospi['종가']) / kospi['종가']) * 100, 3)"
   ]
  },
  {
   "cell_type": "code",
   "execution_count": 35,
   "metadata": {},
   "outputs": [
    {
     "name": "stdout",
     "output_type": "stream",
     "text": [
      "<class 'pandas.core.frame.DataFrame'>\n",
      "Index: 258 entries, 2 to 259\n",
      "Data columns (total 5 columns):\n",
      " #   Column  Non-Null Count  Dtype  \n",
      "---  ------  --------------  -----  \n",
      " 0   날짜      258 non-null    object \n",
      " 1   종가      258 non-null    float64\n",
      " 2   시가      258 non-null    float64\n",
      " 3   변동 %    258 non-null    float64\n",
      " 4   야간변화율   258 non-null    float64\n",
      "dtypes: float64(4), object(1)\n",
      "memory usage: 12.1+ KB\n"
     ]
    }
   ],
   "source": [
    "kospi = kospi.dropna()\n",
    "kospi.info()"
   ]
  },
  {
   "cell_type": "code",
   "execution_count": 36,
   "metadata": {},
   "outputs": [],
   "source": [
    "kospi['날짜'] = pd.to_datetime(kospi['날짜'])"
   ]
  },
  {
   "cell_type": "code",
   "execution_count": 37,
   "metadata": {},
   "outputs": [],
   "source": [
    "kospi = kospi[:251]"
   ]
  },
  {
   "cell_type": "code",
   "execution_count": 38,
   "metadata": {},
   "outputs": [],
   "source": [
    "kospi = kospi.reset_index(drop=True)"
   ]
  },
  {
   "cell_type": "code",
   "execution_count": 39,
   "metadata": {},
   "outputs": [
    {
     "data": {
      "text/html": [
       "<div>\n",
       "<style scoped>\n",
       "    .dataframe tbody tr th:only-of-type {\n",
       "        vertical-align: middle;\n",
       "    }\n",
       "\n",
       "    .dataframe tbody tr th {\n",
       "        vertical-align: top;\n",
       "    }\n",
       "\n",
       "    .dataframe thead th {\n",
       "        text-align: right;\n",
       "    }\n",
       "</style>\n",
       "<table border=\"1\" class=\"dataframe\">\n",
       "  <thead>\n",
       "    <tr style=\"text-align: right;\">\n",
       "      <th></th>\n",
       "      <th>날짜</th>\n",
       "      <th>종가</th>\n",
       "      <th>시가</th>\n",
       "      <th>변동 %</th>\n",
       "      <th>야간변화율</th>\n",
       "    </tr>\n",
       "  </thead>\n",
       "  <tbody>\n",
       "    <tr>\n",
       "      <th>0</th>\n",
       "      <td>2022-10-17</td>\n",
       "      <td>2212.55</td>\n",
       "      <td>2187.17</td>\n",
       "      <td>2.30</td>\n",
       "      <td>-1.147</td>\n",
       "    </tr>\n",
       "    <tr>\n",
       "      <th>1</th>\n",
       "      <td>2022-10-18</td>\n",
       "      <td>2219.71</td>\n",
       "      <td>2249.15</td>\n",
       "      <td>0.32</td>\n",
       "      <td>1.326</td>\n",
       "    </tr>\n",
       "    <tr>\n",
       "      <th>2</th>\n",
       "      <td>2022-10-19</td>\n",
       "      <td>2249.95</td>\n",
       "      <td>2249.35</td>\n",
       "      <td>1.36</td>\n",
       "      <td>-0.027</td>\n",
       "    </tr>\n",
       "    <tr>\n",
       "      <th>3</th>\n",
       "      <td>2022-10-20</td>\n",
       "      <td>2237.44</td>\n",
       "      <td>2225.53</td>\n",
       "      <td>-0.56</td>\n",
       "      <td>-0.532</td>\n",
       "    </tr>\n",
       "    <tr>\n",
       "      <th>4</th>\n",
       "      <td>2022-10-21</td>\n",
       "      <td>2218.09</td>\n",
       "      <td>2210.59</td>\n",
       "      <td>-0.86</td>\n",
       "      <td>-0.338</td>\n",
       "    </tr>\n",
       "    <tr>\n",
       "      <th>...</th>\n",
       "      <td>...</td>\n",
       "      <td>...</td>\n",
       "      <td>...</td>\n",
       "      <td>...</td>\n",
       "      <td>...</td>\n",
       "    </tr>\n",
       "    <tr>\n",
       "      <th>246</th>\n",
       "      <td>2023-10-16</td>\n",
       "      <td>2456.15</td>\n",
       "      <td>2442.43</td>\n",
       "      <td>-0.95</td>\n",
       "      <td>-0.559</td>\n",
       "    </tr>\n",
       "    <tr>\n",
       "      <th>247</th>\n",
       "      <td>2023-10-17</td>\n",
       "      <td>2436.24</td>\n",
       "      <td>2454.14</td>\n",
       "      <td>-0.81</td>\n",
       "      <td>0.735</td>\n",
       "    </tr>\n",
       "    <tr>\n",
       "      <th>248</th>\n",
       "      <td>2023-10-18</td>\n",
       "      <td>2460.17</td>\n",
       "      <td>2452.05</td>\n",
       "      <td>0.98</td>\n",
       "      <td>-0.330</td>\n",
       "    </tr>\n",
       "    <tr>\n",
       "      <th>249</th>\n",
       "      <td>2023-10-19</td>\n",
       "      <td>2462.60</td>\n",
       "      <td>2431.92</td>\n",
       "      <td>0.10</td>\n",
       "      <td>-1.246</td>\n",
       "    </tr>\n",
       "    <tr>\n",
       "      <th>250</th>\n",
       "      <td>2023-10-20</td>\n",
       "      <td>2415.80</td>\n",
       "      <td>2391.54</td>\n",
       "      <td>-1.90</td>\n",
       "      <td>-1.004</td>\n",
       "    </tr>\n",
       "  </tbody>\n",
       "</table>\n",
       "<p>251 rows × 5 columns</p>\n",
       "</div>"
      ],
      "text/plain": [
       "            날짜       종가       시가  변동 %  야간변화율\n",
       "0   2022-10-17  2212.55  2187.17  2.30 -1.147\n",
       "1   2022-10-18  2219.71  2249.15  0.32  1.326\n",
       "2   2022-10-19  2249.95  2249.35  1.36 -0.027\n",
       "3   2022-10-20  2237.44  2225.53 -0.56 -0.532\n",
       "4   2022-10-21  2218.09  2210.59 -0.86 -0.338\n",
       "..         ...      ...      ...   ...    ...\n",
       "246 2023-10-16  2456.15  2442.43 -0.95 -0.559\n",
       "247 2023-10-17  2436.24  2454.14 -0.81  0.735\n",
       "248 2023-10-18  2460.17  2452.05  0.98 -0.330\n",
       "249 2023-10-19  2462.60  2431.92  0.10 -1.246\n",
       "250 2023-10-20  2415.80  2391.54 -1.90 -1.004\n",
       "\n",
       "[251 rows x 5 columns]"
      ]
     },
     "execution_count": 39,
     "metadata": {},
     "output_type": "execute_result"
    }
   ],
   "source": [
    "kospi"
   ]
  },
  {
   "cell_type": "code",
   "execution_count": 40,
   "metadata": {},
   "outputs": [],
   "source": [
    "kospi[['날짜', '변동 %', '야간변화율']].to_csv('../year_clean_feature/kospi.csv')"
   ]
  },
  {
   "cell_type": "code",
   "execution_count": 41,
   "metadata": {},
   "outputs": [],
   "source": [
    "kospi[116:].reset_index(drop=True)[['날짜', '변동 %', '야간변화율']].to_csv('../half_clean_feature/kospi_half.csv')"
   ]
  },
  {
   "cell_type": "code",
   "execution_count": 42,
   "metadata": {},
   "outputs": [],
   "source": [
    "kospi[197:].reset_index(drop=True)[['날짜', '변동 %', '야간변화율']].to_csv('../quater_clean_feature/kospi_quater.csv')"
   ]
  },
  {
   "cell_type": "code",
   "execution_count": null,
   "metadata": {},
   "outputs": [],
   "source": []
  }
 ],
 "metadata": {
  "kernelspec": {
   "display_name": "Python 3",
   "language": "python",
   "name": "python3"
  },
  "language_info": {
   "codemirror_mode": {
    "name": "ipython",
    "version": 3
   },
   "file_extension": ".py",
   "mimetype": "text/x-python",
   "name": "python",
   "nbconvert_exporter": "python",
   "pygments_lexer": "ipython3",
   "version": "3.11.4"
  }
 },
 "nbformat": 4,
 "nbformat_minor": 2
}

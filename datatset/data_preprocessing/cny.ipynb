{
 "cells": [
  {
   "cell_type": "code",
   "execution_count": 24,
   "metadata": {},
   "outputs": [],
   "source": [
    "import pandas as pd"
   ]
  },
  {
   "cell_type": "code",
   "execution_count": 25,
   "metadata": {},
   "outputs": [
    {
     "data": {
      "text/html": [
       "<div>\n",
       "<style scoped>\n",
       "    .dataframe tbody tr th:only-of-type {\n",
       "        vertical-align: middle;\n",
       "    }\n",
       "\n",
       "    .dataframe tbody tr th {\n",
       "        vertical-align: top;\n",
       "    }\n",
       "\n",
       "    .dataframe thead th {\n",
       "        text-align: right;\n",
       "    }\n",
       "</style>\n",
       "<table border=\"1\" class=\"dataframe\">\n",
       "  <thead>\n",
       "    <tr style=\"text-align: right;\">\n",
       "      <th></th>\n",
       "      <th>종가</th>\n",
       "      <th>시가</th>\n",
       "      <th>고가</th>\n",
       "      <th>저가</th>\n",
       "      <th>거래량</th>\n",
       "      <th>변동 %</th>\n",
       "    </tr>\n",
       "    <tr>\n",
       "      <th>날짜</th>\n",
       "      <th></th>\n",
       "      <th></th>\n",
       "      <th></th>\n",
       "      <th></th>\n",
       "      <th></th>\n",
       "      <th></th>\n",
       "    </tr>\n",
       "  </thead>\n",
       "  <tbody>\n",
       "    <tr>\n",
       "      <th>2023- 10- 31</th>\n",
       "      <td>184.32</td>\n",
       "      <td>184.34</td>\n",
       "      <td>184.35</td>\n",
       "      <td>184.11</td>\n",
       "      <td>NaN</td>\n",
       "      <td>-0.01%</td>\n",
       "    </tr>\n",
       "    <tr>\n",
       "      <th>2023- 10- 30</th>\n",
       "      <td>184.34</td>\n",
       "      <td>185.34</td>\n",
       "      <td>185.34</td>\n",
       "      <td>183.82</td>\n",
       "      <td>NaN</td>\n",
       "      <td>-0.54%</td>\n",
       "    </tr>\n",
       "    <tr>\n",
       "      <th>2023- 10- 29</th>\n",
       "      <td>185.34</td>\n",
       "      <td>185.35</td>\n",
       "      <td>185.35</td>\n",
       "      <td>185.34</td>\n",
       "      <td>NaN</td>\n",
       "      <td>0.10%</td>\n",
       "    </tr>\n",
       "    <tr>\n",
       "      <th>2023- 10- 27</th>\n",
       "      <td>185.16</td>\n",
       "      <td>185.02</td>\n",
       "      <td>185.63</td>\n",
       "      <td>184.23</td>\n",
       "      <td>NaN</td>\n",
       "      <td>0.15%</td>\n",
       "    </tr>\n",
       "    <tr>\n",
       "      <th>2023- 10- 26</th>\n",
       "      <td>184.88</td>\n",
       "      <td>184.89</td>\n",
       "      <td>185.93</td>\n",
       "      <td>184.73</td>\n",
       "      <td>NaN</td>\n",
       "      <td>0.04%</td>\n",
       "    </tr>\n",
       "    <tr>\n",
       "      <th>...</th>\n",
       "      <td>...</td>\n",
       "      <td>...</td>\n",
       "      <td>...</td>\n",
       "      <td>...</td>\n",
       "      <td>...</td>\n",
       "      <td>...</td>\n",
       "    </tr>\n",
       "    <tr>\n",
       "      <th>2022- 10- 19</th>\n",
       "      <td>198.48</td>\n",
       "      <td>197.90</td>\n",
       "      <td>198.80</td>\n",
       "      <td>196.01</td>\n",
       "      <td>NaN</td>\n",
       "      <td>0.34%</td>\n",
       "    </tr>\n",
       "    <tr>\n",
       "      <th>2022- 10- 18</th>\n",
       "      <td>197.81</td>\n",
       "      <td>198.99</td>\n",
       "      <td>199.05</td>\n",
       "      <td>197.21</td>\n",
       "      <td>NaN</td>\n",
       "      <td>-0.51%</td>\n",
       "    </tr>\n",
       "    <tr>\n",
       "      <th>2022- 10- 17</th>\n",
       "      <td>198.83</td>\n",
       "      <td>200.59</td>\n",
       "      <td>200.63</td>\n",
       "      <td>198.60</td>\n",
       "      <td>NaN</td>\n",
       "      <td>-0.72%</td>\n",
       "    </tr>\n",
       "    <tr>\n",
       "      <th>2022- 10- 14</th>\n",
       "      <td>200.27</td>\n",
       "      <td>199.51</td>\n",
       "      <td>200.59</td>\n",
       "      <td>198.63</td>\n",
       "      <td>NaN</td>\n",
       "      <td>0.38%</td>\n",
       "    </tr>\n",
       "    <tr>\n",
       "      <th>2022- 10- 13</th>\n",
       "      <td>199.51</td>\n",
       "      <td>198.60</td>\n",
       "      <td>201.13</td>\n",
       "      <td>198.21</td>\n",
       "      <td>NaN</td>\n",
       "      <td>0.53%</td>\n",
       "    </tr>\n",
       "  </tbody>\n",
       "</table>\n",
       "<p>275 rows × 6 columns</p>\n",
       "</div>"
      ],
      "text/plain": [
       "                  종가      시가      고가      저가  거래량    변동 %\n",
       "날짜                                                       \n",
       "2023- 10- 31  184.32  184.34  184.35  184.11  NaN  -0.01%\n",
       "2023- 10- 30  184.34  185.34  185.34  183.82  NaN  -0.54%\n",
       "2023- 10- 29  185.34  185.35  185.35  185.34  NaN   0.10%\n",
       "2023- 10- 27  185.16  185.02  185.63  184.23  NaN   0.15%\n",
       "2023- 10- 26  184.88  184.89  185.93  184.73  NaN   0.04%\n",
       "...              ...     ...     ...     ...  ...     ...\n",
       "2022- 10- 19  198.48  197.90  198.80  196.01  NaN   0.34%\n",
       "2022- 10- 18  197.81  198.99  199.05  197.21  NaN  -0.51%\n",
       "2022- 10- 17  198.83  200.59  200.63  198.60  NaN  -0.72%\n",
       "2022- 10- 14  200.27  199.51  200.59  198.63  NaN   0.38%\n",
       "2022- 10- 13  199.51  198.60  201.13  198.21  NaN   0.53%\n",
       "\n",
       "[275 rows x 6 columns]"
      ]
     },
     "execution_count": 25,
     "metadata": {},
     "output_type": "execute_result"
    }
   ],
   "source": [
    "cny = pd.read_csv('../data/CNY_KRW.csv', index_col=0)\n",
    "cny"
   ]
  },
  {
   "cell_type": "code",
   "execution_count": 26,
   "metadata": {},
   "outputs": [],
   "source": [
    "cny = cny[::-1]"
   ]
  },
  {
   "cell_type": "code",
   "execution_count": 27,
   "metadata": {},
   "outputs": [],
   "source": [
    "cny = cny.reset_index()"
   ]
  },
  {
   "cell_type": "code",
   "execution_count": 28,
   "metadata": {},
   "outputs": [],
   "source": [
    "cny = cny[['날짜', '종가', '시가']]"
   ]
  },
  {
   "cell_type": "code",
   "execution_count": 29,
   "metadata": {},
   "outputs": [
    {
     "name": "stdout",
     "output_type": "stream",
     "text": [
      "<class 'pandas.core.frame.DataFrame'>\n",
      "RangeIndex: 275 entries, 0 to 274\n",
      "Data columns (total 3 columns):\n",
      " #   Column  Non-Null Count  Dtype  \n",
      "---  ------  --------------  -----  \n",
      " 0   날짜      275 non-null    object \n",
      " 1   종가      275 non-null    float64\n",
      " 2   시가      275 non-null    float64\n",
      "dtypes: float64(2), object(1)\n",
      "memory usage: 6.6+ KB\n"
     ]
    }
   ],
   "source": [
    "cny.info()"
   ]
  },
  {
   "cell_type": "code",
   "execution_count": 30,
   "metadata": {},
   "outputs": [],
   "source": [
    "cny['종가'] = cny['종가'].shift(1)"
   ]
  },
  {
   "cell_type": "code",
   "execution_count": 31,
   "metadata": {},
   "outputs": [],
   "source": [
    "cny['야간 변동률'] = round((cny['시가'] - cny['종가']) / cny['종가'] * 100, 3)"
   ]
  },
  {
   "cell_type": "code",
   "execution_count": 32,
   "metadata": {},
   "outputs": [],
   "source": [
    "cny = cny.dropna()"
   ]
  },
  {
   "cell_type": "code",
   "execution_count": 33,
   "metadata": {},
   "outputs": [],
   "source": [
    "cny = cny[1:266]"
   ]
  },
  {
   "cell_type": "code",
   "execution_count": 34,
   "metadata": {},
   "outputs": [],
   "source": [
    "cny = cny.reset_index(drop=True)"
   ]
  },
  {
   "cell_type": "code",
   "execution_count": 35,
   "metadata": {},
   "outputs": [],
   "source": [
    "cny['날짜'] = pd.to_datetime(cny['날짜'])"
   ]
  },
  {
   "cell_type": "code",
   "execution_count": 36,
   "metadata": {},
   "outputs": [],
   "source": [
    "cny[['날짜', '야간 변동률']].to_csv(\"../year_clean_feature/cny.csv\")"
   ]
  },
  {
   "cell_type": "code",
   "execution_count": 37,
   "metadata": {},
   "outputs": [
    {
     "data": {
      "text/html": [
       "<div>\n",
       "<style scoped>\n",
       "    .dataframe tbody tr th:only-of-type {\n",
       "        vertical-align: middle;\n",
       "    }\n",
       "\n",
       "    .dataframe tbody tr th {\n",
       "        vertical-align: top;\n",
       "    }\n",
       "\n",
       "    .dataframe thead th {\n",
       "        text-align: right;\n",
       "    }\n",
       "</style>\n",
       "<table border=\"1\" class=\"dataframe\">\n",
       "  <thead>\n",
       "    <tr style=\"text-align: right;\">\n",
       "      <th></th>\n",
       "      <th>날짜</th>\n",
       "      <th>종가</th>\n",
       "      <th>시가</th>\n",
       "      <th>야간 변동률</th>\n",
       "    </tr>\n",
       "  </thead>\n",
       "  <tbody>\n",
       "    <tr>\n",
       "      <th>120</th>\n",
       "      <td>2023-04-03</td>\n",
       "      <td>190.11</td>\n",
       "      <td>190.20</td>\n",
       "      <td>0.047</td>\n",
       "    </tr>\n",
       "    <tr>\n",
       "      <th>121</th>\n",
       "      <td>2023-04-04</td>\n",
       "      <td>190.23</td>\n",
       "      <td>190.27</td>\n",
       "      <td>0.021</td>\n",
       "    </tr>\n",
       "    <tr>\n",
       "      <th>122</th>\n",
       "      <td>2023-04-05</td>\n",
       "      <td>190.37</td>\n",
       "      <td>190.49</td>\n",
       "      <td>0.063</td>\n",
       "    </tr>\n",
       "    <tr>\n",
       "      <th>123</th>\n",
       "      <td>2023-04-06</td>\n",
       "      <td>191.39</td>\n",
       "      <td>191.49</td>\n",
       "      <td>0.052</td>\n",
       "    </tr>\n",
       "    <tr>\n",
       "      <th>124</th>\n",
       "      <td>2023-04-07</td>\n",
       "      <td>191.74</td>\n",
       "      <td>191.83</td>\n",
       "      <td>0.047</td>\n",
       "    </tr>\n",
       "    <tr>\n",
       "      <th>...</th>\n",
       "      <td>...</td>\n",
       "      <td>...</td>\n",
       "      <td>...</td>\n",
       "      <td>...</td>\n",
       "    </tr>\n",
       "    <tr>\n",
       "      <th>260</th>\n",
       "      <td>2023-10-16</td>\n",
       "      <td>185.06</td>\n",
       "      <td>185.21</td>\n",
       "      <td>0.081</td>\n",
       "    </tr>\n",
       "    <tr>\n",
       "      <th>261</th>\n",
       "      <td>2023-10-17</td>\n",
       "      <td>184.36</td>\n",
       "      <td>184.41</td>\n",
       "      <td>0.027</td>\n",
       "    </tr>\n",
       "    <tr>\n",
       "      <th>262</th>\n",
       "      <td>2023-10-18</td>\n",
       "      <td>184.96</td>\n",
       "      <td>185.10</td>\n",
       "      <td>0.076</td>\n",
       "    </tr>\n",
       "    <tr>\n",
       "      <th>263</th>\n",
       "      <td>2023-10-19</td>\n",
       "      <td>185.06</td>\n",
       "      <td>185.29</td>\n",
       "      <td>0.124</td>\n",
       "    </tr>\n",
       "    <tr>\n",
       "      <th>264</th>\n",
       "      <td>2023-10-20</td>\n",
       "      <td>185.39</td>\n",
       "      <td>185.57</td>\n",
       "      <td>0.097</td>\n",
       "    </tr>\n",
       "  </tbody>\n",
       "</table>\n",
       "<p>145 rows × 4 columns</p>\n",
       "</div>"
      ],
      "text/plain": [
       "            날짜      종가      시가  야간 변동률\n",
       "120 2023-04-03  190.11  190.20   0.047\n",
       "121 2023-04-04  190.23  190.27   0.021\n",
       "122 2023-04-05  190.37  190.49   0.063\n",
       "123 2023-04-06  191.39  191.49   0.052\n",
       "124 2023-04-07  191.74  191.83   0.047\n",
       "..         ...     ...     ...     ...\n",
       "260 2023-10-16  185.06  185.21   0.081\n",
       "261 2023-10-17  184.36  184.41   0.027\n",
       "262 2023-10-18  184.96  185.10   0.076\n",
       "263 2023-10-19  185.06  185.29   0.124\n",
       "264 2023-10-20  185.39  185.57   0.097\n",
       "\n",
       "[145 rows x 4 columns]"
      ]
     },
     "execution_count": 37,
     "metadata": {},
     "output_type": "execute_result"
    }
   ],
   "source": [
    "cny[120:]"
   ]
  },
  {
   "cell_type": "code",
   "execution_count": 38,
   "metadata": {},
   "outputs": [],
   "source": [
    "cny[120:].reset_index(drop=True)[['날짜', '야간 변동률']].to_csv('../half_clean_feature/cny_half.csv')"
   ]
  },
  {
   "cell_type": "code",
   "execution_count": 39,
   "metadata": {},
   "outputs": [],
   "source": [
    "cny[205:].reset_index(drop=True)[['날짜', '야간 변동률']].to_csv('../quater_clean_feature/cny_quater.csv')"
   ]
  },
  {
   "cell_type": "code",
   "execution_count": null,
   "metadata": {},
   "outputs": [],
   "source": []
  }
 ],
 "metadata": {
  "kernelspec": {
   "display_name": "Python 3",
   "language": "python",
   "name": "python3"
  },
  "language_info": {
   "codemirror_mode": {
    "name": "ipython",
    "version": 3
   },
   "file_extension": ".py",
   "mimetype": "text/x-python",
   "name": "python",
   "nbconvert_exporter": "python",
   "pygments_lexer": "ipython3",
   "version": "3.11.4"
  }
 },
 "nbformat": 4,
 "nbformat_minor": 2
}

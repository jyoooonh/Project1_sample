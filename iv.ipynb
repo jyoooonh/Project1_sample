{
 "cells": [
  {
   "cell_type": "markdown",
   "metadata": {},
   "source": [
    "# 콜옵션 이론가격\n",
    "- C : 콜옵션 이론가\n",
    "- S : 현재 기초자산가격\n",
    "- X : 행가가격\n",
    "- r : 무위험 이자율 CD금리\n",
    "- t : 잔존기간 '분'이나 '초'로 넣자\n",
    "- N() : 누적 표준정규분포 함수\n",
    "- 이론가격\n",
    "C = S * N(d1) - X * np.exp ** (-r * t) * N(d2)\n",
    "- d1 = (np.log(S / X) + (r + (HV ** 2) / 2) * t) / (HV * np.sqrt(t))\n",
    "- d2 = d1 - HV * np.sqrt(t)\n",
    "- HV : 역사적 변동성 Historical Volatility\n"
   ]
  },
  {
   "cell_type": "markdown",
   "metadata": {},
   "source": [
    "# 풋옵션 이론가격\n",
    "- P : 풋옵션 이론가\n",
    "- S : 현재 기초자산가격\n",
    "- X : 행가가격\n",
    "- r : 무위험 이자율 CD금리\n",
    "- t : 잔존기간 '분'이나 '초'로 넣자\n",
    "- N() : 누적 표준정규분포 함수\n",
    "- 이론가격\n",
    "P =  X * np.exp ** (-r * t) * N(-d2) - S * N(-d1)\n",
    "- d1 = (np.log(S / X) + (r + (HV ** 2) / 2) * t) / (HV * np.sqrt(t))\n",
    "- d2 = d1 - HV * np.sqrt(t)\n",
    "- HV : 역사적 변동성 Historical Volatility"
   ]
  },
  {
   "cell_type": "markdown",
   "metadata": {},
   "source": [
    "# IV(Implied volatility) 내재변동성 계산\n",
    "- C → 콜옵션의 현재가\n",
    "- S : 현재 기초자산가격\n",
    "- X : 행가가격\n",
    "- r : 무위험 이자율 CD금리\n",
    "- t : 잔존기간 '분'이나 '초'로 넣자\n",
    "- N() : 누적 표준정규분포 함수\n",
    "- 현재가 = S * N(d1) - X * np.exp ** (-r * t) * N(d2)\n",
    "- d1 = (np.log(S / X) + (r + (IV ** 2) / 2) * t) / (IV * np.sqrt(t))\n",
    "- d2 = d1 - IV * np.sqrt(t)"
   ]
  },
  {
   "cell_type": "markdown",
   "metadata": {},
   "source": [
    "# IV(Implied volatility) 내재변동성 계산\n",
    "- P → 풋옵션의 현재가\n",
    "- S : 현재 기초자산가격\n",
    "- X : 행가가격\n",
    "- r : 무위험 이자율 CD금리\n",
    "- t : 잔존기간 '분'이나 '초'로 넣자\n",
    "- N() : 누적 표준정규분포 함수\n",
    "- 현재가 = X * np.exp ** (-r * t) * N(-d2) - S * N(-d1)\n",
    "- d1 = (np.log(S / X) + (r + (IV ** 2) / 2) * t) / (IV * np.sqrt(t))\n",
    "- d2 = d1 - IV * np.sqrt(t)"
   ]
  },
  {
   "cell_type": "markdown",
   "metadata": {},
   "source": [
    "# Function"
   ]
  },
  {
   "cell_type": "markdown",
   "metadata": {},
   "source": [
    "- import modules"
   ]
  },
  {
   "cell_type": "code",
   "execution_count": 1,
   "metadata": {},
   "outputs": [],
   "source": [
    "import numpy as np\n",
    "from scipy.stats import norm\n",
    "from scipy.optimize import newton"
   ]
  },
  {
   "cell_type": "markdown",
   "metadata": {},
   "source": [
    "- function"
   ]
  },
  {
   "cell_type": "code",
   "execution_count": 2,
   "metadata": {},
   "outputs": [],
   "source": [
    "def calculate_implied_volatility(option_price, S, X, r, t, option_type):\n",
    "    def black_scholes_option_price(sigma):\n",
    "        d1 = (np.log(S / X) + (r + (sigma ** 2) / 2) * t) / (sigma * np.sqrt(t))\n",
    "        d2 = d1 - sigma * np.sqrt(t)\n",
    "        \n",
    "        if option_type == 'call':\n",
    "            option_price_model = S * norm.cdf(d1) - X * np.exp(-r * t) * norm.cdf(d2)\n",
    "        else:\n",
    "            option_price_model = X * np.exp(-r * t) * norm.cdf(-d2) - S * norm.cdf(-d1)\n",
    "        \n",
    "        return option_price_model - option_price\n",
    "    \n",
    "    # Use scipy's newton method to find the implied volatility\n",
    "    implied_volatility = newton(black_scholes_option_price, x0=0.2)  # Initial guess for sigma\n",
    "    \n",
    "    return implied_volatility"
   ]
  },
  {
   "cell_type": "markdown",
   "metadata": {},
   "source": [
    "- sample"
   ]
  },
  {
   "cell_type": "code",
   "execution_count": 4,
   "metadata": {},
   "outputs": [
    {
     "name": "stdout",
     "output_type": "stream",
     "text": [
      "Implied Volatility: 0.1880\n"
     ]
    }
   ],
   "source": [
    "option_price = 10.0  # Replace with the actual option price\n",
    "S = 100.0  # Current stock price\n",
    "X = 100.0  # Strike price\n",
    "r = 0.05  # Risk-free interest rate\n",
    "t = 1.0  # Time to expiration (in years)\n",
    "option_type = 'call'  # 'call' for call options, 'put' for put options\n",
    "\n",
    "implied_volatility = calculate_implied_volatility(option_price, S, X, r, t, option_type)\n",
    "print(f\"Implied Volatility: {implied_volatility:.4f}\")"
   ]
  },
  {
   "cell_type": "markdown",
   "metadata": {},
   "source": [
    "- sample2"
   ]
  },
  {
   "cell_type": "code",
   "execution_count": 5,
   "metadata": {},
   "outputs": [
    {
     "name": "stdout",
     "output_type": "stream",
     "text": [
      "Implied Volatility: 0.1730\n"
     ]
    }
   ],
   "source": [
    "option_price = 2.25  # Replace with the actual option price\n",
    "S = 261.12  # Current stock price\n",
    "X = 260.00  # Strike price\n",
    "r = 0.0003  # Risk-free interest rate\n",
    "t = 0.0082  # Time to expiration (in years)\n",
    "option_type = 'call'  # 'call' for call options, 'put' for put options\n",
    "\n",
    "implied_volatility = calculate_implied_volatility(option_price, S, X, r, t, option_type)\n",
    "print(f\"Implied Volatility: {implied_volatility:.4f}\")"
   ]
  },
  {
   "cell_type": "code",
   "execution_count": null,
   "metadata": {},
   "outputs": [],
   "source": []
  }
 ],
 "metadata": {
  "kernelspec": {
   "display_name": "Python 3",
   "language": "python",
   "name": "python3"
  },
  "language_info": {
   "codemirror_mode": {
    "name": "ipython",
    "version": 3
   },
   "file_extension": ".py",
   "mimetype": "text/x-python",
   "name": "python",
   "nbconvert_exporter": "python",
   "pygments_lexer": "ipython3",
   "version": "3.11.4"
  }
 },
 "nbformat": 4,
 "nbformat_minor": 2
}

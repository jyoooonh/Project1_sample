{
 "cells": [
  {
   "cell_type": "markdown",
   "metadata": {},
   "source": [
    "#### 환율 변동값 전처리\n",
    "* 전일 변동율 = (전날종가-전날시가)/전날시가 yesterday_change <br>\n",
    "* 야간 변동율 = (당일시가-전날종가)/전날종가 night_change <br>\n",
    "* 데이터 기간 : 2023/07/31 ~ 2023/10/20"
   ]
  },
  {
   "cell_type": "code",
<<<<<<< HEAD
<<<<<<< HEAD
   "execution_count": 49,
=======
   "execution_count": 1,
>>>>>>> 4ee99b8f77e3078027b470d54b90770e3e91a7af
=======
   "execution_count": 1,
>>>>>>> 4ee99b8f77e3078027b470d54b90770e3e91a7af
   "metadata": {},
   "outputs": [],
   "source": [
    "import pandas as pd\n",
    "import os"
   ]
  },
  {
   "cell_type": "code",
<<<<<<< HEAD
<<<<<<< HEAD
   "execution_count": 51,
=======
=======
>>>>>>> 4ee99b8f77e3078027b470d54b90770e3e91a7af
   "execution_count": 2,
   "metadata": {},
   "outputs": [],
   "source": [
    "df = pd.read_csv(\"../dataset/usd_krw.csv\")"
   ]
  },
  {
   "cell_type": "code",
   "execution_count": 4,
<<<<<<< HEAD
>>>>>>> 4ee99b8f77e3078027b470d54b90770e3e91a7af
=======
>>>>>>> 4ee99b8f77e3078027b470d54b90770e3e91a7af
   "metadata": {},
   "outputs": [],
   "source": [
    "df = pd.read_csv(\"../dataset/usd_krw.csv\")\n",
    "\n",
    "# 고가, 저가 드롭\n",
<<<<<<< HEAD
    "usd = df.drop(['high','low'], axis=1)\n",
    "\n",
=======
    "usd = df.drop(['high','low'], axis=1)"
   ]
  },
  {
   "cell_type": "code",
   "execution_count": 5,
   "metadata": {},
   "outputs": [
    {
     "name": "stdout",
     "output_type": "stream",
     "text": [
      "<class 'pandas.core.frame.DataFrame'>\n",
      "RangeIndex: 61 entries, 0 to 60\n",
      "Data columns (total 4 columns):\n",
      " #   Column        Non-Null Count  Dtype \n",
      "---  ------        --------------  ----- \n",
      " 0   date          61 non-null     object\n",
      " 1   close         61 non-null     object\n",
      " 2   open          61 non-null     object\n",
      " 3   close_change  61 non-null     object\n",
      "dtypes: object(4)\n",
      "memory usage: 2.0+ KB\n"
     ]
    }
   ],
   "source": [
    "usd.info()"
   ]
  },
  {
   "cell_type": "code",
   "execution_count": 6,
   "metadata": {},
   "outputs": [],
   "source": [
>>>>>>> 4ee99b8f77e3078027b470d54b90770e3e91a7af
    "# 특수문자 제거, 데이터 타입 변경\n",
    "usd['close'] = usd['close'].str.replace(',','')\n",
    "usd['open'] = usd['open'].str.replace(',','')\n",
    "\n",
    "\n",
    "usd[['close','open']] = usd[['close','open']].astype(float)\n",
<<<<<<< HEAD
    "df['date'] = pd.to_datetime(df['date'])\n",
    "\n",
    "# 날짜순으로 오름차순 정렬\n",
    "usd = usd.sort_values(by='date')\n",
    "\n",
    "# 인덱스 변경\n",
    "usd.reset_index(drop=True, inplace=True)\n",
    "\n",
    "# 소수점 셋째자리 맞춤\n",
=======
    "df['date'] = pd.to_datetime(df['date'])"
   ]
  },
  {
   "cell_type": "code",
   "execution_count": 8,
   "metadata": {},
   "outputs": [],
   "source": [
    "# 날짜순으로 오름차순 정렬\n",
    "usd = usd.sort_values(by='date')"
   ]
  },
  {
   "cell_type": "code",
   "execution_count": 9,
   "metadata": {},
   "outputs": [],
   "source": [
    "# 인덱스 변경\n",
    "usd.reset_index(drop=True, inplace=True)"
   ]
  },
  {
   "cell_type": "code",
   "execution_count": 10,
   "metadata": {},
   "outputs": [],
   "source": [
>>>>>>> 4ee99b8f77e3078027b470d54b90770e3e91a7af
    "# 파생변수 생성 (전일 변동율 = yesterday_change)\n",
    "usd['usd_yesterday_change'] = round((usd['close']-usd['open'])/usd['open']*100, 3)\n",
    "usd['usd_yesterday_change'] = usd['usd_yesterday_change'].shift(1)\n",
    "\n",
    "# 파생변수 생성(야간 변동율 = night_change)\n",
    "usd['close_shift'] = usd['close'].shift(1)\n",
    "usd['usd_night_change'] = round((usd['open']-usd['close_shift'])/usd['close_shift']*100,3)\n",
    "\n",
    "usd.drop('close_shift',axis=1,inplace=True)\n",
    "\n",
<<<<<<< HEAD
    "# 종가 기준 변동율 전처리 및 데이터 형태 변환( 단위 : % )\n",
    "usd['close_change'] = usd['close_change'].str.replace('%','')\n",
    "usd['close_change'] = usd['close_change'].astype(float)\n",
    "\n",
    "# 7월 31일부터로 기간 설정\n",
=======
    "usd.drop('close_shift',axis=1,inplace=True)"
   ]
  },
  {
   "cell_type": "code",
   "execution_count": 12,
   "metadata": {},
   "outputs": [
    {
     "data": {
      "text/html": [
       "<div>\n",
       "<style scoped>\n",
       "    .dataframe tbody tr th:only-of-type {\n",
       "        vertical-align: middle;\n",
       "    }\n",
       "\n",
       "    .dataframe tbody tr th {\n",
       "        vertical-align: top;\n",
       "    }\n",
       "\n",
       "    .dataframe thead th {\n",
       "        text-align: right;\n",
       "    }\n",
       "</style>\n",
       "<table border=\"1\" class=\"dataframe\">\n",
       "  <thead>\n",
       "    <tr style=\"text-align: right;\">\n",
       "      <th></th>\n",
       "      <th>date</th>\n",
       "      <th>close</th>\n",
       "      <th>open</th>\n",
       "      <th>close_change</th>\n",
       "      <th>usd_yesterday_change</th>\n",
       "      <th>usd_night_change</th>\n",
       "    </tr>\n",
       "  </thead>\n",
       "  <tbody>\n",
       "    <tr>\n",
       "      <th>0</th>\n",
       "      <td>2023-07-28</td>\n",
       "      <td>1272.83</td>\n",
       "      <td>1284.17</td>\n",
       "      <td>-0.85%</td>\n",
       "      <td>NaN</td>\n",
       "      <td>NaN</td>\n",
       "    </tr>\n",
       "    <tr>\n",
       "      <th>1</th>\n",
       "      <td>2023-07-31</td>\n",
       "      <td>1277.86</td>\n",
       "      <td>1273.33</td>\n",
       "      <td>0.40%</td>\n",
       "      <td>-0.88</td>\n",
       "      <td>0.04</td>\n",
       "    </tr>\n",
       "    <tr>\n",
       "      <th>2</th>\n",
       "      <td>2023-08-01</td>\n",
       "      <td>1289.00</td>\n",
       "      <td>1278.28</td>\n",
       "      <td>0.87%</td>\n",
       "      <td>0.36</td>\n",
       "      <td>0.03</td>\n",
       "    </tr>\n",
       "    <tr>\n",
       "      <th>3</th>\n",
       "      <td>2023-08-02</td>\n",
       "      <td>1298.93</td>\n",
       "      <td>1289.40</td>\n",
       "      <td>0.77%</td>\n",
       "      <td>0.84</td>\n",
       "      <td>0.03</td>\n",
       "    </tr>\n",
       "    <tr>\n",
       "      <th>4</th>\n",
       "      <td>2023-08-03</td>\n",
       "      <td>1299.01</td>\n",
       "      <td>1299.47</td>\n",
       "      <td>0.01%</td>\n",
       "      <td>0.74</td>\n",
       "      <td>0.04</td>\n",
       "    </tr>\n",
       "    <tr>\n",
       "      <th>...</th>\n",
       "      <td>...</td>\n",
       "      <td>...</td>\n",
       "      <td>...</td>\n",
       "      <td>...</td>\n",
       "      <td>...</td>\n",
       "      <td>...</td>\n",
       "    </tr>\n",
       "    <tr>\n",
       "      <th>56</th>\n",
       "      <td>2023-10-16</td>\n",
       "      <td>1347.91</td>\n",
       "      <td>1353.08</td>\n",
       "      <td>-0.32%</td>\n",
       "      <td>0.21</td>\n",
       "      <td>0.06</td>\n",
       "    </tr>\n",
       "    <tr>\n",
       "      <th>57</th>\n",
       "      <td>2023-10-17</td>\n",
       "      <td>1352.98</td>\n",
       "      <td>1348.25</td>\n",
       "      <td>0.38%</td>\n",
       "      <td>-0.38</td>\n",
       "      <td>0.03</td>\n",
       "    </tr>\n",
       "    <tr>\n",
       "      <th>58</th>\n",
       "      <td>2023-10-18</td>\n",
       "      <td>1353.86</td>\n",
       "      <td>1353.55</td>\n",
       "      <td>0.07%</td>\n",
       "      <td>0.35</td>\n",
       "      <td>0.04</td>\n",
       "    </tr>\n",
       "    <tr>\n",
       "      <th>59</th>\n",
       "      <td>2023-10-19</td>\n",
       "      <td>1356.02</td>\n",
       "      <td>1355.48</td>\n",
       "      <td>0.16%</td>\n",
       "      <td>0.02</td>\n",
       "      <td>0.12</td>\n",
       "    </tr>\n",
       "    <tr>\n",
       "      <th>60</th>\n",
       "      <td>2023-10-20</td>\n",
       "      <td>1349.08</td>\n",
       "      <td>1357.11</td>\n",
       "      <td>-0.51%</td>\n",
       "      <td>0.04</td>\n",
       "      <td>0.08</td>\n",
       "    </tr>\n",
       "  </tbody>\n",
       "</table>\n",
       "<p>61 rows × 6 columns</p>\n",
       "</div>"
      ],
      "text/plain": [
       "          date    close     open close_change  usd_yesterday_change  \\\n",
       "0   2023-07-28  1272.83  1284.17       -0.85%                   NaN   \n",
       "1   2023-07-31  1277.86  1273.33        0.40%                 -0.88   \n",
       "2   2023-08-01  1289.00  1278.28        0.87%                  0.36   \n",
       "3   2023-08-02  1298.93  1289.40        0.77%                  0.84   \n",
       "4   2023-08-03  1299.01  1299.47        0.01%                  0.74   \n",
       "..         ...      ...      ...          ...                   ...   \n",
       "56  2023-10-16  1347.91  1353.08       -0.32%                  0.21   \n",
       "57  2023-10-17  1352.98  1348.25        0.38%                 -0.38   \n",
       "58  2023-10-18  1353.86  1353.55        0.07%                  0.35   \n",
       "59  2023-10-19  1356.02  1355.48        0.16%                  0.02   \n",
       "60  2023-10-20  1349.08  1357.11       -0.51%                  0.04   \n",
       "\n",
       "    usd_night_change  \n",
       "0                NaN  \n",
       "1               0.04  \n",
       "2               0.03  \n",
       "3               0.03  \n",
       "4               0.04  \n",
       "..               ...  \n",
       "56              0.06  \n",
       "57              0.03  \n",
       "58              0.04  \n",
       "59              0.12  \n",
       "60              0.08  \n",
       "\n",
       "[61 rows x 6 columns]"
      ]
     },
     "execution_count": 12,
     "metadata": {},
     "output_type": "execute_result"
    }
   ],
   "source": [
    "usd"
   ]
  },
  {
   "cell_type": "code",
   "execution_count": 13,
   "metadata": {},
   "outputs": [],
   "source": [
    "# 종가 기준 변동율 전처리 및 데이터 형태 변환( 단위 : % )\n",
    "usd['close_change'] = usd['close_change'].str.replace('%','')\n",
    "usd['close_change'] = usd['close_change'].astype(float)"
   ]
  },
  {
   "cell_type": "code",
   "execution_count": 14,
   "metadata": {},
   "outputs": [],
   "source": [
>>>>>>> 4ee99b8f77e3078027b470d54b90770e3e91a7af
    "usd = usd.loc[1:,]\n",
    "usd = usd[['date','usd_yesterday_change','usd_night_change']]"
   ]
  },
  {
   "cell_type": "code",
<<<<<<< HEAD
<<<<<<< HEAD
   "execution_count": 52,
=======
   "execution_count": 15,
>>>>>>> 4ee99b8f77e3078027b470d54b90770e3e91a7af
=======
   "execution_count": 15,
>>>>>>> 4ee99b8f77e3078027b470d54b90770e3e91a7af
   "metadata": {},
   "outputs": [
    {
     "data": {
      "text/html": [
       "<div>\n",
       "<style scoped>\n",
       "    .dataframe tbody tr th:only-of-type {\n",
       "        vertical-align: middle;\n",
       "    }\n",
       "\n",
       "    .dataframe tbody tr th {\n",
       "        vertical-align: top;\n",
       "    }\n",
       "\n",
       "    .dataframe thead th {\n",
       "        text-align: right;\n",
       "    }\n",
       "</style>\n",
       "<table border=\"1\" class=\"dataframe\">\n",
       "  <thead>\n",
       "    <tr style=\"text-align: right;\">\n",
       "      <th></th>\n",
       "      <th>date</th>\n",
       "      <th>usd_yesterday_change</th>\n",
       "      <th>usd_night_change</th>\n",
       "    </tr>\n",
       "  </thead>\n",
       "  <tbody>\n",
       "    <tr>\n",
       "      <th>1</th>\n",
       "      <td>2023-07-31</td>\n",
<<<<<<< HEAD
<<<<<<< HEAD
       "      <td>-0.883</td>\n",
       "      <td>0.039</td>\n",
=======
       "      <td>-0.88</td>\n",
       "      <td>0.04</td>\n",
>>>>>>> 4ee99b8f77e3078027b470d54b90770e3e91a7af
=======
       "      <td>-0.88</td>\n",
       "      <td>0.04</td>\n",
>>>>>>> 4ee99b8f77e3078027b470d54b90770e3e91a7af
       "    </tr>\n",
       "    <tr>\n",
       "      <th>2</th>\n",
       "      <td>2023-08-01</td>\n",
<<<<<<< HEAD
<<<<<<< HEAD
       "      <td>0.356</td>\n",
       "      <td>0.033</td>\n",
=======
       "      <td>0.36</td>\n",
       "      <td>0.03</td>\n",
>>>>>>> 4ee99b8f77e3078027b470d54b90770e3e91a7af
=======
       "      <td>0.36</td>\n",
       "      <td>0.03</td>\n",
>>>>>>> 4ee99b8f77e3078027b470d54b90770e3e91a7af
       "    </tr>\n",
       "    <tr>\n",
       "      <th>3</th>\n",
       "      <td>2023-08-02</td>\n",
<<<<<<< HEAD
<<<<<<< HEAD
       "      <td>0.839</td>\n",
       "      <td>0.031</td>\n",
=======
       "      <td>0.84</td>\n",
       "      <td>0.03</td>\n",
>>>>>>> 4ee99b8f77e3078027b470d54b90770e3e91a7af
=======
       "      <td>0.84</td>\n",
       "      <td>0.03</td>\n",
>>>>>>> 4ee99b8f77e3078027b470d54b90770e3e91a7af
       "    </tr>\n",
       "    <tr>\n",
       "      <th>4</th>\n",
       "      <td>2023-08-03</td>\n",
<<<<<<< HEAD
<<<<<<< HEAD
       "      <td>0.739</td>\n",
       "      <td>0.042</td>\n",
=======
       "      <td>0.74</td>\n",
       "      <td>0.04</td>\n",
>>>>>>> 4ee99b8f77e3078027b470d54b90770e3e91a7af
=======
       "      <td>0.74</td>\n",
       "      <td>0.04</td>\n",
>>>>>>> 4ee99b8f77e3078027b470d54b90770e3e91a7af
       "    </tr>\n",
       "    <tr>\n",
       "      <th>5</th>\n",
       "      <td>2023-08-04</td>\n",
<<<<<<< HEAD
<<<<<<< HEAD
       "      <td>-0.035</td>\n",
       "      <td>0.071</td>\n",
=======
       "      <td>-0.04</td>\n",
       "      <td>0.07</td>\n",
>>>>>>> 4ee99b8f77e3078027b470d54b90770e3e91a7af
=======
       "      <td>-0.04</td>\n",
       "      <td>0.07</td>\n",
>>>>>>> 4ee99b8f77e3078027b470d54b90770e3e91a7af
       "    </tr>\n",
       "    <tr>\n",
       "      <th>6</th>\n",
       "      <td>2023-08-07</td>\n",
<<<<<<< HEAD
<<<<<<< HEAD
       "      <td>0.319</td>\n",
       "      <td>0.016</td>\n",
=======
       "      <td>0.32</td>\n",
       "      <td>0.02</td>\n",
>>>>>>> 4ee99b8f77e3078027b470d54b90770e3e91a7af
=======
       "      <td>0.32</td>\n",
       "      <td>0.02</td>\n",
>>>>>>> 4ee99b8f77e3078027b470d54b90770e3e91a7af
       "    </tr>\n",
       "    <tr>\n",
       "      <th>7</th>\n",
       "      <td>2023-08-08</td>\n",
<<<<<<< HEAD
<<<<<<< HEAD
       "      <td>0.231</td>\n",
       "      <td>0.048</td>\n",
=======
       "      <td>0.23</td>\n",
       "      <td>0.05</td>\n",
>>>>>>> 4ee99b8f77e3078027b470d54b90770e3e91a7af
=======
       "      <td>0.23</td>\n",
       "      <td>0.05</td>\n",
>>>>>>> 4ee99b8f77e3078027b470d54b90770e3e91a7af
       "    </tr>\n",
       "    <tr>\n",
       "      <th>8</th>\n",
       "      <td>2023-08-09</td>\n",
<<<<<<< HEAD
<<<<<<< HEAD
       "      <td>0.672</td>\n",
       "      <td>0.023</td>\n",
=======
       "      <td>0.67</td>\n",
       "      <td>0.02</td>\n",
>>>>>>> 4ee99b8f77e3078027b470d54b90770e3e91a7af
=======
       "      <td>0.67</td>\n",
       "      <td>0.02</td>\n",
>>>>>>> 4ee99b8f77e3078027b470d54b90770e3e91a7af
       "    </tr>\n",
       "    <tr>\n",
       "      <th>9</th>\n",
       "      <td>2023-08-10</td>\n",
<<<<<<< HEAD
<<<<<<< HEAD
       "      <td>-0.299</td>\n",
       "      <td>0.002</td>\n",
=======
       "      <td>-0.30</td>\n",
       "      <td>0.00</td>\n",
>>>>>>> 4ee99b8f77e3078027b470d54b90770e3e91a7af
=======
       "      <td>-0.30</td>\n",
       "      <td>0.00</td>\n",
>>>>>>> 4ee99b8f77e3078027b470d54b90770e3e91a7af
       "    </tr>\n",
       "    <tr>\n",
       "      <th>10</th>\n",
       "      <td>2023-08-11</td>\n",
<<<<<<< HEAD
<<<<<<< HEAD
       "      <td>0.289</td>\n",
       "      <td>0.094</td>\n",
=======
       "      <td>0.29</td>\n",
       "      <td>0.09</td>\n",
>>>>>>> 4ee99b8f77e3078027b470d54b90770e3e91a7af
=======
       "      <td>0.29</td>\n",
       "      <td>0.09</td>\n",
>>>>>>> 4ee99b8f77e3078027b470d54b90770e3e91a7af
       "    </tr>\n",
       "    <tr>\n",
       "      <th>11</th>\n",
       "      <td>2023-08-14</td>\n",
<<<<<<< HEAD
<<<<<<< HEAD
       "      <td>0.923</td>\n",
       "      <td>0.023</td>\n",
=======
       "      <td>0.92</td>\n",
       "      <td>0.02</td>\n",
>>>>>>> 4ee99b8f77e3078027b470d54b90770e3e91a7af
=======
       "      <td>0.92</td>\n",
       "      <td>0.02</td>\n",
>>>>>>> 4ee99b8f77e3078027b470d54b90770e3e91a7af
       "    </tr>\n",
       "    <tr>\n",
       "      <th>12</th>\n",
       "      <td>2023-08-15</td>\n",
<<<<<<< HEAD
<<<<<<< HEAD
       "      <td>0.466</td>\n",
       "      <td>0.085</td>\n",
=======
       "      <td>0.47</td>\n",
       "      <td>0.09</td>\n",
>>>>>>> 4ee99b8f77e3078027b470d54b90770e3e91a7af
=======
       "      <td>0.47</td>\n",
       "      <td>0.09</td>\n",
>>>>>>> 4ee99b8f77e3078027b470d54b90770e3e91a7af
       "    </tr>\n",
       "    <tr>\n",
       "      <th>13</th>\n",
       "      <td>2023-08-16</td>\n",
<<<<<<< HEAD
<<<<<<< HEAD
       "      <td>-0.114</td>\n",
       "      <td>0.034</td>\n",
=======
       "      <td>-0.11</td>\n",
       "      <td>0.03</td>\n",
>>>>>>> 4ee99b8f77e3078027b470d54b90770e3e91a7af
=======
       "      <td>-0.11</td>\n",
       "      <td>0.03</td>\n",
>>>>>>> 4ee99b8f77e3078027b470d54b90770e3e91a7af
       "    </tr>\n",
       "    <tr>\n",
       "      <th>14</th>\n",
       "      <td>2023-08-17</td>\n",
<<<<<<< HEAD
<<<<<<< HEAD
       "      <td>0.325</td>\n",
       "      <td>0.054</td>\n",
=======
       "      <td>0.33</td>\n",
       "      <td>0.05</td>\n",
>>>>>>> 4ee99b8f77e3078027b470d54b90770e3e91a7af
=======
       "      <td>0.33</td>\n",
       "      <td>0.05</td>\n",
>>>>>>> 4ee99b8f77e3078027b470d54b90770e3e91a7af
       "    </tr>\n",
       "    <tr>\n",
       "      <th>15</th>\n",
       "      <td>2023-08-18</td>\n",
<<<<<<< HEAD
<<<<<<< HEAD
       "      <td>-0.199</td>\n",
       "      <td>0.037</td>\n",
=======
       "      <td>-0.20</td>\n",
       "      <td>0.04</td>\n",
>>>>>>> 4ee99b8f77e3078027b470d54b90770e3e91a7af
=======
       "      <td>-0.20</td>\n",
       "      <td>0.04</td>\n",
>>>>>>> 4ee99b8f77e3078027b470d54b90770e3e91a7af
       "    </tr>\n",
       "    <tr>\n",
       "      <th>16</th>\n",
       "      <td>2023-08-21</td>\n",
<<<<<<< HEAD
<<<<<<< HEAD
       "      <td>-0.044</td>\n",
       "      <td>0.075</td>\n",
=======
       "      <td>-0.04</td>\n",
       "      <td>0.07</td>\n",
>>>>>>> 4ee99b8f77e3078027b470d54b90770e3e91a7af
=======
       "      <td>-0.04</td>\n",
       "      <td>0.07</td>\n",
>>>>>>> 4ee99b8f77e3078027b470d54b90770e3e91a7af
       "    </tr>\n",
       "    <tr>\n",
       "      <th>17</th>\n",
       "      <td>2023-08-22</td>\n",
<<<<<<< HEAD
<<<<<<< HEAD
       "      <td>-0.076</td>\n",
       "      <td>0.066</td>\n",
=======
       "      <td>-0.08</td>\n",
       "      <td>0.07</td>\n",
>>>>>>> 4ee99b8f77e3078027b470d54b90770e3e91a7af
=======
       "      <td>-0.08</td>\n",
       "      <td>0.07</td>\n",
>>>>>>> 4ee99b8f77e3078027b470d54b90770e3e91a7af
       "    </tr>\n",
       "    <tr>\n",
       "      <th>18</th>\n",
       "      <td>2023-08-23</td>\n",
<<<<<<< HEAD
<<<<<<< HEAD
       "      <td>-0.017</td>\n",
       "      <td>0.075</td>\n",
=======
       "      <td>-0.02</td>\n",
       "      <td>0.07</td>\n",
>>>>>>> 4ee99b8f77e3078027b470d54b90770e3e91a7af
=======
       "      <td>-0.02</td>\n",
       "      <td>0.07</td>\n",
>>>>>>> 4ee99b8f77e3078027b470d54b90770e3e91a7af
       "    </tr>\n",
       "    <tr>\n",
       "      <th>19</th>\n",
       "      <td>2023-08-24</td>\n",
<<<<<<< HEAD
<<<<<<< HEAD
       "      <td>-1.073</td>\n",
       "      <td>0.113</td>\n",
=======
       "      <td>-1.07</td>\n",
       "      <td>0.11</td>\n",
>>>>>>> 4ee99b8f77e3078027b470d54b90770e3e91a7af
=======
       "      <td>-1.07</td>\n",
       "      <td>0.11</td>\n",
>>>>>>> 4ee99b8f77e3078027b470d54b90770e3e91a7af
       "    </tr>\n",
       "    <tr>\n",
       "      <th>20</th>\n",
       "      <td>2023-08-25</td>\n",
<<<<<<< HEAD
<<<<<<< HEAD
       "      <td>-0.043</td>\n",
       "      <td>0.075</td>\n",
=======
       "      <td>-0.04</td>\n",
       "      <td>0.07</td>\n",
>>>>>>> 4ee99b8f77e3078027b470d54b90770e3e91a7af
=======
       "      <td>-0.04</td>\n",
       "      <td>0.07</td>\n",
>>>>>>> 4ee99b8f77e3078027b470d54b90770e3e91a7af
       "    </tr>\n",
       "    <tr>\n",
       "      <th>21</th>\n",
       "      <td>2023-08-28</td>\n",
<<<<<<< HEAD
<<<<<<< HEAD
       "      <td>-0.362</td>\n",
       "      <td>0.079</td>\n",
=======
       "      <td>-0.36</td>\n",
       "      <td>0.08</td>\n",
>>>>>>> 4ee99b8f77e3078027b470d54b90770e3e91a7af
=======
       "      <td>-0.36</td>\n",
       "      <td>0.08</td>\n",
>>>>>>> 4ee99b8f77e3078027b470d54b90770e3e91a7af
       "    </tr>\n",
       "    <tr>\n",
       "      <th>22</th>\n",
       "      <td>2023-08-29</td>\n",
<<<<<<< HEAD
<<<<<<< HEAD
       "      <td>-0.057</td>\n",
       "      <td>0.030</td>\n",
=======
       "      <td>-0.06</td>\n",
       "      <td>0.03</td>\n",
>>>>>>> 4ee99b8f77e3078027b470d54b90770e3e91a7af
=======
       "      <td>-0.06</td>\n",
       "      <td>0.03</td>\n",
>>>>>>> 4ee99b8f77e3078027b470d54b90770e3e91a7af
       "    </tr>\n",
       "    <tr>\n",
       "      <th>23</th>\n",
       "      <td>2023-08-30</td>\n",
<<<<<<< HEAD
<<<<<<< HEAD
       "      <td>-0.464</td>\n",
       "      <td>0.041</td>\n",
=======
       "      <td>-0.46</td>\n",
       "      <td>0.04</td>\n",
>>>>>>> 4ee99b8f77e3078027b470d54b90770e3e91a7af
=======
       "      <td>-0.46</td>\n",
       "      <td>0.04</td>\n",
>>>>>>> 4ee99b8f77e3078027b470d54b90770e3e91a7af
       "    </tr>\n",
       "    <tr>\n",
       "      <th>24</th>\n",
       "      <td>2023-08-31</td>\n",
<<<<<<< HEAD
<<<<<<< HEAD
       "      <td>0.371</td>\n",
       "      <td>0.023</td>\n",
=======
       "      <td>0.37</td>\n",
       "      <td>0.02</td>\n",
>>>>>>> 4ee99b8f77e3078027b470d54b90770e3e91a7af
=======
       "      <td>0.37</td>\n",
       "      <td>0.02</td>\n",
>>>>>>> 4ee99b8f77e3078027b470d54b90770e3e91a7af
       "    </tr>\n",
       "    <tr>\n",
       "      <th>25</th>\n",
       "      <td>2023-09-01</td>\n",
<<<<<<< HEAD
<<<<<<< HEAD
       "      <td>0.102</td>\n",
       "      <td>0.024</td>\n",
=======
       "      <td>0.10</td>\n",
       "      <td>0.02</td>\n",
>>>>>>> 4ee99b8f77e3078027b470d54b90770e3e91a7af
=======
       "      <td>0.10</td>\n",
       "      <td>0.02</td>\n",
>>>>>>> 4ee99b8f77e3078027b470d54b90770e3e91a7af
       "    </tr>\n",
       "    <tr>\n",
       "      <th>26</th>\n",
       "      <td>2023-09-04</td>\n",
<<<<<<< HEAD
<<<<<<< HEAD
       "      <td>-0.597</td>\n",
       "      <td>0.068</td>\n",
=======
       "      <td>-0.60</td>\n",
       "      <td>0.07</td>\n",
>>>>>>> 4ee99b8f77e3078027b470d54b90770e3e91a7af
=======
       "      <td>-0.60</td>\n",
       "      <td>0.07</td>\n",
>>>>>>> 4ee99b8f77e3078027b470d54b90770e3e91a7af
       "    </tr>\n",
       "    <tr>\n",
       "      <th>27</th>\n",
       "      <td>2023-09-05</td>\n",
<<<<<<< HEAD
<<<<<<< HEAD
       "      <td>-0.094</td>\n",
       "      <td>0.091</td>\n",
=======
       "      <td>-0.09</td>\n",
       "      <td>0.09</td>\n",
>>>>>>> 4ee99b8f77e3078027b470d54b90770e3e91a7af
=======
       "      <td>-0.09</td>\n",
       "      <td>0.09</td>\n",
>>>>>>> 4ee99b8f77e3078027b470d54b90770e3e91a7af
       "    </tr>\n",
       "    <tr>\n",
       "      <th>28</th>\n",
       "      <td>2023-09-06</td>\n",
<<<<<<< HEAD
<<<<<<< HEAD
       "      <td>0.807</td>\n",
       "      <td>0.068</td>\n",
=======
       "      <td>0.81</td>\n",
       "      <td>0.07</td>\n",
>>>>>>> 4ee99b8f77e3078027b470d54b90770e3e91a7af
=======
       "      <td>0.81</td>\n",
       "      <td>0.07</td>\n",
>>>>>>> 4ee99b8f77e3078027b470d54b90770e3e91a7af
       "    </tr>\n",
       "    <tr>\n",
       "      <th>29</th>\n",
       "      <td>2023-09-07</td>\n",
<<<<<<< HEAD
<<<<<<< HEAD
       "      <td>0.273</td>\n",
       "      <td>0.071</td>\n",
=======
       "      <td>0.27</td>\n",
       "      <td>0.07</td>\n",
>>>>>>> 4ee99b8f77e3078027b470d54b90770e3e91a7af
=======
       "      <td>0.27</td>\n",
       "      <td>0.07</td>\n",
>>>>>>> 4ee99b8f77e3078027b470d54b90770e3e91a7af
       "    </tr>\n",
       "    <tr>\n",
       "      <th>30</th>\n",
       "      <td>2023-09-08</td>\n",
<<<<<<< HEAD
<<<<<<< HEAD
       "      <td>-0.081</td>\n",
       "      <td>0.100</td>\n",
=======
       "      <td>-0.08</td>\n",
       "      <td>0.10</td>\n",
>>>>>>> 4ee99b8f77e3078027b470d54b90770e3e91a7af
=======
       "      <td>-0.08</td>\n",
       "      <td>0.10</td>\n",
>>>>>>> 4ee99b8f77e3078027b470d54b90770e3e91a7af
       "    </tr>\n",
       "    <tr>\n",
       "      <th>31</th>\n",
       "      <td>2023-09-11</td>\n",
<<<<<<< HEAD
<<<<<<< HEAD
       "      <td>0.013</td>\n",
       "      <td>0.103</td>\n",
=======
       "      <td>0.01</td>\n",
       "      <td>0.10</td>\n",
>>>>>>> 4ee99b8f77e3078027b470d54b90770e3e91a7af
=======
       "      <td>0.01</td>\n",
       "      <td>0.10</td>\n",
>>>>>>> 4ee99b8f77e3078027b470d54b90770e3e91a7af
       "    </tr>\n",
       "    <tr>\n",
       "      <th>32</th>\n",
       "      <td>2023-09-12</td>\n",
<<<<<<< HEAD
<<<<<<< HEAD
       "      <td>-0.812</td>\n",
       "      <td>0.042</td>\n",
=======
       "      <td>-0.81</td>\n",
       "      <td>0.04</td>\n",
>>>>>>> 4ee99b8f77e3078027b470d54b90770e3e91a7af
=======
       "      <td>-0.81</td>\n",
       "      <td>0.04</td>\n",
>>>>>>> 4ee99b8f77e3078027b470d54b90770e3e91a7af
       "    </tr>\n",
       "    <tr>\n",
       "      <th>33</th>\n",
       "      <td>2023-09-13</td>\n",
<<<<<<< HEAD
<<<<<<< HEAD
       "      <td>0.008</td>\n",
       "      <td>0.043</td>\n",
=======
       "      <td>0.01</td>\n",
       "      <td>0.04</td>\n",
>>>>>>> 4ee99b8f77e3078027b470d54b90770e3e91a7af
=======
       "      <td>0.01</td>\n",
       "      <td>0.04</td>\n",
>>>>>>> 4ee99b8f77e3078027b470d54b90770e3e91a7af
       "    </tr>\n",
       "    <tr>\n",
       "      <th>34</th>\n",
       "      <td>2023-09-14</td>\n",
<<<<<<< HEAD
<<<<<<< HEAD
       "      <td>-0.010</td>\n",
       "      <td>0.121</td>\n",
=======
       "      <td>-0.01</td>\n",
       "      <td>0.12</td>\n",
>>>>>>> 4ee99b8f77e3078027b470d54b90770e3e91a7af
=======
       "      <td>-0.01</td>\n",
       "      <td>0.12</td>\n",
>>>>>>> 4ee99b8f77e3078027b470d54b90770e3e91a7af
       "    </tr>\n",
       "    <tr>\n",
       "      <th>35</th>\n",
       "      <td>2023-09-15</td>\n",
<<<<<<< HEAD
<<<<<<< HEAD
       "      <td>0.099</td>\n",
       "      <td>0.038</td>\n",
=======
       "      <td>0.10</td>\n",
       "      <td>0.04</td>\n",
>>>>>>> 4ee99b8f77e3078027b470d54b90770e3e91a7af
=======
       "      <td>0.10</td>\n",
       "      <td>0.04</td>\n",
>>>>>>> 4ee99b8f77e3078027b470d54b90770e3e91a7af
       "    </tr>\n",
       "    <tr>\n",
       "      <th>36</th>\n",
       "      <td>2023-09-18</td>\n",
<<<<<<< HEAD
<<<<<<< HEAD
       "      <td>-0.117</td>\n",
       "      <td>0.072</td>\n",
=======
       "      <td>-0.12</td>\n",
       "      <td>0.07</td>\n",
>>>>>>> 4ee99b8f77e3078027b470d54b90770e3e91a7af
=======
       "      <td>-0.12</td>\n",
       "      <td>0.07</td>\n",
>>>>>>> 4ee99b8f77e3078027b470d54b90770e3e91a7af
       "    </tr>\n",
       "    <tr>\n",
       "      <th>37</th>\n",
       "      <td>2023-09-19</td>\n",
<<<<<<< HEAD
<<<<<<< HEAD
       "      <td>-0.440</td>\n",
       "      <td>0.036</td>\n",
=======
       "      <td>-0.44</td>\n",
       "      <td>0.04</td>\n",
>>>>>>> 4ee99b8f77e3078027b470d54b90770e3e91a7af
=======
       "      <td>-0.44</td>\n",
       "      <td>0.04</td>\n",
>>>>>>> 4ee99b8f77e3078027b470d54b90770e3e91a7af
       "    </tr>\n",
       "    <tr>\n",
       "      <th>38</th>\n",
       "      <td>2023-09-20</td>\n",
<<<<<<< HEAD
<<<<<<< HEAD
       "      <td>0.345</td>\n",
       "      <td>0.028</td>\n",
=======
       "      <td>0.35</td>\n",
       "      <td>0.03</td>\n",
>>>>>>> 4ee99b8f77e3078027b470d54b90770e3e91a7af
=======
       "      <td>0.35</td>\n",
       "      <td>0.03</td>\n",
>>>>>>> 4ee99b8f77e3078027b470d54b90770e3e91a7af
       "    </tr>\n",
       "    <tr>\n",
       "      <th>39</th>\n",
       "      <td>2023-09-21</td>\n",
<<<<<<< HEAD
<<<<<<< HEAD
       "      <td>0.296</td>\n",
       "      <td>0.039</td>\n",
=======
       "      <td>0.30</td>\n",
       "      <td>0.04</td>\n",
>>>>>>> 4ee99b8f77e3078027b470d54b90770e3e91a7af
=======
       "      <td>0.30</td>\n",
       "      <td>0.04</td>\n",
>>>>>>> 4ee99b8f77e3078027b470d54b90770e3e91a7af
       "    </tr>\n",
       "    <tr>\n",
       "      <th>40</th>\n",
       "      <td>2023-09-22</td>\n",
<<<<<<< HEAD
<<<<<<< HEAD
       "      <td>0.417</td>\n",
       "      <td>0.043</td>\n",
=======
       "      <td>0.42</td>\n",
       "      <td>0.04</td>\n",
>>>>>>> 4ee99b8f77e3078027b470d54b90770e3e91a7af
=======
       "      <td>0.42</td>\n",
       "      <td>0.04</td>\n",
>>>>>>> 4ee99b8f77e3078027b470d54b90770e3e91a7af
       "    </tr>\n",
       "    <tr>\n",
       "      <th>41</th>\n",
       "      <td>2023-09-25</td>\n",
<<<<<<< HEAD
<<<<<<< HEAD
       "      <td>-0.414</td>\n",
       "      <td>0.115</td>\n",
=======
       "      <td>-0.41</td>\n",
       "      <td>0.11</td>\n",
>>>>>>> 4ee99b8f77e3078027b470d54b90770e3e91a7af
=======
       "      <td>-0.41</td>\n",
       "      <td>0.11</td>\n",
>>>>>>> 4ee99b8f77e3078027b470d54b90770e3e91a7af
       "    </tr>\n",
       "    <tr>\n",
       "      <th>42</th>\n",
       "      <td>2023-09-26</td>\n",
<<<<<<< HEAD
<<<<<<< HEAD
       "      <td>0.183</td>\n",
       "      <td>0.126</td>\n",
=======
       "      <td>0.18</td>\n",
       "      <td>0.13</td>\n",
>>>>>>> 4ee99b8f77e3078027b470d54b90770e3e91a7af
=======
       "      <td>0.18</td>\n",
       "      <td>0.13</td>\n",
>>>>>>> 4ee99b8f77e3078027b470d54b90770e3e91a7af
       "    </tr>\n",
       "    <tr>\n",
       "      <th>43</th>\n",
       "      <td>2023-09-27</td>\n",
<<<<<<< HEAD
<<<<<<< HEAD
       "      <td>0.988</td>\n",
       "      <td>0.086</td>\n",
=======
       "      <td>0.99</td>\n",
       "      <td>0.09</td>\n",
>>>>>>> 4ee99b8f77e3078027b470d54b90770e3e91a7af
=======
       "      <td>0.99</td>\n",
       "      <td>0.09</td>\n",
>>>>>>> 4ee99b8f77e3078027b470d54b90770e3e91a7af
       "    </tr>\n",
       "    <tr>\n",
       "      <th>44</th>\n",
       "      <td>2023-09-28</td>\n",
<<<<<<< HEAD
<<<<<<< HEAD
       "      <td>0.032</td>\n",
       "      <td>0.069</td>\n",
=======
       "      <td>0.03</td>\n",
       "      <td>0.07</td>\n",
>>>>>>> 4ee99b8f77e3078027b470d54b90770e3e91a7af
=======
       "      <td>0.03</td>\n",
       "      <td>0.07</td>\n",
>>>>>>> 4ee99b8f77e3078027b470d54b90770e3e91a7af
       "    </tr>\n",
       "    <tr>\n",
       "      <th>45</th>\n",
       "      <td>2023-09-29</td>\n",
<<<<<<< HEAD
<<<<<<< HEAD
       "      <td>-0.436</td>\n",
       "      <td>0.074</td>\n",
=======
       "      <td>-0.44</td>\n",
       "      <td>0.07</td>\n",
>>>>>>> 4ee99b8f77e3078027b470d54b90770e3e91a7af
=======
       "      <td>-0.44</td>\n",
       "      <td>0.07</td>\n",
>>>>>>> 4ee99b8f77e3078027b470d54b90770e3e91a7af
       "    </tr>\n",
       "    <tr>\n",
       "      <th>46</th>\n",
       "      <td>2023-10-02</td>\n",
<<<<<<< HEAD
<<<<<<< HEAD
       "      <td>0.130</td>\n",
       "      <td>0.025</td>\n",
=======
       "      <td>0.13</td>\n",
       "      <td>0.03</td>\n",
>>>>>>> 4ee99b8f77e3078027b470d54b90770e3e91a7af
=======
       "      <td>0.13</td>\n",
       "      <td>0.03</td>\n",
>>>>>>> 4ee99b8f77e3078027b470d54b90770e3e91a7af
       "    </tr>\n",
       "    <tr>\n",
       "      <th>47</th>\n",
       "      <td>2023-10-03</td>\n",
<<<<<<< HEAD
<<<<<<< HEAD
       "      <td>0.236</td>\n",
       "      <td>0.096</td>\n",
=======
       "      <td>0.24</td>\n",
       "      <td>0.10</td>\n",
>>>>>>> 4ee99b8f77e3078027b470d54b90770e3e91a7af
=======
       "      <td>0.24</td>\n",
       "      <td>0.10</td>\n",
>>>>>>> 4ee99b8f77e3078027b470d54b90770e3e91a7af
       "    </tr>\n",
       "    <tr>\n",
       "      <th>48</th>\n",
       "      <td>2023-10-04</td>\n",
<<<<<<< HEAD
<<<<<<< HEAD
       "      <td>0.290</td>\n",
       "      <td>0.071</td>\n",
=======
       "      <td>0.29</td>\n",
       "      <td>0.07</td>\n",
>>>>>>> 4ee99b8f77e3078027b470d54b90770e3e91a7af
=======
       "      <td>0.29</td>\n",
       "      <td>0.07</td>\n",
>>>>>>> 4ee99b8f77e3078027b470d54b90770e3e91a7af
       "    </tr>\n",
       "    <tr>\n",
       "      <th>49</th>\n",
       "      <td>2023-10-05</td>\n",
<<<<<<< HEAD
<<<<<<< HEAD
       "      <td>-0.766</td>\n",
       "      <td>0.069</td>\n",
=======
       "      <td>-0.77</td>\n",
       "      <td>0.07</td>\n",
>>>>>>> 4ee99b8f77e3078027b470d54b90770e3e91a7af
=======
       "      <td>-0.77</td>\n",
       "      <td>0.07</td>\n",
>>>>>>> 4ee99b8f77e3078027b470d54b90770e3e91a7af
       "    </tr>\n",
       "    <tr>\n",
       "      <th>50</th>\n",
       "      <td>2023-10-06</td>\n",
<<<<<<< HEAD
<<<<<<< HEAD
       "      <td>-0.505</td>\n",
       "      <td>0.046</td>\n",
=======
       "      <td>-0.50</td>\n",
       "      <td>0.05</td>\n",
>>>>>>> 4ee99b8f77e3078027b470d54b90770e3e91a7af
=======
       "      <td>-0.50</td>\n",
       "      <td>0.05</td>\n",
>>>>>>> 4ee99b8f77e3078027b470d54b90770e3e91a7af
       "    </tr>\n",
       "    <tr>\n",
       "      <th>51</th>\n",
       "      <td>2023-10-09</td>\n",
<<<<<<< HEAD
<<<<<<< HEAD
       "      <td>-0.128</td>\n",
       "      <td>-0.007</td>\n",
=======
       "      <td>-0.13</td>\n",
       "      <td>-0.01</td>\n",
>>>>>>> 4ee99b8f77e3078027b470d54b90770e3e91a7af
=======
       "      <td>-0.13</td>\n",
       "      <td>-0.01</td>\n",
>>>>>>> 4ee99b8f77e3078027b470d54b90770e3e91a7af
       "    </tr>\n",
       "    <tr>\n",
       "      <th>52</th>\n",
       "      <td>2023-10-10</td>\n",
<<<<<<< HEAD
<<<<<<< HEAD
       "      <td>0.149</td>\n",
       "      <td>0.086</td>\n",
=======
       "      <td>0.15</td>\n",
       "      <td>0.09</td>\n",
>>>>>>> 4ee99b8f77e3078027b470d54b90770e3e91a7af
=======
       "      <td>0.15</td>\n",
       "      <td>0.09</td>\n",
>>>>>>> 4ee99b8f77e3078027b470d54b90770e3e91a7af
       "    </tr>\n",
       "    <tr>\n",
       "      <th>53</th>\n",
       "      <td>2023-10-11</td>\n",
<<<<<<< HEAD
<<<<<<< HEAD
       "      <td>-0.470</td>\n",
       "      <td>0.096</td>\n",
=======
       "      <td>-0.47</td>\n",
       "      <td>0.10</td>\n",
>>>>>>> 4ee99b8f77e3078027b470d54b90770e3e91a7af
=======
       "      <td>-0.47</td>\n",
       "      <td>0.10</td>\n",
>>>>>>> 4ee99b8f77e3078027b470d54b90770e3e91a7af
       "    </tr>\n",
       "    <tr>\n",
       "      <th>54</th>\n",
       "      <td>2023-10-12</td>\n",
<<<<<<< HEAD
<<<<<<< HEAD
       "      <td>-0.313</td>\n",
       "      <td>0.084</td>\n",
=======
       "      <td>-0.31</td>\n",
       "      <td>0.08</td>\n",
>>>>>>> 4ee99b8f77e3078027b470d54b90770e3e91a7af
=======
       "      <td>-0.31</td>\n",
       "      <td>0.08</td>\n",
>>>>>>> 4ee99b8f77e3078027b470d54b90770e3e91a7af
       "    </tr>\n",
       "    <tr>\n",
       "      <th>55</th>\n",
       "      <td>2023-10-13</td>\n",
<<<<<<< HEAD
<<<<<<< HEAD
       "      <td>0.703</td>\n",
       "      <td>0.033</td>\n",
=======
       "      <td>0.70</td>\n",
       "      <td>0.03</td>\n",
>>>>>>> 4ee99b8f77e3078027b470d54b90770e3e91a7af
=======
       "      <td>0.70</td>\n",
       "      <td>0.03</td>\n",
>>>>>>> 4ee99b8f77e3078027b470d54b90770e3e91a7af
       "    </tr>\n",
       "    <tr>\n",
       "      <th>56</th>\n",
       "      <td>2023-10-16</td>\n",
<<<<<<< HEAD
<<<<<<< HEAD
       "      <td>0.208</td>\n",
       "      <td>0.064</td>\n",
=======
       "      <td>0.21</td>\n",
       "      <td>0.06</td>\n",
>>>>>>> 4ee99b8f77e3078027b470d54b90770e3e91a7af
=======
       "      <td>0.21</td>\n",
       "      <td>0.06</td>\n",
>>>>>>> 4ee99b8f77e3078027b470d54b90770e3e91a7af
       "    </tr>\n",
       "    <tr>\n",
       "      <th>57</th>\n",
       "      <td>2023-10-17</td>\n",
<<<<<<< HEAD
<<<<<<< HEAD
       "      <td>-0.382</td>\n",
       "      <td>0.025</td>\n",
=======
       "      <td>-0.38</td>\n",
       "      <td>0.03</td>\n",
>>>>>>> 4ee99b8f77e3078027b470d54b90770e3e91a7af
=======
       "      <td>-0.38</td>\n",
       "      <td>0.03</td>\n",
>>>>>>> 4ee99b8f77e3078027b470d54b90770e3e91a7af
       "    </tr>\n",
       "    <tr>\n",
       "      <th>58</th>\n",
       "      <td>2023-10-18</td>\n",
<<<<<<< HEAD
<<<<<<< HEAD
       "      <td>0.351</td>\n",
       "      <td>0.042</td>\n",
=======
       "      <td>0.35</td>\n",
       "      <td>0.04</td>\n",
>>>>>>> 4ee99b8f77e3078027b470d54b90770e3e91a7af
=======
       "      <td>0.35</td>\n",
       "      <td>0.04</td>\n",
>>>>>>> 4ee99b8f77e3078027b470d54b90770e3e91a7af
       "    </tr>\n",
       "    <tr>\n",
       "      <th>59</th>\n",
       "      <td>2023-10-19</td>\n",
<<<<<<< HEAD
<<<<<<< HEAD
       "      <td>0.023</td>\n",
       "      <td>0.120</td>\n",
=======
       "      <td>0.02</td>\n",
       "      <td>0.12</td>\n",
>>>>>>> 4ee99b8f77e3078027b470d54b90770e3e91a7af
=======
       "      <td>0.02</td>\n",
       "      <td>0.12</td>\n",
>>>>>>> 4ee99b8f77e3078027b470d54b90770e3e91a7af
       "    </tr>\n",
       "    <tr>\n",
       "      <th>60</th>\n",
       "      <td>2023-10-20</td>\n",
<<<<<<< HEAD
<<<<<<< HEAD
       "      <td>0.040</td>\n",
       "      <td>0.080</td>\n",
=======
       "      <td>0.04</td>\n",
       "      <td>0.08</td>\n",
>>>>>>> 4ee99b8f77e3078027b470d54b90770e3e91a7af
=======
       "      <td>0.04</td>\n",
       "      <td>0.08</td>\n",
>>>>>>> 4ee99b8f77e3078027b470d54b90770e3e91a7af
       "    </tr>\n",
       "  </tbody>\n",
       "</table>\n",
       "</div>"
      ],
      "text/plain": [
       "          date  usd_yesterday_change  usd_night_change\n",
<<<<<<< HEAD
<<<<<<< HEAD
       "1   2023-07-31                -0.883             0.039\n",
       "2   2023-08-01                 0.356             0.033\n",
       "3   2023-08-02                 0.839             0.031\n",
       "4   2023-08-03                 0.739             0.042\n",
       "5   2023-08-04                -0.035             0.071\n",
       "6   2023-08-07                 0.319             0.016\n",
       "7   2023-08-08                 0.231             0.048\n",
       "8   2023-08-09                 0.672             0.023\n",
       "9   2023-08-10                -0.299             0.002\n",
       "10  2023-08-11                 0.289             0.094\n",
       "11  2023-08-14                 0.923             0.023\n",
       "12  2023-08-15                 0.466             0.085\n",
       "13  2023-08-16                -0.114             0.034\n",
       "14  2023-08-17                 0.325             0.054\n",
       "15  2023-08-18                -0.199             0.037\n",
       "16  2023-08-21                -0.044             0.075\n",
       "17  2023-08-22                -0.076             0.066\n",
       "18  2023-08-23                -0.017             0.075\n",
       "19  2023-08-24                -1.073             0.113\n",
       "20  2023-08-25                -0.043             0.075\n",
       "21  2023-08-28                -0.362             0.079\n",
       "22  2023-08-29                -0.057             0.030\n",
       "23  2023-08-30                -0.464             0.041\n",
       "24  2023-08-31                 0.371             0.023\n",
       "25  2023-09-01                 0.102             0.024\n",
       "26  2023-09-04                -0.597             0.068\n",
       "27  2023-09-05                -0.094             0.091\n",
       "28  2023-09-06                 0.807             0.068\n",
       "29  2023-09-07                 0.273             0.071\n",
       "30  2023-09-08                -0.081             0.100\n",
       "31  2023-09-11                 0.013             0.103\n",
       "32  2023-09-12                -0.812             0.042\n",
       "33  2023-09-13                 0.008             0.043\n",
       "34  2023-09-14                -0.010             0.121\n",
       "35  2023-09-15                 0.099             0.038\n",
       "36  2023-09-18                -0.117             0.072\n",
       "37  2023-09-19                -0.440             0.036\n",
       "38  2023-09-20                 0.345             0.028\n",
       "39  2023-09-21                 0.296             0.039\n",
       "40  2023-09-22                 0.417             0.043\n",
       "41  2023-09-25                -0.414             0.115\n",
       "42  2023-09-26                 0.183             0.126\n",
       "43  2023-09-27                 0.988             0.086\n",
       "44  2023-09-28                 0.032             0.069\n",
       "45  2023-09-29                -0.436             0.074\n",
       "46  2023-10-02                 0.130             0.025\n",
       "47  2023-10-03                 0.236             0.096\n",
       "48  2023-10-04                 0.290             0.071\n",
       "49  2023-10-05                -0.766             0.069\n",
       "50  2023-10-06                -0.505             0.046\n",
       "51  2023-10-09                -0.128            -0.007\n",
       "52  2023-10-10                 0.149             0.086\n",
       "53  2023-10-11                -0.470             0.096\n",
       "54  2023-10-12                -0.313             0.084\n",
       "55  2023-10-13                 0.703             0.033\n",
       "56  2023-10-16                 0.208             0.064\n",
       "57  2023-10-17                -0.382             0.025\n",
       "58  2023-10-18                 0.351             0.042\n",
       "59  2023-10-19                 0.023             0.120\n",
       "60  2023-10-20                 0.040             0.080"
      ]
     },
     "execution_count": 52,
=======
=======
>>>>>>> 4ee99b8f77e3078027b470d54b90770e3e91a7af
       "1   2023-07-31                 -0.88              0.04\n",
       "2   2023-08-01                  0.36              0.03\n",
       "3   2023-08-02                  0.84              0.03\n",
       "4   2023-08-03                  0.74              0.04\n",
       "5   2023-08-04                 -0.04              0.07\n",
       "6   2023-08-07                  0.32              0.02\n",
       "7   2023-08-08                  0.23              0.05\n",
       "8   2023-08-09                  0.67              0.02\n",
       "9   2023-08-10                 -0.30              0.00\n",
       "10  2023-08-11                  0.29              0.09\n",
       "11  2023-08-14                  0.92              0.02\n",
       "12  2023-08-15                  0.47              0.09\n",
       "13  2023-08-16                 -0.11              0.03\n",
       "14  2023-08-17                  0.33              0.05\n",
       "15  2023-08-18                 -0.20              0.04\n",
       "16  2023-08-21                 -0.04              0.07\n",
       "17  2023-08-22                 -0.08              0.07\n",
       "18  2023-08-23                 -0.02              0.07\n",
       "19  2023-08-24                 -1.07              0.11\n",
       "20  2023-08-25                 -0.04              0.07\n",
       "21  2023-08-28                 -0.36              0.08\n",
       "22  2023-08-29                 -0.06              0.03\n",
       "23  2023-08-30                 -0.46              0.04\n",
       "24  2023-08-31                  0.37              0.02\n",
       "25  2023-09-01                  0.10              0.02\n",
       "26  2023-09-04                 -0.60              0.07\n",
       "27  2023-09-05                 -0.09              0.09\n",
       "28  2023-09-06                  0.81              0.07\n",
       "29  2023-09-07                  0.27              0.07\n",
       "30  2023-09-08                 -0.08              0.10\n",
       "31  2023-09-11                  0.01              0.10\n",
       "32  2023-09-12                 -0.81              0.04\n",
       "33  2023-09-13                  0.01              0.04\n",
       "34  2023-09-14                 -0.01              0.12\n",
       "35  2023-09-15                  0.10              0.04\n",
       "36  2023-09-18                 -0.12              0.07\n",
       "37  2023-09-19                 -0.44              0.04\n",
       "38  2023-09-20                  0.35              0.03\n",
       "39  2023-09-21                  0.30              0.04\n",
       "40  2023-09-22                  0.42              0.04\n",
       "41  2023-09-25                 -0.41              0.11\n",
       "42  2023-09-26                  0.18              0.13\n",
       "43  2023-09-27                  0.99              0.09\n",
       "44  2023-09-28                  0.03              0.07\n",
       "45  2023-09-29                 -0.44              0.07\n",
       "46  2023-10-02                  0.13              0.03\n",
       "47  2023-10-03                  0.24              0.10\n",
       "48  2023-10-04                  0.29              0.07\n",
       "49  2023-10-05                 -0.77              0.07\n",
       "50  2023-10-06                 -0.50              0.05\n",
       "51  2023-10-09                 -0.13             -0.01\n",
       "52  2023-10-10                  0.15              0.09\n",
       "53  2023-10-11                 -0.47              0.10\n",
       "54  2023-10-12                 -0.31              0.08\n",
       "55  2023-10-13                  0.70              0.03\n",
       "56  2023-10-16                  0.21              0.06\n",
       "57  2023-10-17                 -0.38              0.03\n",
       "58  2023-10-18                  0.35              0.04\n",
       "59  2023-10-19                  0.02              0.12\n",
       "60  2023-10-20                  0.04              0.08"
      ]
     },
     "execution_count": 15,
<<<<<<< HEAD
>>>>>>> 4ee99b8f77e3078027b470d54b90770e3e91a7af
=======
>>>>>>> 4ee99b8f77e3078027b470d54b90770e3e91a7af
     "metadata": {},
     "output_type": "execute_result"
    }
   ],
   "source": [
    "usd"
   ]
  },
  {
   "cell_type": "code",
<<<<<<< HEAD
<<<<<<< HEAD
   "execution_count": 35,
=======
=======
>>>>>>> 4ee99b8f77e3078027b470d54b90770e3e91a7af
   "execution_count": 30,
>>>>>>> 4ee99b8f77e3078027b470d54b90770e3e91a7af
   "metadata": {},
   "outputs": [],
   "source": [
    "# csv 파일로 새로 저장\n",
    "os.chdir(\"C:/Users/LGPC/Desktop/oncoding/Project1/dataset\")\n",
    "usd.to_csv(\"C:/Users/LGPC/Desktop/oncoding/Project1/dataset/usd_krw_final.csv\")"
   ]
  },
  {
   "cell_type": "code",
   "execution_count": null,
   "metadata": {},
   "outputs": [],
   "source": []
  },
  {
   "cell_type": "code",
   "execution_count": null,
   "metadata": {},
   "outputs": [],
   "source": []
  }
 ],
 "metadata": {
  "kernelspec": {
   "display_name": "Python 3",
   "language": "python",
   "name": "python3"
  },
  "language_info": {
   "codemirror_mode": {
    "name": "ipython",
    "version": 3
   },
   "file_extension": ".py",
   "mimetype": "text/x-python",
   "name": "python",
   "nbconvert_exporter": "python",
   "pygments_lexer": "ipython3",
   "version": "3.11.4"
  }
 },
 "nbformat": 4,
 "nbformat_minor": 2
}

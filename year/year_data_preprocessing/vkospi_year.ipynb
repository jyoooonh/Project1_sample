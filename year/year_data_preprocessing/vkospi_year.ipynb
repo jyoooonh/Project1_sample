{
 "cells": [
  {
   "cell_type": "code",
   "execution_count": 1,
   "metadata": {},
   "outputs": [],
   "source": [
    "import pandas as pd"
   ]
  },
  {
   "cell_type": "code",
   "execution_count": 2,
   "metadata": {},
   "outputs": [],
   "source": [
    "vkospi = pd.read_csv('../year_data/VKOSPI.csv', index_col=0)"
   ]
  },
  {
   "cell_type": "code",
   "execution_count": 3,
   "metadata": {},
   "outputs": [
    {
     "data": {
      "text/html": [
       "<div>\n",
       "<style scoped>\n",
       "    .dataframe tbody tr th:only-of-type {\n",
       "        vertical-align: middle;\n",
       "    }\n",
       "\n",
       "    .dataframe tbody tr th {\n",
       "        vertical-align: top;\n",
       "    }\n",
       "\n",
       "    .dataframe thead th {\n",
       "        text-align: right;\n",
       "    }\n",
       "</style>\n",
       "<table border=\"1\" class=\"dataframe\">\n",
       "  <thead>\n",
       "    <tr style=\"text-align: right;\">\n",
       "      <th></th>\n",
       "      <th>종가</th>\n",
       "      <th>시가</th>\n",
       "      <th>고가</th>\n",
       "      <th>저가</th>\n",
       "      <th>거래량</th>\n",
       "      <th>변동 %</th>\n",
       "    </tr>\n",
       "    <tr>\n",
       "      <th>날짜</th>\n",
       "      <th></th>\n",
       "      <th></th>\n",
       "      <th></th>\n",
       "      <th></th>\n",
       "      <th></th>\n",
       "      <th></th>\n",
       "    </tr>\n",
       "  </thead>\n",
       "  <tbody>\n",
       "    <tr>\n",
       "      <th>2023- 10- 31</th>\n",
       "      <td>19.89</td>\n",
       "      <td>19.25</td>\n",
       "      <td>20.12</td>\n",
       "      <td>19.05</td>\n",
       "      <td>NaN</td>\n",
       "      <td>-0.70%</td>\n",
       "    </tr>\n",
       "    <tr>\n",
       "      <th>2023- 10- 30</th>\n",
       "      <td>20.03</td>\n",
       "      <td>21.04</td>\n",
       "      <td>21.04</td>\n",
       "      <td>19.88</td>\n",
       "      <td>NaN</td>\n",
       "      <td>0.05%</td>\n",
       "    </tr>\n",
       "    <tr>\n",
       "      <th>2023- 10- 27</th>\n",
       "      <td>20.02</td>\n",
       "      <td>19.98</td>\n",
       "      <td>20.41</td>\n",
       "      <td>19.79</td>\n",
       "      <td>NaN</td>\n",
       "      <td>-5.30%</td>\n",
       "    </tr>\n",
       "    <tr>\n",
       "      <th>2023- 10- 26</th>\n",
       "      <td>21.14</td>\n",
       "      <td>20.19</td>\n",
       "      <td>21.19</td>\n",
       "      <td>19.87</td>\n",
       "      <td>NaN</td>\n",
       "      <td>13.90%</td>\n",
       "    </tr>\n",
       "    <tr>\n",
       "      <th>2023- 10- 25</th>\n",
       "      <td>18.56</td>\n",
       "      <td>18.39</td>\n",
       "      <td>18.67</td>\n",
       "      <td>18.29</td>\n",
       "      <td>NaN</td>\n",
       "      <td>-1.38%</td>\n",
       "    </tr>\n",
       "    <tr>\n",
       "      <th>...</th>\n",
       "      <td>...</td>\n",
       "      <td>...</td>\n",
       "      <td>...</td>\n",
       "      <td>...</td>\n",
       "      <td>...</td>\n",
       "      <td>...</td>\n",
       "    </tr>\n",
       "    <tr>\n",
       "      <th>2022- 10- 17</th>\n",
       "      <td>24.40</td>\n",
       "      <td>25.44</td>\n",
       "      <td>25.66</td>\n",
       "      <td>24.31</td>\n",
       "      <td>NaN</td>\n",
       "      <td>1.92%</td>\n",
       "    </tr>\n",
       "    <tr>\n",
       "      <th>2022- 10- 14</th>\n",
       "      <td>23.94</td>\n",
       "      <td>24.81</td>\n",
       "      <td>24.86</td>\n",
       "      <td>23.94</td>\n",
       "      <td>NaN</td>\n",
       "      <td>-12.05%</td>\n",
       "    </tr>\n",
       "    <tr>\n",
       "      <th>2022- 10- 13</th>\n",
       "      <td>27.22</td>\n",
       "      <td>25.25</td>\n",
       "      <td>27.47</td>\n",
       "      <td>25.15</td>\n",
       "      <td>NaN</td>\n",
       "      <td>10.25%</td>\n",
       "    </tr>\n",
       "    <tr>\n",
       "      <th>2022- 10- 12</th>\n",
       "      <td>24.69</td>\n",
       "      <td>25.77</td>\n",
       "      <td>25.77</td>\n",
       "      <td>24.69</td>\n",
       "      <td>NaN</td>\n",
       "      <td>-4.23%</td>\n",
       "    </tr>\n",
       "    <tr>\n",
       "      <th>2022- 10- 11</th>\n",
       "      <td>25.78</td>\n",
       "      <td>26.53</td>\n",
       "      <td>26.89</td>\n",
       "      <td>25.69</td>\n",
       "      <td>NaN</td>\n",
       "      <td>7.73%</td>\n",
       "    </tr>\n",
       "  </tbody>\n",
       "</table>\n",
       "<p>262 rows × 6 columns</p>\n",
       "</div>"
      ],
      "text/plain": [
       "                 종가     시가     고가     저가  거래량     변동 %\n",
       "날짜                                                    \n",
       "2023- 10- 31  19.89  19.25  20.12  19.05  NaN   -0.70%\n",
       "2023- 10- 30  20.03  21.04  21.04  19.88  NaN    0.05%\n",
       "2023- 10- 27  20.02  19.98  20.41  19.79  NaN   -5.30%\n",
       "2023- 10- 26  21.14  20.19  21.19  19.87  NaN   13.90%\n",
       "2023- 10- 25  18.56  18.39  18.67  18.29  NaN   -1.38%\n",
       "...             ...    ...    ...    ...  ...      ...\n",
       "2022- 10- 17  24.40  25.44  25.66  24.31  NaN    1.92%\n",
       "2022- 10- 14  23.94  24.81  24.86  23.94  NaN  -12.05%\n",
       "2022- 10- 13  27.22  25.25  27.47  25.15  NaN   10.25%\n",
       "2022- 10- 12  24.69  25.77  25.77  24.69  NaN   -4.23%\n",
       "2022- 10- 11  25.78  26.53  26.89  25.69  NaN    7.73%\n",
       "\n",
       "[262 rows x 6 columns]"
      ]
     },
     "execution_count": 3,
     "metadata": {},
     "output_type": "execute_result"
    }
   ],
   "source": [
    "vkospi"
   ]
  },
  {
   "cell_type": "code",
   "execution_count": 5,
   "metadata": {},
   "outputs": [],
   "source": [
    "vkospi = vkospi[::-1]"
   ]
  },
  {
   "cell_type": "code",
   "execution_count": 10,
   "metadata": {},
   "outputs": [],
   "source": [
    "vkospi = vkospi.reset_index()"
   ]
  },
  {
   "cell_type": "code",
   "execution_count": 11,
   "metadata": {},
   "outputs": [
    {
     "name": "stdout",
     "output_type": "stream",
     "text": [
      "[0, 0, 1, 0, 0, 0, 1, 1, 0, 1, 0, 0, 0, 1, 0, 0, 0, 0, 0, 0, 0, 1, 1, 0, 0, 0, 0, 1, 0, 0, 0, 0, 0, 0, 0, 0, 0, 1, 1, 0, 0, 1, 1, 0, 0, 1, 0, 0, 0, 0, 1, 0, 0, 1, 0, 0, 1, 1, 1, 0, 0, 0, 0, 1, 0, 0, 1, 0, 0, 0, 0, 0, 0, 0, 0, 1, 0, 1, 0, 1, 1, 1, 0, 1, 1, 0, 0, 1, 1, 1, 0, 0, 0, 0, 0, 0, 0, 0, 0, 0, 0, 0, 0, 0, 0, 0, 1, 0, 0, 0, 1, 0, 0, 0, 0, 0, 0, 0, 0, 0, 0, 0, 1, 1, 0, 1, 0, 1, 0, 0, 0, 0, 0, 0, 0, 0, 1, 0, 0, 0, 0, 1, 0, 0, 0, 1, 0, 0, 0, 1, 0, 1, 1, 0, 0, 1, 1, 0, 0, 0, 0, 0, 0, 0, 0, 0, 0, 0, 0, 0, 0, 0, 0, 1, 0, 0, 0, 0, 0, 1, 0, 0, 0, 0, 1, 1, 1, 0, 1, 0, 1, 0, 0, 0, 0, 0, 1, 0, 1, 0, 0, 0, 0, 1, 1, 0, 0, 1, 0, 0, 0, 1, 1, 0, 0, 0, 0, 0, 0, 0, 0, 0, 0, 0, 0, 0, 0, 1, 1, 0, 0, 1, 1, 0, 0, 1, 1, 0, 1, 0, 0, 1, 0, 1, 1, 1, 1, 0, 0, 0, 1, 0, 0, 1, 1, 0, 0, 1, 1, 1, 0, 1]\n"
     ]
    }
   ],
   "source": [
    "label = []\n",
    "\n",
    "for i in range(len(vkospi['날짜'])):\n",
    "\tif vkospi['시가'][i] > vkospi['종가'][i]:\n",
    "\t\tresult = 0\n",
    "\t\tlabel.append(result)\n",
    "\telse:\n",
    "\t\tresult = 1\n",
    "\t\tlabel.append(result)\n",
    "\n",
    "print(label)"
   ]
  },
  {
   "cell_type": "code",
   "execution_count": null,
   "metadata": {},
   "outputs": [],
   "source": []
  }
 ],
 "metadata": {
  "kernelspec": {
   "display_name": "Python 3",
   "language": "python",
   "name": "python3"
  },
  "language_info": {
   "codemirror_mode": {
    "name": "ipython",
    "version": 3
   },
   "file_extension": ".py",
   "mimetype": "text/x-python",
   "name": "python",
   "nbconvert_exporter": "python",
   "pygments_lexer": "ipython3",
   "version": "3.11.4"
  }
 },
 "nbformat": 4,
 "nbformat_minor": 2
}

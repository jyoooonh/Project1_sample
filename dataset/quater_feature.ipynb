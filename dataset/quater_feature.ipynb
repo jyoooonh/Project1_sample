{
 "cells": [
  {
   "cell_type": "code",
   "execution_count": 1,
   "metadata": {},
   "outputs": [],
   "source": [
    "import pandas as pd"
   ]
  },
  {
   "cell_type": "code",
   "execution_count": 2,
   "metadata": {},
   "outputs": [],
   "source": [
    "feature_list = []"
   ]
  },
  {
   "cell_type": "code",
   "execution_count": 3,
   "metadata": {},
   "outputs": [
    {
     "name": "stdout",
     "output_type": "stream",
     "text": [
      "<class 'pandas.core.frame.DataFrame'>\n",
      "DatetimeIndex: 80 entries, 2023-06-12 to 2023-10-06\n",
      "Data columns (total 3 columns):\n",
      " #   Column  Non-Null Count  Dtype  \n",
      "---  ------  --------------  -----  \n",
      " 0   시장베이시스  80 non-null     float64\n",
      " 1   이론베이시스  79 non-null     float64\n",
      " 2   괴리율     79 non-null     float64\n",
      "dtypes: float64(3)\n",
      "memory usage: 2.5 KB\n"
     ]
    },
    {
     "data": {
      "text/html": [
       "<div>\n",
       "<style scoped>\n",
       "    .dataframe tbody tr th:only-of-type {\n",
       "        vertical-align: middle;\n",
       "    }\n",
       "\n",
       "    .dataframe tbody tr th {\n",
       "        vertical-align: top;\n",
       "    }\n",
       "\n",
       "    .dataframe thead th {\n",
       "        text-align: right;\n",
       "    }\n",
       "</style>\n",
       "<table border=\"1\" class=\"dataframe\">\n",
       "  <thead>\n",
       "    <tr style=\"text-align: right;\">\n",
       "      <th></th>\n",
       "      <th>시장베이시스</th>\n",
       "      <th>이론베이시스</th>\n",
       "      <th>괴리율</th>\n",
       "    </tr>\n",
       "    <tr>\n",
       "      <th>일자</th>\n",
       "      <th></th>\n",
       "      <th></th>\n",
       "      <th></th>\n",
       "    </tr>\n",
       "  </thead>\n",
       "  <tbody>\n",
       "    <tr>\n",
       "      <th>2023-06-12</th>\n",
       "      <td>2.71</td>\n",
       "      <td>2.38</td>\n",
       "      <td>0.09</td>\n",
       "    </tr>\n",
       "    <tr>\n",
       "      <th>2023-06-13</th>\n",
       "      <td>2.08</td>\n",
       "      <td>2.25</td>\n",
       "      <td>-0.05</td>\n",
       "    </tr>\n",
       "    <tr>\n",
       "      <th>2023-06-14</th>\n",
       "      <td>2.01</td>\n",
       "      <td>2.24</td>\n",
       "      <td>-0.07</td>\n",
       "    </tr>\n",
       "    <tr>\n",
       "      <th>2023-06-15</th>\n",
       "      <td>1.75</td>\n",
       "      <td>2.18</td>\n",
       "      <td>-0.12</td>\n",
       "    </tr>\n",
       "    <tr>\n",
       "      <th>2023-06-16</th>\n",
       "      <td>1.96</td>\n",
       "      <td>2.14</td>\n",
       "      <td>-0.05</td>\n",
       "    </tr>\n",
       "    <tr>\n",
       "      <th>...</th>\n",
       "      <td>...</td>\n",
       "      <td>...</td>\n",
       "      <td>...</td>\n",
       "    </tr>\n",
       "    <tr>\n",
       "      <th>2023-09-26</th>\n",
       "      <td>1.52</td>\n",
       "      <td>1.96</td>\n",
       "      <td>-0.13</td>\n",
       "    </tr>\n",
       "    <tr>\n",
       "      <th>2023-09-27</th>\n",
       "      <td>1.45</td>\n",
       "      <td>2.71</td>\n",
       "      <td>-0.38</td>\n",
       "    </tr>\n",
       "    <tr>\n",
       "      <th>2023-10-04</th>\n",
       "      <td>2.29</td>\n",
       "      <td>2.67</td>\n",
       "      <td>-0.12</td>\n",
       "    </tr>\n",
       "    <tr>\n",
       "      <th>2023-10-05</th>\n",
       "      <td>0.65</td>\n",
       "      <td>2.38</td>\n",
       "      <td>-0.54</td>\n",
       "    </tr>\n",
       "    <tr>\n",
       "      <th>2023-10-06</th>\n",
       "      <td>1.17</td>\n",
       "      <td>2.35</td>\n",
       "      <td>-0.37</td>\n",
       "    </tr>\n",
       "  </tbody>\n",
       "</table>\n",
       "<p>80 rows × 3 columns</p>\n",
       "</div>"
      ],
      "text/plain": [
       "            시장베이시스  이론베이시스   괴리율\n",
       "일자                              \n",
       "2023-06-12    2.71    2.38  0.09\n",
       "2023-06-13    2.08    2.25 -0.05\n",
       "2023-06-14    2.01    2.24 -0.07\n",
       "2023-06-15    1.75    2.18 -0.12\n",
       "2023-06-16    1.96    2.14 -0.05\n",
       "...            ...     ...   ...\n",
       "2023-09-26    1.52    1.96 -0.13\n",
       "2023-09-27    1.45    2.71 -0.38\n",
       "2023-10-04    2.29    2.67 -0.12\n",
       "2023-10-05    0.65    2.38 -0.54\n",
       "2023-10-06    1.17    2.35 -0.37\n",
       "\n",
       "[80 rows x 3 columns]"
      ]
     },
     "execution_count": 3,
     "metadata": {},
     "output_type": "execute_result"
    }
   ],
   "source": [
    "basis = pd.read_csv('./quater_clean_feature/basis_quater.csv', index_col=0)\n",
    "basis['일자'] = pd.to_datetime(basis['일자'])\n",
    "basis = basis.set_index('일자')\n",
    "feature_list.append(basis)\n",
    "basis.info()\n",
    "basis"
   ]
  },
  {
   "cell_type": "code",
   "execution_count": 4,
   "metadata": {},
   "outputs": [
    {
     "name": "stdout",
     "output_type": "stream",
     "text": [
      "<class 'pandas.core.frame.DataFrame'>\n",
      "DatetimeIndex: 85 entries, 2023-06-12 to 2023-10-06\n",
      "Data columns (total 1 columns):\n",
      " #   Column     Non-Null Count  Dtype  \n",
      "---  ------     --------------  -----  \n",
      " 0   원위안 야간변동율  85 non-null     float64\n",
      "dtypes: float64(1)\n",
      "memory usage: 1.3 KB\n"
     ]
    },
    {
     "data": {
      "text/html": [
       "<div>\n",
       "<style scoped>\n",
       "    .dataframe tbody tr th:only-of-type {\n",
       "        vertical-align: middle;\n",
       "    }\n",
       "\n",
       "    .dataframe tbody tr th {\n",
       "        vertical-align: top;\n",
       "    }\n",
       "\n",
       "    .dataframe thead th {\n",
       "        text-align: right;\n",
       "    }\n",
       "</style>\n",
       "<table border=\"1\" class=\"dataframe\">\n",
       "  <thead>\n",
       "    <tr style=\"text-align: right;\">\n",
       "      <th></th>\n",
       "      <th>원위안 야간변동율</th>\n",
       "    </tr>\n",
       "    <tr>\n",
       "      <th>날짜</th>\n",
       "      <th></th>\n",
       "    </tr>\n",
       "  </thead>\n",
       "  <tbody>\n",
       "    <tr>\n",
       "      <th>2023-06-12</th>\n",
       "      <td>0.044</td>\n",
       "    </tr>\n",
       "    <tr>\n",
       "      <th>2023-06-13</th>\n",
       "      <td>0.050</td>\n",
       "    </tr>\n",
       "    <tr>\n",
       "      <th>2023-06-14</th>\n",
       "      <td>0.045</td>\n",
       "    </tr>\n",
       "  </tbody>\n",
       "</table>\n",
       "</div>"
      ],
      "text/plain": [
       "            원위안 야간변동율\n",
       "날짜                   \n",
       "2023-06-12      0.044\n",
       "2023-06-13      0.050\n",
       "2023-06-14      0.045"
      ]
     },
     "execution_count": 4,
     "metadata": {},
     "output_type": "execute_result"
    }
   ],
   "source": [
    "cny = pd.read_csv('./quater_clean_feature/cny_quater.csv', index_col=0)\n",
    "cny['날짜'] = pd.to_datetime(cny['날짜'])\n",
    "cny = cny.set_index('날짜')\n",
    "cny.columns = ['원위안 야간변동율']\n",
    "feature_list.append(cny)\n",
    "cny.info()\n",
    "cny.head(3)"
   ]
  },
  {
   "cell_type": "code",
   "execution_count": 5,
   "metadata": {},
   "outputs": [
    {
     "name": "stdout",
     "output_type": "stream",
     "text": [
      "<class 'pandas.core.frame.DataFrame'>\n",
      "DatetimeIndex: 85 entries, 2023-06-12 to 2023-10-06\n",
      "Data columns (total 1 columns):\n",
      " #   Column    Non-Null Count  Dtype  \n",
      "---  ------    --------------  -----  \n",
      " 0   원엔 야간변동율  85 non-null     float64\n",
      "dtypes: float64(1)\n",
      "memory usage: 1.3 KB\n"
     ]
    },
    {
     "data": {
      "text/html": [
       "<div>\n",
       "<style scoped>\n",
       "    .dataframe tbody tr th:only-of-type {\n",
       "        vertical-align: middle;\n",
       "    }\n",
       "\n",
       "    .dataframe tbody tr th {\n",
       "        vertical-align: top;\n",
       "    }\n",
       "\n",
       "    .dataframe thead th {\n",
       "        text-align: right;\n",
       "    }\n",
       "</style>\n",
       "<table border=\"1\" class=\"dataframe\">\n",
       "  <thead>\n",
       "    <tr style=\"text-align: right;\">\n",
       "      <th></th>\n",
       "      <th>원엔 야간변동율</th>\n",
       "    </tr>\n",
       "    <tr>\n",
       "      <th>날짜</th>\n",
       "      <th></th>\n",
       "    </tr>\n",
       "  </thead>\n",
       "  <tbody>\n",
       "    <tr>\n",
       "      <th>2023-06-12</th>\n",
       "      <td>0.003</td>\n",
       "    </tr>\n",
       "    <tr>\n",
       "      <th>2023-06-13</th>\n",
       "      <td>0.029</td>\n",
       "    </tr>\n",
       "    <tr>\n",
       "      <th>2023-06-14</th>\n",
       "      <td>0.037</td>\n",
       "    </tr>\n",
       "  </tbody>\n",
       "</table>\n",
       "</div>"
      ],
      "text/plain": [
       "            원엔 야간변동율\n",
       "날짜                  \n",
       "2023-06-12     0.003\n",
       "2023-06-13     0.029\n",
       "2023-06-14     0.037"
      ]
     },
     "execution_count": 5,
     "metadata": {},
     "output_type": "execute_result"
    }
   ],
   "source": [
    "jpy = pd.read_csv('./quater_clean_feature/jpy_quater.csv', index_col=0)\n",
    "jpy['날짜'] = pd.to_datetime(jpy['날짜'])\n",
    "jpy = jpy.set_index('날짜')\n",
    "jpy.columns = ['원엔 야간변동율']\n",
    "feature_list.append(jpy)\n",
    "jpy.info()\n",
    "jpy.head(3)"
   ]
  },
  {
   "cell_type": "code",
   "execution_count": 6,
   "metadata": {},
   "outputs": [
    {
     "name": "stdout",
     "output_type": "stream",
     "text": [
      "<class 'pandas.core.frame.DataFrame'>\n",
      "DatetimeIndex: 80 entries, 2023-06-12 to 2023-10-06\n",
      "Data columns (total 2 columns):\n",
      " #   Column       Non-Null Count  Dtype  \n",
      "---  ------       --------------  -----  \n",
      " 0   KOSPI 전날변동율  80 non-null     float64\n",
      " 1   KOSPI 야간변동율  80 non-null     float64\n",
      "dtypes: float64(2)\n",
      "memory usage: 1.9 KB\n"
     ]
    },
    {
     "data": {
      "text/html": [
       "<div>\n",
       "<style scoped>\n",
       "    .dataframe tbody tr th:only-of-type {\n",
       "        vertical-align: middle;\n",
       "    }\n",
       "\n",
       "    .dataframe tbody tr th {\n",
       "        vertical-align: top;\n",
       "    }\n",
       "\n",
       "    .dataframe thead th {\n",
       "        text-align: right;\n",
       "    }\n",
       "</style>\n",
       "<table border=\"1\" class=\"dataframe\">\n",
       "  <thead>\n",
       "    <tr style=\"text-align: right;\">\n",
       "      <th></th>\n",
       "      <th>KOSPI 전날변동율</th>\n",
       "      <th>KOSPI 야간변동율</th>\n",
       "    </tr>\n",
       "    <tr>\n",
       "      <th>날짜</th>\n",
       "      <th></th>\n",
       "      <th></th>\n",
       "    </tr>\n",
       "  </thead>\n",
       "  <tbody>\n",
       "    <tr>\n",
       "      <th>2023-06-12</th>\n",
       "      <td>1.16</td>\n",
       "      <td>0.240</td>\n",
       "    </tr>\n",
       "    <tr>\n",
       "      <th>2023-06-13</th>\n",
       "      <td>-0.45</td>\n",
       "      <td>0.574</td>\n",
       "    </tr>\n",
       "    <tr>\n",
       "      <th>2023-06-14</th>\n",
       "      <td>0.33</td>\n",
       "      <td>0.108</td>\n",
       "    </tr>\n",
       "  </tbody>\n",
       "</table>\n",
       "</div>"
      ],
      "text/plain": [
       "            KOSPI 전날변동율  KOSPI 야간변동율\n",
       "날짜                                  \n",
       "2023-06-12         1.16        0.240\n",
       "2023-06-13        -0.45        0.574\n",
       "2023-06-14         0.33        0.108"
      ]
     },
     "execution_count": 6,
     "metadata": {},
     "output_type": "execute_result"
    }
   ],
   "source": [
    "kospi = pd.read_csv('./quater_clean_feature/kospi_quater.csv', index_col=0)\n",
    "kospi['날짜'] = pd.to_datetime(kospi['날짜'])\n",
    "kospi = kospi.set_index('날짜')\n",
    "kospi.columns = ['KOSPI 전날변동율', 'KOSPI 야간변동율']\n",
    "feature_list.append(kospi)\n",
    "kospi.info()\n",
    "kospi.head(3)"
   ]
  },
  {
   "cell_type": "code",
   "execution_count": 7,
   "metadata": {},
   "outputs": [
    {
     "name": "stdout",
     "output_type": "stream",
     "text": [
      "<class 'pandas.core.frame.DataFrame'>\n",
      "DatetimeIndex: 80 entries, 2023-06-12 to 2023-10-06\n",
      "Data columns (total 2 columns):\n",
      " #   Column       Non-Null Count  Dtype  \n",
      "---  ------       --------------  -----  \n",
      " 0   KS200 전날변동율  80 non-null     float64\n",
      " 1   KS200 야간변동율  80 non-null     float64\n",
      "dtypes: float64(2)\n",
      "memory usage: 1.9 KB\n"
     ]
    },
    {
     "data": {
      "text/html": [
       "<div>\n",
       "<style scoped>\n",
       "    .dataframe tbody tr th:only-of-type {\n",
       "        vertical-align: middle;\n",
       "    }\n",
       "\n",
       "    .dataframe tbody tr th {\n",
       "        vertical-align: top;\n",
       "    }\n",
       "\n",
       "    .dataframe thead th {\n",
       "        text-align: right;\n",
       "    }\n",
       "</style>\n",
       "<table border=\"1\" class=\"dataframe\">\n",
       "  <thead>\n",
       "    <tr style=\"text-align: right;\">\n",
       "      <th></th>\n",
       "      <th>KS200 전날변동율</th>\n",
       "      <th>KS200 야간변동율</th>\n",
       "    </tr>\n",
       "    <tr>\n",
       "      <th>날짜</th>\n",
       "      <th></th>\n",
       "      <th></th>\n",
       "    </tr>\n",
       "  </thead>\n",
       "  <tbody>\n",
       "    <tr>\n",
       "      <th>2023-06-12</th>\n",
       "      <td>1.18</td>\n",
       "      <td>0.216</td>\n",
       "    </tr>\n",
       "    <tr>\n",
       "      <th>2023-06-13</th>\n",
       "      <td>-0.64</td>\n",
       "      <td>0.682</td>\n",
       "    </tr>\n",
       "    <tr>\n",
       "      <th>2023-06-14</th>\n",
       "      <td>0.53</td>\n",
       "      <td>0.029</td>\n",
       "    </tr>\n",
       "  </tbody>\n",
       "</table>\n",
       "</div>"
      ],
      "text/plain": [
       "            KS200 전날변동율  KS200 야간변동율\n",
       "날짜                                  \n",
       "2023-06-12         1.18        0.216\n",
       "2023-06-13        -0.64        0.682\n",
       "2023-06-14         0.53        0.029"
      ]
     },
     "execution_count": 7,
     "metadata": {},
     "output_type": "execute_result"
    }
   ],
   "source": [
    "ks200 = pd.read_csv('./quater_clean_feature/ks200_quater.csv', index_col=0)\n",
    "ks200['날짜'] = pd.to_datetime(ks200['날짜'])\n",
    "ks200 = ks200.set_index('날짜')\n",
    "ks200.columns = ['KS200 전날변동율', 'KS200 야간변동율']\n",
    "feature_list.append(ks200)\n",
    "ks200.info()\n",
    "ks200.head(3)"
   ]
  },
  {
   "cell_type": "code",
   "execution_count": 8,
   "metadata": {},
   "outputs": [
    {
     "name": "stdout",
     "output_type": "stream",
     "text": [
      "<class 'pandas.core.frame.DataFrame'>\n",
      "DatetimeIndex: 82 entries, 2023-06-12 to 2023-10-06\n",
      "Data columns (total 3 columns):\n",
      " #   Column     Non-Null Count  Dtype  \n",
      "---  ------     --------------  -----  \n",
      " 0   NAS 야간변동율  82 non-null     float64\n",
      " 1   NAS 당일변동율  82 non-null     float64\n",
      " 2   NAS 당일변화량  82 non-null     float64\n",
      "dtypes: float64(3)\n",
      "memory usage: 2.6 KB\n"
     ]
    },
    {
     "data": {
      "text/html": [
       "<div>\n",
       "<style scoped>\n",
       "    .dataframe tbody tr th:only-of-type {\n",
       "        vertical-align: middle;\n",
       "    }\n",
       "\n",
       "    .dataframe tbody tr th {\n",
       "        vertical-align: top;\n",
       "    }\n",
       "\n",
       "    .dataframe thead th {\n",
       "        text-align: right;\n",
       "    }\n",
       "</style>\n",
       "<table border=\"1\" class=\"dataframe\">\n",
       "  <thead>\n",
       "    <tr style=\"text-align: right;\">\n",
       "      <th></th>\n",
       "      <th>NAS 야간변동율</th>\n",
       "      <th>NAS 당일변동율</th>\n",
       "      <th>NAS 당일변화량</th>\n",
       "    </tr>\n",
       "    <tr>\n",
       "      <th>날짜</th>\n",
       "      <th></th>\n",
       "      <th></th>\n",
       "      <th></th>\n",
       "    </tr>\n",
       "  </thead>\n",
       "  <tbody>\n",
       "    <tr>\n",
       "      <th>2023-06-12</th>\n",
       "      <td>0.16</td>\n",
       "      <td>-0.400</td>\n",
       "      <td>156.62</td>\n",
       "    </tr>\n",
       "    <tr>\n",
       "      <th>2023-06-13</th>\n",
       "      <td>1.53</td>\n",
       "      <td>1.017</td>\n",
       "      <td>163.33</td>\n",
       "    </tr>\n",
       "    <tr>\n",
       "      <th>2023-06-14</th>\n",
       "      <td>0.83</td>\n",
       "      <td>0.050</td>\n",
       "      <td>121.21</td>\n",
       "    </tr>\n",
       "  </tbody>\n",
       "</table>\n",
       "</div>"
      ],
      "text/plain": [
       "            NAS 야간변동율  NAS 당일변동율  NAS 당일변화량\n",
       "날짜                                         \n",
       "2023-06-12       0.16     -0.400     156.62\n",
       "2023-06-13       1.53      1.017     163.33\n",
       "2023-06-14       0.83      0.050     121.21"
      ]
     },
     "execution_count": 8,
     "metadata": {},
     "output_type": "execute_result"
    }
   ],
   "source": [
    "nas = pd.read_csv('./quater_clean_feature/nas_quater.csv', index_col=0)\n",
    "nas['날짜'] = pd.to_datetime(nas['날짜'])\n",
    "nas = nas.set_index('날짜')\n",
    "nas.columns = ['NAS 야간변동율', 'NAS 당일변동율', 'NAS 당일변화량']\n",
    "feature_list.append(nas)\n",
    "nas.info()\n",
    "nas.head(3)"
   ]
  },
  {
   "cell_type": "code",
   "execution_count": 9,
   "metadata": {},
   "outputs": [
    {
     "name": "stdout",
     "output_type": "stream",
     "text": [
      "<class 'pandas.core.frame.DataFrame'>\n",
      "DatetimeIndex: 80 entries, 2023-06-12 to 2023-10-06\n",
      "Data columns (total 5 columns):\n",
      " #   Column              Non-Null Count  Dtype  \n",
      "---  ------              --------------  -----  \n",
      " 0   P/C Ratio           80 non-null     float64\n",
      " 1   CALL_vol_change(%)  80 non-null     float64\n",
      " 2   PUT_vol_change(%)   80 non-null     float64\n",
      " 3   CALL_vol_fluc       80 non-null     float64\n",
      " 4   PUT_vol_fluc        80 non-null     float64\n",
      "dtypes: float64(5)\n",
      "memory usage: 3.8 KB\n"
     ]
    },
    {
     "data": {
      "text/html": [
       "<div>\n",
       "<style scoped>\n",
       "    .dataframe tbody tr th:only-of-type {\n",
       "        vertical-align: middle;\n",
       "    }\n",
       "\n",
       "    .dataframe tbody tr th {\n",
       "        vertical-align: top;\n",
       "    }\n",
       "\n",
       "    .dataframe thead th {\n",
       "        text-align: right;\n",
       "    }\n",
       "</style>\n",
       "<table border=\"1\" class=\"dataframe\">\n",
       "  <thead>\n",
       "    <tr style=\"text-align: right;\">\n",
       "      <th></th>\n",
       "      <th>P/C Ratio</th>\n",
       "      <th>CALL_vol_change(%)</th>\n",
       "      <th>PUT_vol_change(%)</th>\n",
       "      <th>CALL_vol_fluc</th>\n",
       "      <th>PUT_vol_fluc</th>\n",
       "    </tr>\n",
       "    <tr>\n",
       "      <th>일자</th>\n",
       "      <th></th>\n",
       "      <th></th>\n",
       "      <th></th>\n",
       "      <th></th>\n",
       "      <th></th>\n",
       "    </tr>\n",
       "  </thead>\n",
       "  <tbody>\n",
       "    <tr>\n",
       "      <th>2023-06-12</th>\n",
       "      <td>1.18</td>\n",
       "      <td>-65.695</td>\n",
       "      <td>-56.898</td>\n",
       "      <td>-1134951.0</td>\n",
       "      <td>-920014.0</td>\n",
       "    </tr>\n",
       "    <tr>\n",
       "      <th>2023-06-13</th>\n",
       "      <td>1.02</td>\n",
       "      <td>-10.829</td>\n",
       "      <td>-22.393</td>\n",
       "      <td>-64179.0</td>\n",
       "      <td>-156068.0</td>\n",
       "    </tr>\n",
       "    <tr>\n",
       "      <th>2023-06-14</th>\n",
       "      <td>0.80</td>\n",
       "      <td>1.630</td>\n",
       "      <td>-20.137</td>\n",
       "      <td>8616.0</td>\n",
       "      <td>-108915.0</td>\n",
       "    </tr>\n",
       "  </tbody>\n",
       "</table>\n",
       "</div>"
      ],
      "text/plain": [
       "            P/C Ratio  CALL_vol_change(%)  PUT_vol_change(%)  CALL_vol_fluc  \\\n",
       "일자                                                                            \n",
       "2023-06-12       1.18             -65.695            -56.898     -1134951.0   \n",
       "2023-06-13       1.02             -10.829            -22.393       -64179.0   \n",
       "2023-06-14       0.80               1.630            -20.137         8616.0   \n",
       "\n",
       "            PUT_vol_fluc  \n",
       "일자                        \n",
       "2023-06-12     -920014.0  \n",
       "2023-06-13     -156068.0  \n",
       "2023-06-14     -108915.0  "
      ]
     },
     "execution_count": 9,
     "metadata": {},
     "output_type": "execute_result"
    }
   ],
   "source": [
    "pc = pd.read_csv('./quater_clean_feature/put_call_quater.csv', index_col=0)\n",
    "pc['일자'] = pd.to_datetime(pc['일자'])\n",
    "pc = pc.set_index('일자')\n",
    "feature_list.append(pc)\n",
    "pc.info()\n",
    "pc.head(3)"
   ]
  },
  {
   "cell_type": "code",
   "execution_count": 10,
   "metadata": {},
   "outputs": [
    {
     "name": "stdout",
     "output_type": "stream",
     "text": [
      "<class 'pandas.core.frame.DataFrame'>\n",
      "DatetimeIndex: 82 entries, 2023-06-12 to 2023-10-06\n",
      "Data columns (total 3 columns):\n",
      " #   Column     Non-Null Count  Dtype  \n",
      "---  ------     --------------  -----  \n",
      " 0   S&P 야간변동율  82 non-null     float64\n",
      " 1   S&P 당일변동율  82 non-null     float64\n",
      " 2   S&P 당일변화량  82 non-null     float64\n",
      "dtypes: float64(3)\n",
      "memory usage: 2.6 KB\n"
     ]
    },
    {
     "data": {
      "text/html": [
       "<div>\n",
       "<style scoped>\n",
       "    .dataframe tbody tr th:only-of-type {\n",
       "        vertical-align: middle;\n",
       "    }\n",
       "\n",
       "    .dataframe tbody tr th {\n",
       "        vertical-align: top;\n",
       "    }\n",
       "\n",
       "    .dataframe thead th {\n",
       "        text-align: right;\n",
       "    }\n",
       "</style>\n",
       "<table border=\"1\" class=\"dataframe\">\n",
       "  <thead>\n",
       "    <tr style=\"text-align: right;\">\n",
       "      <th></th>\n",
       "      <th>S&amp;P 야간변동율</th>\n",
       "      <th>S&amp;P 당일변동율</th>\n",
       "      <th>S&amp;P 당일변화량</th>\n",
       "    </tr>\n",
       "    <tr>\n",
       "      <th>날짜</th>\n",
       "      <th></th>\n",
       "      <th></th>\n",
       "      <th></th>\n",
       "    </tr>\n",
       "  </thead>\n",
       "  <tbody>\n",
       "    <tr>\n",
       "      <th>2023-06-12</th>\n",
       "      <td>0.11</td>\n",
       "      <td>-0.140</td>\n",
       "      <td>30.92</td>\n",
       "    </tr>\n",
       "    <tr>\n",
       "      <th>2023-06-13</th>\n",
       "      <td>0.93</td>\n",
       "      <td>0.710</td>\n",
       "      <td>35.76</td>\n",
       "    </tr>\n",
       "    <tr>\n",
       "      <th>2023-06-14</th>\n",
       "      <td>0.69</td>\n",
       "      <td>0.377</td>\n",
       "      <td>26.06</td>\n",
       "    </tr>\n",
       "  </tbody>\n",
       "</table>\n",
       "</div>"
      ],
      "text/plain": [
       "            S&P 야간변동율  S&P 당일변동율  S&P 당일변화량\n",
       "날짜                                         \n",
       "2023-06-12       0.11     -0.140      30.92\n",
       "2023-06-13       0.93      0.710      35.76\n",
       "2023-06-14       0.69      0.377      26.06"
      ]
     },
     "execution_count": 10,
     "metadata": {},
     "output_type": "execute_result"
    }
   ],
   "source": [
    "snp = pd.read_csv('./quater_clean_feature/snp_quater.csv', index_col=0)\n",
    "snp['날짜'] = pd.to_datetime(snp['날짜'])\n",
    "snp = snp.set_index('날짜')\n",
    "snp.columns = ['S&P 야간변동율', 'S&P 당일변동율', 'S&P 당일변화량']\n",
    "feature_list.append(snp)\n",
    "snp.info()\n",
    "snp.head(3)"
   ]
  },
  {
   "cell_type": "code",
   "execution_count": 11,
   "metadata": {},
   "outputs": [
    {
     "name": "stdout",
     "output_type": "stream",
     "text": [
      "<class 'pandas.core.frame.DataFrame'>\n",
      "DatetimeIndex: 85 entries, 2023-06-12 to 2023-10-06\n",
      "Data columns (total 1 columns):\n",
      " #   Column     Non-Null Count  Dtype  \n",
      "---  ------     --------------  -----  \n",
      " 0   원달러 야간변동율  85 non-null     float64\n",
      "dtypes: float64(1)\n",
      "memory usage: 1.3 KB\n"
     ]
    },
    {
     "data": {
      "text/html": [
       "<div>\n",
       "<style scoped>\n",
       "    .dataframe tbody tr th:only-of-type {\n",
       "        vertical-align: middle;\n",
       "    }\n",
       "\n",
       "    .dataframe tbody tr th {\n",
       "        vertical-align: top;\n",
       "    }\n",
       "\n",
       "    .dataframe thead th {\n",
       "        text-align: right;\n",
       "    }\n",
       "</style>\n",
       "<table border=\"1\" class=\"dataframe\">\n",
       "  <thead>\n",
       "    <tr style=\"text-align: right;\">\n",
       "      <th></th>\n",
       "      <th>원달러 야간변동율</th>\n",
       "    </tr>\n",
       "    <tr>\n",
       "      <th>날짜</th>\n",
       "      <th></th>\n",
       "    </tr>\n",
       "  </thead>\n",
       "  <tbody>\n",
       "    <tr>\n",
       "      <th>2023-06-12</th>\n",
       "      <td>0.029</td>\n",
       "    </tr>\n",
       "    <tr>\n",
       "      <th>2023-06-13</th>\n",
       "      <td>0.025</td>\n",
       "    </tr>\n",
       "    <tr>\n",
       "      <th>2023-06-14</th>\n",
       "      <td>0.025</td>\n",
       "    </tr>\n",
       "  </tbody>\n",
       "</table>\n",
       "</div>"
      ],
      "text/plain": [
       "            원달러 야간변동율\n",
       "날짜                   \n",
       "2023-06-12      0.029\n",
       "2023-06-13      0.025\n",
       "2023-06-14      0.025"
      ]
     },
     "execution_count": 11,
     "metadata": {},
     "output_type": "execute_result"
    }
   ],
   "source": [
    "usd = pd.read_csv('./quater_clean_feature/usd_quater.csv', index_col=0)\n",
    "usd['날짜'] = pd.to_datetime(usd['날짜'])\n",
    "usd = usd.set_index('날짜')\n",
    "usd.columns = ['원달러 야간변동율']\n",
    "feature_list.append(usd)\n",
    "usd.info()\n",
    "usd.head(3)"
   ]
  },
  {
   "cell_type": "code",
   "execution_count": 12,
   "metadata": {},
   "outputs": [
    {
     "name": "stdout",
     "output_type": "stream",
     "text": [
      "<class 'pandas.core.frame.DataFrame'>\n",
      "DatetimeIndex: 85 entries, 2023-06-12 to 2023-10-06\n",
      "Data columns (total 3 columns):\n",
      " #   Column     Non-Null Count  Dtype  \n",
      "---  ------     --------------  -----  \n",
      " 0   VIX 전날변동율  85 non-null     float64\n",
      " 1   VIX 당일변동율  85 non-null     float64\n",
      " 2   VIX 당일변화량  85 non-null     float64\n",
      "dtypes: float64(3)\n",
      "memory usage: 2.7 KB\n"
     ]
    },
    {
     "data": {
      "text/html": [
       "<div>\n",
       "<style scoped>\n",
       "    .dataframe tbody tr th:only-of-type {\n",
       "        vertical-align: middle;\n",
       "    }\n",
       "\n",
       "    .dataframe tbody tr th {\n",
       "        vertical-align: top;\n",
       "    }\n",
       "\n",
       "    .dataframe thead th {\n",
       "        text-align: right;\n",
       "    }\n",
       "</style>\n",
       "<table border=\"1\" class=\"dataframe\">\n",
       "  <thead>\n",
       "    <tr style=\"text-align: right;\">\n",
       "      <th></th>\n",
       "      <th>VIX 전날변동율</th>\n",
       "      <th>VIX 당일변동율</th>\n",
       "      <th>VIX 당일변화량</th>\n",
       "    </tr>\n",
       "    <tr>\n",
       "      <th>날짜</th>\n",
       "      <th></th>\n",
       "      <th></th>\n",
       "      <th></th>\n",
       "    </tr>\n",
       "  </thead>\n",
       "  <tbody>\n",
       "    <tr>\n",
       "      <th>2023-06-12</th>\n",
       "      <td>1.32</td>\n",
       "      <td>0.363</td>\n",
       "      <td>0.64</td>\n",
       "    </tr>\n",
       "    <tr>\n",
       "      <th>2023-06-13</th>\n",
       "      <td>8.53</td>\n",
       "      <td>3.947</td>\n",
       "      <td>0.70</td>\n",
       "    </tr>\n",
       "    <tr>\n",
       "      <th>2023-06-14</th>\n",
       "      <td>-2.66</td>\n",
       "      <td>-2.535</td>\n",
       "      <td>0.59</td>\n",
       "    </tr>\n",
       "  </tbody>\n",
       "</table>\n",
       "</div>"
      ],
      "text/plain": [
       "            VIX 전날변동율  VIX 당일변동율  VIX 당일변화량\n",
       "날짜                                         \n",
       "2023-06-12       1.32      0.363       0.64\n",
       "2023-06-13       8.53      3.947       0.70\n",
       "2023-06-14      -2.66     -2.535       0.59"
      ]
     },
     "execution_count": 12,
     "metadata": {},
     "output_type": "execute_result"
    }
   ],
   "source": [
    "vix = pd.read_csv('./quater_clean_feature/vix_quater.csv', index_col=0)\n",
    "vix['날짜'] = pd.to_datetime(vix['날짜'])\n",
    "vix = vix.set_index('날짜')\n",
    "vix.columns = ['VIX 전날변동율', 'VIX 당일변동율', 'VIX 당일변화량']\n",
    "feature_list.append(vix)\n",
    "vix.info()\n",
    "vix.head(3)"
   ]
  },
  {
   "cell_type": "code",
   "execution_count": 13,
   "metadata": {},
   "outputs": [
    {
     "name": "stdout",
     "output_type": "stream",
     "text": [
      "<class 'pandas.core.frame.DataFrame'>\n",
      "DatetimeIndex: 82 entries, 2023-06-12 to 2023-10-06\n",
      "Data columns (total 3 columns):\n",
      " #   Column      Non-Null Count  Dtype  \n",
      "---  ------      --------------  -----  \n",
      " 0   JNIV 종가변동율  82 non-null     float64\n",
      " 1   JNIV 전날변동율  82 non-null     float64\n",
      " 2   JNIV 전날변화량  82 non-null     float64\n",
      "dtypes: float64(3)\n",
      "memory usage: 2.6 KB\n"
     ]
    },
    {
     "data": {
      "text/html": [
       "<div>\n",
       "<style scoped>\n",
       "    .dataframe tbody tr th:only-of-type {\n",
       "        vertical-align: middle;\n",
       "    }\n",
       "\n",
       "    .dataframe tbody tr th {\n",
       "        vertical-align: top;\n",
       "    }\n",
       "\n",
       "    .dataframe thead th {\n",
       "        text-align: right;\n",
       "    }\n",
       "</style>\n",
       "<table border=\"1\" class=\"dataframe\">\n",
       "  <thead>\n",
       "    <tr style=\"text-align: right;\">\n",
       "      <th></th>\n",
       "      <th>JNIV 종가변동율</th>\n",
       "      <th>JNIV 전날변동율</th>\n",
       "      <th>JNIV 전날변화량</th>\n",
       "    </tr>\n",
       "    <tr>\n",
       "      <th>날짜</th>\n",
       "      <th></th>\n",
       "      <th></th>\n",
       "      <th></th>\n",
       "    </tr>\n",
       "  </thead>\n",
       "  <tbody>\n",
       "    <tr>\n",
       "      <th>2023-06-12</th>\n",
       "      <td>5.37</td>\n",
       "      <td>4.137</td>\n",
       "      <td>1.77</td>\n",
       "    </tr>\n",
       "    <tr>\n",
       "      <th>2023-06-13</th>\n",
       "      <td>-6.78</td>\n",
       "      <td>1.362</td>\n",
       "      <td>0.91</td>\n",
       "    </tr>\n",
       "    <tr>\n",
       "      <th>2023-06-14</th>\n",
       "      <td>-4.82</td>\n",
       "      <td>1.935</td>\n",
       "      <td>1.51</td>\n",
       "    </tr>\n",
       "  </tbody>\n",
       "</table>\n",
       "</div>"
      ],
      "text/plain": [
       "            JNIV 종가변동율  JNIV 전날변동율  JNIV 전날변화량\n",
       "날짜                                            \n",
       "2023-06-12        5.37       4.137        1.77\n",
       "2023-06-13       -6.78       1.362        0.91\n",
       "2023-06-14       -4.82       1.935        1.51"
      ]
     },
     "execution_count": 13,
     "metadata": {},
     "output_type": "execute_result"
    }
   ],
   "source": [
    "jniv = pd.read_csv('./quater_clean_feature/jniv_quater.csv', index_col=0)\n",
    "jniv['날짜'] = pd.to_datetime(jniv['날짜'])\n",
    "jniv = jniv.set_index('날짜')\n",
    "jniv.columns = ['JNIV 종가변동율', 'JNIV 전날변동율', 'JNIV 전날변화량']\n",
    "feature_list.append(jniv)\n",
    "jniv.info()\n",
    "jniv.head(3)"
   ]
  },
  {
   "cell_type": "code",
   "execution_count": 14,
   "metadata": {},
   "outputs": [
    {
     "name": "stdout",
     "output_type": "stream",
     "text": [
      "<class 'pandas.core.frame.DataFrame'>\n",
      "DatetimeIndex: 80 entries, 2023-06-12 to 2023-10-06\n",
      "Data columns (total 2 columns):\n",
      " #   Column    Non-Null Count  Dtype  \n",
      "---  ------    --------------  -----  \n",
      " 0   CD 전날변동율  80 non-null     float64\n",
      " 1   CD 전날변화량  80 non-null     float64\n",
      "dtypes: float64(2)\n",
      "memory usage: 1.9 KB\n"
     ]
    },
    {
     "data": {
      "text/html": [
       "<div>\n",
       "<style scoped>\n",
       "    .dataframe tbody tr th:only-of-type {\n",
       "        vertical-align: middle;\n",
       "    }\n",
       "\n",
       "    .dataframe tbody tr th {\n",
       "        vertical-align: top;\n",
       "    }\n",
       "\n",
       "    .dataframe thead th {\n",
       "        text-align: right;\n",
       "    }\n",
       "</style>\n",
       "<table border=\"1\" class=\"dataframe\">\n",
       "  <thead>\n",
       "    <tr style=\"text-align: right;\">\n",
       "      <th></th>\n",
       "      <th>CD 전날변동율</th>\n",
       "      <th>CD 전날변화량</th>\n",
       "    </tr>\n",
       "    <tr>\n",
       "      <th>date</th>\n",
       "      <th></th>\n",
       "      <th></th>\n",
       "    </tr>\n",
       "  </thead>\n",
       "  <tbody>\n",
       "    <tr>\n",
       "      <th>2023-06-12</th>\n",
       "      <td>0.0</td>\n",
       "      <td>0.0</td>\n",
       "    </tr>\n",
       "    <tr>\n",
       "      <th>2023-06-13</th>\n",
       "      <td>0.0</td>\n",
       "      <td>0.0</td>\n",
       "    </tr>\n",
       "    <tr>\n",
       "      <th>2023-06-14</th>\n",
       "      <td>0.0</td>\n",
       "      <td>0.0</td>\n",
       "    </tr>\n",
       "  </tbody>\n",
       "</table>\n",
       "</div>"
      ],
      "text/plain": [
       "            CD 전날변동율  CD 전날변화량\n",
       "date                          \n",
       "2023-06-12       0.0       0.0\n",
       "2023-06-13       0.0       0.0\n",
       "2023-06-14       0.0       0.0"
      ]
     },
     "execution_count": 14,
     "metadata": {},
     "output_type": "execute_result"
    }
   ],
   "source": [
    "cd = pd.read_csv('./quater_clean_feature/cd_quater.csv', index_col=0)\n",
    "cd['date'] = pd.to_datetime(cd['date'])\n",
    "cd = cd.set_index('date')\n",
    "cd.columns = ['CD 전날변동율', 'CD 전날변화량']\n",
    "feature_list.append(cd)\n",
    "cd.info()\n",
    "cd.head(3)"
   ]
  },
  {
   "cell_type": "code",
   "execution_count": 15,
   "metadata": {},
   "outputs": [],
   "source": [
    "# ks_mor = pd.read_csv('./quater_clean_feature/ks_mor_quater.csv', index_col=0)\n",
    "# ks_mor['date'] = pd.to_datetime(ks_mor['date'])\n",
    "# ks_mor = ks_mor.set_index('date')\n",
    "# feature_list.append(ks_mor)\n",
    "# ks_mor.info()\n",
    "# ks_mor.head(3)"
   ]
  },
  {
   "cell_type": "code",
   "execution_count": 16,
   "metadata": {},
   "outputs": [],
   "source": [
    "# ks200_mor = pd.read_csv('./quater_clean_feature/ks200_mor_quater.csv', index_col=0)\n",
    "# ks200_mor['date'] = pd.to_datetime(ks200_mor['date'])\n",
    "# ks200_mor = ks200_mor.set_index('date')\n",
    "# feature_list.append(ks200_mor)\n",
    "# ks200_mor.info()\n",
    "# ks200_mor.head(3)"
   ]
  },
  {
   "cell_type": "code",
   "execution_count": 17,
   "metadata": {},
   "outputs": [
    {
     "name": "stdout",
     "output_type": "stream",
     "text": [
      "<class 'pandas.core.frame.DataFrame'>\n",
      "DatetimeIndex: 80 entries, 2023-06-12 to 2023-10-06\n",
      "Data columns (total 1 columns):\n",
      " #   Column        Non-Null Count  Dtype\n",
      "---  ------        --------------  -----\n",
      " 0   VKOSPI_Label  80 non-null     int64\n",
      "dtypes: int64(1)\n",
      "memory usage: 1.2 KB\n"
     ]
    },
    {
     "data": {
      "text/html": [
       "<div>\n",
       "<style scoped>\n",
       "    .dataframe tbody tr th:only-of-type {\n",
       "        vertical-align: middle;\n",
       "    }\n",
       "\n",
       "    .dataframe tbody tr th {\n",
       "        vertical-align: top;\n",
       "    }\n",
       "\n",
       "    .dataframe thead th {\n",
       "        text-align: right;\n",
       "    }\n",
       "</style>\n",
       "<table border=\"1\" class=\"dataframe\">\n",
       "  <thead>\n",
       "    <tr style=\"text-align: right;\">\n",
       "      <th></th>\n",
       "      <th>VKOSPI_Label</th>\n",
       "    </tr>\n",
       "    <tr>\n",
       "      <th>날짜</th>\n",
       "      <th></th>\n",
       "    </tr>\n",
       "  </thead>\n",
       "  <tbody>\n",
       "    <tr>\n",
       "      <th>2023-06-12</th>\n",
       "      <td>0</td>\n",
       "    </tr>\n",
       "    <tr>\n",
       "      <th>2023-06-13</th>\n",
       "      <td>0</td>\n",
       "    </tr>\n",
       "    <tr>\n",
       "      <th>2023-06-14</th>\n",
       "      <td>0</td>\n",
       "    </tr>\n",
       "  </tbody>\n",
       "</table>\n",
       "</div>"
      ],
      "text/plain": [
       "            VKOSPI_Label\n",
       "날짜                      \n",
       "2023-06-12             0\n",
       "2023-06-13             0\n",
       "2023-06-14             0"
      ]
     },
     "execution_count": 17,
     "metadata": {},
     "output_type": "execute_result"
    }
   ],
   "source": [
    "vkospi = pd.read_csv('./quater_clean_feature/vkospi_quater.csv', index_col=0)\n",
    "vkospi['날짜'] = pd.to_datetime(vkospi['날짜'])\n",
    "vkospi = vkospi.set_index('날짜')\n",
    "feature_list.append(vkospi)\n",
    "vkospi.info()\n",
    "vkospi.head(3)"
   ]
  },
  {
   "cell_type": "code",
   "execution_count": 18,
   "metadata": {},
   "outputs": [],
   "source": [
    "df = pd.concat(feature_list, axis=1)"
   ]
  },
  {
   "cell_type": "code",
   "execution_count": 19,
   "metadata": {},
   "outputs": [],
   "source": [
    "df = df.dropna(subset=['VKOSPI_Label'])"
   ]
  },
  {
   "cell_type": "code",
   "execution_count": 20,
   "metadata": {},
   "outputs": [
    {
     "name": "stdout",
     "output_type": "stream",
     "text": [
      "<class 'pandas.core.frame.DataFrame'>\n",
      "DatetimeIndex: 80 entries, 2023-06-12 to 2023-10-06\n",
      "Data columns (total 30 columns):\n",
      " #   Column              Non-Null Count  Dtype  \n",
      "---  ------              --------------  -----  \n",
      " 0   시장베이시스              80 non-null     float64\n",
      " 1   이론베이시스              79 non-null     float64\n",
      " 2   괴리율                 79 non-null     float64\n",
      " 3   원위안 야간변동율           80 non-null     float64\n",
      " 4   원엔 야간변동율            80 non-null     float64\n",
      " 5   KOSPI 전날변동율         80 non-null     float64\n",
      " 6   KOSPI 야간변동율         80 non-null     float64\n",
      " 7   KS200 전날변동율         80 non-null     float64\n",
      " 8   KS200 야간변동율         80 non-null     float64\n",
      " 9   NAS 야간변동율           77 non-null     float64\n",
      " 10  NAS 당일변동율           77 non-null     float64\n",
      " 11  NAS 당일변화량           77 non-null     float64\n",
      " 12  P/C Ratio           80 non-null     float64\n",
      " 13  CALL_vol_change(%)  80 non-null     float64\n",
      " 14  PUT_vol_change(%)   80 non-null     float64\n",
      " 15  CALL_vol_fluc       80 non-null     float64\n",
      " 16  PUT_vol_fluc        80 non-null     float64\n",
      " 17  S&P 야간변동율           77 non-null     float64\n",
      " 18  S&P 당일변동율           77 non-null     float64\n",
      " 19  S&P 당일변화량           77 non-null     float64\n",
      " 20  원달러 야간변동율           80 non-null     float64\n",
      " 21  VIX 전날변동율           80 non-null     float64\n",
      " 22  VIX 당일변동율           80 non-null     float64\n",
      " 23  VIX 당일변화량           80 non-null     float64\n",
      " 24  JNIV 종가변동율          77 non-null     float64\n",
      " 25  JNIV 전날변동율          77 non-null     float64\n",
      " 26  JNIV 전날변화량          77 non-null     float64\n",
      " 27  CD 전날변동율            80 non-null     float64\n",
      " 28  CD 전날변화량            80 non-null     float64\n",
      " 29  VKOSPI_Label        80 non-null     float64\n",
      "dtypes: float64(30)\n",
      "memory usage: 19.4 KB\n"
     ]
    }
   ],
   "source": [
    "df.info()"
   ]
  },
  {
   "cell_type": "code",
   "execution_count": 21,
   "metadata": {},
   "outputs": [],
   "source": [
    "df = df.fillna(method='ffill')"
   ]
  },
  {
   "cell_type": "code",
   "execution_count": 22,
   "metadata": {},
   "outputs": [],
   "source": [
    "df.to_csv('./quater_features.csv')"
   ]
  },
  {
   "cell_type": "code",
   "execution_count": 23,
   "metadata": {},
   "outputs": [
    {
     "data": {
      "text/plain": [
       "VKOSPI_Label\n",
       "0.0    55\n",
       "1.0    25\n",
       "Name: count, dtype: int64"
      ]
     },
     "execution_count": 23,
     "metadata": {},
     "output_type": "execute_result"
    }
   ],
   "source": [
    "df['VKOSPI_Label'].value_counts()"
   ]
  },
  {
   "cell_type": "code",
   "execution_count": 24,
   "metadata": {},
   "outputs": [
    {
     "data": {
      "text/plain": [
       "30"
      ]
     },
     "execution_count": 24,
     "metadata": {},
     "output_type": "execute_result"
    }
   ],
   "source": [
    "len(df.columns)"
   ]
  }
 ],
 "metadata": {
  "kernelspec": {
   "display_name": "Python 3",
   "language": "python",
   "name": "python3"
  },
  "language_info": {
   "codemirror_mode": {
    "name": "ipython",
    "version": 3
   },
   "file_extension": ".py",
   "mimetype": "text/x-python",
   "name": "python",
   "nbconvert_exporter": "python",
   "pygments_lexer": "ipython3",
   "version": "3.11.4"
  }
 },
 "nbformat": 4,
 "nbformat_minor": 2
}

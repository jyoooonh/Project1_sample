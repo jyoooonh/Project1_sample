{
 "cells": [
  {
   "cell_type": "code",
   "execution_count": null,
   "metadata": {},
   "outputs": [],
   "source": [
    "import pandas as pd"
   ]
  },
  {
   "cell_type": "code",
   "execution_count": null,
   "metadata": {},
   "outputs": [],
   "source": [
    "vkospi = pd.read_csv('../test_feature/VKOSPI.csv')\n",
    "vkospi"
   ]
  },
  {
   "cell_type": "code",
   "execution_count": null,
   "metadata": {},
   "outputs": [],
   "source": [
    "new_row = {'날짜':['2023- 11- 03']}\n",
    "new_row = pd.DataFrame(new_row)\n",
    "new_row.index = [0]\n",
    "vkospi = pd.concat([new_row, vkospi], ignore_index=True)\n",
    "vkospi"
   ]
  },
  {
   "cell_type": "code",
   "execution_count": null,
   "metadata": {},
   "outputs": [],
   "source": [
    "vkospi[['종가', '시가']] = vkospi[['종가', '시가']].shift(-1)"
   ]
  },
  {
   "cell_type": "code",
   "execution_count": null,
   "metadata": {},
   "outputs": [],
   "source": [
    "vkospi"
   ]
  },
  {
   "cell_type": "code",
   "execution_count": null,
   "metadata": {},
   "outputs": [],
   "source": [
    "vkospi = vkospi[::-1]"
   ]
  },
  {
   "cell_type": "code",
   "execution_count": null,
   "metadata": {},
   "outputs": [],
   "source": [
    "vkospi"
   ]
  },
  {
   "cell_type": "code",
   "execution_count": null,
   "metadata": {},
   "outputs": [],
   "source": [
    "vkospi = vkospi.reset_index(drop=True)"
   ]
  },
  {
   "cell_type": "code",
   "execution_count": null,
   "metadata": {},
   "outputs": [],
   "source": [
    "vkospi"
   ]
  },
  {
   "cell_type": "code",
   "execution_count": null,
   "metadata": {},
   "outputs": [],
   "source": [
    "#vkospi['당일 변동율'] = round((vkospi['종가'] - vkospi['시가']) / vkospi['시가'] * 100, 3)"
   ]
  },
  {
   "cell_type": "code",
   "execution_count": null,
   "metadata": {},
   "outputs": [],
   "source": [
    "#mean_value = round(vkospi['당일 변동율'].mean(), 3)"
   ]
  },
  {
   "cell_type": "code",
   "execution_count": null,
   "metadata": {},
   "outputs": [],
   "source": [
    "label = []\n",
    "\n",
    "for i in range(len(vkospi['날짜'])):\n",
    "\tif vkospi['시가'][i] > vkospi['종가'][i]:\n",
    "\t\tresult = 0\n",
    "\t\tlabel.append(result)\n",
    "\telse:\n",
    "\t\tresult = 1\n",
    "\t\tlabel.append(result)"
   ]
  },
  {
   "cell_type": "code",
   "execution_count": null,
   "metadata": {},
   "outputs": [],
   "source": [
    "# mean_3_label = []\n",
    "# for i in range(len(vkospi['날짜'])):\n",
    "# \tif vkospi['당일 변동율'][i] > mean_value + 1:\n",
    "# \t\tresult = 1\n",
    "# \t\tmean_3_label.append(result)\n",
    "# \telif vkospi['당일 변동율'][i] < mean_value - 1:\n",
    "# \t\tresult = -1\n",
    "# \t\tmean_3_label.append(result)\n",
    "# \telse:\n",
    "# \t\tresult = 0\n",
    "# \t\tmean_3_label.append(result)"
   ]
  },
  {
   "cell_type": "code",
   "execution_count": null,
   "metadata": {},
   "outputs": [],
   "source": [
    "label_df = pd.DataFrame(label, columns=['VKOSPI_Label'])\n",
    "#mean_label_df = pd.DataFrame(mean_label, columns=['VKOSPI_mean_Label'])\n",
    "#mean_3_label_df = pd.DataFrame(mean_3_label, columns=['VKOSPI_3_Label'])"
   ]
  },
  {
   "cell_type": "code",
   "execution_count": null,
   "metadata": {},
   "outputs": [],
   "source": [
    "vkospi = pd.concat([vkospi, label_df], axis=1)"
   ]
  },
  {
   "cell_type": "code",
   "execution_count": null,
   "metadata": {},
   "outputs": [],
   "source": [
    "##### 라벨 이동\n",
    "vkospi['VKOSPI_Label'] = vkospi['VKOSPI_Label'].shift(1)"
   ]
  },
  {
   "cell_type": "code",
   "execution_count": null,
   "metadata": {},
   "outputs": [],
   "source": [
    "vkospi['날짜'] = pd.to_datetime(vkospi['날짜'])"
   ]
  },
  {
   "cell_type": "code",
   "execution_count": null,
   "metadata": {},
   "outputs": [],
   "source": [
    "vkospi[3:][['날짜', 'VKOSPI_Label']].reset_index(drop=True).to_csv(\"../test_feature/clean_feature/vkospi.csv\")"
   ]
  },
  {
   "cell_type": "code",
   "execution_count": null,
   "metadata": {},
   "outputs": [],
   "source": []
  }
 ],
 "metadata": {
  "kernelspec": {
   "display_name": "Python 3",
   "language": "python",
   "name": "python3"
  },
  "language_info": {
   "codemirror_mode": {
    "name": "ipython",
    "version": 3
   },
   "file_extension": ".py",
   "mimetype": "text/x-python",
   "name": "python",
   "nbconvert_exporter": "python",
   "pygments_lexer": "ipython3",
   "version": "3.11.4"
  }
 },
 "nbformat": 4,
 "nbformat_minor": 2
}

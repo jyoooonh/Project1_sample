{
 "cells": [
  {
   "cell_type": "code",
   "execution_count": 1,
   "metadata": {},
   "outputs": [],
   "source": [
    "import pandas as pd"
   ]
  },
  {
   "cell_type": "code",
   "execution_count": 2,
   "metadata": {},
   "outputs": [],
   "source": [
    "feature_list = []"
   ]
  },
  {
   "cell_type": "code",
   "execution_count": 3,
   "metadata": {},
   "outputs": [
    {
     "name": "stdout",
     "output_type": "stream",
     "text": [
      "<class 'pandas.core.frame.DataFrame'>\n",
      "DatetimeIndex: 19 entries, 2023-10-10 to 2023-11-03\n",
      "Data columns (total 3 columns):\n",
      " #   Column  Non-Null Count  Dtype  \n",
      "---  ------  --------------  -----  \n",
      " 0   시장베이시스  19 non-null     float64\n",
      " 1   이론베이시스  19 non-null     float64\n",
      " 2   괴리율     19 non-null     float64\n",
      "dtypes: float64(3)\n",
      "memory usage: 608.0 bytes\n"
     ]
    },
    {
     "data": {
      "text/html": [
       "<div>\n",
       "<style scoped>\n",
       "    .dataframe tbody tr th:only-of-type {\n",
       "        vertical-align: middle;\n",
       "    }\n",
       "\n",
       "    .dataframe tbody tr th {\n",
       "        vertical-align: top;\n",
       "    }\n",
       "\n",
       "    .dataframe thead th {\n",
       "        text-align: right;\n",
       "    }\n",
       "</style>\n",
       "<table border=\"1\" class=\"dataframe\">\n",
       "  <thead>\n",
       "    <tr style=\"text-align: right;\">\n",
       "      <th></th>\n",
       "      <th>시장베이시스</th>\n",
       "      <th>이론베이시스</th>\n",
       "      <th>괴리율</th>\n",
       "    </tr>\n",
       "    <tr>\n",
       "      <th>일자</th>\n",
       "      <th></th>\n",
       "      <th></th>\n",
       "      <th></th>\n",
       "    </tr>\n",
       "  </thead>\n",
       "  <tbody>\n",
       "    <tr>\n",
       "      <th>2023-10-10</th>\n",
       "      <td>1.56</td>\n",
       "      <td>2.31</td>\n",
       "      <td>-0.23</td>\n",
       "    </tr>\n",
       "    <tr>\n",
       "      <th>2023-10-11</th>\n",
       "      <td>2.34</td>\n",
       "      <td>2.17</td>\n",
       "      <td>0.05</td>\n",
       "    </tr>\n",
       "    <tr>\n",
       "      <th>2023-10-12</th>\n",
       "      <td>2.26</td>\n",
       "      <td>2.18</td>\n",
       "      <td>0.02</td>\n",
       "    </tr>\n",
       "  </tbody>\n",
       "</table>\n",
       "</div>"
      ],
      "text/plain": [
       "            시장베이시스  이론베이시스   괴리율\n",
       "일자                              \n",
       "2023-10-10    1.56    2.31 -0.23\n",
       "2023-10-11    2.34    2.17  0.05\n",
       "2023-10-12    2.26    2.18  0.02"
      ]
     },
     "execution_count": 3,
     "metadata": {},
     "output_type": "execute_result"
    }
   ],
   "source": [
    "basis = pd.read_csv('./test_feature/clean_feature/basis.csv', index_col=0)\n",
    "basis['일자'] = pd.to_datetime(basis['일자'])\n",
    "basis = basis.set_index('일자')\n",
    "feature_list.append(basis)\n",
    "basis.info()\n",
    "basis.head(3)"
   ]
  },
  {
   "cell_type": "code",
   "execution_count": 4,
   "metadata": {},
   "outputs": [
    {
     "name": "stdout",
     "output_type": "stream",
     "text": [
      "<class 'pandas.core.frame.DataFrame'>\n",
      "DatetimeIndex: 19 entries, 2023-10-10 to 2023-11-03\n",
      "Data columns (total 1 columns):\n",
      " #   Column     Non-Null Count  Dtype  \n",
      "---  ------     --------------  -----  \n",
      " 0   원위안 야간변동율  19 non-null     float64\n",
      "dtypes: float64(1)\n",
      "memory usage: 304.0 bytes\n"
     ]
    },
    {
     "data": {
      "text/html": [
       "<div>\n",
       "<style scoped>\n",
       "    .dataframe tbody tr th:only-of-type {\n",
       "        vertical-align: middle;\n",
       "    }\n",
       "\n",
       "    .dataframe tbody tr th {\n",
       "        vertical-align: top;\n",
       "    }\n",
       "\n",
       "    .dataframe thead th {\n",
       "        text-align: right;\n",
       "    }\n",
       "</style>\n",
       "<table border=\"1\" class=\"dataframe\">\n",
       "  <thead>\n",
       "    <tr style=\"text-align: right;\">\n",
       "      <th></th>\n",
       "      <th>원위안 야간변동율</th>\n",
       "    </tr>\n",
       "    <tr>\n",
       "      <th>날짜</th>\n",
       "      <th></th>\n",
       "    </tr>\n",
       "  </thead>\n",
       "  <tbody>\n",
       "    <tr>\n",
       "      <th>2023-10-10</th>\n",
       "      <td>0.070</td>\n",
       "    </tr>\n",
       "    <tr>\n",
       "      <th>2023-10-11</th>\n",
       "      <td>0.109</td>\n",
       "    </tr>\n",
       "    <tr>\n",
       "      <th>2023-10-12</th>\n",
       "      <td>0.093</td>\n",
       "    </tr>\n",
       "  </tbody>\n",
       "</table>\n",
       "</div>"
      ],
      "text/plain": [
       "            원위안 야간변동율\n",
       "날짜                   \n",
       "2023-10-10      0.070\n",
       "2023-10-11      0.109\n",
       "2023-10-12      0.093"
      ]
     },
     "execution_count": 4,
     "metadata": {},
     "output_type": "execute_result"
    }
   ],
   "source": [
    "cny = pd.read_csv('./test_feature/clean_feature/cny.csv', index_col=0)\n",
    "cny['날짜'] = pd.to_datetime(cny['날짜'])\n",
    "cny = cny.set_index('날짜')\n",
    "cny.columns = ['원위안 야간변동율']\n",
    "feature_list.append(cny)\n",
    "cny.info()\n",
    "cny.head(3)"
   ]
  },
  {
   "cell_type": "code",
   "execution_count": 5,
   "metadata": {},
   "outputs": [
    {
     "name": "stdout",
     "output_type": "stream",
     "text": [
      "<class 'pandas.core.frame.DataFrame'>\n",
      "DatetimeIndex: 19 entries, 2023-10-10 to 2023-11-03\n",
      "Data columns (total 1 columns):\n",
      " #   Column    Non-Null Count  Dtype  \n",
      "---  ------    --------------  -----  \n",
      " 0   원엔 야간변동율  19 non-null     float64\n",
      "dtypes: float64(1)\n",
      "memory usage: 304.0 bytes\n"
     ]
    },
    {
     "data": {
      "text/html": [
       "<div>\n",
       "<style scoped>\n",
       "    .dataframe tbody tr th:only-of-type {\n",
       "        vertical-align: middle;\n",
       "    }\n",
       "\n",
       "    .dataframe tbody tr th {\n",
       "        vertical-align: top;\n",
       "    }\n",
       "\n",
       "    .dataframe thead th {\n",
       "        text-align: right;\n",
       "    }\n",
       "</style>\n",
       "<table border=\"1\" class=\"dataframe\">\n",
       "  <thead>\n",
       "    <tr style=\"text-align: right;\">\n",
       "      <th></th>\n",
       "      <th>원엔 야간변동율</th>\n",
       "    </tr>\n",
       "    <tr>\n",
       "      <th>날짜</th>\n",
       "      <th></th>\n",
       "    </tr>\n",
       "  </thead>\n",
       "  <tbody>\n",
       "    <tr>\n",
       "      <th>2023-10-10</th>\n",
       "      <td>0.056</td>\n",
       "    </tr>\n",
       "    <tr>\n",
       "      <th>2023-10-11</th>\n",
       "      <td>0.105</td>\n",
       "    </tr>\n",
       "    <tr>\n",
       "      <th>2023-10-12</th>\n",
       "      <td>0.105</td>\n",
       "    </tr>\n",
       "  </tbody>\n",
       "</table>\n",
       "</div>"
      ],
      "text/plain": [
       "            원엔 야간변동율\n",
       "날짜                  \n",
       "2023-10-10     0.056\n",
       "2023-10-11     0.105\n",
       "2023-10-12     0.105"
      ]
     },
     "execution_count": 5,
     "metadata": {},
     "output_type": "execute_result"
    }
   ],
   "source": [
    "jpy = pd.read_csv('./test_feature/clean_feature/jpy.csv', index_col=0)\n",
    "jpy['날짜'] = pd.to_datetime(jpy['날짜'])\n",
    "jpy = jpy.set_index('날짜')\n",
    "jpy.columns = ['원엔 야간변동율']\n",
    "feature_list.append(jpy)\n",
    "jpy.info()\n",
    "jpy.head(3)"
   ]
  },
  {
   "cell_type": "code",
   "execution_count": 6,
   "metadata": {},
   "outputs": [
    {
     "name": "stdout",
     "output_type": "stream",
     "text": [
      "<class 'pandas.core.frame.DataFrame'>\n",
      "DatetimeIndex: 19 entries, 2023-10-10 to 2023-11-03\n",
      "Data columns (total 2 columns):\n",
      " #   Column       Non-Null Count  Dtype  \n",
      "---  ------       --------------  -----  \n",
      " 0   KOSPI 전날변동율  19 non-null     float64\n",
      " 1   KOSPI 야간변동율  19 non-null     float64\n",
      "dtypes: float64(2)\n",
      "memory usage: 456.0 bytes\n"
     ]
    },
    {
     "data": {
      "text/html": [
       "<div>\n",
       "<style scoped>\n",
       "    .dataframe tbody tr th:only-of-type {\n",
       "        vertical-align: middle;\n",
       "    }\n",
       "\n",
       "    .dataframe tbody tr th {\n",
       "        vertical-align: top;\n",
       "    }\n",
       "\n",
       "    .dataframe thead th {\n",
       "        text-align: right;\n",
       "    }\n",
       "</style>\n",
       "<table border=\"1\" class=\"dataframe\">\n",
       "  <thead>\n",
       "    <tr style=\"text-align: right;\">\n",
       "      <th></th>\n",
       "      <th>KOSPI 전날변동율</th>\n",
       "      <th>KOSPI 야간변동율</th>\n",
       "    </tr>\n",
       "    <tr>\n",
       "      <th>날짜</th>\n",
       "      <th></th>\n",
       "      <th></th>\n",
       "    </tr>\n",
       "  </thead>\n",
       "  <tbody>\n",
       "    <tr>\n",
       "      <th>2023-10-10</th>\n",
       "      <td>0.21</td>\n",
       "      <td>1.156</td>\n",
       "    </tr>\n",
       "    <tr>\n",
       "      <th>2023-10-11</th>\n",
       "      <td>-0.26</td>\n",
       "      <td>1.413</td>\n",
       "    </tr>\n",
       "    <tr>\n",
       "      <th>2023-10-12</th>\n",
       "      <td>1.98</td>\n",
       "      <td>0.617</td>\n",
       "    </tr>\n",
       "  </tbody>\n",
       "</table>\n",
       "</div>"
      ],
      "text/plain": [
       "            KOSPI 전날변동율  KOSPI 야간변동율\n",
       "날짜                                  \n",
       "2023-10-10         0.21        1.156\n",
       "2023-10-11        -0.26        1.413\n",
       "2023-10-12         1.98        0.617"
      ]
     },
     "execution_count": 6,
     "metadata": {},
     "output_type": "execute_result"
    }
   ],
   "source": [
    "kospi = pd.read_csv('./test_feature/clean_feature/kospi.csv', index_col=0)\n",
    "kospi['날짜'] = pd.to_datetime(kospi['날짜'])\n",
    "kospi = kospi.set_index('날짜')\n",
    "kospi.columns = ['KOSPI 전날변동율', 'KOSPI 야간변동율']\n",
    "feature_list.append(kospi)\n",
    "kospi.info()\n",
    "kospi.head(3)"
   ]
  },
  {
   "cell_type": "code",
   "execution_count": 7,
   "metadata": {},
   "outputs": [
    {
     "name": "stdout",
     "output_type": "stream",
     "text": [
      "<class 'pandas.core.frame.DataFrame'>\n",
      "DatetimeIndex: 19 entries, 2023-10-10 to 2023-11-03\n",
      "Data columns (total 2 columns):\n",
      " #   Column       Non-Null Count  Dtype  \n",
      "---  ------       --------------  -----  \n",
      " 0   KS200 전날변동율  19 non-null     float64\n",
      " 1   KS200 야간변동율  19 non-null     float64\n",
      "dtypes: float64(2)\n",
      "memory usage: 456.0 bytes\n"
     ]
    },
    {
     "data": {
      "text/html": [
       "<div>\n",
       "<style scoped>\n",
       "    .dataframe tbody tr th:only-of-type {\n",
       "        vertical-align: middle;\n",
       "    }\n",
       "\n",
       "    .dataframe tbody tr th {\n",
       "        vertical-align: top;\n",
       "    }\n",
       "\n",
       "    .dataframe thead th {\n",
       "        text-align: right;\n",
       "    }\n",
       "</style>\n",
       "<table border=\"1\" class=\"dataframe\">\n",
       "  <thead>\n",
       "    <tr style=\"text-align: right;\">\n",
       "      <th></th>\n",
       "      <th>KS200 전날변동율</th>\n",
       "      <th>KS200 야간변동율</th>\n",
       "    </tr>\n",
       "    <tr>\n",
       "      <th>날짜</th>\n",
       "      <th></th>\n",
       "      <th></th>\n",
       "    </tr>\n",
       "  </thead>\n",
       "  <tbody>\n",
       "    <tr>\n",
       "      <th>2023-10-10</th>\n",
       "      <td>0.11</td>\n",
       "      <td>1.264</td>\n",
       "    </tr>\n",
       "    <tr>\n",
       "      <th>2023-10-11</th>\n",
       "      <td>0.05</td>\n",
       "      <td>1.520</td>\n",
       "    </tr>\n",
       "    <tr>\n",
       "      <th>2023-10-12</th>\n",
       "      <td>1.76</td>\n",
       "      <td>0.662</td>\n",
       "    </tr>\n",
       "  </tbody>\n",
       "</table>\n",
       "</div>"
      ],
      "text/plain": [
       "            KS200 전날변동율  KS200 야간변동율\n",
       "날짜                                  \n",
       "2023-10-10         0.11        1.264\n",
       "2023-10-11         0.05        1.520\n",
       "2023-10-12         1.76        0.662"
      ]
     },
     "execution_count": 7,
     "metadata": {},
     "output_type": "execute_result"
    }
   ],
   "source": [
    "ks200 = pd.read_csv('./test_feature/clean_feature/ks200.csv', index_col=0)\n",
    "ks200['날짜'] = pd.to_datetime(ks200['날짜'])\n",
    "ks200 = ks200.set_index('날짜')\n",
    "ks200.columns = ['KS200 전날변동율', 'KS200 야간변동율']\n",
    "feature_list.append(ks200)\n",
    "ks200.info()\n",
    "ks200.head(3)"
   ]
  },
  {
   "cell_type": "code",
   "execution_count": 8,
   "metadata": {},
   "outputs": [
    {
     "name": "stdout",
     "output_type": "stream",
     "text": [
      "<class 'pandas.core.frame.DataFrame'>\n",
      "DatetimeIndex: 19 entries, 2023-10-10 to 2023-11-03\n",
      "Data columns (total 3 columns):\n",
      " #   Column     Non-Null Count  Dtype  \n",
      "---  ------     --------------  -----  \n",
      " 0   NAS 야간변동율  19 non-null     float64\n",
      " 1   NAS 당일변동율  19 non-null     float64\n",
      " 2   NAS 당일변화량  19 non-null     float64\n",
      "dtypes: float64(3)\n",
      "memory usage: 608.0 bytes\n"
     ]
    },
    {
     "data": {
      "text/html": [
       "<div>\n",
       "<style scoped>\n",
       "    .dataframe tbody tr th:only-of-type {\n",
       "        vertical-align: middle;\n",
       "    }\n",
       "\n",
       "    .dataframe tbody tr th {\n",
       "        vertical-align: top;\n",
       "    }\n",
       "\n",
       "    .dataframe thead th {\n",
       "        text-align: right;\n",
       "    }\n",
       "</style>\n",
       "<table border=\"1\" class=\"dataframe\">\n",
       "  <thead>\n",
       "    <tr style=\"text-align: right;\">\n",
       "      <th></th>\n",
       "      <th>NAS 야간변동율</th>\n",
       "      <th>NAS 당일변동율</th>\n",
       "      <th>NAS 당일변화량</th>\n",
       "    </tr>\n",
       "    <tr>\n",
       "      <th>날짜</th>\n",
       "      <th></th>\n",
       "      <th></th>\n",
       "      <th></th>\n",
       "    </tr>\n",
       "  </thead>\n",
       "  <tbody>\n",
       "    <tr>\n",
       "      <th>2023-10-10</th>\n",
       "      <td>0.39</td>\n",
       "      <td>1.186</td>\n",
       "      <td>231.82</td>\n",
       "    </tr>\n",
       "    <tr>\n",
       "      <th>2023-10-11</th>\n",
       "      <td>0.58</td>\n",
       "      <td>0.422</td>\n",
       "      <td>167.82</td>\n",
       "    </tr>\n",
       "    <tr>\n",
       "      <th>2023-10-12</th>\n",
       "      <td>0.71</td>\n",
       "      <td>0.297</td>\n",
       "      <td>121.82</td>\n",
       "    </tr>\n",
       "  </tbody>\n",
       "</table>\n",
       "</div>"
      ],
      "text/plain": [
       "            NAS 야간변동율  NAS 당일변동율  NAS 당일변화량\n",
       "날짜                                         \n",
       "2023-10-10       0.39      1.186     231.82\n",
       "2023-10-11       0.58      0.422     167.82\n",
       "2023-10-12       0.71      0.297     121.82"
      ]
     },
     "execution_count": 8,
     "metadata": {},
     "output_type": "execute_result"
    }
   ],
   "source": [
    "nas = pd.read_csv('./test_feature/clean_feature/nas.csv', index_col=0)\n",
    "nas['날짜'] = pd.to_datetime(nas['날짜'])\n",
    "nas = nas.set_index('날짜')\n",
    "nas.columns = ['NAS 야간변동율', 'NAS 당일변동율', 'NAS 당일변화량']\n",
    "feature_list.append(nas)\n",
    "nas.info()\n",
    "nas.head(3)"
   ]
  },
  {
   "cell_type": "code",
   "execution_count": 9,
   "metadata": {},
   "outputs": [
    {
     "name": "stdout",
     "output_type": "stream",
     "text": [
      "<class 'pandas.core.frame.DataFrame'>\n",
      "DatetimeIndex: 19 entries, 2023-10-10 to 2023-11-03\n",
      "Data columns (total 5 columns):\n",
      " #   Column              Non-Null Count  Dtype  \n",
      "---  ------              --------------  -----  \n",
      " 0   P/C Ratio           19 non-null     float64\n",
      " 1   CALL_vol_change(%)  19 non-null     float64\n",
      " 2   PUT_vol_change(%)   19 non-null     float64\n",
      " 3   CALL_vol_fluc       19 non-null     float64\n",
      " 4   PUT_vol_fluc        19 non-null     float64\n",
      "dtypes: float64(5)\n",
      "memory usage: 912.0 bytes\n"
     ]
    },
    {
     "data": {
      "text/html": [
       "<div>\n",
       "<style scoped>\n",
       "    .dataframe tbody tr th:only-of-type {\n",
       "        vertical-align: middle;\n",
       "    }\n",
       "\n",
       "    .dataframe tbody tr th {\n",
       "        vertical-align: top;\n",
       "    }\n",
       "\n",
       "    .dataframe thead th {\n",
       "        text-align: right;\n",
       "    }\n",
       "</style>\n",
       "<table border=\"1\" class=\"dataframe\">\n",
       "  <thead>\n",
       "    <tr style=\"text-align: right;\">\n",
       "      <th></th>\n",
       "      <th>P/C Ratio</th>\n",
       "      <th>CALL_vol_change(%)</th>\n",
       "      <th>PUT_vol_change(%)</th>\n",
       "      <th>CALL_vol_fluc</th>\n",
       "      <th>PUT_vol_fluc</th>\n",
       "    </tr>\n",
       "    <tr>\n",
       "      <th>일자</th>\n",
       "      <th></th>\n",
       "      <th></th>\n",
       "      <th></th>\n",
       "      <th></th>\n",
       "      <th></th>\n",
       "    </tr>\n",
       "  </thead>\n",
       "  <tbody>\n",
       "    <tr>\n",
       "      <th>2023-10-10</th>\n",
       "      <td>0.97</td>\n",
       "      <td>-4.057</td>\n",
       "      <td>-15.468</td>\n",
       "      <td>-39586.0</td>\n",
       "      <td>-165364.0</td>\n",
       "    </tr>\n",
       "    <tr>\n",
       "      <th>2023-10-11</th>\n",
       "      <td>0.93</td>\n",
       "      <td>64.797</td>\n",
       "      <td>59.366</td>\n",
       "      <td>606524.0</td>\n",
       "      <td>536494.0</td>\n",
       "    </tr>\n",
       "    <tr>\n",
       "      <th>2023-10-12</th>\n",
       "      <td>0.91</td>\n",
       "      <td>32.345</td>\n",
       "      <td>29.173</td>\n",
       "      <td>498944.0</td>\n",
       "      <td>420145.0</td>\n",
       "    </tr>\n",
       "  </tbody>\n",
       "</table>\n",
       "</div>"
      ],
      "text/plain": [
       "            P/C Ratio  CALL_vol_change(%)  PUT_vol_change(%)  CALL_vol_fluc  \\\n",
       "일자                                                                            \n",
       "2023-10-10       0.97              -4.057            -15.468       -39586.0   \n",
       "2023-10-11       0.93              64.797             59.366       606524.0   \n",
       "2023-10-12       0.91              32.345             29.173       498944.0   \n",
       "\n",
       "            PUT_vol_fluc  \n",
       "일자                        \n",
       "2023-10-10     -165364.0  \n",
       "2023-10-11      536494.0  \n",
       "2023-10-12      420145.0  "
      ]
     },
     "execution_count": 9,
     "metadata": {},
     "output_type": "execute_result"
    }
   ],
   "source": [
    "pc = pd.read_csv('./test_feature/clean_feature/put_call.csv', index_col=0)\n",
    "pc['일자'] = pd.to_datetime(pc['일자'])\n",
    "pc = pc.set_index('일자')\n",
    "feature_list.append(pc)\n",
    "pc.info()\n",
    "pc.head(3)"
   ]
  },
  {
   "cell_type": "code",
   "execution_count": 10,
   "metadata": {},
   "outputs": [
    {
     "name": "stdout",
     "output_type": "stream",
     "text": [
      "<class 'pandas.core.frame.DataFrame'>\n",
      "DatetimeIndex: 19 entries, 2023-10-10 to 2023-11-03\n",
      "Data columns (total 3 columns):\n",
      " #   Column     Non-Null Count  Dtype  \n",
      "---  ------     --------------  -----  \n",
      " 0   S&P 야간변동율  19 non-null     float64\n",
      " 1   S&P 당일변동율  19 non-null     float64\n",
      " 2   S&P 당일변화량  19 non-null     float64\n",
      "dtypes: float64(3)\n",
      "memory usage: 608.0 bytes\n"
     ]
    },
    {
     "data": {
      "text/html": [
       "<div>\n",
       "<style scoped>\n",
       "    .dataframe tbody tr th:only-of-type {\n",
       "        vertical-align: middle;\n",
       "    }\n",
       "\n",
       "    .dataframe tbody tr th {\n",
       "        vertical-align: top;\n",
       "    }\n",
       "\n",
       "    .dataframe thead th {\n",
       "        text-align: right;\n",
       "    }\n",
       "</style>\n",
       "<table border=\"1\" class=\"dataframe\">\n",
       "  <thead>\n",
       "    <tr style=\"text-align: right;\">\n",
       "      <th></th>\n",
       "      <th>S&amp;P 야간변동율</th>\n",
       "      <th>S&amp;P 당일변동율</th>\n",
       "      <th>S&amp;P 당일변화량</th>\n",
       "    </tr>\n",
       "    <tr>\n",
       "      <th>날짜</th>\n",
       "      <th></th>\n",
       "      <th></th>\n",
       "      <th></th>\n",
       "    </tr>\n",
       "  </thead>\n",
       "  <tbody>\n",
       "    <tr>\n",
       "      <th>2023-10-10</th>\n",
       "      <td>0.63</td>\n",
       "      <td>1.087</td>\n",
       "      <td>57.94</td>\n",
       "    </tr>\n",
       "    <tr>\n",
       "      <th>2023-10-11</th>\n",
       "      <td>0.52</td>\n",
       "      <td>0.426</td>\n",
       "      <td>45.82</td>\n",
       "    </tr>\n",
       "    <tr>\n",
       "      <th>2023-10-12</th>\n",
       "      <td>0.43</td>\n",
       "      <td>0.237</td>\n",
       "      <td>33.30</td>\n",
       "    </tr>\n",
       "  </tbody>\n",
       "</table>\n",
       "</div>"
      ],
      "text/plain": [
       "            S&P 야간변동율  S&P 당일변동율  S&P 당일변화량\n",
       "날짜                                         \n",
       "2023-10-10       0.63      1.087      57.94\n",
       "2023-10-11       0.52      0.426      45.82\n",
       "2023-10-12       0.43      0.237      33.30"
      ]
     },
     "execution_count": 10,
     "metadata": {},
     "output_type": "execute_result"
    }
   ],
   "source": [
    "snp = pd.read_csv('./test_feature/clean_feature/snp.csv', index_col=0)\n",
    "snp['날짜'] = pd.to_datetime(snp['날짜'])\n",
    "snp = snp.set_index('날짜')\n",
    "snp.columns = ['S&P 야간변동율', 'S&P 당일변동율', 'S&P 당일변화량']\n",
    "feature_list.append(snp)\n",
    "snp.info()\n",
    "snp.head(3)"
   ]
  },
  {
   "cell_type": "code",
   "execution_count": 11,
   "metadata": {},
   "outputs": [
    {
     "name": "stdout",
     "output_type": "stream",
     "text": [
      "<class 'pandas.core.frame.DataFrame'>\n",
      "DatetimeIndex: 19 entries, 2023-10-10 to 2023-11-03\n",
      "Data columns (total 1 columns):\n",
      " #   Column     Non-Null Count  Dtype  \n",
      "---  ------     --------------  -----  \n",
      " 0   원달러 야간변동율  19 non-null     float64\n",
      "dtypes: float64(1)\n",
      "memory usage: 304.0 bytes\n"
     ]
    },
    {
     "data": {
      "text/html": [
       "<div>\n",
       "<style scoped>\n",
       "    .dataframe tbody tr th:only-of-type {\n",
       "        vertical-align: middle;\n",
       "    }\n",
       "\n",
       "    .dataframe tbody tr th {\n",
       "        vertical-align: top;\n",
       "    }\n",
       "\n",
       "    .dataframe thead th {\n",
       "        text-align: right;\n",
       "    }\n",
       "</style>\n",
       "<table border=\"1\" class=\"dataframe\">\n",
       "  <thead>\n",
       "    <tr style=\"text-align: right;\">\n",
       "      <th></th>\n",
       "      <th>원달러 야간변동율</th>\n",
       "    </tr>\n",
       "    <tr>\n",
       "      <th>날짜</th>\n",
       "      <th></th>\n",
       "    </tr>\n",
       "  </thead>\n",
       "  <tbody>\n",
       "    <tr>\n",
       "      <th>2023-10-10</th>\n",
       "      <td>0.086</td>\n",
       "    </tr>\n",
       "    <tr>\n",
       "      <th>2023-10-11</th>\n",
       "      <td>0.096</td>\n",
       "    </tr>\n",
       "    <tr>\n",
       "      <th>2023-10-12</th>\n",
       "      <td>0.084</td>\n",
       "    </tr>\n",
       "  </tbody>\n",
       "</table>\n",
       "</div>"
      ],
      "text/plain": [
       "            원달러 야간변동율\n",
       "날짜                   \n",
       "2023-10-10      0.086\n",
       "2023-10-11      0.096\n",
       "2023-10-12      0.084"
      ]
     },
     "execution_count": 11,
     "metadata": {},
     "output_type": "execute_result"
    }
   ],
   "source": [
    "usd = pd.read_csv('./test_feature/clean_feature/usd.csv', index_col=0)\n",
    "usd['날짜'] = pd.to_datetime(usd['날짜'])\n",
    "usd = usd.set_index('날짜')\n",
    "usd.columns = ['원달러 야간변동율']\n",
    "feature_list.append(usd)\n",
    "usd.info()\n",
    "usd.head(3)"
   ]
  },
  {
   "cell_type": "code",
   "execution_count": 12,
   "metadata": {},
   "outputs": [
    {
     "name": "stdout",
     "output_type": "stream",
     "text": [
      "<class 'pandas.core.frame.DataFrame'>\n",
      "DatetimeIndex: 19 entries, 2023-10-10 to 2023-11-03\n",
      "Data columns (total 3 columns):\n",
      " #   Column     Non-Null Count  Dtype  \n",
      "---  ------     --------------  -----  \n",
      " 0   VIX 전날변동율  19 non-null     float64\n",
      " 1   VIX 당일변동율  19 non-null     float64\n",
      " 2   VIX 당일변화량  19 non-null     float64\n",
      "dtypes: float64(3)\n",
      "memory usage: 608.0 bytes\n"
     ]
    },
    {
     "data": {
      "text/html": [
       "<div>\n",
       "<style scoped>\n",
       "    .dataframe tbody tr th:only-of-type {\n",
       "        vertical-align: middle;\n",
       "    }\n",
       "\n",
       "    .dataframe tbody tr th {\n",
       "        vertical-align: top;\n",
       "    }\n",
       "\n",
       "    .dataframe thead th {\n",
       "        text-align: right;\n",
       "    }\n",
       "</style>\n",
       "<table border=\"1\" class=\"dataframe\">\n",
       "  <thead>\n",
       "    <tr style=\"text-align: right;\">\n",
       "      <th></th>\n",
       "      <th>VIX 전날변동율</th>\n",
       "      <th>VIX 당일변동율</th>\n",
       "      <th>VIX 당일변화량</th>\n",
       "    </tr>\n",
       "    <tr>\n",
       "      <th>날짜</th>\n",
       "      <th></th>\n",
       "      <th></th>\n",
       "      <th></th>\n",
       "    </tr>\n",
       "  </thead>\n",
       "  <tbody>\n",
       "    <tr>\n",
       "      <th>2023-10-10</th>\n",
       "      <td>1.43</td>\n",
       "      <td>-9.417</td>\n",
       "      <td>2.04</td>\n",
       "    </tr>\n",
       "    <tr>\n",
       "      <th>2023-10-11</th>\n",
       "      <td>-3.79</td>\n",
       "      <td>-3.785</td>\n",
       "      <td>1.35</td>\n",
       "    </tr>\n",
       "    <tr>\n",
       "      <th>2023-10-12</th>\n",
       "      <td>-5.52</td>\n",
       "      <td>-5.074</td>\n",
       "      <td>1.69</td>\n",
       "    </tr>\n",
       "  </tbody>\n",
       "</table>\n",
       "</div>"
      ],
      "text/plain": [
       "            VIX 전날변동율  VIX 당일변동율  VIX 당일변화량\n",
       "날짜                                         \n",
       "2023-10-10       1.43     -9.417       2.04\n",
       "2023-10-11      -3.79     -3.785       1.35\n",
       "2023-10-12      -5.52     -5.074       1.69"
      ]
     },
     "execution_count": 12,
     "metadata": {},
     "output_type": "execute_result"
    }
   ],
   "source": [
    "vix = pd.read_csv('./test_feature/clean_feature/vix.csv', index_col=0)\n",
    "vix['날짜'] = pd.to_datetime(vix['날짜'])\n",
    "vix = vix.set_index('날짜')\n",
    "vix.columns = ['VIX 전날변동율', 'VIX 당일변동율', 'VIX 당일변화량']\n",
    "feature_list.append(vix)\n",
    "vix.info()\n",
    "vix.head(3)"
   ]
  },
  {
   "cell_type": "code",
   "execution_count": 13,
   "metadata": {},
   "outputs": [
    {
     "name": "stdout",
     "output_type": "stream",
     "text": [
      "<class 'pandas.core.frame.DataFrame'>\n",
      "DatetimeIndex: 19 entries, 2023-10-10 to 2023-11-03\n",
      "Data columns (total 3 columns):\n",
      " #   Column      Non-Null Count  Dtype  \n",
      "---  ------      --------------  -----  \n",
      " 0   JNIV 종가변동율  19 non-null     float64\n",
      " 1   JNIV 전날변동율  19 non-null     float64\n",
      " 2   JNIV 전날변화량  19 non-null     float64\n",
      "dtypes: float64(3)\n",
      "memory usage: 608.0 bytes\n"
     ]
    },
    {
     "data": {
      "text/html": [
       "<div>\n",
       "<style scoped>\n",
       "    .dataframe tbody tr th:only-of-type {\n",
       "        vertical-align: middle;\n",
       "    }\n",
       "\n",
       "    .dataframe tbody tr th {\n",
       "        vertical-align: top;\n",
       "    }\n",
       "\n",
       "    .dataframe thead th {\n",
       "        text-align: right;\n",
       "    }\n",
       "</style>\n",
       "<table border=\"1\" class=\"dataframe\">\n",
       "  <thead>\n",
       "    <tr style=\"text-align: right;\">\n",
       "      <th></th>\n",
       "      <th>JNIV 종가변동율</th>\n",
       "      <th>JNIV 전날변동율</th>\n",
       "      <th>JNIV 전날변화량</th>\n",
       "    </tr>\n",
       "    <tr>\n",
       "      <th>날짜</th>\n",
       "      <th></th>\n",
       "      <th></th>\n",
       "      <th></th>\n",
       "    </tr>\n",
       "  </thead>\n",
       "  <tbody>\n",
       "    <tr>\n",
       "      <th>2023-10-10</th>\n",
       "      <td>-8.44</td>\n",
       "      <td>1.214</td>\n",
       "      <td>0.76</td>\n",
       "    </tr>\n",
       "    <tr>\n",
       "      <th>2023-10-11</th>\n",
       "      <td>-1.78</td>\n",
       "      <td>-1.964</td>\n",
       "      <td>0.92</td>\n",
       "    </tr>\n",
       "    <tr>\n",
       "      <th>2023-10-12</th>\n",
       "      <td>3.03</td>\n",
       "      <td>1.983</td>\n",
       "      <td>0.69</td>\n",
       "    </tr>\n",
       "  </tbody>\n",
       "</table>\n",
       "</div>"
      ],
      "text/plain": [
       "            JNIV 종가변동율  JNIV 전날변동율  JNIV 전날변화량\n",
       "날짜                                            \n",
       "2023-10-10       -8.44       1.214        0.76\n",
       "2023-10-11       -1.78      -1.964        0.92\n",
       "2023-10-12        3.03       1.983        0.69"
      ]
     },
     "execution_count": 13,
     "metadata": {},
     "output_type": "execute_result"
    }
   ],
   "source": [
    "##### jniv 가져오기\n",
    "jniv = pd.read_csv('./test_feature/clean_feature/jniv.csv', index_col=0)\n",
    "jniv['날짜'] = pd.to_datetime(jniv['날짜'])\n",
    "jniv = jniv.set_index('날짜')\n",
    "jniv.columns = ['JNIV 종가변동율', 'JNIV 전날변동율', 'JNIV 전날변화량']\n",
    "feature_list.append(jniv)\n",
    "jniv.info()\n",
    "jniv.head(3)"
   ]
  },
  {
   "cell_type": "code",
   "execution_count": 14,
   "metadata": {},
   "outputs": [
    {
     "name": "stdout",
     "output_type": "stream",
     "text": [
      "<class 'pandas.core.frame.DataFrame'>\n",
      "DatetimeIndex: 19 entries, 2023-10-10 to 2023-11-03\n",
      "Data columns (total 2 columns):\n",
      " #   Column    Non-Null Count  Dtype  \n",
      "---  ------    --------------  -----  \n",
      " 0   CD 전날변동율  19 non-null     float64\n",
      " 1   CD 전날변화량  19 non-null     float64\n",
      "dtypes: float64(2)\n",
      "memory usage: 456.0 bytes\n"
     ]
    },
    {
     "data": {
      "text/html": [
       "<div>\n",
       "<style scoped>\n",
       "    .dataframe tbody tr th:only-of-type {\n",
       "        vertical-align: middle;\n",
       "    }\n",
       "\n",
       "    .dataframe tbody tr th {\n",
       "        vertical-align: top;\n",
       "    }\n",
       "\n",
       "    .dataframe thead th {\n",
       "        text-align: right;\n",
       "    }\n",
       "</style>\n",
       "<table border=\"1\" class=\"dataframe\">\n",
       "  <thead>\n",
       "    <tr style=\"text-align: right;\">\n",
       "      <th></th>\n",
       "      <th>CD 전날변동율</th>\n",
       "      <th>CD 전날변화량</th>\n",
       "    </tr>\n",
       "    <tr>\n",
       "      <th>date</th>\n",
       "      <th></th>\n",
       "      <th></th>\n",
       "    </tr>\n",
       "  </thead>\n",
       "  <tbody>\n",
       "    <tr>\n",
       "      <th>2023-10-10</th>\n",
       "      <td>-0.261</td>\n",
       "      <td>0.01</td>\n",
       "    </tr>\n",
       "    <tr>\n",
       "      <th>2023-10-11</th>\n",
       "      <td>0.000</td>\n",
       "      <td>0.00</td>\n",
       "    </tr>\n",
       "    <tr>\n",
       "      <th>2023-10-12</th>\n",
       "      <td>0.000</td>\n",
       "      <td>0.00</td>\n",
       "    </tr>\n",
       "  </tbody>\n",
       "</table>\n",
       "</div>"
      ],
      "text/plain": [
       "            CD 전날변동율  CD 전날변화량\n",
       "date                          \n",
       "2023-10-10    -0.261      0.01\n",
       "2023-10-11     0.000      0.00\n",
       "2023-10-12     0.000      0.00"
      ]
     },
     "execution_count": 14,
     "metadata": {},
     "output_type": "execute_result"
    }
   ],
   "source": [
    "##### CD 금리 없음\n",
    "cd = pd.read_csv('./test_feature/clean_feature/cd.csv', index_col=0)\n",
    "cd['date'] = pd.to_datetime(cd['date'])\n",
    "cd = cd.set_index('date')\n",
    "cd.columns = ['CD 전날변동율', 'CD 전날변화량']\n",
    "feature_list.append(cd)\n",
    "cd.info()\n",
    "cd.head(3)"
   ]
  },
  {
   "cell_type": "code",
   "execution_count": 15,
   "metadata": {},
   "outputs": [
    {
     "name": "stdout",
     "output_type": "stream",
     "text": [
      "<class 'pandas.core.frame.DataFrame'>\n",
      "DatetimeIndex: 19 entries, 2023-10-10 to 2023-11-03\n",
      "Data columns (total 2 columns):\n",
      " #   Column       Non-Null Count  Dtype  \n",
      "---  ------       --------------  -----  \n",
      " 0   KOSPI 오전변동율  19 non-null     float64\n",
      " 1   KOSPI 오전변화량  19 non-null     float64\n",
      "dtypes: float64(2)\n",
      "memory usage: 456.0 bytes\n"
     ]
    },
    {
     "data": {
      "text/html": [
       "<div>\n",
       "<style scoped>\n",
       "    .dataframe tbody tr th:only-of-type {\n",
       "        vertical-align: middle;\n",
       "    }\n",
       "\n",
       "    .dataframe tbody tr th {\n",
       "        vertical-align: top;\n",
       "    }\n",
       "\n",
       "    .dataframe thead th {\n",
       "        text-align: right;\n",
       "    }\n",
       "</style>\n",
       "<table border=\"1\" class=\"dataframe\">\n",
       "  <thead>\n",
       "    <tr style=\"text-align: right;\">\n",
       "      <th></th>\n",
       "      <th>KOSPI 오전변동율</th>\n",
       "      <th>KOSPI 오전변화량</th>\n",
       "    </tr>\n",
       "    <tr>\n",
       "      <th>date</th>\n",
       "      <th></th>\n",
       "      <th></th>\n",
       "    </tr>\n",
       "  </thead>\n",
       "  <tbody>\n",
       "    <tr>\n",
       "      <th>2023-10-10</th>\n",
       "      <td>-0.289</td>\n",
       "      <td>15.89</td>\n",
       "    </tr>\n",
       "    <tr>\n",
       "      <th>2023-10-11</th>\n",
       "      <td>-0.028</td>\n",
       "      <td>16.21</td>\n",
       "    </tr>\n",
       "    <tr>\n",
       "      <th>2023-10-12</th>\n",
       "      <td>0.140</td>\n",
       "      <td>10.62</td>\n",
       "    </tr>\n",
       "  </tbody>\n",
       "</table>\n",
       "</div>"
      ],
      "text/plain": [
       "            KOSPI 오전변동율  KOSPI 오전변화량\n",
       "date                                \n",
       "2023-10-10       -0.289        15.89\n",
       "2023-10-11       -0.028        16.21\n",
       "2023-10-12        0.140        10.62"
      ]
     },
     "execution_count": 15,
     "metadata": {},
     "output_type": "execute_result"
    }
   ],
   "source": [
    "ks_mor = pd.read_csv('./test_feature/clean_feature/ks_mor.csv', index_col=0)\n",
    "ks_mor['date'] = pd.to_datetime(ks_mor['date'])\n",
    "ks_mor = ks_mor.set_index('date')\n",
    "feature_list.append(ks_mor)\n",
    "ks_mor.info()\n",
    "ks_mor.head(3)"
   ]
  },
  {
   "cell_type": "code",
   "execution_count": 16,
   "metadata": {},
   "outputs": [
    {
     "name": "stdout",
     "output_type": "stream",
     "text": [
      "<class 'pandas.core.frame.DataFrame'>\n",
      "DatetimeIndex: 19 entries, 2023-10-10 to 2023-11-03\n",
      "Data columns (total 2 columns):\n",
      " #   Column       Non-Null Count  Dtype  \n",
      "---  ------       --------------  -----  \n",
      " 0   KS200 오전변동율  19 non-null     float64\n",
      " 1   KS200 오전변화량  19 non-null     float64\n",
      "dtypes: float64(2)\n",
      "memory usage: 456.0 bytes\n"
     ]
    },
    {
     "data": {
      "text/html": [
       "<div>\n",
       "<style scoped>\n",
       "    .dataframe tbody tr th:only-of-type {\n",
       "        vertical-align: middle;\n",
       "    }\n",
       "\n",
       "    .dataframe tbody tr th {\n",
       "        vertical-align: top;\n",
       "    }\n",
       "\n",
       "    .dataframe thead th {\n",
       "        text-align: right;\n",
       "    }\n",
       "</style>\n",
       "<table border=\"1\" class=\"dataframe\">\n",
       "  <thead>\n",
       "    <tr style=\"text-align: right;\">\n",
       "      <th></th>\n",
       "      <th>KS200 오전변동율</th>\n",
       "      <th>KS200 오전변화량</th>\n",
       "    </tr>\n",
       "    <tr>\n",
       "      <th>date</th>\n",
       "      <th></th>\n",
       "      <th></th>\n",
       "    </tr>\n",
       "  </thead>\n",
       "  <tbody>\n",
       "    <tr>\n",
       "      <th>2023-10-10</th>\n",
       "      <td>-0.317</td>\n",
       "      <td>2.25</td>\n",
       "    </tr>\n",
       "    <tr>\n",
       "      <th>2023-10-11</th>\n",
       "      <td>0.052</td>\n",
       "      <td>2.00</td>\n",
       "    </tr>\n",
       "    <tr>\n",
       "      <th>2023-10-12</th>\n",
       "      <td>0.238</td>\n",
       "      <td>1.71</td>\n",
       "    </tr>\n",
       "  </tbody>\n",
       "</table>\n",
       "</div>"
      ],
      "text/plain": [
       "            KS200 오전변동율  KS200 오전변화량\n",
       "date                                \n",
       "2023-10-10       -0.317         2.25\n",
       "2023-10-11        0.052         2.00\n",
       "2023-10-12        0.238         1.71"
      ]
     },
     "execution_count": 16,
     "metadata": {},
     "output_type": "execute_result"
    }
   ],
   "source": [
    "ks200_mor = pd.read_csv('./test_feature/clean_feature/ks200_mor.csv', index_col=0)\n",
    "ks200_mor['date'] = pd.to_datetime(ks200_mor['date'])\n",
    "ks200_mor = ks200_mor.set_index('date')\n",
    "feature_list.append(ks200_mor)\n",
    "ks200_mor.info()\n",
    "ks200_mor.head(3)"
   ]
  },
  {
   "cell_type": "code",
   "execution_count": 17,
   "metadata": {},
   "outputs": [
    {
     "name": "stdout",
     "output_type": "stream",
     "text": [
      "<class 'pandas.core.frame.DataFrame'>\n",
      "DatetimeIndex: 19 entries, 2023-10-10 to 2023-11-03\n",
      "Data columns (total 1 columns):\n",
      " #   Column        Non-Null Count  Dtype  \n",
      "---  ------        --------------  -----  \n",
      " 0   VKOSPI_Label  19 non-null     float64\n",
      "dtypes: float64(1)\n",
      "memory usage: 304.0 bytes\n"
     ]
    },
    {
     "data": {
      "text/html": [
       "<div>\n",
       "<style scoped>\n",
       "    .dataframe tbody tr th:only-of-type {\n",
       "        vertical-align: middle;\n",
       "    }\n",
       "\n",
       "    .dataframe tbody tr th {\n",
       "        vertical-align: top;\n",
       "    }\n",
       "\n",
       "    .dataframe thead th {\n",
       "        text-align: right;\n",
       "    }\n",
       "</style>\n",
       "<table border=\"1\" class=\"dataframe\">\n",
       "  <thead>\n",
       "    <tr style=\"text-align: right;\">\n",
       "      <th></th>\n",
       "      <th>VKOSPI_Label</th>\n",
       "    </tr>\n",
       "    <tr>\n",
       "      <th>날짜</th>\n",
       "      <th></th>\n",
       "    </tr>\n",
       "  </thead>\n",
       "  <tbody>\n",
       "    <tr>\n",
       "      <th>2023-10-10</th>\n",
       "      <td>1.0</td>\n",
       "    </tr>\n",
       "    <tr>\n",
       "      <th>2023-10-11</th>\n",
       "      <td>1.0</td>\n",
       "    </tr>\n",
       "    <tr>\n",
       "      <th>2023-10-12</th>\n",
       "      <td>1.0</td>\n",
       "    </tr>\n",
       "  </tbody>\n",
       "</table>\n",
       "</div>"
      ],
      "text/plain": [
       "            VKOSPI_Label\n",
       "날짜                      \n",
       "2023-10-10           1.0\n",
       "2023-10-11           1.0\n",
       "2023-10-12           1.0"
      ]
     },
     "execution_count": 17,
     "metadata": {},
     "output_type": "execute_result"
    }
   ],
   "source": [
    "vkospi = pd.read_csv('./test_feature/clean_feature/vkospi.csv', index_col=0)\n",
    "vkospi['날짜'] = pd.to_datetime(vkospi['날짜'])\n",
    "vkospi = vkospi.set_index('날짜')\n",
    "feature_list.append(vkospi)\n",
    "vkospi.info()\n",
    "vkospi.head(3)"
   ]
  },
  {
   "cell_type": "code",
   "execution_count": 18,
   "metadata": {},
   "outputs": [],
   "source": [
    "df = pd.concat(feature_list, axis=1)"
   ]
  },
  {
   "cell_type": "code",
   "execution_count": 19,
   "metadata": {},
   "outputs": [],
   "source": [
    "# df = df.dropna(subset=['VKOSPI_Label'])"
   ]
  },
  {
   "cell_type": "code",
   "execution_count": 20,
   "metadata": {},
   "outputs": [
    {
     "name": "stdout",
     "output_type": "stream",
     "text": [
      "<class 'pandas.core.frame.DataFrame'>\n",
      "DatetimeIndex: 19 entries, 2023-10-10 to 2023-11-03\n",
      "Data columns (total 34 columns):\n",
      " #   Column              Non-Null Count  Dtype  \n",
      "---  ------              --------------  -----  \n",
      " 0   시장베이시스              19 non-null     float64\n",
      " 1   이론베이시스              19 non-null     float64\n",
      " 2   괴리율                 19 non-null     float64\n",
      " 3   원위안 야간변동율           19 non-null     float64\n",
      " 4   원엔 야간변동율            19 non-null     float64\n",
      " 5   KOSPI 전날변동율         19 non-null     float64\n",
      " 6   KOSPI 야간변동율         19 non-null     float64\n",
      " 7   KS200 전날변동율         19 non-null     float64\n",
      " 8   KS200 야간변동율         19 non-null     float64\n",
      " 9   NAS 야간변동율           19 non-null     float64\n",
      " 10  NAS 당일변동율           19 non-null     float64\n",
      " 11  NAS 당일변화량           19 non-null     float64\n",
      " 12  P/C Ratio           19 non-null     float64\n",
      " 13  CALL_vol_change(%)  19 non-null     float64\n",
      " 14  PUT_vol_change(%)   19 non-null     float64\n",
      " 15  CALL_vol_fluc       19 non-null     float64\n",
      " 16  PUT_vol_fluc        19 non-null     float64\n",
      " 17  S&P 야간변동율           19 non-null     float64\n",
      " 18  S&P 당일변동율           19 non-null     float64\n",
      " 19  S&P 당일변화량           19 non-null     float64\n",
      " 20  원달러 야간변동율           19 non-null     float64\n",
      " 21  VIX 전날변동율           19 non-null     float64\n",
      " 22  VIX 당일변동율           19 non-null     float64\n",
      " 23  VIX 당일변화량           19 non-null     float64\n",
      " 24  JNIV 종가변동율          19 non-null     float64\n",
      " 25  JNIV 전날변동율          19 non-null     float64\n",
      " 26  JNIV 전날변화량          19 non-null     float64\n",
      " 27  CD 전날변동율            19 non-null     float64\n",
      " 28  CD 전날변화량            19 non-null     float64\n",
      " 29  KOSPI 오전변동율         19 non-null     float64\n",
      " 30  KOSPI 오전변화량         19 non-null     float64\n",
      " 31  KS200 오전변동율         19 non-null     float64\n",
      " 32  KS200 오전변화량         19 non-null     float64\n",
      " 33  VKOSPI_Label        19 non-null     float64\n",
      "dtypes: float64(34)\n",
      "memory usage: 5.2 KB\n"
     ]
    }
   ],
   "source": [
    "df.info()"
   ]
  },
  {
   "cell_type": "code",
   "execution_count": 21,
   "metadata": {},
   "outputs": [],
   "source": [
    "df = df.fillna(method='ffill')"
   ]
  },
  {
   "cell_type": "code",
   "execution_count": 22,
   "metadata": {},
   "outputs": [],
   "source": [
    "df.to_csv('./test_features_2month.csv')"
   ]
  },
  {
   "cell_type": "code",
   "execution_count": 23,
   "metadata": {},
   "outputs": [],
   "source": [
    "#df['VKOSPI_Label'].value_counts()"
   ]
  },
  {
   "cell_type": "code",
   "execution_count": 24,
   "metadata": {},
   "outputs": [
    {
     "data": {
      "text/plain": [
       "34"
      ]
     },
     "execution_count": 24,
     "metadata": {},
     "output_type": "execute_result"
    }
   ],
   "source": [
    "len(df.columns)"
   ]
  },
  {
   "cell_type": "code",
   "execution_count": null,
   "metadata": {},
   "outputs": [],
   "source": []
  }
 ],
 "metadata": {
  "kernelspec": {
   "display_name": "Python 3",
   "language": "python",
   "name": "python3"
  },
  "language_info": {
   "codemirror_mode": {
    "name": "ipython",
    "version": 3
   },
   "file_extension": ".py",
   "mimetype": "text/x-python",
   "name": "python",
   "nbconvert_exporter": "python",
   "pygments_lexer": "ipython3",
   "version": "3.11.4"
  }
 },
 "nbformat": 4,
 "nbformat_minor": 2
}

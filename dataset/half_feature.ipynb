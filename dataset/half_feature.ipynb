{
 "cells": [
  {
   "cell_type": "code",
   "execution_count": 45,
   "metadata": {},
   "outputs": [],
   "source": [
    "import pandas as pd"
   ]
  },
  {
   "cell_type": "code",
   "execution_count": 46,
   "metadata": {},
   "outputs": [],
   "source": [
    "feature_list = []"
   ]
  },
  {
   "cell_type": "code",
   "execution_count": 47,
   "metadata": {},
   "outputs": [
    {
     "name": "stdout",
     "output_type": "stream",
     "text": [
      "<class 'pandas.core.frame.DataFrame'>\n",
      "DatetimeIndex: 121 entries, 2023-04-10 to 2023-10-06\n",
      "Data columns (total 3 columns):\n",
      " #   Column  Non-Null Count  Dtype  \n",
      "---  ------  --------------  -----  \n",
      " 0   시장베이시스  121 non-null    float64\n",
      " 1   이론베이시스  119 non-null    float64\n",
      " 2   괴리율     119 non-null    float64\n",
      "dtypes: float64(3)\n",
      "memory usage: 3.8 KB\n"
     ]
    },
    {
     "data": {
      "text/html": [
       "<div>\n",
       "<style scoped>\n",
       "    .dataframe tbody tr th:only-of-type {\n",
       "        vertical-align: middle;\n",
       "    }\n",
       "\n",
       "    .dataframe tbody tr th {\n",
       "        vertical-align: top;\n",
       "    }\n",
       "\n",
       "    .dataframe thead th {\n",
       "        text-align: right;\n",
       "    }\n",
       "</style>\n",
       "<table border=\"1\" class=\"dataframe\">\n",
       "  <thead>\n",
       "    <tr style=\"text-align: right;\">\n",
       "      <th></th>\n",
       "      <th>시장베이시스</th>\n",
       "      <th>이론베이시스</th>\n",
       "      <th>괴리율</th>\n",
       "    </tr>\n",
       "    <tr>\n",
       "      <th>일자</th>\n",
       "      <th></th>\n",
       "      <th></th>\n",
       "      <th></th>\n",
       "    </tr>\n",
       "  </thead>\n",
       "  <tbody>\n",
       "    <tr>\n",
       "      <th>2023-04-10</th>\n",
       "      <td>1.49</td>\n",
       "      <td>1.97</td>\n",
       "      <td>-0.15</td>\n",
       "    </tr>\n",
       "    <tr>\n",
       "      <th>2023-04-11</th>\n",
       "      <td>1.57</td>\n",
       "      <td>1.86</td>\n",
       "      <td>-0.09</td>\n",
       "    </tr>\n",
       "    <tr>\n",
       "      <th>2023-04-12</th>\n",
       "      <td>1.28</td>\n",
       "      <td>1.83</td>\n",
       "      <td>-0.17</td>\n",
       "    </tr>\n",
       "  </tbody>\n",
       "</table>\n",
       "</div>"
      ],
      "text/plain": [
       "            시장베이시스  이론베이시스   괴리율\n",
       "일자                              \n",
       "2023-04-10    1.49    1.97 -0.15\n",
       "2023-04-11    1.57    1.86 -0.09\n",
       "2023-04-12    1.28    1.83 -0.17"
      ]
     },
     "execution_count": 47,
     "metadata": {},
     "output_type": "execute_result"
    }
   ],
   "source": [
    "basis = pd.read_csv('./half_clean_feature/basis_half.csv', index_col=0)\n",
    "basis['일자'] = pd.to_datetime(basis['일자'])\n",
    "basis = basis.set_index('일자')\n",
    "feature_list.append(basis)\n",
    "basis.info()\n",
    "basis.head(3)"
   ]
  },
  {
   "cell_type": "code",
   "execution_count": 48,
   "metadata": {},
   "outputs": [
    {
     "name": "stdout",
     "output_type": "stream",
     "text": [
      "<class 'pandas.core.frame.DataFrame'>\n",
      "DatetimeIndex: 130 entries, 2023-04-10 to 2023-10-06\n",
      "Data columns (total 1 columns):\n",
      " #   Column     Non-Null Count  Dtype  \n",
      "---  ------     --------------  -----  \n",
      " 0   원위안 야간변동율  130 non-null    float64\n",
      "dtypes: float64(1)\n",
      "memory usage: 2.0 KB\n"
     ]
    },
    {
     "data": {
      "text/html": [
       "<div>\n",
       "<style scoped>\n",
       "    .dataframe tbody tr th:only-of-type {\n",
       "        vertical-align: middle;\n",
       "    }\n",
       "\n",
       "    .dataframe tbody tr th {\n",
       "        vertical-align: top;\n",
       "    }\n",
       "\n",
       "    .dataframe thead th {\n",
       "        text-align: right;\n",
       "    }\n",
       "</style>\n",
       "<table border=\"1\" class=\"dataframe\">\n",
       "  <thead>\n",
       "    <tr style=\"text-align: right;\">\n",
       "      <th></th>\n",
       "      <th>원위안 야간변동율</th>\n",
       "    </tr>\n",
       "    <tr>\n",
       "      <th>날짜</th>\n",
       "      <th></th>\n",
       "    </tr>\n",
       "  </thead>\n",
       "  <tbody>\n",
       "    <tr>\n",
       "      <th>2023-04-10</th>\n",
       "      <td>0.037</td>\n",
       "    </tr>\n",
       "    <tr>\n",
       "      <th>2023-04-11</th>\n",
       "      <td>0.042</td>\n",
       "    </tr>\n",
       "    <tr>\n",
       "      <th>2023-04-12</th>\n",
       "      <td>0.036</td>\n",
       "    </tr>\n",
       "  </tbody>\n",
       "</table>\n",
       "</div>"
      ],
      "text/plain": [
       "            원위안 야간변동율\n",
       "날짜                   \n",
       "2023-04-10      0.037\n",
       "2023-04-11      0.042\n",
       "2023-04-12      0.036"
      ]
     },
     "execution_count": 48,
     "metadata": {},
     "output_type": "execute_result"
    }
   ],
   "source": [
    "cny = pd.read_csv('./half_clean_feature/cny_half.csv', index_col=0)\n",
    "cny['날짜'] = pd.to_datetime(cny['날짜'])\n",
    "cny = cny.set_index('날짜')\n",
    "cny.columns = ['원위안 야간변동율']\n",
    "feature_list.append(cny)\n",
    "cny.info()\n",
    "cny.head(3)"
   ]
  },
  {
   "cell_type": "code",
   "execution_count": 49,
   "metadata": {},
   "outputs": [
    {
     "name": "stdout",
     "output_type": "stream",
     "text": [
      "<class 'pandas.core.frame.DataFrame'>\n",
      "DatetimeIndex: 130 entries, 2023-04-10 to 2023-10-06\n",
      "Data columns (total 1 columns):\n",
      " #   Column    Non-Null Count  Dtype  \n",
      "---  ------    --------------  -----  \n",
      " 0   원엔 야간변동율  130 non-null    float64\n",
      "dtypes: float64(1)\n",
      "memory usage: 2.0 KB\n"
     ]
    },
    {
     "data": {
      "text/html": [
       "<div>\n",
       "<style scoped>\n",
       "    .dataframe tbody tr th:only-of-type {\n",
       "        vertical-align: middle;\n",
       "    }\n",
       "\n",
       "    .dataframe tbody tr th {\n",
       "        vertical-align: top;\n",
       "    }\n",
       "\n",
       "    .dataframe thead th {\n",
       "        text-align: right;\n",
       "    }\n",
       "</style>\n",
       "<table border=\"1\" class=\"dataframe\">\n",
       "  <thead>\n",
       "    <tr style=\"text-align: right;\">\n",
       "      <th></th>\n",
       "      <th>원엔 야간변동율</th>\n",
       "    </tr>\n",
       "    <tr>\n",
       "      <th>날짜</th>\n",
       "      <th></th>\n",
       "    </tr>\n",
       "  </thead>\n",
       "  <tbody>\n",
       "    <tr>\n",
       "      <th>2023-04-10</th>\n",
       "      <td>0.029</td>\n",
       "    </tr>\n",
       "    <tr>\n",
       "      <th>2023-04-11</th>\n",
       "      <td>0.038</td>\n",
       "    </tr>\n",
       "    <tr>\n",
       "      <th>2023-04-12</th>\n",
       "      <td>0.051</td>\n",
       "    </tr>\n",
       "  </tbody>\n",
       "</table>\n",
       "</div>"
      ],
      "text/plain": [
       "            원엔 야간변동율\n",
       "날짜                  \n",
       "2023-04-10     0.029\n",
       "2023-04-11     0.038\n",
       "2023-04-12     0.051"
      ]
     },
     "execution_count": 49,
     "metadata": {},
     "output_type": "execute_result"
    }
   ],
   "source": [
    "jpy = pd.read_csv('./half_clean_feature/jpy_half.csv', index_col=0)\n",
    "jpy['날짜'] = pd.to_datetime(jpy['날짜'])\n",
    "jpy = jpy.set_index('날짜')\n",
    "jpy.columns = ['원엔 야간변동율']\n",
    "feature_list.append(jpy)\n",
    "jpy.info()\n",
    "jpy.head(3)"
   ]
  },
  {
   "cell_type": "code",
   "execution_count": 50,
   "metadata": {},
   "outputs": [
    {
     "name": "stdout",
     "output_type": "stream",
     "text": [
      "<class 'pandas.core.frame.DataFrame'>\n",
      "DatetimeIndex: 121 entries, 2023-04-10 to 2023-10-06\n",
      "Data columns (total 2 columns):\n",
      " #   Column       Non-Null Count  Dtype  \n",
      "---  ------       --------------  -----  \n",
      " 0   KOSPI 전날변동율  121 non-null    float64\n",
      " 1   KOSPI 야간변동율  121 non-null    float64\n",
      "dtypes: float64(2)\n",
      "memory usage: 2.8 KB\n"
     ]
    },
    {
     "data": {
      "text/html": [
       "<div>\n",
       "<style scoped>\n",
       "    .dataframe tbody tr th:only-of-type {\n",
       "        vertical-align: middle;\n",
       "    }\n",
       "\n",
       "    .dataframe tbody tr th {\n",
       "        vertical-align: top;\n",
       "    }\n",
       "\n",
       "    .dataframe thead th {\n",
       "        text-align: right;\n",
       "    }\n",
       "</style>\n",
       "<table border=\"1\" class=\"dataframe\">\n",
       "  <thead>\n",
       "    <tr style=\"text-align: right;\">\n",
       "      <th></th>\n",
       "      <th>KOSPI 전날변동율</th>\n",
       "      <th>KOSPI 야간변동율</th>\n",
       "    </tr>\n",
       "    <tr>\n",
       "      <th>날짜</th>\n",
       "      <th></th>\n",
       "      <th></th>\n",
       "    </tr>\n",
       "  </thead>\n",
       "  <tbody>\n",
       "    <tr>\n",
       "      <th>2023-04-10</th>\n",
       "      <td>1.27</td>\n",
       "      <td>0.051</td>\n",
       "    </tr>\n",
       "    <tr>\n",
       "      <th>2023-04-11</th>\n",
       "      <td>0.87</td>\n",
       "      <td>0.448</td>\n",
       "    </tr>\n",
       "    <tr>\n",
       "      <th>2023-04-12</th>\n",
       "      <td>1.42</td>\n",
       "      <td>-0.059</td>\n",
       "    </tr>\n",
       "  </tbody>\n",
       "</table>\n",
       "</div>"
      ],
      "text/plain": [
       "            KOSPI 전날변동율  KOSPI 야간변동율\n",
       "날짜                                  \n",
       "2023-04-10         1.27        0.051\n",
       "2023-04-11         0.87        0.448\n",
       "2023-04-12         1.42       -0.059"
      ]
     },
     "execution_count": 50,
     "metadata": {},
     "output_type": "execute_result"
    }
   ],
   "source": [
    "kospi = pd.read_csv('./half_clean_feature/kospi_half.csv', index_col=0)\n",
    "kospi['날짜'] = pd.to_datetime(kospi['날짜'])\n",
    "kospi = kospi.set_index('날짜')\n",
    "kospi.columns = ['KOSPI 전날변동율', 'KOSPI 야간변동율']\n",
    "feature_list.append(kospi)\n",
    "kospi.info()\n",
    "kospi.head(3)"
   ]
  },
  {
   "cell_type": "code",
   "execution_count": 51,
   "metadata": {},
   "outputs": [
    {
     "name": "stdout",
     "output_type": "stream",
     "text": [
      "<class 'pandas.core.frame.DataFrame'>\n",
      "DatetimeIndex: 121 entries, 2023-04-10 to 2023-10-06\n",
      "Data columns (total 2 columns):\n",
      " #   Column       Non-Null Count  Dtype  \n",
      "---  ------       --------------  -----  \n",
      " 0   KS200 전날변동율  121 non-null    float64\n",
      " 1   KS200 야간변동율  121 non-null    float64\n",
      "dtypes: float64(2)\n",
      "memory usage: 2.8 KB\n"
     ]
    },
    {
     "data": {
      "text/html": [
       "<div>\n",
       "<style scoped>\n",
       "    .dataframe tbody tr th:only-of-type {\n",
       "        vertical-align: middle;\n",
       "    }\n",
       "\n",
       "    .dataframe tbody tr th {\n",
       "        vertical-align: top;\n",
       "    }\n",
       "\n",
       "    .dataframe thead th {\n",
       "        text-align: right;\n",
       "    }\n",
       "</style>\n",
       "<table border=\"1\" class=\"dataframe\">\n",
       "  <thead>\n",
       "    <tr style=\"text-align: right;\">\n",
       "      <th></th>\n",
       "      <th>KS200 전날변동율</th>\n",
       "      <th>KS200 야간변동율</th>\n",
       "    </tr>\n",
       "    <tr>\n",
       "      <th>날짜</th>\n",
       "      <th></th>\n",
       "      <th></th>\n",
       "    </tr>\n",
       "  </thead>\n",
       "  <tbody>\n",
       "    <tr>\n",
       "      <th>2023-04-10</th>\n",
       "      <td>1.74</td>\n",
       "      <td>-0.028</td>\n",
       "    </tr>\n",
       "    <tr>\n",
       "      <th>2023-04-11</th>\n",
       "      <td>0.93</td>\n",
       "      <td>0.496</td>\n",
       "    </tr>\n",
       "    <tr>\n",
       "      <th>2023-04-12</th>\n",
       "      <td>1.38</td>\n",
       "      <td>0.003</td>\n",
       "    </tr>\n",
       "  </tbody>\n",
       "</table>\n",
       "</div>"
      ],
      "text/plain": [
       "            KS200 전날변동율  KS200 야간변동율\n",
       "날짜                                  \n",
       "2023-04-10         1.74       -0.028\n",
       "2023-04-11         0.93        0.496\n",
       "2023-04-12         1.38        0.003"
      ]
     },
     "execution_count": 51,
     "metadata": {},
     "output_type": "execute_result"
    }
   ],
   "source": [
    "ks200 = pd.read_csv('./half_clean_feature/ks200_half.csv', index_col=0)\n",
    "ks200['날짜'] = pd.to_datetime(ks200['날짜'])\n",
    "ks200 = ks200.set_index('날짜')\n",
    "ks200.columns = ['KS200 전날변동율', 'KS200 야간변동율']\n",
    "feature_list.append(ks200)\n",
    "ks200.info()\n",
    "ks200.head(3)"
   ]
  },
  {
   "cell_type": "code",
   "execution_count": 52,
   "metadata": {},
   "outputs": [
    {
     "name": "stdout",
     "output_type": "stream",
     "text": [
      "<class 'pandas.core.frame.DataFrame'>\n",
      "DatetimeIndex: 126 entries, 2023-04-10 to 2023-10-06\n",
      "Data columns (total 3 columns):\n",
      " #   Column     Non-Null Count  Dtype  \n",
      "---  ------     --------------  -----  \n",
      " 0   NAS 야간변동율  126 non-null    float64\n",
      " 1   NAS 당일변동율  126 non-null    float64\n",
      " 2   NAS 당일변화량  126 non-null    float64\n",
      "dtypes: float64(3)\n",
      "memory usage: 3.9 KB\n"
     ]
    },
    {
     "data": {
      "text/html": [
       "<div>\n",
       "<style scoped>\n",
       "    .dataframe tbody tr th:only-of-type {\n",
       "        vertical-align: middle;\n",
       "    }\n",
       "\n",
       "    .dataframe tbody tr th {\n",
       "        vertical-align: top;\n",
       "    }\n",
       "\n",
       "    .dataframe thead th {\n",
       "        text-align: right;\n",
       "    }\n",
       "</style>\n",
       "<table border=\"1\" class=\"dataframe\">\n",
       "  <thead>\n",
       "    <tr style=\"text-align: right;\">\n",
       "      <th></th>\n",
       "      <th>NAS 야간변동율</th>\n",
       "      <th>NAS 당일변동율</th>\n",
       "      <th>NAS 당일변화량</th>\n",
       "    </tr>\n",
       "    <tr>\n",
       "      <th>날짜</th>\n",
       "      <th></th>\n",
       "      <th></th>\n",
       "      <th></th>\n",
       "    </tr>\n",
       "  </thead>\n",
       "  <tbody>\n",
       "    <tr>\n",
       "      <th>2023-04-10</th>\n",
       "      <td>0.76</td>\n",
       "      <td>1.247</td>\n",
       "      <td>200.14</td>\n",
       "    </tr>\n",
       "    <tr>\n",
       "      <th>2023-04-11</th>\n",
       "      <td>-0.03</td>\n",
       "      <td>0.912</td>\n",
       "      <td>160.75</td>\n",
       "    </tr>\n",
       "    <tr>\n",
       "      <th>2023-04-12</th>\n",
       "      <td>-0.43</td>\n",
       "      <td>-0.400</td>\n",
       "      <td>79.87</td>\n",
       "    </tr>\n",
       "  </tbody>\n",
       "</table>\n",
       "</div>"
      ],
      "text/plain": [
       "            NAS 야간변동율  NAS 당일변동율  NAS 당일변화량\n",
       "날짜                                         \n",
       "2023-04-10       0.76      1.247     200.14\n",
       "2023-04-11      -0.03      0.912     160.75\n",
       "2023-04-12      -0.43     -0.400      79.87"
      ]
     },
     "execution_count": 52,
     "metadata": {},
     "output_type": "execute_result"
    }
   ],
   "source": [
    "nas = pd.read_csv('./half_clean_feature/nas_half.csv', index_col=0)\n",
    "nas['날짜'] = pd.to_datetime(nas['날짜'])\n",
    "nas = nas.set_index('날짜')\n",
    "nas.columns = ['NAS 야간변동율', 'NAS 당일변동율', 'NAS 당일변화량']\n",
    "feature_list.append(nas)\n",
    "nas.info()\n",
    "nas.head(3)"
   ]
  },
  {
   "cell_type": "code",
   "execution_count": 53,
   "metadata": {},
   "outputs": [
    {
     "name": "stdout",
     "output_type": "stream",
     "text": [
      "<class 'pandas.core.frame.DataFrame'>\n",
      "DatetimeIndex: 121 entries, 2023-04-10 to 2023-10-06\n",
      "Data columns (total 5 columns):\n",
      " #   Column              Non-Null Count  Dtype  \n",
      "---  ------              --------------  -----  \n",
      " 0   P/C Ratio           121 non-null    float64\n",
      " 1   CALL_vol_change(%)  121 non-null    float64\n",
      " 2   PUT_vol_change(%)   121 non-null    float64\n",
      " 3   CALL_vol_fluc       121 non-null    float64\n",
      " 4   PUT_vol_fluc        121 non-null    float64\n",
      "dtypes: float64(5)\n",
      "memory usage: 5.7 KB\n"
     ]
    },
    {
     "data": {
      "text/html": [
       "<div>\n",
       "<style scoped>\n",
       "    .dataframe tbody tr th:only-of-type {\n",
       "        vertical-align: middle;\n",
       "    }\n",
       "\n",
       "    .dataframe tbody tr th {\n",
       "        vertical-align: top;\n",
       "    }\n",
       "\n",
       "    .dataframe thead th {\n",
       "        text-align: right;\n",
       "    }\n",
       "</style>\n",
       "<table border=\"1\" class=\"dataframe\">\n",
       "  <thead>\n",
       "    <tr style=\"text-align: right;\">\n",
       "      <th></th>\n",
       "      <th>P/C Ratio</th>\n",
       "      <th>CALL_vol_change(%)</th>\n",
       "      <th>PUT_vol_change(%)</th>\n",
       "      <th>CALL_vol_fluc</th>\n",
       "      <th>PUT_vol_fluc</th>\n",
       "    </tr>\n",
       "    <tr>\n",
       "      <th>일자</th>\n",
       "      <th></th>\n",
       "      <th></th>\n",
       "      <th></th>\n",
       "      <th></th>\n",
       "      <th></th>\n",
       "    </tr>\n",
       "  </thead>\n",
       "  <tbody>\n",
       "    <tr>\n",
       "      <th>2023-04-10</th>\n",
       "      <td>0.87</td>\n",
       "      <td>23.621</td>\n",
       "      <td>12.024</td>\n",
       "      <td>218916.0</td>\n",
       "      <td>107494.0</td>\n",
       "    </tr>\n",
       "    <tr>\n",
       "      <th>2023-04-11</th>\n",
       "      <td>0.79</td>\n",
       "      <td>43.844</td>\n",
       "      <td>29.791</td>\n",
       "      <td>502320.0</td>\n",
       "      <td>298358.0</td>\n",
       "    </tr>\n",
       "    <tr>\n",
       "      <th>2023-04-12</th>\n",
       "      <td>0.82</td>\n",
       "      <td>25.224</td>\n",
       "      <td>29.671</td>\n",
       "      <td>415705.0</td>\n",
       "      <td>385678.0</td>\n",
       "    </tr>\n",
       "  </tbody>\n",
       "</table>\n",
       "</div>"
      ],
      "text/plain": [
       "            P/C Ratio  CALL_vol_change(%)  PUT_vol_change(%)  CALL_vol_fluc  \\\n",
       "일자                                                                            \n",
       "2023-04-10       0.87              23.621             12.024       218916.0   \n",
       "2023-04-11       0.79              43.844             29.791       502320.0   \n",
       "2023-04-12       0.82              25.224             29.671       415705.0   \n",
       "\n",
       "            PUT_vol_fluc  \n",
       "일자                        \n",
       "2023-04-10      107494.0  \n",
       "2023-04-11      298358.0  \n",
       "2023-04-12      385678.0  "
      ]
     },
     "execution_count": 53,
     "metadata": {},
     "output_type": "execute_result"
    }
   ],
   "source": [
    "pc = pd.read_csv('./half_clean_feature/put_call_half.csv', index_col=0)\n",
    "pc['일자'] = pd.to_datetime(pc['일자'])\n",
    "pc = pc.set_index('일자')\n",
    "feature_list.append(pc)\n",
    "pc.info()\n",
    "pc.head(3)"
   ]
  },
  {
   "cell_type": "code",
   "execution_count": 54,
   "metadata": {},
   "outputs": [
    {
     "name": "stdout",
     "output_type": "stream",
     "text": [
      "<class 'pandas.core.frame.DataFrame'>\n",
      "DatetimeIndex: 126 entries, 2023-04-10 to 2023-10-06\n",
      "Data columns (total 3 columns):\n",
      " #   Column     Non-Null Count  Dtype  \n",
      "---  ------     --------------  -----  \n",
      " 0   S&P 야간변동율  126 non-null    float64\n",
      " 1   S&P 당일변동율  126 non-null    float64\n",
      " 2   S&P 당일변화량  126 non-null    float64\n",
      "dtypes: float64(3)\n",
      "memory usage: 3.9 KB\n"
     ]
    },
    {
     "data": {
      "text/html": [
       "<div>\n",
       "<style scoped>\n",
       "    .dataframe tbody tr th:only-of-type {\n",
       "        vertical-align: middle;\n",
       "    }\n",
       "\n",
       "    .dataframe tbody tr th {\n",
       "        vertical-align: top;\n",
       "    }\n",
       "\n",
       "    .dataframe thead th {\n",
       "        text-align: right;\n",
       "    }\n",
       "</style>\n",
       "<table border=\"1\" class=\"dataframe\">\n",
       "  <thead>\n",
       "    <tr style=\"text-align: right;\">\n",
       "      <th></th>\n",
       "      <th>S&amp;P 야간변동율</th>\n",
       "      <th>S&amp;P 당일변동율</th>\n",
       "      <th>S&amp;P 당일변화량</th>\n",
       "    </tr>\n",
       "    <tr>\n",
       "      <th>날짜</th>\n",
       "      <th></th>\n",
       "      <th></th>\n",
       "      <th></th>\n",
       "    </tr>\n",
       "  </thead>\n",
       "  <tbody>\n",
       "    <tr>\n",
       "      <th>2023-04-10</th>\n",
       "      <td>0.36</td>\n",
       "      <td>0.585</td>\n",
       "      <td>37.48</td>\n",
       "    </tr>\n",
       "    <tr>\n",
       "      <th>2023-04-11</th>\n",
       "      <td>0.10</td>\n",
       "      <td>0.585</td>\n",
       "      <td>36.95</td>\n",
       "    </tr>\n",
       "    <tr>\n",
       "      <th>2023-04-12</th>\n",
       "      <td>0.00</td>\n",
       "      <td>-0.033</td>\n",
       "      <td>21.65</td>\n",
       "    </tr>\n",
       "  </tbody>\n",
       "</table>\n",
       "</div>"
      ],
      "text/plain": [
       "            S&P 야간변동율  S&P 당일변동율  S&P 당일변화량\n",
       "날짜                                         \n",
       "2023-04-10       0.36      0.585      37.48\n",
       "2023-04-11       0.10      0.585      36.95\n",
       "2023-04-12       0.00     -0.033      21.65"
      ]
     },
     "execution_count": 54,
     "metadata": {},
     "output_type": "execute_result"
    }
   ],
   "source": [
    "snp = pd.read_csv('./half_clean_feature/snp_half.csv', index_col=0)\n",
    "snp['날짜'] = pd.to_datetime(snp['날짜'])\n",
    "snp = snp.set_index('날짜')\n",
    "snp.columns = ['S&P 야간변동율', 'S&P 당일변동율', 'S&P 당일변화량']\n",
    "feature_list.append(snp)\n",
    "snp.info()\n",
    "snp.head(3)"
   ]
  },
  {
   "cell_type": "code",
   "execution_count": 55,
   "metadata": {},
   "outputs": [
    {
     "name": "stdout",
     "output_type": "stream",
     "text": [
      "<class 'pandas.core.frame.DataFrame'>\n",
      "DatetimeIndex: 130 entries, 2023-04-10 to 2023-10-06\n",
      "Data columns (total 1 columns):\n",
      " #   Column     Non-Null Count  Dtype  \n",
      "---  ------     --------------  -----  \n",
      " 0   원달러 야간변동율  130 non-null    float64\n",
      "dtypes: float64(1)\n",
      "memory usage: 2.0 KB\n"
     ]
    },
    {
     "data": {
      "text/html": [
       "<div>\n",
       "<style scoped>\n",
       "    .dataframe tbody tr th:only-of-type {\n",
       "        vertical-align: middle;\n",
       "    }\n",
       "\n",
       "    .dataframe tbody tr th {\n",
       "        vertical-align: top;\n",
       "    }\n",
       "\n",
       "    .dataframe thead th {\n",
       "        text-align: right;\n",
       "    }\n",
       "</style>\n",
       "<table border=\"1\" class=\"dataframe\">\n",
       "  <thead>\n",
       "    <tr style=\"text-align: right;\">\n",
       "      <th></th>\n",
       "      <th>원달러 야간변동율</th>\n",
       "    </tr>\n",
       "    <tr>\n",
       "      <th>날짜</th>\n",
       "      <th></th>\n",
       "    </tr>\n",
       "  </thead>\n",
       "  <tbody>\n",
       "    <tr>\n",
       "      <th>2023-04-10</th>\n",
       "      <td>0.007</td>\n",
       "    </tr>\n",
       "    <tr>\n",
       "      <th>2023-04-11</th>\n",
       "      <td>0.028</td>\n",
       "    </tr>\n",
       "    <tr>\n",
       "      <th>2023-04-12</th>\n",
       "      <td>0.032</td>\n",
       "    </tr>\n",
       "  </tbody>\n",
       "</table>\n",
       "</div>"
      ],
      "text/plain": [
       "            원달러 야간변동율\n",
       "날짜                   \n",
       "2023-04-10      0.007\n",
       "2023-04-11      0.028\n",
       "2023-04-12      0.032"
      ]
     },
     "execution_count": 55,
     "metadata": {},
     "output_type": "execute_result"
    }
   ],
   "source": [
    "usd = pd.read_csv('./half_clean_feature/usd_half.csv', index_col=0)\n",
    "usd['날짜'] = pd.to_datetime(usd['날짜'])\n",
    "usd = usd.set_index('날짜')\n",
    "usd.columns = ['원달러 야간변동율']\n",
    "feature_list.append(usd)\n",
    "usd.info()\n",
    "usd.head(3)"
   ]
  },
  {
   "cell_type": "code",
   "execution_count": 56,
   "metadata": {},
   "outputs": [
    {
     "name": "stdout",
     "output_type": "stream",
     "text": [
      "<class 'pandas.core.frame.DataFrame'>\n",
      "DatetimeIndex: 130 entries, 2023-04-10 to 2023-10-06\n",
      "Data columns (total 3 columns):\n",
      " #   Column     Non-Null Count  Dtype  \n",
      "---  ------     --------------  -----  \n",
      " 0   VIX 전날변동율  130 non-null    float64\n",
      " 1   VIX 당일변동율  130 non-null    float64\n",
      " 2   VIX 당일변화량  130 non-null    float64\n",
      "dtypes: float64(3)\n",
      "memory usage: 4.1 KB\n"
     ]
    },
    {
     "data": {
      "text/html": [
       "<div>\n",
       "<style scoped>\n",
       "    .dataframe tbody tr th:only-of-type {\n",
       "        vertical-align: middle;\n",
       "    }\n",
       "\n",
       "    .dataframe tbody tr th {\n",
       "        vertical-align: top;\n",
       "    }\n",
       "\n",
       "    .dataframe thead th {\n",
       "        text-align: right;\n",
       "    }\n",
       "</style>\n",
       "<table border=\"1\" class=\"dataframe\">\n",
       "  <thead>\n",
       "    <tr style=\"text-align: right;\">\n",
       "      <th></th>\n",
       "      <th>VIX 전날변동율</th>\n",
       "      <th>VIX 당일변동율</th>\n",
       "      <th>VIX 당일변화량</th>\n",
       "    </tr>\n",
       "    <tr>\n",
       "      <th>날짜</th>\n",
       "      <th></th>\n",
       "      <th></th>\n",
       "      <th></th>\n",
       "    </tr>\n",
       "  </thead>\n",
       "  <tbody>\n",
       "    <tr>\n",
       "      <th>2023-04-10</th>\n",
       "      <td>0.00</td>\n",
       "      <td>0.000</td>\n",
       "      <td>0.00</td>\n",
       "    </tr>\n",
       "    <tr>\n",
       "      <th>2023-04-11</th>\n",
       "      <td>3.10</td>\n",
       "      <td>-2.166</td>\n",
       "      <td>1.12</td>\n",
       "    </tr>\n",
       "    <tr>\n",
       "      <th>2023-04-12</th>\n",
       "      <td>0.69</td>\n",
       "      <td>0.105</td>\n",
       "      <td>0.72</td>\n",
       "    </tr>\n",
       "  </tbody>\n",
       "</table>\n",
       "</div>"
      ],
      "text/plain": [
       "            VIX 전날변동율  VIX 당일변동율  VIX 당일변화량\n",
       "날짜                                         \n",
       "2023-04-10       0.00      0.000       0.00\n",
       "2023-04-11       3.10     -2.166       1.12\n",
       "2023-04-12       0.69      0.105       0.72"
      ]
     },
     "execution_count": 56,
     "metadata": {},
     "output_type": "execute_result"
    }
   ],
   "source": [
    "vix = pd.read_csv('./half_clean_feature/vix_half.csv', index_col=0)\n",
    "vix['날짜'] = pd.to_datetime(vix['날짜'])\n",
    "vix = vix.set_index('날짜')\n",
    "vix.columns = ['VIX 전날변동율', 'VIX 당일변동율', 'VIX 당일변화량']\n",
    "feature_list.append(vix)\n",
    "vix.info()\n",
    "vix.head(3)"
   ]
  },
  {
   "cell_type": "code",
   "execution_count": 57,
   "metadata": {},
   "outputs": [
    {
     "name": "stdout",
     "output_type": "stream",
     "text": [
      "<class 'pandas.core.frame.DataFrame'>\n",
      "DatetimeIndex: 124 entries, 2023-04-10 to 2023-10-06\n",
      "Data columns (total 3 columns):\n",
      " #   Column      Non-Null Count  Dtype  \n",
      "---  ------      --------------  -----  \n",
      " 0   JNIV 종가변동율  124 non-null    float64\n",
      " 1   JNIV 전날변동율  124 non-null    float64\n",
      " 2   JNIV 전날변화량  124 non-null    float64\n",
      "dtypes: float64(3)\n",
      "memory usage: 3.9 KB\n"
     ]
    },
    {
     "data": {
      "text/html": [
       "<div>\n",
       "<style scoped>\n",
       "    .dataframe tbody tr th:only-of-type {\n",
       "        vertical-align: middle;\n",
       "    }\n",
       "\n",
       "    .dataframe tbody tr th {\n",
       "        vertical-align: top;\n",
       "    }\n",
       "\n",
       "    .dataframe thead th {\n",
       "        text-align: right;\n",
       "    }\n",
       "</style>\n",
       "<table border=\"1\" class=\"dataframe\">\n",
       "  <thead>\n",
       "    <tr style=\"text-align: right;\">\n",
       "      <th></th>\n",
       "      <th>JNIV 종가변동율</th>\n",
       "      <th>JNIV 전날변동율</th>\n",
       "      <th>JNIV 전날변화량</th>\n",
       "    </tr>\n",
       "    <tr>\n",
       "      <th>날짜</th>\n",
       "      <th></th>\n",
       "      <th></th>\n",
       "      <th></th>\n",
       "    </tr>\n",
       "  </thead>\n",
       "  <tbody>\n",
       "    <tr>\n",
       "      <th>2023-04-10</th>\n",
       "      <td>0.57</td>\n",
       "      <td>1.257</td>\n",
       "      <td>0.46</td>\n",
       "    </tr>\n",
       "    <tr>\n",
       "      <th>2023-04-11</th>\n",
       "      <td>-2.37</td>\n",
       "      <td>0.698</td>\n",
       "      <td>0.47</td>\n",
       "    </tr>\n",
       "    <tr>\n",
       "      <th>2023-04-12</th>\n",
       "      <td>-0.92</td>\n",
       "      <td>2.758</td>\n",
       "      <td>0.74</td>\n",
       "    </tr>\n",
       "  </tbody>\n",
       "</table>\n",
       "</div>"
      ],
      "text/plain": [
       "            JNIV 종가변동율  JNIV 전날변동율  JNIV 전날변화량\n",
       "날짜                                            \n",
       "2023-04-10        0.57       1.257        0.46\n",
       "2023-04-11       -2.37       0.698        0.47\n",
       "2023-04-12       -0.92       2.758        0.74"
      ]
     },
     "execution_count": 57,
     "metadata": {},
     "output_type": "execute_result"
    }
   ],
   "source": [
    "jniv = pd.read_csv('./half_clean_feature/jniv_half.csv', index_col=0)\n",
    "jniv['날짜'] = pd.to_datetime(jniv['날짜'])\n",
    "jniv = jniv.set_index('날짜')\n",
    "jniv.columns = ['JNIV 종가변동율', 'JNIV 전날변동율', 'JNIV 전날변화량']\n",
    "feature_list.append(jniv)\n",
    "jniv.info()\n",
    "jniv.head(3)"
   ]
  },
  {
   "cell_type": "code",
   "execution_count": 58,
   "metadata": {},
   "outputs": [
    {
     "name": "stdout",
     "output_type": "stream",
     "text": [
      "<class 'pandas.core.frame.DataFrame'>\n",
      "DatetimeIndex: 121 entries, 2023-04-10 to 2023-10-06\n",
      "Data columns (total 2 columns):\n",
      " #   Column    Non-Null Count  Dtype  \n",
      "---  ------    --------------  -----  \n",
      " 0   CD 전날변동율  121 non-null    float64\n",
      " 1   CD 전날변화량  121 non-null    float64\n",
      "dtypes: float64(2)\n",
      "memory usage: 2.8 KB\n"
     ]
    },
    {
     "data": {
      "text/html": [
       "<div>\n",
       "<style scoped>\n",
       "    .dataframe tbody tr th:only-of-type {\n",
       "        vertical-align: middle;\n",
       "    }\n",
       "\n",
       "    .dataframe tbody tr th {\n",
       "        vertical-align: top;\n",
       "    }\n",
       "\n",
       "    .dataframe thead th {\n",
       "        text-align: right;\n",
       "    }\n",
       "</style>\n",
       "<table border=\"1\" class=\"dataframe\">\n",
       "  <thead>\n",
       "    <tr style=\"text-align: right;\">\n",
       "      <th></th>\n",
       "      <th>CD 전날변동율</th>\n",
       "      <th>CD 전날변화량</th>\n",
       "    </tr>\n",
       "    <tr>\n",
       "      <th>date</th>\n",
       "      <th></th>\n",
       "      <th></th>\n",
       "    </tr>\n",
       "  </thead>\n",
       "  <tbody>\n",
       "    <tr>\n",
       "      <th>2023-04-10</th>\n",
       "      <td>-1.397</td>\n",
       "      <td>0.05</td>\n",
       "    </tr>\n",
       "    <tr>\n",
       "      <th>2023-04-11</th>\n",
       "      <td>-0.567</td>\n",
       "      <td>0.02</td>\n",
       "    </tr>\n",
       "    <tr>\n",
       "      <th>2023-04-12</th>\n",
       "      <td>-0.855</td>\n",
       "      <td>0.03</td>\n",
       "    </tr>\n",
       "  </tbody>\n",
       "</table>\n",
       "</div>"
      ],
      "text/plain": [
       "            CD 전날변동율  CD 전날변화량\n",
       "date                          \n",
       "2023-04-10    -1.397      0.05\n",
       "2023-04-11    -0.567      0.02\n",
       "2023-04-12    -0.855      0.03"
      ]
     },
     "execution_count": 58,
     "metadata": {},
     "output_type": "execute_result"
    }
   ],
   "source": [
    "cd = pd.read_csv('./half_clean_feature/cd_half.csv', index_col=0)\n",
    "cd['date'] = pd.to_datetime(cd['date'])\n",
    "cd = cd.set_index('date')\n",
    "cd.columns = ['CD 전날변동율', 'CD 전날변화량']\n",
    "feature_list.append(cd)\n",
    "cd.info()\n",
    "cd.head(3)"
   ]
  },
  {
   "cell_type": "code",
   "execution_count": 59,
   "metadata": {},
   "outputs": [
    {
     "name": "stdout",
     "output_type": "stream",
     "text": [
      "<class 'pandas.core.frame.DataFrame'>\n",
      "DatetimeIndex: 121 entries, 2023-04-10 to 2023-10-06\n",
      "Data columns (total 1 columns):\n",
      " #   Column        Non-Null Count  Dtype  \n",
      "---  ------        --------------  -----  \n",
      " 0   VKOSPI_Label  121 non-null    float64\n",
      "dtypes: float64(1)\n",
      "memory usage: 1.9 KB\n"
     ]
    },
    {
     "data": {
      "text/html": [
       "<div>\n",
       "<style scoped>\n",
       "    .dataframe tbody tr th:only-of-type {\n",
       "        vertical-align: middle;\n",
       "    }\n",
       "\n",
       "    .dataframe tbody tr th {\n",
       "        vertical-align: top;\n",
       "    }\n",
       "\n",
       "    .dataframe thead th {\n",
       "        text-align: right;\n",
       "    }\n",
       "</style>\n",
       "<table border=\"1\" class=\"dataframe\">\n",
       "  <thead>\n",
       "    <tr style=\"text-align: right;\">\n",
       "      <th></th>\n",
       "      <th>VKOSPI_Label</th>\n",
       "    </tr>\n",
       "    <tr>\n",
       "      <th>날짜</th>\n",
       "      <th></th>\n",
       "    </tr>\n",
       "  </thead>\n",
       "  <tbody>\n",
       "    <tr>\n",
       "      <th>2023-04-10</th>\n",
       "      <td>0.0</td>\n",
       "    </tr>\n",
       "    <tr>\n",
       "      <th>2023-04-11</th>\n",
       "      <td>1.0</td>\n",
       "    </tr>\n",
       "    <tr>\n",
       "      <th>2023-04-12</th>\n",
       "      <td>0.0</td>\n",
       "    </tr>\n",
       "  </tbody>\n",
       "</table>\n",
       "</div>"
      ],
      "text/plain": [
       "            VKOSPI_Label\n",
       "날짜                      \n",
       "2023-04-10           0.0\n",
       "2023-04-11           1.0\n",
       "2023-04-12           0.0"
      ]
     },
     "execution_count": 59,
     "metadata": {},
     "output_type": "execute_result"
    }
   ],
   "source": [
    "vkospi = pd.read_csv('./half_clean_feature/vkospi_half.csv', index_col=0)\n",
    "vkospi['날짜'] = pd.to_datetime(vkospi['날짜'])\n",
    "vkospi = vkospi.set_index('날짜')\n",
    "feature_list.append(vkospi)\n",
    "vkospi.info()\n",
    "vkospi.head(3)"
   ]
  },
  {
   "cell_type": "code",
   "execution_count": 60,
   "metadata": {},
   "outputs": [],
   "source": [
    "df = pd.concat(feature_list, axis=1)"
   ]
  },
  {
   "cell_type": "code",
   "execution_count": 61,
   "metadata": {},
   "outputs": [],
   "source": [
    "df = df.dropna(subset=['VKOSPI_Label'])"
   ]
  },
  {
   "cell_type": "code",
   "execution_count": 62,
   "metadata": {},
   "outputs": [
    {
     "name": "stdout",
     "output_type": "stream",
     "text": [
      "<class 'pandas.core.frame.DataFrame'>\n",
      "DatetimeIndex: 121 entries, 2023-04-10 to 2023-10-06\n",
      "Data columns (total 30 columns):\n",
      " #   Column              Non-Null Count  Dtype  \n",
      "---  ------              --------------  -----  \n",
      " 0   시장베이시스              121 non-null    float64\n",
      " 1   이론베이시스              119 non-null    float64\n",
      " 2   괴리율                 119 non-null    float64\n",
      " 3   원위안 야간변동율           121 non-null    float64\n",
      " 4   원엔 야간변동율            121 non-null    float64\n",
      " 5   KOSPI 전날변동율         121 non-null    float64\n",
      " 6   KOSPI 야간변동율         121 non-null    float64\n",
      " 7   KS200 전날변동율         121 non-null    float64\n",
      " 8   KS200 야간변동율         121 non-null    float64\n",
      " 9   NAS 야간변동율           118 non-null    float64\n",
      " 10  NAS 당일변동율           118 non-null    float64\n",
      " 11  NAS 당일변화량           118 non-null    float64\n",
      " 12  P/C Ratio           121 non-null    float64\n",
      " 13  CALL_vol_change(%)  121 non-null    float64\n",
      " 14  PUT_vol_change(%)   121 non-null    float64\n",
      " 15  CALL_vol_fluc       121 non-null    float64\n",
      " 16  PUT_vol_fluc        121 non-null    float64\n",
      " 17  S&P 야간변동율           118 non-null    float64\n",
      " 18  S&P 당일변동율           118 non-null    float64\n",
      " 19  S&P 당일변화량           118 non-null    float64\n",
      " 20  원달러 야간변동율           121 non-null    float64\n",
      " 21  VIX 전날변동율           121 non-null    float64\n",
      " 22  VIX 당일변동율           121 non-null    float64\n",
      " 23  VIX 당일변화량           121 non-null    float64\n",
      " 24  JNIV 종가변동율          116 non-null    float64\n",
      " 25  JNIV 전날변동율          116 non-null    float64\n",
      " 26  JNIV 전날변화량          116 non-null    float64\n",
      " 27  CD 전날변동율            121 non-null    float64\n",
      " 28  CD 전날변화량            121 non-null    float64\n",
      " 29  VKOSPI_Label        121 non-null    float64\n",
      "dtypes: float64(30)\n",
      "memory usage: 29.3 KB\n"
     ]
    }
   ],
   "source": [
    "df.info()"
   ]
  },
  {
   "cell_type": "code",
   "execution_count": 63,
   "metadata": {},
   "outputs": [],
   "source": [
    "df = df.fillna(method='ffill')"
   ]
  },
  {
   "cell_type": "code",
   "execution_count": 64,
   "metadata": {},
   "outputs": [],
   "source": [
    "df.to_csv('./half_features.csv')"
   ]
  },
  {
   "cell_type": "code",
   "execution_count": 65,
   "metadata": {},
   "outputs": [
    {
     "data": {
      "text/plain": [
       "VKOSPI_Label\n",
       "0.0    87\n",
       "1.0    34\n",
       "Name: count, dtype: int64"
      ]
     },
     "execution_count": 65,
     "metadata": {},
     "output_type": "execute_result"
    }
   ],
   "source": [
    "df['VKOSPI_Label'].value_counts()"
   ]
  },
  {
   "cell_type": "code",
   "execution_count": 66,
   "metadata": {},
   "outputs": [
    {
     "data": {
      "text/plain": [
       "30"
      ]
     },
     "execution_count": 66,
     "metadata": {},
     "output_type": "execute_result"
    }
   ],
   "source": [
    "len(df.columns)"
   ]
  },
  {
   "cell_type": "code",
   "execution_count": null,
   "metadata": {},
   "outputs": [],
   "source": []
  }
 ],
 "metadata": {
  "kernelspec": {
   "display_name": "Python 3",
   "language": "python",
   "name": "python3"
  },
  "language_info": {
   "codemirror_mode": {
    "name": "ipython",
    "version": 3
   },
   "file_extension": ".py",
   "mimetype": "text/x-python",
   "name": "python",
   "nbconvert_exporter": "python",
   "pygments_lexer": "ipython3",
   "version": "3.11.4"
  }
 },
 "nbformat": 4,
 "nbformat_minor": 2
}

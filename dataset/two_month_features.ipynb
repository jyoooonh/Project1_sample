{
 "cells": [
  {
   "cell_type": "code",
   "execution_count": 49,
   "metadata": {},
   "outputs": [],
   "source": [
    "import pandas as pd"
   ]
  },
  {
   "cell_type": "code",
   "execution_count": 50,
   "metadata": {},
   "outputs": [],
   "source": [
    "feature_list = []"
   ]
  },
  {
   "cell_type": "code",
   "execution_count": 51,
   "metadata": {},
   "outputs": [
    {
     "name": "stdout",
     "output_type": "stream",
     "text": [
      "<class 'pandas.core.frame.DataFrame'>\n",
      "DatetimeIndex: 40 entries, 2023-08-07 to 2023-10-06\n",
      "Data columns (total 3 columns):\n",
      " #   Column  Non-Null Count  Dtype  \n",
      "---  ------  --------------  -----  \n",
      " 0   시장베이시스  40 non-null     float64\n",
      " 1   이론베이시스  39 non-null     float64\n",
      " 2   괴리율     39 non-null     float64\n",
      "dtypes: float64(3)\n",
      "memory usage: 1.2 KB\n"
     ]
    },
    {
     "data": {
      "text/html": [
       "<div>\n",
       "<style scoped>\n",
       "    .dataframe tbody tr th:only-of-type {\n",
       "        vertical-align: middle;\n",
       "    }\n",
       "\n",
       "    .dataframe tbody tr th {\n",
       "        vertical-align: top;\n",
       "    }\n",
       "\n",
       "    .dataframe thead th {\n",
       "        text-align: right;\n",
       "    }\n",
       "</style>\n",
       "<table border=\"1\" class=\"dataframe\">\n",
       "  <thead>\n",
       "    <tr style=\"text-align: right;\">\n",
       "      <th></th>\n",
       "      <th>시장베이시스</th>\n",
       "      <th>이론베이시스</th>\n",
       "      <th>괴리율</th>\n",
       "    </tr>\n",
       "    <tr>\n",
       "      <th>일자</th>\n",
       "      <th></th>\n",
       "      <th></th>\n",
       "      <th></th>\n",
       "    </tr>\n",
       "  </thead>\n",
       "  <tbody>\n",
       "    <tr>\n",
       "      <th>2023-08-07</th>\n",
       "      <td>1.05</td>\n",
       "      <td>1.43</td>\n",
       "      <td>-0.11</td>\n",
       "    </tr>\n",
       "    <tr>\n",
       "      <th>2023-08-08</th>\n",
       "      <td>1.27</td>\n",
       "      <td>1.32</td>\n",
       "      <td>-0.01</td>\n",
       "    </tr>\n",
       "    <tr>\n",
       "      <th>2023-08-09</th>\n",
       "      <td>1.20</td>\n",
       "      <td>1.27</td>\n",
       "      <td>-0.02</td>\n",
       "    </tr>\n",
       "  </tbody>\n",
       "</table>\n",
       "</div>"
      ],
      "text/plain": [
       "            시장베이시스  이론베이시스   괴리율\n",
       "일자                              \n",
       "2023-08-07    1.05    1.43 -0.11\n",
       "2023-08-08    1.27    1.32 -0.01\n",
       "2023-08-09    1.20    1.27 -0.02"
      ]
     },
     "execution_count": 51,
     "metadata": {},
     "output_type": "execute_result"
    }
   ],
   "source": [
    "basis = pd.read_csv('./two_month_clean_feature/basis_2month.csv', index_col=0)\n",
    "basis['일자'] = pd.to_datetime(basis['일자'])\n",
    "basis = basis.set_index('일자')\n",
    "feature_list.append(basis)\n",
    "basis.info()\n",
    "basis.head(3)"
   ]
  },
  {
   "cell_type": "code",
   "execution_count": 52,
   "metadata": {},
   "outputs": [
    {
     "name": "stdout",
     "output_type": "stream",
     "text": [
      "<class 'pandas.core.frame.DataFrame'>\n",
      "DatetimeIndex: 45 entries, 2023-08-07 to 2023-10-06\n",
      "Data columns (total 1 columns):\n",
      " #   Column     Non-Null Count  Dtype  \n",
      "---  ------     --------------  -----  \n",
      " 0   원위안 야간변동율  45 non-null     float64\n",
      "dtypes: float64(1)\n",
      "memory usage: 720.0 bytes\n"
     ]
    },
    {
     "data": {
      "text/html": [
       "<div>\n",
       "<style scoped>\n",
       "    .dataframe tbody tr th:only-of-type {\n",
       "        vertical-align: middle;\n",
       "    }\n",
       "\n",
       "    .dataframe tbody tr th {\n",
       "        vertical-align: top;\n",
       "    }\n",
       "\n",
       "    .dataframe thead th {\n",
       "        text-align: right;\n",
       "    }\n",
       "</style>\n",
       "<table border=\"1\" class=\"dataframe\">\n",
       "  <thead>\n",
       "    <tr style=\"text-align: right;\">\n",
       "      <th></th>\n",
       "      <th>원위안 야간변동율</th>\n",
       "    </tr>\n",
       "    <tr>\n",
       "      <th>날짜</th>\n",
       "      <th></th>\n",
       "    </tr>\n",
       "  </thead>\n",
       "  <tbody>\n",
       "    <tr>\n",
       "      <th>2023-08-07</th>\n",
       "      <td>0.022</td>\n",
       "    </tr>\n",
       "    <tr>\n",
       "      <th>2023-08-08</th>\n",
       "      <td>0.066</td>\n",
       "    </tr>\n",
       "    <tr>\n",
       "      <th>2023-08-09</th>\n",
       "      <td>0.049</td>\n",
       "    </tr>\n",
       "  </tbody>\n",
       "</table>\n",
       "</div>"
      ],
      "text/plain": [
       "            원위안 야간변동율\n",
       "날짜                   \n",
       "2023-08-07      0.022\n",
       "2023-08-08      0.066\n",
       "2023-08-09      0.049"
      ]
     },
     "execution_count": 52,
     "metadata": {},
     "output_type": "execute_result"
    }
   ],
   "source": [
    "cny = pd.read_csv('./two_month_clean_feature/cny_2month.csv', index_col=0)\n",
    "cny['날짜'] = pd.to_datetime(cny['날짜'])\n",
    "cny = cny.set_index('날짜')\n",
    "cny.columns = ['원위안 야간변동율']\n",
    "feature_list.append(cny)\n",
    "cny.info()\n",
    "cny.head(3)"
   ]
  },
  {
   "cell_type": "code",
   "execution_count": 53,
   "metadata": {},
   "outputs": [
    {
     "name": "stdout",
     "output_type": "stream",
     "text": [
      "<class 'pandas.core.frame.DataFrame'>\n",
      "DatetimeIndex: 45 entries, 2023-08-07 to 2023-10-06\n",
      "Data columns (total 1 columns):\n",
      " #   Column    Non-Null Count  Dtype  \n",
      "---  ------    --------------  -----  \n",
      " 0   원엔 야간변동율  45 non-null     float64\n",
      "dtypes: float64(1)\n",
      "memory usage: 720.0 bytes\n"
     ]
    },
    {
     "data": {
      "text/html": [
       "<div>\n",
       "<style scoped>\n",
       "    .dataframe tbody tr th:only-of-type {\n",
       "        vertical-align: middle;\n",
       "    }\n",
       "\n",
       "    .dataframe tbody tr th {\n",
       "        vertical-align: top;\n",
       "    }\n",
       "\n",
       "    .dataframe thead th {\n",
       "        text-align: right;\n",
       "    }\n",
       "</style>\n",
       "<table border=\"1\" class=\"dataframe\">\n",
       "  <thead>\n",
       "    <tr style=\"text-align: right;\">\n",
       "      <th></th>\n",
       "      <th>원엔 야간변동율</th>\n",
       "    </tr>\n",
       "    <tr>\n",
       "      <th>날짜</th>\n",
       "      <th></th>\n",
       "    </tr>\n",
       "  </thead>\n",
       "  <tbody>\n",
       "    <tr>\n",
       "      <th>2023-08-07</th>\n",
       "      <td>0.024</td>\n",
       "    </tr>\n",
       "    <tr>\n",
       "      <th>2023-08-08</th>\n",
       "      <td>0.078</td>\n",
       "    </tr>\n",
       "    <tr>\n",
       "      <th>2023-08-09</th>\n",
       "      <td>0.044</td>\n",
       "    </tr>\n",
       "  </tbody>\n",
       "</table>\n",
       "</div>"
      ],
      "text/plain": [
       "            원엔 야간변동율\n",
       "날짜                  \n",
       "2023-08-07     0.024\n",
       "2023-08-08     0.078\n",
       "2023-08-09     0.044"
      ]
     },
     "execution_count": 53,
     "metadata": {},
     "output_type": "execute_result"
    }
   ],
   "source": [
    "jpy = pd.read_csv('./two_month_clean_feature/jpy_2month.csv', index_col=0)\n",
    "jpy['날짜'] = pd.to_datetime(jpy['날짜'])\n",
    "jpy = jpy.set_index('날짜')\n",
    "jpy.columns = ['원엔 야간변동율']\n",
    "feature_list.append(jpy)\n",
    "jpy.info()\n",
    "jpy.head(3)"
   ]
  },
  {
   "cell_type": "code",
   "execution_count": 54,
   "metadata": {},
   "outputs": [
    {
     "name": "stdout",
     "output_type": "stream",
     "text": [
      "<class 'pandas.core.frame.DataFrame'>\n",
      "DatetimeIndex: 40 entries, 2023-08-07 to 2023-10-06\n",
      "Data columns (total 2 columns):\n",
      " #   Column       Non-Null Count  Dtype  \n",
      "---  ------       --------------  -----  \n",
      " 0   KOSPI 전날변동율  40 non-null     float64\n",
      " 1   KOSPI 야간변동율  40 non-null     float64\n",
      "dtypes: float64(2)\n",
      "memory usage: 960.0 bytes\n"
     ]
    },
    {
     "data": {
      "text/html": [
       "<div>\n",
       "<style scoped>\n",
       "    .dataframe tbody tr th:only-of-type {\n",
       "        vertical-align: middle;\n",
       "    }\n",
       "\n",
       "    .dataframe tbody tr th {\n",
       "        vertical-align: top;\n",
       "    }\n",
       "\n",
       "    .dataframe thead th {\n",
       "        text-align: right;\n",
       "    }\n",
       "</style>\n",
       "<table border=\"1\" class=\"dataframe\">\n",
       "  <thead>\n",
       "    <tr style=\"text-align: right;\">\n",
       "      <th></th>\n",
       "      <th>KOSPI 전날변동율</th>\n",
       "      <th>KOSPI 야간변동율</th>\n",
       "    </tr>\n",
       "    <tr>\n",
       "      <th>날짜</th>\n",
       "      <th></th>\n",
       "      <th></th>\n",
       "    </tr>\n",
       "  </thead>\n",
       "  <tbody>\n",
       "    <tr>\n",
       "      <th>2023-08-07</th>\n",
       "      <td>-0.10</td>\n",
       "      <td>-0.431</td>\n",
       "    </tr>\n",
       "    <tr>\n",
       "      <th>2023-08-08</th>\n",
       "      <td>-0.85</td>\n",
       "      <td>0.681</td>\n",
       "    </tr>\n",
       "    <tr>\n",
       "      <th>2023-08-09</th>\n",
       "      <td>-0.26</td>\n",
       "      <td>0.257</td>\n",
       "    </tr>\n",
       "  </tbody>\n",
       "</table>\n",
       "</div>"
      ],
      "text/plain": [
       "            KOSPI 전날변동율  KOSPI 야간변동율\n",
       "날짜                                  \n",
       "2023-08-07        -0.10       -0.431\n",
       "2023-08-08        -0.85        0.681\n",
       "2023-08-09        -0.26        0.257"
      ]
     },
     "execution_count": 54,
     "metadata": {},
     "output_type": "execute_result"
    }
   ],
   "source": [
    "kospi = pd.read_csv('./two_month_clean_feature/kospi_2month.csv', index_col=0)\n",
    "kospi['날짜'] = pd.to_datetime(kospi['날짜'])\n",
    "kospi = kospi.set_index('날짜')\n",
    "kospi.columns = ['KOSPI 전날변동율', 'KOSPI 야간변동율']\n",
    "feature_list.append(kospi)\n",
    "kospi.info()\n",
    "kospi.head(3)"
   ]
  },
  {
   "cell_type": "code",
   "execution_count": 55,
   "metadata": {},
   "outputs": [
    {
     "name": "stdout",
     "output_type": "stream",
     "text": [
      "<class 'pandas.core.frame.DataFrame'>\n",
      "DatetimeIndex: 40 entries, 2023-08-07 to 2023-10-06\n",
      "Data columns (total 2 columns):\n",
      " #   Column       Non-Null Count  Dtype  \n",
      "---  ------       --------------  -----  \n",
      " 0   KS200 전날변동율  40 non-null     float64\n",
      " 1   KS200 야간변동율  40 non-null     float64\n",
      "dtypes: float64(2)\n",
      "memory usage: 960.0 bytes\n"
     ]
    },
    {
     "data": {
      "text/html": [
       "<div>\n",
       "<style scoped>\n",
       "    .dataframe tbody tr th:only-of-type {\n",
       "        vertical-align: middle;\n",
       "    }\n",
       "\n",
       "    .dataframe tbody tr th {\n",
       "        vertical-align: top;\n",
       "    }\n",
       "\n",
       "    .dataframe thead th {\n",
       "        text-align: right;\n",
       "    }\n",
       "</style>\n",
       "<table border=\"1\" class=\"dataframe\">\n",
       "  <thead>\n",
       "    <tr style=\"text-align: right;\">\n",
       "      <th></th>\n",
       "      <th>KS200 전날변동율</th>\n",
       "      <th>KS200 야간변동율</th>\n",
       "    </tr>\n",
       "    <tr>\n",
       "      <th>날짜</th>\n",
       "      <th></th>\n",
       "      <th></th>\n",
       "    </tr>\n",
       "  </thead>\n",
       "  <tbody>\n",
       "    <tr>\n",
       "      <th>2023-08-07</th>\n",
       "      <td>-0.08</td>\n",
       "      <td>-0.484</td>\n",
       "    </tr>\n",
       "    <tr>\n",
       "      <th>2023-08-08</th>\n",
       "      <td>-0.46</td>\n",
       "      <td>0.718</td>\n",
       "    </tr>\n",
       "    <tr>\n",
       "      <th>2023-08-09</th>\n",
       "      <td>-0.51</td>\n",
       "      <td>0.311</td>\n",
       "    </tr>\n",
       "  </tbody>\n",
       "</table>\n",
       "</div>"
      ],
      "text/plain": [
       "            KS200 전날변동율  KS200 야간변동율\n",
       "날짜                                  \n",
       "2023-08-07        -0.08       -0.484\n",
       "2023-08-08        -0.46        0.718\n",
       "2023-08-09        -0.51        0.311"
      ]
     },
     "execution_count": 55,
     "metadata": {},
     "output_type": "execute_result"
    }
   ],
   "source": [
    "ks200 = pd.read_csv('./two_month_clean_feature/ks200_2month.csv', index_col=0)\n",
    "ks200['날짜'] = pd.to_datetime(ks200['날짜'])\n",
    "ks200 = ks200.set_index('날짜')\n",
    "ks200.columns = ['KS200 전날변동율', 'KS200 야간변동율']\n",
    "feature_list.append(ks200)\n",
    "ks200.info()\n",
    "ks200.head(3)"
   ]
  },
  {
   "cell_type": "code",
   "execution_count": 56,
   "metadata": {},
   "outputs": [
    {
     "name": "stdout",
     "output_type": "stream",
     "text": [
      "<class 'pandas.core.frame.DataFrame'>\n",
      "DatetimeIndex: 44 entries, 2023-08-07 to 2023-10-06\n",
      "Data columns (total 3 columns):\n",
      " #   Column     Non-Null Count  Dtype  \n",
      "---  ------     --------------  -----  \n",
      " 0   NAS 야간변동율  44 non-null     float64\n",
      " 1   NAS 당일변동율  44 non-null     float64\n",
      " 2   NAS 당일변화량  44 non-null     float64\n",
      "dtypes: float64(3)\n",
      "memory usage: 1.4 KB\n"
     ]
    },
    {
     "data": {
      "text/html": [
       "<div>\n",
       "<style scoped>\n",
       "    .dataframe tbody tr th:only-of-type {\n",
       "        vertical-align: middle;\n",
       "    }\n",
       "\n",
       "    .dataframe tbody tr th {\n",
       "        vertical-align: top;\n",
       "    }\n",
       "\n",
       "    .dataframe thead th {\n",
       "        text-align: right;\n",
       "    }\n",
       "</style>\n",
       "<table border=\"1\" class=\"dataframe\">\n",
       "  <thead>\n",
       "    <tr style=\"text-align: right;\">\n",
       "      <th></th>\n",
       "      <th>NAS 야간변동율</th>\n",
       "      <th>NAS 당일변동율</th>\n",
       "      <th>NAS 당일변화량</th>\n",
       "    </tr>\n",
       "    <tr>\n",
       "      <th>날짜</th>\n",
       "      <th></th>\n",
       "      <th></th>\n",
       "      <th></th>\n",
       "    </tr>\n",
       "  </thead>\n",
       "  <tbody>\n",
       "    <tr>\n",
       "      <th>2023-08-07</th>\n",
       "      <td>-0.36</td>\n",
       "      <td>-0.832</td>\n",
       "      <td>221.29</td>\n",
       "    </tr>\n",
       "    <tr>\n",
       "      <th>2023-08-08</th>\n",
       "      <td>0.61</td>\n",
       "      <td>0.157</td>\n",
       "      <td>132.23</td>\n",
       "    </tr>\n",
       "    <tr>\n",
       "      <th>2023-08-09</th>\n",
       "      <td>-0.79</td>\n",
       "      <td>0.064</td>\n",
       "      <td>130.40</td>\n",
       "    </tr>\n",
       "  </tbody>\n",
       "</table>\n",
       "</div>"
      ],
      "text/plain": [
       "            NAS 야간변동율  NAS 당일변동율  NAS 당일변화량\n",
       "날짜                                         \n",
       "2023-08-07      -0.36     -0.832     221.29\n",
       "2023-08-08       0.61      0.157     132.23\n",
       "2023-08-09      -0.79      0.064     130.40"
      ]
     },
     "execution_count": 56,
     "metadata": {},
     "output_type": "execute_result"
    }
   ],
   "source": [
    "nas = pd.read_csv('./two_month_clean_feature/nas_2month.csv', index_col=0)\n",
    "nas['날짜'] = pd.to_datetime(nas['날짜'])\n",
    "nas = nas.set_index('날짜')\n",
    "nas.columns = ['NAS 야간변동율', 'NAS 당일변동율', 'NAS 당일변화량']\n",
    "feature_list.append(nas)\n",
    "nas.info()\n",
    "nas.head(3)"
   ]
  },
  {
   "cell_type": "code",
   "execution_count": 57,
   "metadata": {},
   "outputs": [
    {
     "name": "stdout",
     "output_type": "stream",
     "text": [
      "<class 'pandas.core.frame.DataFrame'>\n",
      "DatetimeIndex: 40 entries, 2023-08-07 to 2023-10-06\n",
      "Data columns (total 5 columns):\n",
      " #   Column              Non-Null Count  Dtype  \n",
      "---  ------              --------------  -----  \n",
      " 0   P/C Ratio           40 non-null     float64\n",
      " 1   CALL_vol_change(%)  40 non-null     float64\n",
      " 2   PUT_vol_change(%)   40 non-null     float64\n",
      " 3   CALL_vol_fluc       40 non-null     float64\n",
      " 4   PUT_vol_fluc        40 non-null     float64\n",
      "dtypes: float64(5)\n",
      "memory usage: 1.9 KB\n"
     ]
    },
    {
     "data": {
      "text/html": [
       "<div>\n",
       "<style scoped>\n",
       "    .dataframe tbody tr th:only-of-type {\n",
       "        vertical-align: middle;\n",
       "    }\n",
       "\n",
       "    .dataframe tbody tr th {\n",
       "        vertical-align: top;\n",
       "    }\n",
       "\n",
       "    .dataframe thead th {\n",
       "        text-align: right;\n",
       "    }\n",
       "</style>\n",
       "<table border=\"1\" class=\"dataframe\">\n",
       "  <thead>\n",
       "    <tr style=\"text-align: right;\">\n",
       "      <th></th>\n",
       "      <th>P/C Ratio</th>\n",
       "      <th>CALL_vol_change(%)</th>\n",
       "      <th>PUT_vol_change(%)</th>\n",
       "      <th>CALL_vol_fluc</th>\n",
       "      <th>PUT_vol_fluc</th>\n",
       "    </tr>\n",
       "    <tr>\n",
       "      <th>일자</th>\n",
       "      <th></th>\n",
       "      <th></th>\n",
       "      <th></th>\n",
       "      <th></th>\n",
       "      <th></th>\n",
       "    </tr>\n",
       "  </thead>\n",
       "  <tbody>\n",
       "    <tr>\n",
       "      <th>2023-08-07</th>\n",
       "      <td>1.06</td>\n",
       "      <td>-6.215</td>\n",
       "      <td>4.463</td>\n",
       "      <td>-87188.0</td>\n",
       "      <td>59328.0</td>\n",
       "    </tr>\n",
       "    <tr>\n",
       "      <th>2023-08-08</th>\n",
       "      <td>0.91</td>\n",
       "      <td>13.884</td>\n",
       "      <td>-1.401</td>\n",
       "      <td>182663.0</td>\n",
       "      <td>-19454.0</td>\n",
       "    </tr>\n",
       "    <tr>\n",
       "      <th>2023-08-09</th>\n",
       "      <td>1.02</td>\n",
       "      <td>48.180</td>\n",
       "      <td>65.515</td>\n",
       "      <td>721884.0</td>\n",
       "      <td>896966.0</td>\n",
       "    </tr>\n",
       "  </tbody>\n",
       "</table>\n",
       "</div>"
      ],
      "text/plain": [
       "            P/C Ratio  CALL_vol_change(%)  PUT_vol_change(%)  CALL_vol_fluc  \\\n",
       "일자                                                                            \n",
       "2023-08-07       1.06              -6.215              4.463       -87188.0   \n",
       "2023-08-08       0.91              13.884             -1.401       182663.0   \n",
       "2023-08-09       1.02              48.180             65.515       721884.0   \n",
       "\n",
       "            PUT_vol_fluc  \n",
       "일자                        \n",
       "2023-08-07       59328.0  \n",
       "2023-08-08      -19454.0  \n",
       "2023-08-09      896966.0  "
      ]
     },
     "execution_count": 57,
     "metadata": {},
     "output_type": "execute_result"
    }
   ],
   "source": [
    "pc = pd.read_csv('./two_month_clean_feature/put_call_2month.csv', index_col=0)\n",
    "pc['일자'] = pd.to_datetime(pc['일자'])\n",
    "pc = pc.set_index('일자')\n",
    "feature_list.append(pc)\n",
    "pc.info()\n",
    "pc.head(3)"
   ]
  },
  {
   "cell_type": "code",
   "execution_count": 58,
   "metadata": {},
   "outputs": [
    {
     "name": "stdout",
     "output_type": "stream",
     "text": [
      "<class 'pandas.core.frame.DataFrame'>\n",
      "DatetimeIndex: 44 entries, 2023-08-07 to 2023-10-06\n",
      "Data columns (total 3 columns):\n",
      " #   Column     Non-Null Count  Dtype  \n",
      "---  ------     --------------  -----  \n",
      " 0   S&P 야간변동율  44 non-null     float64\n",
      " 1   S&P 당일변동율  44 non-null     float64\n",
      " 2   S&P 당일변화량  44 non-null     float64\n",
      "dtypes: float64(3)\n",
      "memory usage: 1.4 KB\n"
     ]
    },
    {
     "data": {
      "text/html": [
       "<div>\n",
       "<style scoped>\n",
       "    .dataframe tbody tr th:only-of-type {\n",
       "        vertical-align: middle;\n",
       "    }\n",
       "\n",
       "    .dataframe tbody tr th {\n",
       "        vertical-align: top;\n",
       "    }\n",
       "\n",
       "    .dataframe thead th {\n",
       "        text-align: right;\n",
       "    }\n",
       "</style>\n",
       "<table border=\"1\" class=\"dataframe\">\n",
       "  <thead>\n",
       "    <tr style=\"text-align: right;\">\n",
       "      <th></th>\n",
       "      <th>S&amp;P 야간변동율</th>\n",
       "      <th>S&amp;P 당일변동율</th>\n",
       "      <th>S&amp;P 당일변화량</th>\n",
       "    </tr>\n",
       "    <tr>\n",
       "      <th>날짜</th>\n",
       "      <th></th>\n",
       "      <th></th>\n",
       "      <th></th>\n",
       "    </tr>\n",
       "  </thead>\n",
       "  <tbody>\n",
       "    <tr>\n",
       "      <th>2023-08-07</th>\n",
       "      <td>-0.53</td>\n",
       "      <td>-0.796</td>\n",
       "      <td>65.79</td>\n",
       "    </tr>\n",
       "    <tr>\n",
       "      <th>2023-08-08</th>\n",
       "      <td>0.90</td>\n",
       "      <td>0.598</td>\n",
       "      <td>28.69</td>\n",
       "    </tr>\n",
       "    <tr>\n",
       "      <th>2023-08-09</th>\n",
       "      <td>-0.42</td>\n",
       "      <td>0.030</td>\n",
       "      <td>38.92</td>\n",
       "    </tr>\n",
       "  </tbody>\n",
       "</table>\n",
       "</div>"
      ],
      "text/plain": [
       "            S&P 야간변동율  S&P 당일변동율  S&P 당일변화량\n",
       "날짜                                         \n",
       "2023-08-07      -0.53     -0.796      65.79\n",
       "2023-08-08       0.90      0.598      28.69\n",
       "2023-08-09      -0.42      0.030      38.92"
      ]
     },
     "execution_count": 58,
     "metadata": {},
     "output_type": "execute_result"
    }
   ],
   "source": [
    "snp = pd.read_csv('./two_month_clean_feature/snp_2month.csv', index_col=0)\n",
    "snp['날짜'] = pd.to_datetime(snp['날짜'])\n",
    "snp = snp.set_index('날짜')\n",
    "snp.columns = ['S&P 야간변동율', 'S&P 당일변동율', 'S&P 당일변화량']\n",
    "feature_list.append(snp)\n",
    "snp.info()\n",
    "snp.head(3)"
   ]
  },
  {
   "cell_type": "code",
   "execution_count": 59,
   "metadata": {},
   "outputs": [
    {
     "name": "stdout",
     "output_type": "stream",
     "text": [
      "<class 'pandas.core.frame.DataFrame'>\n",
      "DatetimeIndex: 45 entries, 2023-08-07 to 2023-10-06\n",
      "Data columns (total 1 columns):\n",
      " #   Column     Non-Null Count  Dtype  \n",
      "---  ------     --------------  -----  \n",
      " 0   원달러 야간변동율  45 non-null     float64\n",
      "dtypes: float64(1)\n",
      "memory usage: 720.0 bytes\n"
     ]
    },
    {
     "data": {
      "text/html": [
       "<div>\n",
       "<style scoped>\n",
       "    .dataframe tbody tr th:only-of-type {\n",
       "        vertical-align: middle;\n",
       "    }\n",
       "\n",
       "    .dataframe tbody tr th {\n",
       "        vertical-align: top;\n",
       "    }\n",
       "\n",
       "    .dataframe thead th {\n",
       "        text-align: right;\n",
       "    }\n",
       "</style>\n",
       "<table border=\"1\" class=\"dataframe\">\n",
       "  <thead>\n",
       "    <tr style=\"text-align: right;\">\n",
       "      <th></th>\n",
       "      <th>원달러 야간변동율</th>\n",
       "    </tr>\n",
       "    <tr>\n",
       "      <th>날짜</th>\n",
       "      <th></th>\n",
       "    </tr>\n",
       "  </thead>\n",
       "  <tbody>\n",
       "    <tr>\n",
       "      <th>2023-08-07</th>\n",
       "      <td>0.016</td>\n",
       "    </tr>\n",
       "    <tr>\n",
       "      <th>2023-08-08</th>\n",
       "      <td>0.048</td>\n",
       "    </tr>\n",
       "    <tr>\n",
       "      <th>2023-08-09</th>\n",
       "      <td>0.023</td>\n",
       "    </tr>\n",
       "  </tbody>\n",
       "</table>\n",
       "</div>"
      ],
      "text/plain": [
       "            원달러 야간변동율\n",
       "날짜                   \n",
       "2023-08-07      0.016\n",
       "2023-08-08      0.048\n",
       "2023-08-09      0.023"
      ]
     },
     "execution_count": 59,
     "metadata": {},
     "output_type": "execute_result"
    }
   ],
   "source": [
    "usd = pd.read_csv('./two_month_clean_feature/usd_2month.csv', index_col=0)\n",
    "usd['날짜'] = pd.to_datetime(usd['날짜'])\n",
    "usd = usd.set_index('날짜')\n",
    "usd.columns = ['원달러 야간변동율']\n",
    "feature_list.append(usd)\n",
    "usd.info()\n",
    "usd.head(3)"
   ]
  },
  {
   "cell_type": "code",
   "execution_count": 60,
   "metadata": {},
   "outputs": [
    {
     "name": "stdout",
     "output_type": "stream",
     "text": [
      "<class 'pandas.core.frame.DataFrame'>\n",
      "DatetimeIndex: 45 entries, 2023-08-07 to 2023-10-06\n",
      "Data columns (total 3 columns):\n",
      " #   Column     Non-Null Count  Dtype  \n",
      "---  ------     --------------  -----  \n",
      " 0   VIX 전날변동율  45 non-null     float64\n",
      " 1   VIX 당일변동율  45 non-null     float64\n",
      " 2   VIX 당일변화량  45 non-null     float64\n",
      "dtypes: float64(3)\n",
      "memory usage: 1.4 KB\n"
     ]
    },
    {
     "data": {
      "text/html": [
       "<div>\n",
       "<style scoped>\n",
       "    .dataframe tbody tr th:only-of-type {\n",
       "        vertical-align: middle;\n",
       "    }\n",
       "\n",
       "    .dataframe tbody tr th {\n",
       "        vertical-align: top;\n",
       "    }\n",
       "\n",
       "    .dataframe thead th {\n",
       "        text-align: right;\n",
       "    }\n",
       "</style>\n",
       "<table border=\"1\" class=\"dataframe\">\n",
       "  <thead>\n",
       "    <tr style=\"text-align: right;\">\n",
       "      <th></th>\n",
       "      <th>VIX 전날변동율</th>\n",
       "      <th>VIX 당일변동율</th>\n",
       "      <th>VIX 당일변화량</th>\n",
       "    </tr>\n",
       "    <tr>\n",
       "      <th>날짜</th>\n",
       "      <th></th>\n",
       "      <th></th>\n",
       "      <th></th>\n",
       "    </tr>\n",
       "  </thead>\n",
       "  <tbody>\n",
       "    <tr>\n",
       "      <th>2023-08-07</th>\n",
       "      <td>7.41</td>\n",
       "      <td>6.808</td>\n",
       "      <td>2.82</td>\n",
       "    </tr>\n",
       "    <tr>\n",
       "      <th>2023-08-08</th>\n",
       "      <td>-7.78</td>\n",
       "      <td>-6.686</td>\n",
       "      <td>1.59</td>\n",
       "    </tr>\n",
       "    <tr>\n",
       "      <th>2023-08-09</th>\n",
       "      <td>1.40</td>\n",
       "      <td>-1.781</td>\n",
       "      <td>2.18</td>\n",
       "    </tr>\n",
       "  </tbody>\n",
       "</table>\n",
       "</div>"
      ],
      "text/plain": [
       "            VIX 전날변동율  VIX 당일변동율  VIX 당일변화량\n",
       "날짜                                         \n",
       "2023-08-07       7.41      6.808       2.82\n",
       "2023-08-08      -7.78     -6.686       1.59\n",
       "2023-08-09       1.40     -1.781       2.18"
      ]
     },
     "execution_count": 60,
     "metadata": {},
     "output_type": "execute_result"
    }
   ],
   "source": [
    "vix = pd.read_csv('./two_month_clean_feature/vix_2month.csv', index_col=0)\n",
    "vix['날짜'] = pd.to_datetime(vix['날짜'])\n",
    "vix = vix.set_index('날짜')\n",
    "vix.columns = ['VIX 전날변동율', 'VIX 당일변동율', 'VIX 당일변화량']\n",
    "feature_list.append(vix)\n",
    "vix.info()\n",
    "vix.head(3)"
   ]
  },
  {
   "cell_type": "code",
   "execution_count": 61,
   "metadata": {},
   "outputs": [
    {
     "name": "stdout",
     "output_type": "stream",
     "text": [
      "<class 'pandas.core.frame.DataFrame'>\n",
      "DatetimeIndex: 43 entries, 2023-08-07 to 2023-10-06\n",
      "Data columns (total 3 columns):\n",
      " #   Column      Non-Null Count  Dtype  \n",
      "---  ------      --------------  -----  \n",
      " 0   JNIV 종가변동율  43 non-null     float64\n",
      " 1   JNIV 전날변동율  43 non-null     float64\n",
      " 2   JNIV 전날변화량  43 non-null     float64\n",
      "dtypes: float64(3)\n",
      "memory usage: 1.3 KB\n"
     ]
    },
    {
     "data": {
      "text/html": [
       "<div>\n",
       "<style scoped>\n",
       "    .dataframe tbody tr th:only-of-type {\n",
       "        vertical-align: middle;\n",
       "    }\n",
       "\n",
       "    .dataframe tbody tr th {\n",
       "        vertical-align: top;\n",
       "    }\n",
       "\n",
       "    .dataframe thead th {\n",
       "        text-align: right;\n",
       "    }\n",
       "</style>\n",
       "<table border=\"1\" class=\"dataframe\">\n",
       "  <thead>\n",
       "    <tr style=\"text-align: right;\">\n",
       "      <th></th>\n",
       "      <th>JNIV 종가변동율</th>\n",
       "      <th>JNIV 전날변동율</th>\n",
       "      <th>JNIV 전날변화량</th>\n",
       "    </tr>\n",
       "    <tr>\n",
       "      <th>날짜</th>\n",
       "      <th></th>\n",
       "      <th></th>\n",
       "      <th></th>\n",
       "    </tr>\n",
       "  </thead>\n",
       "  <tbody>\n",
       "    <tr>\n",
       "      <th>2023-08-07</th>\n",
       "      <td>5.89</td>\n",
       "      <td>-3.050</td>\n",
       "      <td>1.26</td>\n",
       "    </tr>\n",
       "    <tr>\n",
       "      <th>2023-08-08</th>\n",
       "      <td>0.97</td>\n",
       "      <td>-2.523</td>\n",
       "      <td>1.36</td>\n",
       "    </tr>\n",
       "    <tr>\n",
       "      <th>2023-08-09</th>\n",
       "      <td>-2.35</td>\n",
       "      <td>1.799</td>\n",
       "      <td>0.84</td>\n",
       "    </tr>\n",
       "  </tbody>\n",
       "</table>\n",
       "</div>"
      ],
      "text/plain": [
       "            JNIV 종가변동율  JNIV 전날변동율  JNIV 전날변화량\n",
       "날짜                                            \n",
       "2023-08-07        5.89      -3.050        1.26\n",
       "2023-08-08        0.97      -2.523        1.36\n",
       "2023-08-09       -2.35       1.799        0.84"
      ]
     },
     "execution_count": 61,
     "metadata": {},
     "output_type": "execute_result"
    }
   ],
   "source": [
    "jniv = pd.read_csv('./two_month_clean_feature/jniv_2month.csv', index_col=0)\n",
    "jniv['날짜'] = pd.to_datetime(jniv['날짜'])\n",
    "jniv = jniv.set_index('날짜')\n",
    "jniv.columns = ['JNIV 종가변동율', 'JNIV 전날변동율', 'JNIV 전날변화량']\n",
    "feature_list.append(jniv)\n",
    "jniv.info()\n",
    "jniv.head(3)"
   ]
  },
  {
   "cell_type": "code",
   "execution_count": 62,
   "metadata": {},
   "outputs": [
    {
     "name": "stdout",
     "output_type": "stream",
     "text": [
      "<class 'pandas.core.frame.DataFrame'>\n",
      "DatetimeIndex: 40 entries, 2023-08-07 to 2023-10-06\n",
      "Data columns (total 2 columns):\n",
      " #   Column    Non-Null Count  Dtype  \n",
      "---  ------    --------------  -----  \n",
      " 0   CD 전날변동율  40 non-null     float64\n",
      " 1   CD 전날변화량  40 non-null     float64\n",
      "dtypes: float64(2)\n",
      "memory usage: 960.0 bytes\n"
     ]
    },
    {
     "data": {
      "text/html": [
       "<div>\n",
       "<style scoped>\n",
       "    .dataframe tbody tr th:only-of-type {\n",
       "        vertical-align: middle;\n",
       "    }\n",
       "\n",
       "    .dataframe tbody tr th {\n",
       "        vertical-align: top;\n",
       "    }\n",
       "\n",
       "    .dataframe thead th {\n",
       "        text-align: right;\n",
       "    }\n",
       "</style>\n",
       "<table border=\"1\" class=\"dataframe\">\n",
       "  <thead>\n",
       "    <tr style=\"text-align: right;\">\n",
       "      <th></th>\n",
       "      <th>CD 전날변동율</th>\n",
       "      <th>CD 전날변화량</th>\n",
       "    </tr>\n",
       "    <tr>\n",
       "      <th>date</th>\n",
       "      <th></th>\n",
       "      <th></th>\n",
       "    </tr>\n",
       "  </thead>\n",
       "  <tbody>\n",
       "    <tr>\n",
       "      <th>2023-08-07</th>\n",
       "      <td>-0.268</td>\n",
       "      <td>0.01</td>\n",
       "    </tr>\n",
       "    <tr>\n",
       "      <th>2023-08-08</th>\n",
       "      <td>0.000</td>\n",
       "      <td>0.00</td>\n",
       "    </tr>\n",
       "    <tr>\n",
       "      <th>2023-08-09</th>\n",
       "      <td>-0.538</td>\n",
       "      <td>0.02</td>\n",
       "    </tr>\n",
       "  </tbody>\n",
       "</table>\n",
       "</div>"
      ],
      "text/plain": [
       "            CD 전날변동율  CD 전날변화량\n",
       "date                          \n",
       "2023-08-07    -0.268      0.01\n",
       "2023-08-08     0.000      0.00\n",
       "2023-08-09    -0.538      0.02"
      ]
     },
     "execution_count": 62,
     "metadata": {},
     "output_type": "execute_result"
    }
   ],
   "source": [
    "cd = pd.read_csv('./two_month_clean_feature/cd_2month.csv', index_col=0)\n",
    "cd['date'] = pd.to_datetime(cd['date'])\n",
    "cd = cd.set_index('date')\n",
    "cd.columns = ['CD 전날변동율', 'CD 전날변화량']\n",
    "feature_list.append(cd)\n",
    "cd.info()\n",
    "cd.head(3)"
   ]
  },
  {
   "cell_type": "code",
   "execution_count": 63,
   "metadata": {},
   "outputs": [],
   "source": [
    "# ks_mor = pd.read_csv('./two_month_clean_feature/ks_mor_2month.csv', index_col=0)\n",
    "# ks_mor['date'] = pd.to_datetime(ks_mor['date'])\n",
    "# ks_mor = ks_mor.set_index('date')\n",
    "# feature_list.append(ks_mor)\n",
    "# ks_mor.info()\n",
    "# ks_mor.head(3)"
   ]
  },
  {
   "cell_type": "code",
   "execution_count": 64,
   "metadata": {},
   "outputs": [],
   "source": [
    "# ks200_mor = pd.read_csv('./two_month_clean_feature/ks200_mor_2month.csv', index_col=0)\n",
    "# ks200_mor['date'] = pd.to_datetime(ks200_mor['date'])\n",
    "# ks200_mor = ks200_mor.set_index('date')\n",
    "# feature_list.append(ks200_mor)\n",
    "# ks200_mor.info()\n",
    "# ks200_mor.head(3)"
   ]
  },
  {
   "cell_type": "code",
   "execution_count": 65,
   "metadata": {},
   "outputs": [
    {
     "name": "stdout",
     "output_type": "stream",
     "text": [
      "<class 'pandas.core.frame.DataFrame'>\n",
      "DatetimeIndex: 40 entries, 2023-08-07 to 2023-10-06\n",
      "Data columns (total 1 columns):\n",
      " #   Column        Non-Null Count  Dtype  \n",
      "---  ------        --------------  -----  \n",
      " 0   VKOSPI_Label  40 non-null     float64\n",
      "dtypes: float64(1)\n",
      "memory usage: 640.0 bytes\n"
     ]
    },
    {
     "data": {
      "text/html": [
       "<div>\n",
       "<style scoped>\n",
       "    .dataframe tbody tr th:only-of-type {\n",
       "        vertical-align: middle;\n",
       "    }\n",
       "\n",
       "    .dataframe tbody tr th {\n",
       "        vertical-align: top;\n",
       "    }\n",
       "\n",
       "    .dataframe thead th {\n",
       "        text-align: right;\n",
       "    }\n",
       "</style>\n",
       "<table border=\"1\" class=\"dataframe\">\n",
       "  <thead>\n",
       "    <tr style=\"text-align: right;\">\n",
       "      <th></th>\n",
       "      <th>VKOSPI_Label</th>\n",
       "    </tr>\n",
       "    <tr>\n",
       "      <th>날짜</th>\n",
       "      <th></th>\n",
       "    </tr>\n",
       "  </thead>\n",
       "  <tbody>\n",
       "    <tr>\n",
       "      <th>2023-08-07</th>\n",
       "      <td>0.0</td>\n",
       "    </tr>\n",
       "    <tr>\n",
       "      <th>2023-08-08</th>\n",
       "      <td>0.0</td>\n",
       "    </tr>\n",
       "    <tr>\n",
       "      <th>2023-08-09</th>\n",
       "      <td>1.0</td>\n",
       "    </tr>\n",
       "  </tbody>\n",
       "</table>\n",
       "</div>"
      ],
      "text/plain": [
       "            VKOSPI_Label\n",
       "날짜                      \n",
       "2023-08-07           0.0\n",
       "2023-08-08           0.0\n",
       "2023-08-09           1.0"
      ]
     },
     "execution_count": 65,
     "metadata": {},
     "output_type": "execute_result"
    }
   ],
   "source": [
    "vkospi = pd.read_csv('./two_month_clean_feature/vkospi_2month.csv', index_col=0)\n",
    "vkospi['날짜'] = pd.to_datetime(vkospi['날짜'])\n",
    "vkospi = vkospi.set_index('날짜')\n",
    "feature_list.append(vkospi)\n",
    "vkospi.info()\n",
    "vkospi.head(3)"
   ]
  },
  {
   "cell_type": "code",
   "execution_count": 66,
   "metadata": {},
   "outputs": [],
   "source": [
    "df = pd.concat(feature_list, axis=1)"
   ]
  },
  {
   "cell_type": "code",
   "execution_count": 67,
   "metadata": {},
   "outputs": [],
   "source": [
    "df = df.dropna(subset=['VKOSPI_Label'])"
   ]
  },
  {
   "cell_type": "code",
   "execution_count": 68,
   "metadata": {},
   "outputs": [
    {
     "name": "stdout",
     "output_type": "stream",
     "text": [
      "<class 'pandas.core.frame.DataFrame'>\n",
      "DatetimeIndex: 40 entries, 2023-08-07 to 2023-10-06\n",
      "Data columns (total 30 columns):\n",
      " #   Column              Non-Null Count  Dtype  \n",
      "---  ------              --------------  -----  \n",
      " 0   시장베이시스              40 non-null     float64\n",
      " 1   이론베이시스              39 non-null     float64\n",
      " 2   괴리율                 39 non-null     float64\n",
      " 3   원위안 야간변동율           40 non-null     float64\n",
      " 4   원엔 야간변동율            40 non-null     float64\n",
      " 5   KOSPI 전날변동율         40 non-null     float64\n",
      " 6   KOSPI 야간변동율         40 non-null     float64\n",
      " 7   KS200 전날변동율         40 non-null     float64\n",
      " 8   KS200 야간변동율         40 non-null     float64\n",
      " 9   NAS 야간변동율           39 non-null     float64\n",
      " 10  NAS 당일변동율           39 non-null     float64\n",
      " 11  NAS 당일변화량           39 non-null     float64\n",
      " 12  P/C Ratio           40 non-null     float64\n",
      " 13  CALL_vol_change(%)  40 non-null     float64\n",
      " 14  PUT_vol_change(%)   40 non-null     float64\n",
      " 15  CALL_vol_fluc       40 non-null     float64\n",
      " 16  PUT_vol_fluc        40 non-null     float64\n",
      " 17  S&P 야간변동율           39 non-null     float64\n",
      " 18  S&P 당일변동율           39 non-null     float64\n",
      " 19  S&P 당일변화량           39 non-null     float64\n",
      " 20  원달러 야간변동율           40 non-null     float64\n",
      " 21  VIX 전날변동율           40 non-null     float64\n",
      " 22  VIX 당일변동율           40 non-null     float64\n",
      " 23  VIX 당일변화량           40 non-null     float64\n",
      " 24  JNIV 종가변동율          38 non-null     float64\n",
      " 25  JNIV 전날변동율          38 non-null     float64\n",
      " 26  JNIV 전날변화량          38 non-null     float64\n",
      " 27  CD 전날변동율            40 non-null     float64\n",
      " 28  CD 전날변화량            40 non-null     float64\n",
      " 29  VKOSPI_Label        40 non-null     float64\n",
      "dtypes: float64(30)\n",
      "memory usage: 9.7 KB\n"
     ]
    }
   ],
   "source": [
    "df.info()"
   ]
  },
  {
   "cell_type": "code",
   "execution_count": 69,
   "metadata": {},
   "outputs": [],
   "source": [
    "df = df.fillna(method='ffill')"
   ]
  },
  {
   "cell_type": "code",
   "execution_count": 70,
   "metadata": {},
   "outputs": [],
   "source": [
    "df.to_csv('./two_month_features.csv')"
   ]
  },
  {
   "cell_type": "code",
   "execution_count": 71,
   "metadata": {},
   "outputs": [
    {
     "data": {
      "text/plain": [
       "VKOSPI_Label\n",
       "0.0    27\n",
       "1.0    13\n",
       "Name: count, dtype: int64"
      ]
     },
     "execution_count": 71,
     "metadata": {},
     "output_type": "execute_result"
    }
   ],
   "source": [
    "df['VKOSPI_Label'].value_counts()"
   ]
  },
  {
   "cell_type": "code",
   "execution_count": 72,
   "metadata": {},
   "outputs": [
    {
     "data": {
      "text/plain": [
       "30"
      ]
     },
     "execution_count": 72,
     "metadata": {},
     "output_type": "execute_result"
    }
   ],
   "source": [
    "len(df.columns)"
   ]
  },
  {
   "cell_type": "code",
   "execution_count": null,
   "metadata": {},
   "outputs": [],
   "source": []
  }
 ],
 "metadata": {
  "kernelspec": {
   "display_name": "Python 3",
   "language": "python",
   "name": "python3"
  },
  "language_info": {
   "codemirror_mode": {
    "name": "ipython",
    "version": 3
   },
   "file_extension": ".py",
   "mimetype": "text/x-python",
   "name": "python",
   "nbconvert_exporter": "python",
   "pygments_lexer": "ipython3",
   "version": "3.11.4"
  }
 },
 "nbformat": 4,
 "nbformat_minor": 2
}

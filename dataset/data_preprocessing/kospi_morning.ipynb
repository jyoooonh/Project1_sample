{
 "cells": [
  {
   "cell_type": "code",
   "execution_count": null,
   "metadata": {},
   "outputs": [],
   "source": [
    "import pandas as pd"
   ]
  },
  {
   "cell_type": "code",
   "execution_count": null,
   "metadata": {},
   "outputs": [],
   "source": [
    "kospi_mor = pd.read_csv('../data/kospi_30min.csv', index_col=0)\n",
    "kospi_mor"
   ]
  },
  {
   "cell_type": "code",
   "execution_count": null,
   "metadata": {},
   "outputs": [],
   "source": [
    "kospi_mor.drop(['대업종구분', '소업종구분', '종목정보', '전일종가'], axis=1, inplace=True)"
   ]
  },
  {
   "cell_type": "code",
   "execution_count": null,
   "metadata": {},
   "outputs": [],
   "source": [
    "kospi_mor['체결시간'] = kospi_mor['체결시간'].astype(str)"
   ]
  },
  {
   "cell_type": "code",
   "execution_count": null,
   "metadata": {},
   "outputs": [],
   "source": [
    "kospi_mor = kospi_mor[kospi_mor['체결시간'].str.contains('090000|093000')]"
   ]
  },
  {
   "cell_type": "code",
   "execution_count": null,
   "metadata": {},
   "outputs": [],
   "source": [
    "kospi_mor"
   ]
  },
  {
   "cell_type": "code",
   "execution_count": null,
   "metadata": {},
   "outputs": [],
   "source": [
    "kospi_mor = kospi_mor.reset_index(drop=True)"
   ]
  },
  {
   "cell_type": "code",
   "execution_count": null,
   "metadata": {},
   "outputs": [],
   "source": [
    "kospi_mor = kospi_mor[['현재가', '체결시간', '고가', '저가']]"
   ]
  },
  {
   "cell_type": "code",
   "execution_count": null,
   "metadata": {},
   "outputs": [],
   "source": [
    "kospi_mor['현재가'] = abs(kospi_mor['현재가'])\n",
    "kospi_mor['고가'] = abs(kospi_mor['고가'])\n",
    "kospi_mor['저가'] = abs(kospi_mor['저가'])"
   ]
  },
  {
   "cell_type": "code",
   "execution_count": null,
   "metadata": {},
   "outputs": [],
   "source": [
    "kospi_mor['현재가'] = kospi_mor['현재가'] / 100\n",
    "kospi_mor['고가'] = kospi_mor['고가'] / 100\n",
    "kospi_mor['저가'] = kospi_mor['저가'] / 100"
   ]
  },
  {
   "cell_type": "code",
   "execution_count": null,
   "metadata": {},
   "outputs": [],
   "source": [
    "kospi_mor"
   ]
  },
  {
   "cell_type": "code",
   "execution_count": null,
   "metadata": {},
   "outputs": [],
   "source": [
    "date = []\n",
    "rate_of_change = []\n",
    "fluc_range = []\n",
    "\n",
    "for i in range(0, len(kospi_mor), 2):\n",
    "\tdate.append(kospi_mor['체결시간'][i][:8])\n",
    "\tchange_result = (kospi_mor['현재가'][i] - kospi_mor['현재가'][i + 1]) / kospi_mor['현재가'][i + 1] * 100\n",
    "\n",
    "\tif kospi_mor['저가'][i] > kospi_mor['저가'][i + 1]:\n",
    "\t\tmin = kospi_mor['저가'][i + 1]\n",
    "\telse:\n",
    "\t\tmin = kospi_mor['저가'][i]\n",
    "\n",
    "\tif kospi_mor['고가'][i] > kospi_mor['고가'][i + 1]:\n",
    "\t\tmax = kospi_mor['고가'][i]\n",
    "\telse:\n",
    "\t\tmax = kospi_mor['고가'][i + 1]\n",
    "\n",
    "\tfluc_result = max - min\n",
    "\n",
    "\tfluc_result = round(fluc_result, 3)\n",
    "\tchange_result = round(change_result, 3)\n",
    "\n",
    "\trate_of_change.append(change_result)\n",
    "\tfluc_range.append(fluc_result)"
   ]
  },
  {
   "cell_type": "code",
   "execution_count": null,
   "metadata": {},
   "outputs": [],
   "source": [
    "kospi_mor = pd.DataFrame(zip(date, rate_of_change, fluc_range), columns = ['date', 'KOSPI 오전변동율', 'KOSPI 오전변화량'])"
   ]
  },
  {
   "cell_type": "code",
   "execution_count": null,
   "metadata": {},
   "outputs": [],
   "source": [
    "kospi_mor"
   ]
  },
  {
   "cell_type": "code",
   "execution_count": null,
   "metadata": {},
   "outputs": [],
   "source": [
    "kospi_mor = kospi_mor[5:59]"
   ]
  },
  {
   "cell_type": "code",
   "execution_count": null,
   "metadata": {},
   "outputs": [],
   "source": [
    "kospi_mor"
   ]
  },
  {
   "cell_type": "code",
   "execution_count": null,
   "metadata": {},
   "outputs": [],
   "source": [
    "kospi_mor = kospi_mor[::-1].reset_index(drop=True)"
   ]
  },
  {
   "cell_type": "code",
   "execution_count": null,
   "metadata": {},
   "outputs": [],
   "source": [
    "kospi_mor.info()"
   ]
  },
  {
   "cell_type": "code",
   "execution_count": null,
   "metadata": {},
   "outputs": [],
   "source": [
    "kospi_mor['date'] = pd.to_datetime(kospi_mor['date'])"
   ]
  },
  {
   "cell_type": "code",
   "execution_count": null,
   "metadata": {},
   "outputs": [],
   "source": [
    "kospi_mor[5:45].to_csv('../two_month_clean_feature/ks_mor_2month.csv')"
   ]
  },
  {
   "cell_type": "code",
   "execution_count": null,
   "metadata": {},
   "outputs": [],
   "source": [
    "kospi_mor[5:45]"
   ]
  },
  {
   "cell_type": "code",
   "execution_count": null,
   "metadata": {},
   "outputs": [],
   "source": []
  }
 ],
 "metadata": {
  "kernelspec": {
   "display_name": "Python 3",
   "language": "python",
   "name": "python3"
  },
  "language_info": {
   "codemirror_mode": {
    "name": "ipython",
    "version": 3
   },
   "file_extension": ".py",
   "mimetype": "text/x-python",
   "name": "python",
   "nbconvert_exporter": "python",
   "pygments_lexer": "ipython3",
   "version": "3.11.4"
  }
 },
 "nbformat": 4,
 "nbformat_minor": 2
}

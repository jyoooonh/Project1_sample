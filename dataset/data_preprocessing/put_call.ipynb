{
 "cells": [
  {
   "cell_type": "code",
   "execution_count": null,
   "metadata": {},
   "outputs": [],
   "source": [
    "import pandas as pd"
   ]
  },
  {
   "cell_type": "code",
   "execution_count": null,
   "metadata": {},
   "outputs": [],
   "source": [
    "pc = pd.read_csv('../data/put_call.csv', index_col=0, encoding='cp949')"
   ]
  },
  {
   "cell_type": "code",
   "execution_count": null,
   "metadata": {},
   "outputs": [],
   "source": [
    "pc"
   ]
  },
  {
   "cell_type": "code",
   "execution_count": null,
   "metadata": {},
   "outputs": [],
   "source": [
    "pc = pc[::-1]"
   ]
  },
  {
   "cell_type": "code",
   "execution_count": null,
   "metadata": {},
   "outputs": [],
   "source": [
    "pc = pc.reset_index()"
   ]
  },
  {
   "cell_type": "code",
   "execution_count": null,
   "metadata": {},
   "outputs": [],
   "source": [
    "pc"
   ]
  },
  {
   "cell_type": "code",
   "execution_count": null,
   "metadata": {},
   "outputs": [],
   "source": [
    "pc['거래량_CALL_shift'] = pc['거래량_CALL'].shift(1)\n",
    "pc['거래량_PUT_shift'] = pc['거래량_PUT'].shift(1)\n",
    "pc['P/C Ratio'] = pc['P/C Ratio'].shift(1)"
   ]
  },
  {
   "cell_type": "code",
   "execution_count": null,
   "metadata": {},
   "outputs": [],
   "source": [
    "pc['CALL_vol_change(%)'] = round((pc['거래량_CALL'] - pc['거래량_CALL_shift']) / pc['거래량_CALL_shift'] * 100, 3)\n",
    "pc['PUT_vol_change(%)'] = round((pc['거래량_PUT'] - pc['거래량_PUT_shift']) / pc['거래량_PUT_shift'] * 100, 3)"
   ]
  },
  {
   "cell_type": "code",
   "execution_count": null,
   "metadata": {},
   "outputs": [],
   "source": [
    "pc['CALL_vol_fluc'] = pc['거래량_CALL'] - pc['거래량_CALL_shift']\n",
    "pc['PUT_vol_fluc'] = pc['거래량_PUT'] - pc['거래량_PUT_shift']"
   ]
  },
  {
   "cell_type": "code",
   "execution_count": null,
   "metadata": {},
   "outputs": [],
   "source": [
    "pc['CALL_vol_change(%)'] = pc['CALL_vol_change(%)'].shift(1)\n",
    "pc['PUT_vol_change(%)'] = pc['PUT_vol_change(%)'].shift(1)\n",
    "pc['CALL_vol_fluc'] = pc['CALL_vol_fluc'].shift(1)\n",
    "pc['PUT_vol_fluc'] = pc['PUT_vol_fluc'].shift(1)"
   ]
  },
  {
   "cell_type": "code",
   "execution_count": null,
   "metadata": {},
   "outputs": [],
   "source": [
    "pc = pc.dropna()"
   ]
  },
  {
   "cell_type": "code",
   "execution_count": null,
   "metadata": {},
   "outputs": [],
   "source": [
    "pc['일자'] = pd.to_datetime(pc['일자'])"
   ]
  },
  {
   "cell_type": "code",
   "execution_count": null,
   "metadata": {},
   "outputs": [],
   "source": [
    "pc"
   ]
  },
  {
   "cell_type": "code",
   "execution_count": null,
   "metadata": {},
   "outputs": [],
   "source": [
    "pc = pc[:251].reset_index(drop=True)"
   ]
  },
  {
   "cell_type": "code",
   "execution_count": null,
   "metadata": {},
   "outputs": [],
   "source": [
    "pc[121:242].reset_index(drop=True)[['일자', 'P/C Ratio', 'CALL_vol_change(%)', 'PUT_vol_change(%)', 'CALL_vol_fluc', 'PUT_vol_fluc']].to_csv('../half_clean_feature/put_call_half.csv')"
   ]
  },
  {
   "cell_type": "code",
   "execution_count": null,
   "metadata": {},
   "outputs": [],
   "source": [
    "pc[162:242].reset_index(drop=True)[['일자', 'P/C Ratio', 'CALL_vol_change(%)', 'PUT_vol_change(%)', 'CALL_vol_fluc', 'PUT_vol_fluc']].to_csv('../quater_clean_feature/put_call_quater.csv')"
   ]
  },
  {
   "cell_type": "code",
   "execution_count": null,
   "metadata": {},
   "outputs": [],
   "source": [
    "pc[202:242].reset_index(drop=True)[['일자', 'P/C Ratio', 'CALL_vol_change(%)', 'PUT_vol_change(%)', 'CALL_vol_fluc', 'PUT_vol_fluc']].to_csv('../two_month_clean_feature/put_call_2month.csv')"
   ]
  },
  {
   "cell_type": "code",
   "execution_count": null,
   "metadata": {},
   "outputs": [],
   "source": [
    "pc[202:242]"
   ]
  },
  {
   "cell_type": "code",
   "execution_count": null,
   "metadata": {},
   "outputs": [],
   "source": []
  }
 ],
 "metadata": {
  "kernelspec": {
   "display_name": "Python 3",
   "language": "python",
   "name": "python3"
  },
  "language_info": {
   "codemirror_mode": {
    "name": "ipython",
    "version": 3
   },
   "file_extension": ".py",
   "mimetype": "text/x-python",
   "name": "python",
   "nbconvert_exporter": "python",
   "pygments_lexer": "ipython3",
   "version": "3.11.4"
  }
 },
 "nbformat": 4,
 "nbformat_minor": 2
}

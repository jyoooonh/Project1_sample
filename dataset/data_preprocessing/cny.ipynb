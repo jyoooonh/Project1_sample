{
 "cells": [
  {
   "cell_type": "code",
   "execution_count": 45,
   "metadata": {},
   "outputs": [],
   "source": [
    "import pandas as pd"
   ]
  },
  {
   "cell_type": "code",
   "execution_count": 46,
   "metadata": {},
   "outputs": [
    {
     "data": {
      "text/html": [
       "<div>\n",
       "<style scoped>\n",
       "    .dataframe tbody tr th:only-of-type {\n",
       "        vertical-align: middle;\n",
       "    }\n",
       "\n",
       "    .dataframe tbody tr th {\n",
       "        vertical-align: top;\n",
       "    }\n",
       "\n",
       "    .dataframe thead th {\n",
       "        text-align: right;\n",
       "    }\n",
       "</style>\n",
       "<table border=\"1\" class=\"dataframe\">\n",
       "  <thead>\n",
       "    <tr style=\"text-align: right;\">\n",
       "      <th></th>\n",
       "      <th>종가</th>\n",
       "      <th>시가</th>\n",
       "      <th>고가</th>\n",
       "      <th>저가</th>\n",
       "      <th>거래량</th>\n",
       "      <th>변동 %</th>\n",
       "    </tr>\n",
       "    <tr>\n",
       "      <th>날짜</th>\n",
       "      <th></th>\n",
       "      <th></th>\n",
       "      <th></th>\n",
       "      <th></th>\n",
       "      <th></th>\n",
       "      <th></th>\n",
       "    </tr>\n",
       "  </thead>\n",
       "  <tbody>\n",
       "    <tr>\n",
       "      <th>2023- 10- 31</th>\n",
       "      <td>184.32</td>\n",
       "      <td>184.34</td>\n",
       "      <td>184.35</td>\n",
       "      <td>184.11</td>\n",
       "      <td>NaN</td>\n",
       "      <td>-0.01%</td>\n",
       "    </tr>\n",
       "    <tr>\n",
       "      <th>2023- 10- 30</th>\n",
       "      <td>184.34</td>\n",
       "      <td>185.34</td>\n",
       "      <td>185.34</td>\n",
       "      <td>183.82</td>\n",
       "      <td>NaN</td>\n",
       "      <td>-0.54%</td>\n",
       "    </tr>\n",
       "    <tr>\n",
       "      <th>2023- 10- 29</th>\n",
       "      <td>185.34</td>\n",
       "      <td>185.35</td>\n",
       "      <td>185.35</td>\n",
       "      <td>185.34</td>\n",
       "      <td>NaN</td>\n",
       "      <td>0.10%</td>\n",
       "    </tr>\n",
       "    <tr>\n",
       "      <th>2023- 10- 27</th>\n",
       "      <td>185.16</td>\n",
       "      <td>185.02</td>\n",
       "      <td>185.63</td>\n",
       "      <td>184.23</td>\n",
       "      <td>NaN</td>\n",
       "      <td>0.15%</td>\n",
       "    </tr>\n",
       "    <tr>\n",
       "      <th>2023- 10- 26</th>\n",
       "      <td>184.88</td>\n",
       "      <td>184.89</td>\n",
       "      <td>185.93</td>\n",
       "      <td>184.73</td>\n",
       "      <td>NaN</td>\n",
       "      <td>0.04%</td>\n",
       "    </tr>\n",
       "    <tr>\n",
       "      <th>...</th>\n",
       "      <td>...</td>\n",
       "      <td>...</td>\n",
       "      <td>...</td>\n",
       "      <td>...</td>\n",
       "      <td>...</td>\n",
       "      <td>...</td>\n",
       "    </tr>\n",
       "    <tr>\n",
       "      <th>2022- 10- 19</th>\n",
       "      <td>198.48</td>\n",
       "      <td>197.90</td>\n",
       "      <td>198.80</td>\n",
       "      <td>196.01</td>\n",
       "      <td>NaN</td>\n",
       "      <td>0.34%</td>\n",
       "    </tr>\n",
       "    <tr>\n",
       "      <th>2022- 10- 18</th>\n",
       "      <td>197.81</td>\n",
       "      <td>198.99</td>\n",
       "      <td>199.05</td>\n",
       "      <td>197.21</td>\n",
       "      <td>NaN</td>\n",
       "      <td>-0.51%</td>\n",
       "    </tr>\n",
       "    <tr>\n",
       "      <th>2022- 10- 17</th>\n",
       "      <td>198.83</td>\n",
       "      <td>200.59</td>\n",
       "      <td>200.63</td>\n",
       "      <td>198.60</td>\n",
       "      <td>NaN</td>\n",
       "      <td>-0.72%</td>\n",
       "    </tr>\n",
       "    <tr>\n",
       "      <th>2022- 10- 14</th>\n",
       "      <td>200.27</td>\n",
       "      <td>199.51</td>\n",
       "      <td>200.59</td>\n",
       "      <td>198.63</td>\n",
       "      <td>NaN</td>\n",
       "      <td>0.38%</td>\n",
       "    </tr>\n",
       "    <tr>\n",
       "      <th>2022- 10- 13</th>\n",
       "      <td>199.51</td>\n",
       "      <td>198.60</td>\n",
       "      <td>201.13</td>\n",
       "      <td>198.21</td>\n",
       "      <td>NaN</td>\n",
       "      <td>0.53%</td>\n",
       "    </tr>\n",
       "  </tbody>\n",
       "</table>\n",
       "<p>275 rows × 6 columns</p>\n",
       "</div>"
      ],
      "text/plain": [
       "                  종가      시가      고가      저가  거래량    변동 %\n",
       "날짜                                                       \n",
       "2023- 10- 31  184.32  184.34  184.35  184.11  NaN  -0.01%\n",
       "2023- 10- 30  184.34  185.34  185.34  183.82  NaN  -0.54%\n",
       "2023- 10- 29  185.34  185.35  185.35  185.34  NaN   0.10%\n",
       "2023- 10- 27  185.16  185.02  185.63  184.23  NaN   0.15%\n",
       "2023- 10- 26  184.88  184.89  185.93  184.73  NaN   0.04%\n",
       "...              ...     ...     ...     ...  ...     ...\n",
       "2022- 10- 19  198.48  197.90  198.80  196.01  NaN   0.34%\n",
       "2022- 10- 18  197.81  198.99  199.05  197.21  NaN  -0.51%\n",
       "2022- 10- 17  198.83  200.59  200.63  198.60  NaN  -0.72%\n",
       "2022- 10- 14  200.27  199.51  200.59  198.63  NaN   0.38%\n",
       "2022- 10- 13  199.51  198.60  201.13  198.21  NaN   0.53%\n",
       "\n",
       "[275 rows x 6 columns]"
      ]
     },
     "execution_count": 46,
     "metadata": {},
     "output_type": "execute_result"
    }
   ],
   "source": [
    "cny = pd.read_csv('../data/CNY_KRW.csv', index_col=0)\n",
    "cny"
   ]
  },
  {
   "cell_type": "code",
   "execution_count": 47,
   "metadata": {},
   "outputs": [],
   "source": [
    "cny = cny[::-1]"
   ]
  },
  {
   "cell_type": "code",
   "execution_count": 48,
   "metadata": {},
   "outputs": [],
   "source": [
    "cny = cny.reset_index()"
   ]
  },
  {
   "cell_type": "code",
   "execution_count": 49,
   "metadata": {},
   "outputs": [],
   "source": [
    "cny = cny[['날짜', '종가', '시가']]"
   ]
  },
  {
   "cell_type": "code",
   "execution_count": 50,
   "metadata": {},
   "outputs": [
    {
     "name": "stdout",
     "output_type": "stream",
     "text": [
      "<class 'pandas.core.frame.DataFrame'>\n",
      "RangeIndex: 275 entries, 0 to 274\n",
      "Data columns (total 3 columns):\n",
      " #   Column  Non-Null Count  Dtype  \n",
      "---  ------  --------------  -----  \n",
      " 0   날짜      275 non-null    object \n",
      " 1   종가      275 non-null    float64\n",
      " 2   시가      275 non-null    float64\n",
      "dtypes: float64(2), object(1)\n",
      "memory usage: 6.6+ KB\n"
     ]
    }
   ],
   "source": [
    "cny.info()"
   ]
  },
  {
   "cell_type": "code",
   "execution_count": 51,
   "metadata": {},
   "outputs": [],
   "source": [
    "cny['종가'] = cny['종가'].shift(1)"
   ]
  },
  {
   "cell_type": "code",
   "execution_count": 52,
   "metadata": {},
   "outputs": [],
   "source": [
    "cny['야간 변동률'] = round((cny['시가'] - cny['종가']) / cny['종가'] * 100, 3)"
   ]
  },
  {
   "cell_type": "code",
   "execution_count": 53,
   "metadata": {},
   "outputs": [],
   "source": [
    "cny = cny.dropna()"
   ]
  },
  {
   "cell_type": "code",
   "execution_count": 54,
   "metadata": {},
   "outputs": [],
   "source": [
    "cny = cny[1:266]"
   ]
  },
  {
   "cell_type": "code",
   "execution_count": 55,
   "metadata": {},
   "outputs": [],
   "source": [
    "cny = cny.reset_index(drop=True)"
   ]
  },
  {
   "cell_type": "code",
   "execution_count": 56,
   "metadata": {},
   "outputs": [],
   "source": [
    "cny['날짜'] = pd.to_datetime(cny['날짜'])"
   ]
  },
  {
   "cell_type": "code",
   "execution_count": 57,
   "metadata": {},
   "outputs": [],
   "source": [
    "cny[210:255].reset_index(drop=True)[['날짜', '야간 변동률']].to_csv(\"../two_month_clean_feature/cny_2month.csv\")"
   ]
  },
  {
   "cell_type": "code",
   "execution_count": 58,
   "metadata": {},
   "outputs": [],
   "source": [
    "cny[125:255].reset_index(drop=True)[['날짜', '야간 변동률']].to_csv('../half_clean_feature/cny_half.csv')"
   ]
  },
  {
   "cell_type": "code",
   "execution_count": 59,
   "metadata": {},
   "outputs": [],
   "source": [
    "cny[170:255].reset_index(drop=True)[['날짜', '야간 변동률']].to_csv('../quater_clean_feature/cny_quater.csv')"
   ]
  },
  {
   "cell_type": "code",
   "execution_count": 60,
   "metadata": {},
   "outputs": [
    {
     "data": {
      "text/html": [
       "<div>\n",
       "<style scoped>\n",
       "    .dataframe tbody tr th:only-of-type {\n",
       "        vertical-align: middle;\n",
       "    }\n",
       "\n",
       "    .dataframe tbody tr th {\n",
       "        vertical-align: top;\n",
       "    }\n",
       "\n",
       "    .dataframe thead th {\n",
       "        text-align: right;\n",
       "    }\n",
       "</style>\n",
       "<table border=\"1\" class=\"dataframe\">\n",
       "  <thead>\n",
       "    <tr style=\"text-align: right;\">\n",
       "      <th></th>\n",
       "      <th>날짜</th>\n",
       "      <th>종가</th>\n",
       "      <th>시가</th>\n",
       "      <th>야간 변동률</th>\n",
       "    </tr>\n",
       "  </thead>\n",
       "  <tbody>\n",
       "    <tr>\n",
       "      <th>170</th>\n",
       "      <td>2023-06-12</td>\n",
       "      <td>180.55</td>\n",
       "      <td>180.63</td>\n",
       "      <td>0.044</td>\n",
       "    </tr>\n",
       "    <tr>\n",
       "      <th>171</th>\n",
       "      <td>2023-06-13</td>\n",
       "      <td>179.72</td>\n",
       "      <td>179.81</td>\n",
       "      <td>0.050</td>\n",
       "    </tr>\n",
       "    <tr>\n",
       "      <th>172</th>\n",
       "      <td>2023-06-14</td>\n",
       "      <td>176.82</td>\n",
       "      <td>176.90</td>\n",
       "      <td>0.045</td>\n",
       "    </tr>\n",
       "    <tr>\n",
       "      <th>173</th>\n",
       "      <td>2023-06-15</td>\n",
       "      <td>177.79</td>\n",
       "      <td>177.90</td>\n",
       "      <td>0.062</td>\n",
       "    </tr>\n",
       "    <tr>\n",
       "      <th>174</th>\n",
       "      <td>2023-06-16</td>\n",
       "      <td>178.31</td>\n",
       "      <td>178.40</td>\n",
       "      <td>0.050</td>\n",
       "    </tr>\n",
       "    <tr>\n",
       "      <th>...</th>\n",
       "      <td>...</td>\n",
       "      <td>...</td>\n",
       "      <td>...</td>\n",
       "      <td>...</td>\n",
       "    </tr>\n",
       "    <tr>\n",
       "      <th>250</th>\n",
       "      <td>2023-10-02</td>\n",
       "      <td>185.14</td>\n",
       "      <td>185.26</td>\n",
       "      <td>0.065</td>\n",
       "    </tr>\n",
       "    <tr>\n",
       "      <th>251</th>\n",
       "      <td>2023-10-03</td>\n",
       "      <td>185.68</td>\n",
       "      <td>185.88</td>\n",
       "      <td>0.108</td>\n",
       "    </tr>\n",
       "    <tr>\n",
       "      <th>252</th>\n",
       "      <td>2023-10-04</td>\n",
       "      <td>186.40</td>\n",
       "      <td>186.54</td>\n",
       "      <td>0.075</td>\n",
       "    </tr>\n",
       "    <tr>\n",
       "      <th>253</th>\n",
       "      <td>2023-10-05</td>\n",
       "      <td>185.10</td>\n",
       "      <td>185.21</td>\n",
       "      <td>0.059</td>\n",
       "    </tr>\n",
       "    <tr>\n",
       "      <th>254</th>\n",
       "      <td>2023-10-06</td>\n",
       "      <td>184.29</td>\n",
       "      <td>184.39</td>\n",
       "      <td>0.054</td>\n",
       "    </tr>\n",
       "  </tbody>\n",
       "</table>\n",
       "<p>85 rows × 4 columns</p>\n",
       "</div>"
      ],
      "text/plain": [
       "            날짜      종가      시가  야간 변동률\n",
       "170 2023-06-12  180.55  180.63   0.044\n",
       "171 2023-06-13  179.72  179.81   0.050\n",
       "172 2023-06-14  176.82  176.90   0.045\n",
       "173 2023-06-15  177.79  177.90   0.062\n",
       "174 2023-06-16  178.31  178.40   0.050\n",
       "..         ...     ...     ...     ...\n",
       "250 2023-10-02  185.14  185.26   0.065\n",
       "251 2023-10-03  185.68  185.88   0.108\n",
       "252 2023-10-04  186.40  186.54   0.075\n",
       "253 2023-10-05  185.10  185.21   0.059\n",
       "254 2023-10-06  184.29  184.39   0.054\n",
       "\n",
       "[85 rows x 4 columns]"
      ]
     },
     "execution_count": 60,
     "metadata": {},
     "output_type": "execute_result"
    }
   ],
   "source": [
    "cny[170:255]"
   ]
  },
  {
   "cell_type": "code",
   "execution_count": null,
   "metadata": {},
   "outputs": [],
   "source": []
  }
 ],
 "metadata": {
  "kernelspec": {
   "display_name": "Python 3",
   "language": "python",
   "name": "python3"
  },
  "language_info": {
   "codemirror_mode": {
    "name": "ipython",
    "version": 3
   },
   "file_extension": ".py",
   "mimetype": "text/x-python",
   "name": "python",
   "nbconvert_exporter": "python",
   "pygments_lexer": "ipython3",
   "version": "3.11.4"
  }
 },
 "nbformat": 4,
 "nbformat_minor": 2
}

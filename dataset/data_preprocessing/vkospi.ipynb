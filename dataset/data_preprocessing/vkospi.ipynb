{
 "cells": [
  {
   "cell_type": "code",
   "execution_count": null,
   "metadata": {},
   "outputs": [],
   "source": [
    "import pandas as pd"
   ]
  },
  {
   "cell_type": "code",
   "execution_count": null,
   "metadata": {},
   "outputs": [],
   "source": [
    "vkospi = pd.read_csv('../data/VKOSPI.csv', index_col=0)"
   ]
  },
  {
   "cell_type": "code",
   "execution_count": null,
   "metadata": {},
   "outputs": [],
   "source": [
    "vkospi = vkospi[::-1]"
   ]
  },
  {
   "cell_type": "code",
   "execution_count": null,
   "metadata": {},
   "outputs": [],
   "source": [
    "vkospi"
   ]
  },
  {
   "cell_type": "code",
   "execution_count": null,
   "metadata": {},
   "outputs": [],
   "source": [
    "vkospi = vkospi.reset_index()"
   ]
  },
  {
   "cell_type": "code",
   "execution_count": null,
   "metadata": {},
   "outputs": [],
   "source": [
    "vkospi['당일 변동율'] = round((vkospi['종가'] - vkospi['시가']) / vkospi['시가'] * 100, 3)"
   ]
  },
  {
   "cell_type": "code",
   "execution_count": null,
   "metadata": {},
   "outputs": [],
   "source": [
    "mean_value = round(vkospi['당일 변동율'].mean(), 3)"
   ]
  },
  {
   "cell_type": "code",
   "execution_count": null,
   "metadata": {},
   "outputs": [],
   "source": [
    "mean_label = []\n",
    "for i in range(len(vkospi['날짜'])):\n",
    "\tif vkospi['당일 변동율'][i] > mean_value:\n",
    "\t\tresult = 1\n",
    "\t\tmean_label.append(result)\n",
    "\telif vkospi['당일 변동율'][i] < mean_value:\n",
    "\t\tresult = 0\n",
    "\t\tmean_label.append(result)"
   ]
  },
  {
   "cell_type": "code",
   "execution_count": null,
   "metadata": {},
   "outputs": [],
   "source": [
    "mean_3_label = []\n",
    "for i in range(len(vkospi['날짜'])):\n",
    "\tif vkospi['당일 변동율'][i] > mean_value + 1:\n",
    "\t\tresult = 1\n",
    "\t\tmean_3_label.append(result)\n",
    "\telif vkospi['당일 변동율'][i] < mean_value - 1:\n",
    "\t\tresult = -1\n",
    "\t\tmean_3_label.append(result)\n",
    "\telse:\n",
    "\t\tresult = 0\n",
    "\t\tmean_3_label.append(result)"
   ]
  },
  {
   "cell_type": "code",
   "execution_count": null,
   "metadata": {},
   "outputs": [],
   "source": [
    "label = []\n",
    "\n",
    "for i in range(len(vkospi['날짜'])):\n",
    "\tif vkospi['시가'][i] > vkospi['종가'][i]:\n",
    "\t\tresult = 0\n",
    "\t\tlabel.append(result)\n",
    "\telse:\n",
    "\t\tresult = 1\n",
    "\t\tlabel.append(result)"
   ]
  },
  {
   "cell_type": "code",
   "execution_count": null,
   "metadata": {},
   "outputs": [],
   "source": [
    "vkospi[['당일 변동율']].describe()"
   ]
  },
  {
   "cell_type": "code",
   "execution_count": null,
   "metadata": {},
   "outputs": [],
   "source": [
    "vkospi[:243][['당일 변동율']].describe()"
   ]
  },
  {
   "cell_type": "code",
   "execution_count": null,
   "metadata": {},
   "outputs": [],
   "source": [
    "label_df = pd.DataFrame(label, columns=['VKOSPI_Label'])\n",
    "#mean_label_df = pd.DataFrame(mean_label, columns=['VKOSPI_mean_Label'])\n",
    "#mean_3_label_df = pd.DataFrame(mean_3_label, columns=['VKOSPI_3_Label'])"
   ]
  },
  {
   "cell_type": "code",
   "execution_count": null,
   "metadata": {},
   "outputs": [],
   "source": [
    "vkospi = pd.concat([vkospi, label_df], axis=1)"
   ]
  },
  {
   "cell_type": "code",
   "execution_count": null,
   "metadata": {},
   "outputs": [],
   "source": [
    "#vkospi = pd.concat([vkospi, label_df, mean_label_df, mean_3_label_df], axis=1)"
   ]
  },
  {
   "cell_type": "code",
   "execution_count": null,
   "metadata": {},
   "outputs": [],
   "source": [
    "##### 라벨 이동\n",
    "vkospi['VKOSPI_Label'] = vkospi['VKOSPI_Label'].shift(1)"
   ]
  },
  {
   "cell_type": "code",
   "execution_count": null,
   "metadata": {},
   "outputs": [],
   "source": [
    "# vkospi[202:242][['VKOSPI_mean_Label']].value_counts()"
   ]
  },
  {
   "cell_type": "code",
   "execution_count": null,
   "metadata": {},
   "outputs": [],
   "source": [
    "#vkospi[202:242][['VKOSPI_3_Label']].value_counts()"
   ]
  },
  {
   "cell_type": "code",
   "execution_count": 15,
   "metadata": {},
   "outputs": [],
   "source": [
    "vkospi['날짜'] = pd.to_datetime(vkospi['날짜'])"
   ]
  },
  {
   "cell_type": "code",
   "execution_count": 25,
   "metadata": {},
   "outputs": [
    {
     "data": {
      "text/html": [
       "<div>\n",
       "<style scoped>\n",
       "    .dataframe tbody tr th:only-of-type {\n",
       "        vertical-align: middle;\n",
       "    }\n",
       "\n",
       "    .dataframe tbody tr th {\n",
       "        vertical-align: top;\n",
       "    }\n",
       "\n",
       "    .dataframe thead th {\n",
       "        text-align: right;\n",
       "    }\n",
       "</style>\n",
       "<table border=\"1\" class=\"dataframe\">\n",
       "  <thead>\n",
       "    <tr style=\"text-align: right;\">\n",
       "      <th></th>\n",
       "      <th>날짜</th>\n",
       "      <th>종가</th>\n",
       "      <th>시가</th>\n",
       "      <th>고가</th>\n",
       "      <th>저가</th>\n",
       "      <th>거래량</th>\n",
       "      <th>변동 %</th>\n",
       "      <th>VKOSPI_Label</th>\n",
       "    </tr>\n",
       "  </thead>\n",
       "  <tbody>\n",
       "    <tr>\n",
       "      <th>250</th>\n",
       "      <td>2023-10-10</td>\n",
       "      <td>17.56</td>\n",
       "      <td>16.77</td>\n",
       "      <td>17.58</td>\n",
       "      <td>16.61</td>\n",
       "      <td>NaN</td>\n",
       "      <td>0.98%</td>\n",
       "      <td>1</td>\n",
       "    </tr>\n",
       "    <tr>\n",
       "      <th>251</th>\n",
       "      <td>2023-10-11</td>\n",
       "      <td>16.74</td>\n",
       "      <td>16.78</td>\n",
       "      <td>16.82</td>\n",
       "      <td>16.33</td>\n",
       "      <td>NaN</td>\n",
       "      <td>-4.67%</td>\n",
       "      <td>0</td>\n",
       "    </tr>\n",
       "    <tr>\n",
       "      <th>252</th>\n",
       "      <td>2023-10-12</td>\n",
       "      <td>15.70</td>\n",
       "      <td>16.21</td>\n",
       "      <td>16.32</td>\n",
       "      <td>15.70</td>\n",
       "      <td>NaN</td>\n",
       "      <td>-6.21%</td>\n",
       "      <td>0</td>\n",
       "    </tr>\n",
       "    <tr>\n",
       "      <th>253</th>\n",
       "      <td>2023-10-13</td>\n",
       "      <td>15.95</td>\n",
       "      <td>16.28</td>\n",
       "      <td>16.35</td>\n",
       "      <td>15.93</td>\n",
       "      <td>NaN</td>\n",
       "      <td>1.59%</td>\n",
       "      <td>0</td>\n",
       "    </tr>\n",
       "    <tr>\n",
       "      <th>254</th>\n",
       "      <td>2023-10-16</td>\n",
       "      <td>17.07</td>\n",
       "      <td>16.92</td>\n",
       "      <td>17.63</td>\n",
       "      <td>16.76</td>\n",
       "      <td>NaN</td>\n",
       "      <td>7.02%</td>\n",
       "      <td>1</td>\n",
       "    </tr>\n",
       "    <tr>\n",
       "      <th>255</th>\n",
       "      <td>2023-10-17</td>\n",
       "      <td>16.18</td>\n",
       "      <td>16.23</td>\n",
       "      <td>16.49</td>\n",
       "      <td>15.98</td>\n",
       "      <td>NaN</td>\n",
       "      <td>-5.21%</td>\n",
       "      <td>0</td>\n",
       "    </tr>\n",
       "    <tr>\n",
       "      <th>256</th>\n",
       "      <td>2023-10-18</td>\n",
       "      <td>16.00</td>\n",
       "      <td>16.36</td>\n",
       "      <td>16.43</td>\n",
       "      <td>15.90</td>\n",
       "      <td>NaN</td>\n",
       "      <td>-1.11%</td>\n",
       "      <td>0</td>\n",
       "    </tr>\n",
       "    <tr>\n",
       "      <th>257</th>\n",
       "      <td>2023-10-19</td>\n",
       "      <td>18.23</td>\n",
       "      <td>17.34</td>\n",
       "      <td>18.23</td>\n",
       "      <td>17.18</td>\n",
       "      <td>NaN</td>\n",
       "      <td>13.94%</td>\n",
       "      <td>1</td>\n",
       "    </tr>\n",
       "    <tr>\n",
       "      <th>258</th>\n",
       "      <td>2023-10-20</td>\n",
       "      <td>19.53</td>\n",
       "      <td>19.02</td>\n",
       "      <td>20.36</td>\n",
       "      <td>18.95</td>\n",
       "      <td>NaN</td>\n",
       "      <td>7.13%</td>\n",
       "      <td>1</td>\n",
       "    </tr>\n",
       "    <tr>\n",
       "      <th>259</th>\n",
       "      <td>2023-10-23</td>\n",
       "      <td>19.65</td>\n",
       "      <td>19.92</td>\n",
       "      <td>19.93</td>\n",
       "      <td>19.41</td>\n",
       "      <td>NaN</td>\n",
       "      <td>0.61%</td>\n",
       "      <td>0</td>\n",
       "    </tr>\n",
       "    <tr>\n",
       "      <th>260</th>\n",
       "      <td>2023-10-24</td>\n",
       "      <td>18.82</td>\n",
       "      <td>19.07</td>\n",
       "      <td>20.14</td>\n",
       "      <td>18.74</td>\n",
       "      <td>NaN</td>\n",
       "      <td>-4.22%</td>\n",
       "      <td>0</td>\n",
       "    </tr>\n",
       "    <tr>\n",
       "      <th>261</th>\n",
       "      <td>2023-10-25</td>\n",
       "      <td>18.56</td>\n",
       "      <td>18.39</td>\n",
       "      <td>18.67</td>\n",
       "      <td>18.29</td>\n",
       "      <td>NaN</td>\n",
       "      <td>-1.38%</td>\n",
       "      <td>1</td>\n",
       "    </tr>\n",
       "    <tr>\n",
       "      <th>262</th>\n",
       "      <td>2023-10-26</td>\n",
       "      <td>21.14</td>\n",
       "      <td>20.19</td>\n",
       "      <td>21.19</td>\n",
       "      <td>19.87</td>\n",
       "      <td>NaN</td>\n",
       "      <td>13.90%</td>\n",
       "      <td>1</td>\n",
       "    </tr>\n",
       "    <tr>\n",
       "      <th>263</th>\n",
       "      <td>2023-10-27</td>\n",
       "      <td>20.02</td>\n",
       "      <td>19.98</td>\n",
       "      <td>20.41</td>\n",
       "      <td>19.79</td>\n",
       "      <td>NaN</td>\n",
       "      <td>-5.30%</td>\n",
       "      <td>1</td>\n",
       "    </tr>\n",
       "    <tr>\n",
       "      <th>264</th>\n",
       "      <td>2023-10-30</td>\n",
       "      <td>20.03</td>\n",
       "      <td>21.04</td>\n",
       "      <td>21.04</td>\n",
       "      <td>19.88</td>\n",
       "      <td>NaN</td>\n",
       "      <td>0.05%</td>\n",
       "      <td>0</td>\n",
       "    </tr>\n",
       "    <tr>\n",
       "      <th>265</th>\n",
       "      <td>2023-10-31</td>\n",
       "      <td>19.89</td>\n",
       "      <td>19.25</td>\n",
       "      <td>20.12</td>\n",
       "      <td>19.05</td>\n",
       "      <td>NaN</td>\n",
       "      <td>-0.70%</td>\n",
       "      <td>1</td>\n",
       "    </tr>\n",
       "    <tr>\n",
       "      <th>266</th>\n",
       "      <td>2023-11-01</td>\n",
       "      <td>18.79</td>\n",
       "      <td>19.09</td>\n",
       "      <td>19.20</td>\n",
       "      <td>18.74</td>\n",
       "      <td>NaN</td>\n",
       "      <td>-5.53%</td>\n",
       "      <td>0</td>\n",
       "    </tr>\n",
       "    <tr>\n",
       "      <th>267</th>\n",
       "      <td>2023-11-02</td>\n",
       "      <td>17.49</td>\n",
       "      <td>17.73</td>\n",
       "      <td>17.88</td>\n",
       "      <td>17.27</td>\n",
       "      <td>NaN</td>\n",
       "      <td>-6.92%</td>\n",
       "      <td>0</td>\n",
       "    </tr>\n",
       "    <tr>\n",
       "      <th>268</th>\n",
       "      <td>2023-11-03</td>\n",
       "      <td>16.70</td>\n",
       "      <td>17.01</td>\n",
       "      <td>17.18</td>\n",
       "      <td>16.67</td>\n",
       "      <td>NaN</td>\n",
       "      <td>-4.52%</td>\n",
       "      <td>0</td>\n",
       "    </tr>\n",
       "  </tbody>\n",
       "</table>\n",
       "</div>"
      ],
      "text/plain": [
       "            날짜     종가     시가     고가     저가  거래량    변동 %  VKOSPI_Label\n",
       "250 2023-10-10  17.56  16.77  17.58  16.61  NaN   0.98%             1\n",
       "251 2023-10-11  16.74  16.78  16.82  16.33  NaN  -4.67%             0\n",
       "252 2023-10-12  15.70  16.21  16.32  15.70  NaN  -6.21%             0\n",
       "253 2023-10-13  15.95  16.28  16.35  15.93  NaN   1.59%             0\n",
       "254 2023-10-16  17.07  16.92  17.63  16.76  NaN   7.02%             1\n",
       "255 2023-10-17  16.18  16.23  16.49  15.98  NaN  -5.21%             0\n",
       "256 2023-10-18  16.00  16.36  16.43  15.90  NaN  -1.11%             0\n",
       "257 2023-10-19  18.23  17.34  18.23  17.18  NaN  13.94%             1\n",
       "258 2023-10-20  19.53  19.02  20.36  18.95  NaN   7.13%             1\n",
       "259 2023-10-23  19.65  19.92  19.93  19.41  NaN   0.61%             0\n",
       "260 2023-10-24  18.82  19.07  20.14  18.74  NaN  -4.22%             0\n",
       "261 2023-10-25  18.56  18.39  18.67  18.29  NaN  -1.38%             1\n",
       "262 2023-10-26  21.14  20.19  21.19  19.87  NaN  13.90%             1\n",
       "263 2023-10-27  20.02  19.98  20.41  19.79  NaN  -5.30%             1\n",
       "264 2023-10-30  20.03  21.04  21.04  19.88  NaN   0.05%             0\n",
       "265 2023-10-31  19.89  19.25  20.12  19.05  NaN  -0.70%             1\n",
       "266 2023-11-01  18.79  19.09  19.20  18.74  NaN  -5.53%             0\n",
       "267 2023-11-02  17.49  17.73  17.88  17.27  NaN  -6.92%             0\n",
       "268 2023-11-03  16.70  17.01  17.18  16.67  NaN  -4.52%             0"
      ]
     },
     "execution_count": 25,
     "metadata": {},
     "output_type": "execute_result"
    }
   ],
   "source": [
    "vkospi[250:]"
   ]
  },
  {
   "cell_type": "code",
   "execution_count": 20,
   "metadata": {},
   "outputs": [],
   "source": [
    "vkospi[129:250][['날짜', 'VKOSPI_Label']].reset_index(drop=True).to_csv(\"../half_clean_feature/vkospi_half.csv\")"
   ]
  },
  {
   "cell_type": "code",
   "execution_count": 21,
   "metadata": {},
   "outputs": [],
   "source": [
    "vkospi[170:250][['날짜', 'VKOSPI_Label']].reset_index(drop=True).to_csv(\"../quater_clean_feature/vkospi_quater.csv\")"
   ]
  },
  {
   "cell_type": "code",
   "execution_count": 24,
   "metadata": {},
   "outputs": [],
   "source": [
    "vkospi[210:242][['날짜', 'VKOSPI_Label']].reset_index(drop=True).to_csv(\"../two_month_clean_feature/vkospi_2month.csv\")"
   ]
  },
  {
   "cell_type": "code",
   "execution_count": 26,
   "metadata": {},
   "outputs": [],
   "source": [
    "vkospi[250:][['날짜', 'VKOSPI_Label']].reset_index(drop=True).to_csv(\"../test_feature/clean_feature/vkospi.csv\")"
   ]
  },
  {
   "cell_type": "code",
   "execution_count": null,
   "metadata": {},
   "outputs": [],
   "source": [
    "#vkospi[121:242][['날짜', 'VKOSPI_Label', 'VKOSPI_mean_Label', 'VKOSPI_3_Label']].reset_index(drop=True).to_csv(\"../half_clean_feature/vkospi_half.csv\")"
   ]
  },
  {
   "cell_type": "code",
   "execution_count": null,
   "metadata": {},
   "outputs": [],
   "source": [
    "#vkospi[162:242][['날짜', 'VKOSPI_Label', 'VKOSPI_mean_Label', 'VKOSPI_3_Label']].reset_index(drop=True).to_csv(\"../quater_clean_feature/vkospi_quater.csv\")"
   ]
  },
  {
   "cell_type": "code",
   "execution_count": null,
   "metadata": {},
   "outputs": [],
   "source": [
    "#vkospi[202:242][['날짜', 'VKOSPI_Label', 'VKOSPI_mean_Label', 'VKOSPI_3_Label']].reset_index(drop=True).to_csv(\"../two_month_clean_feature/vkospi_2month.csv\")"
   ]
  },
  {
   "cell_type": "code",
   "execution_count": null,
   "metadata": {},
   "outputs": [],
   "source": [
    "#vkospi[202:242]"
   ]
  },
  {
   "cell_type": "code",
   "execution_count": null,
   "metadata": {},
   "outputs": [],
   "source": []
  }
 ],
 "metadata": {
  "kernelspec": {
   "display_name": "Python 3",
   "language": "python",
   "name": "python3"
  },
  "language_info": {
   "codemirror_mode": {
    "name": "ipython",
    "version": 3
   },
   "file_extension": ".py",
   "mimetype": "text/x-python",
   "name": "python",
   "nbconvert_exporter": "python",
   "pygments_lexer": "ipython3",
   "version": "3.11.4"
  }
 },
 "nbformat": 4,
 "nbformat_minor": 2
}

{
 "cells": [
  {
   "cell_type": "code",
   "execution_count": null,
   "metadata": {},
   "outputs": [],
   "source": [
    "import pandas as pd"
   ]
  },
  {
   "cell_type": "code",
   "execution_count": null,
   "metadata": {},
   "outputs": [],
   "source": [
    "nas = pd.read_csv('../data/NASDAQ.csv', index_col=0)\n",
    "nas"
   ]
  },
  {
   "cell_type": "code",
   "execution_count": null,
   "metadata": {},
   "outputs": [],
   "source": [
    "nas = nas[::-1]"
   ]
  },
  {
   "cell_type": "code",
   "execution_count": null,
   "metadata": {},
   "outputs": [],
   "source": [
    "nas.info()"
   ]
  },
  {
   "cell_type": "code",
   "execution_count": null,
   "metadata": {},
   "outputs": [],
   "source": [
    "nas = nas.reset_index()"
   ]
  },
  {
   "cell_type": "code",
   "execution_count": null,
   "metadata": {},
   "outputs": [],
   "source": [
    "nas = nas[['날짜', '종가', '시가', '고가', '저가', '변동 %']]"
   ]
  },
  {
   "cell_type": "code",
   "execution_count": null,
   "metadata": {},
   "outputs": [],
   "source": [
    "nas['변동 %'] = nas['변동 %'].astype(str)\n",
    "nas[\"변동 %\"] = nas[\"변동 %\"].str.rstrip('%')\n",
    "nas[\"변동 %\"] = nas[\"변동 %\"].astype(float)\n",
    "\n",
    "nas[\"시가\"] = nas[\"시가\"].str.replace(',', '')\n",
    "nas[\"시가\"] = nas[\"시가\"].astype(float)\n",
    "\n",
    "nas[\"종가\"] = nas[\"종가\"].str.replace(',', '')\n",
    "nas[\"종가\"] = nas[\"종가\"].astype(float)\n",
    "\n",
    "nas[\"고가\"] = nas[\"고가\"].str.replace(',', '')\n",
    "nas[\"고가\"] = nas[\"고가\"].astype(float)\n",
    "\n",
    "nas[\"저가\"] = nas[\"저가\"].str.replace(',', '')\n",
    "nas[\"저가\"] = nas[\"저가\"].astype(float)"
   ]
  },
  {
   "cell_type": "code",
   "execution_count": null,
   "metadata": {},
   "outputs": [],
   "source": [
    "nas['변동 %'] = nas['변동 %'].shift(1)\n",
    "nas"
   ]
  },
  {
   "cell_type": "code",
   "execution_count": null,
   "metadata": {},
   "outputs": [],
   "source": [
    "nas['당일 변동률'] = round((nas['종가'] - nas['시가']) / nas['시가'] * 100, 3)\n",
    "nas['당일 변화량'] = round(nas['고가'] - nas['저가'], 3)"
   ]
  },
  {
   "cell_type": "code",
   "execution_count": null,
   "metadata": {},
   "outputs": [],
   "source": [
    "nas['당일 변동률'] = nas['당일 변동률'].shift(1)\n",
    "nas['당일 변화량'] = nas['당일 변화량'].shift(1)"
   ]
  },
  {
   "cell_type": "code",
   "execution_count": null,
   "metadata": {},
   "outputs": [],
   "source": [
    "nas = nas.dropna()"
   ]
  },
  {
   "cell_type": "code",
   "execution_count": null,
   "metadata": {},
   "outputs": [],
   "source": [
    "nas = nas[1:256]"
   ]
  },
  {
   "cell_type": "code",
   "execution_count": null,
   "metadata": {},
   "outputs": [],
   "source": [
    "nas = nas.reset_index(drop=True)"
   ]
  },
  {
   "cell_type": "code",
   "execution_count": null,
   "metadata": {},
   "outputs": [],
   "source": [
    "nas['날짜'] = pd.to_datetime(nas['날짜'])"
   ]
  },
  {
   "cell_type": "code",
   "execution_count": null,
   "metadata": {},
   "outputs": [],
   "source": [
    "nas[115:]"
   ]
  },
  {
   "cell_type": "code",
   "execution_count": null,
   "metadata": {},
   "outputs": [],
   "source": [
    "nas[119:245].reset_index(drop=True)[['날짜', '변동 %', '당일 변동률', '당일 변화량']].to_csv('../half_clean_feature/nas_half.csv')"
   ]
  },
  {
   "cell_type": "code",
   "execution_count": null,
   "metadata": {},
   "outputs": [],
   "source": [
    "nas[163:245].reset_index(drop=True)[['날짜', '변동 %', '당일 변동률', '당일 변화량']].to_csv('../quater_clean_feature/nas_quater.csv')"
   ]
  },
  {
   "cell_type": "code",
   "execution_count": null,
   "metadata": {},
   "outputs": [],
   "source": [
    "nas[201:245].reset_index(drop=True)[['날짜', '변동 %', '당일 변동률', '당일 변화량']].to_csv('../two_month_clean_feature/nas_2month.csv')"
   ]
  },
  {
   "cell_type": "code",
   "execution_count": null,
   "metadata": {},
   "outputs": [],
   "source": [
    "nas[201:245]"
   ]
  },
  {
   "cell_type": "code",
   "execution_count": null,
   "metadata": {},
   "outputs": [],
   "source": []
  }
 ],
 "metadata": {
  "kernelspec": {
   "display_name": "Python 3",
   "language": "python",
   "name": "python3"
  },
  "language_info": {
   "codemirror_mode": {
    "name": "ipython",
    "version": 3
   },
   "file_extension": ".py",
   "mimetype": "text/x-python",
   "name": "python",
   "nbconvert_exporter": "python",
   "pygments_lexer": "ipython3",
   "version": "3.11.4"
  }
 },
 "nbformat": 4,
 "nbformat_minor": 2
}

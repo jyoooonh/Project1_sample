{
 "cells": [
  {
   "cell_type": "code",
   "execution_count": 21,
   "metadata": {},
   "outputs": [],
   "source": [
    "import pandas as pd"
   ]
  },
  {
   "cell_type": "code",
   "execution_count": 22,
   "metadata": {},
   "outputs": [
    {
     "data": {
      "text/html": [
       "<div>\n",
       "<style scoped>\n",
       "    .dataframe tbody tr th:only-of-type {\n",
       "        vertical-align: middle;\n",
       "    }\n",
       "\n",
       "    .dataframe tbody tr th {\n",
       "        vertical-align: top;\n",
       "    }\n",
       "\n",
       "    .dataframe thead th {\n",
       "        text-align: right;\n",
       "    }\n",
       "</style>\n",
       "<table border=\"1\" class=\"dataframe\">\n",
       "  <thead>\n",
       "    <tr style=\"text-align: right;\">\n",
       "      <th></th>\n",
       "      <th>종가</th>\n",
       "      <th>시가</th>\n",
       "      <th>고가</th>\n",
       "      <th>저가</th>\n",
       "      <th>거래량</th>\n",
       "      <th>변동 %</th>\n",
       "    </tr>\n",
       "    <tr>\n",
       "      <th>날짜</th>\n",
       "      <th></th>\n",
       "      <th></th>\n",
       "      <th></th>\n",
       "      <th></th>\n",
       "      <th></th>\n",
       "      <th></th>\n",
       "    </tr>\n",
       "  </thead>\n",
       "  <tbody>\n",
       "    <tr>\n",
       "      <th>2023- 10- 31</th>\n",
       "      <td>19.75</td>\n",
       "      <td>19.75</td>\n",
       "      <td>19.75</td>\n",
       "      <td>19.75</td>\n",
       "      <td>NaN</td>\n",
       "      <td>0.00%</td>\n",
       "    </tr>\n",
       "    <tr>\n",
       "      <th>2023- 10- 30</th>\n",
       "      <td>19.75</td>\n",
       "      <td>21.13</td>\n",
       "      <td>21.16</td>\n",
       "      <td>19.55</td>\n",
       "      <td>NaN</td>\n",
       "      <td>-7.15%</td>\n",
       "    </tr>\n",
       "    <tr>\n",
       "      <th>2023- 10- 27</th>\n",
       "      <td>21.27</td>\n",
       "      <td>20.39</td>\n",
       "      <td>22.07</td>\n",
       "      <td>19.72</td>\n",
       "      <td>NaN</td>\n",
       "      <td>2.85%</td>\n",
       "    </tr>\n",
       "    <tr>\n",
       "      <th>2023- 10- 26</th>\n",
       "      <td>20.68</td>\n",
       "      <td>21.78</td>\n",
       "      <td>21.96</td>\n",
       "      <td>20.22</td>\n",
       "      <td>NaN</td>\n",
       "      <td>2.43%</td>\n",
       "    </tr>\n",
       "    <tr>\n",
       "      <th>2023- 10- 25</th>\n",
       "      <td>20.19</td>\n",
       "      <td>19.39</td>\n",
       "      <td>21.24</td>\n",
       "      <td>18.86</td>\n",
       "      <td>NaN</td>\n",
       "      <td>6.43%</td>\n",
       "    </tr>\n",
       "    <tr>\n",
       "      <th>...</th>\n",
       "      <td>...</td>\n",
       "      <td>...</td>\n",
       "      <td>...</td>\n",
       "      <td>...</td>\n",
       "      <td>...</td>\n",
       "      <td>...</td>\n",
       "    </tr>\n",
       "    <tr>\n",
       "      <th>2022- 10- 19</th>\n",
       "      <td>30.76</td>\n",
       "      <td>30.94</td>\n",
       "      <td>31.90</td>\n",
       "      <td>30.76</td>\n",
       "      <td>NaN</td>\n",
       "      <td>0.85%</td>\n",
       "    </tr>\n",
       "    <tr>\n",
       "      <th>2022- 10- 18</th>\n",
       "      <td>30.50</td>\n",
       "      <td>31.10</td>\n",
       "      <td>31.93</td>\n",
       "      <td>30.42</td>\n",
       "      <td>NaN</td>\n",
       "      <td>-2.77%</td>\n",
       "    </tr>\n",
       "    <tr>\n",
       "      <th>2022- 10- 17</th>\n",
       "      <td>31.37</td>\n",
       "      <td>32.27</td>\n",
       "      <td>32.59</td>\n",
       "      <td>30.70</td>\n",
       "      <td>NaN</td>\n",
       "      <td>-2.03%</td>\n",
       "    </tr>\n",
       "    <tr>\n",
       "      <th>2022- 10- 14</th>\n",
       "      <td>32.02</td>\n",
       "      <td>31.89</td>\n",
       "      <td>32.98</td>\n",
       "      <td>31.14</td>\n",
       "      <td>NaN</td>\n",
       "      <td>0.25%</td>\n",
       "    </tr>\n",
       "    <tr>\n",
       "      <th>2022- 10- 13</th>\n",
       "      <td>31.94</td>\n",
       "      <td>33.60</td>\n",
       "      <td>33.87</td>\n",
       "      <td>31.63</td>\n",
       "      <td>NaN</td>\n",
       "      <td>-4.86%</td>\n",
       "    </tr>\n",
       "  </tbody>\n",
       "</table>\n",
       "<p>273 rows × 6 columns</p>\n",
       "</div>"
      ],
      "text/plain": [
       "                 종가     시가     고가     저가  거래량    변동 %\n",
       "날짜                                                   \n",
       "2023- 10- 31  19.75  19.75  19.75  19.75  NaN   0.00%\n",
       "2023- 10- 30  19.75  21.13  21.16  19.55  NaN  -7.15%\n",
       "2023- 10- 27  21.27  20.39  22.07  19.72  NaN   2.85%\n",
       "2023- 10- 26  20.68  21.78  21.96  20.22  NaN   2.43%\n",
       "2023- 10- 25  20.19  19.39  21.24  18.86  NaN   6.43%\n",
       "...             ...    ...    ...    ...  ...     ...\n",
       "2022- 10- 19  30.76  30.94  31.90  30.76  NaN   0.85%\n",
       "2022- 10- 18  30.50  31.10  31.93  30.42  NaN  -2.77%\n",
       "2022- 10- 17  31.37  32.27  32.59  30.70  NaN  -2.03%\n",
       "2022- 10- 14  32.02  31.89  32.98  31.14  NaN   0.25%\n",
       "2022- 10- 13  31.94  33.60  33.87  31.63  NaN  -4.86%\n",
       "\n",
       "[273 rows x 6 columns]"
      ]
     },
     "execution_count": 22,
     "metadata": {},
     "output_type": "execute_result"
    }
   ],
   "source": [
    "vix = pd.read_csv('../data/VIX.csv', index_col=0)\n",
    "vix"
   ]
  },
  {
   "cell_type": "code",
   "execution_count": 23,
   "metadata": {},
   "outputs": [],
   "source": [
    "vix = vix[::-1]"
   ]
  },
  {
   "cell_type": "code",
   "execution_count": 24,
   "metadata": {},
   "outputs": [],
   "source": [
    "vix = vix.reset_index()"
   ]
  },
  {
   "cell_type": "code",
   "execution_count": 25,
   "metadata": {},
   "outputs": [],
   "source": [
    "vix = vix[['날짜', '종가', '시가', '고가', '저가', '변동 %']]"
   ]
  },
  {
   "cell_type": "code",
   "execution_count": 26,
   "metadata": {},
   "outputs": [
    {
     "name": "stdout",
     "output_type": "stream",
     "text": [
      "<class 'pandas.core.frame.DataFrame'>\n",
      "RangeIndex: 273 entries, 0 to 272\n",
      "Data columns (total 6 columns):\n",
      " #   Column  Non-Null Count  Dtype  \n",
      "---  ------  --------------  -----  \n",
      " 0   날짜      273 non-null    object \n",
      " 1   종가      273 non-null    float64\n",
      " 2   시가      273 non-null    float64\n",
      " 3   고가      273 non-null    float64\n",
      " 4   저가      273 non-null    float64\n",
      " 5   변동 %    273 non-null    object \n",
      "dtypes: float64(4), object(2)\n",
      "memory usage: 12.9+ KB\n"
     ]
    }
   ],
   "source": [
    "vix.info()"
   ]
  },
  {
   "cell_type": "code",
   "execution_count": 27,
   "metadata": {},
   "outputs": [],
   "source": [
    "vix['변동 %'] = vix['변동 %'].astype(str)\n",
    "vix[\"변동 %\"] = vix[\"변동 %\"].str.rstrip('%')\n",
    "vix[\"변동 %\"] = vix[\"변동 %\"].astype(float)"
   ]
  },
  {
   "cell_type": "code",
   "execution_count": 28,
   "metadata": {},
   "outputs": [],
   "source": [
    "vix['변동 %'] = vix['변동 %'].shift(1)"
   ]
  },
  {
   "cell_type": "code",
   "execution_count": 29,
   "metadata": {},
   "outputs": [],
   "source": [
    "vix['당일 변동률'] = round((vix['종가'] - vix['시가']) / vix['시가'] * 100, 3)\n",
    "vix['당일 변화량'] = round(vix['고가'] - vix['저가'], 3)"
   ]
  },
  {
   "cell_type": "code",
   "execution_count": 30,
   "metadata": {},
   "outputs": [],
   "source": [
    "vix['당일 변동률'] = vix['당일 변동률'].shift(1)\n",
    "vix['당일 변화량'] = vix['당일 변화량'].shift(1)"
   ]
  },
  {
   "cell_type": "code",
   "execution_count": 31,
   "metadata": {},
   "outputs": [],
   "source": [
    "vix = vix.dropna()"
   ]
  },
  {
   "cell_type": "code",
   "execution_count": 32,
   "metadata": {},
   "outputs": [],
   "source": [
    "vix = vix[1:265]"
   ]
  },
  {
   "cell_type": "code",
   "execution_count": 33,
   "metadata": {},
   "outputs": [],
   "source": [
    "vix = vix.reset_index(drop=True)"
   ]
  },
  {
   "cell_type": "code",
   "execution_count": 34,
   "metadata": {},
   "outputs": [],
   "source": [
    "vix['날짜'] = pd.to_datetime(vix['날짜'])"
   ]
  },
  {
   "cell_type": "code",
   "execution_count": 35,
   "metadata": {},
   "outputs": [],
   "source": [
    "vix[['날짜', '변동 %', '당일 변동률', '당일 변화량']].to_csv(\"../year_clean_feature/vix_year.csv\")"
   ]
  },
  {
   "cell_type": "code",
   "execution_count": 36,
   "metadata": {},
   "outputs": [
    {
     "data": {
      "text/html": [
       "<div>\n",
       "<style scoped>\n",
       "    .dataframe tbody tr th:only-of-type {\n",
       "        vertical-align: middle;\n",
       "    }\n",
       "\n",
       "    .dataframe tbody tr th {\n",
       "        vertical-align: top;\n",
       "    }\n",
       "\n",
       "    .dataframe thead th {\n",
       "        text-align: right;\n",
       "    }\n",
       "</style>\n",
       "<table border=\"1\" class=\"dataframe\">\n",
       "  <thead>\n",
       "    <tr style=\"text-align: right;\">\n",
       "      <th></th>\n",
       "      <th>날짜</th>\n",
       "      <th>종가</th>\n",
       "      <th>시가</th>\n",
       "      <th>고가</th>\n",
       "      <th>저가</th>\n",
       "      <th>변동 %</th>\n",
       "      <th>당일 변동률</th>\n",
       "      <th>당일 변화량</th>\n",
       "    </tr>\n",
       "  </thead>\n",
       "  <tbody>\n",
       "    <tr>\n",
       "      <th>119</th>\n",
       "      <td>2023-04-03</td>\n",
       "      <td>18.55</td>\n",
       "      <td>19.79</td>\n",
       "      <td>19.83</td>\n",
       "      <td>18.54</td>\n",
       "      <td>-1.68</td>\n",
       "      <td>-2.655</td>\n",
       "      <td>0.91</td>\n",
       "    </tr>\n",
       "    <tr>\n",
       "      <th>120</th>\n",
       "      <td>2023-04-04</td>\n",
       "      <td>19.00</td>\n",
       "      <td>18.79</td>\n",
       "      <td>20.03</td>\n",
       "      <td>18.58</td>\n",
       "      <td>-0.80</td>\n",
       "      <td>-6.266</td>\n",
       "      <td>1.29</td>\n",
       "    </tr>\n",
       "    <tr>\n",
       "      <th>121</th>\n",
       "      <td>2023-04-05</td>\n",
       "      <td>19.08</td>\n",
       "      <td>19.42</td>\n",
       "      <td>20.08</td>\n",
       "      <td>19.00</td>\n",
       "      <td>2.43</td>\n",
       "      <td>1.118</td>\n",
       "      <td>1.45</td>\n",
       "    </tr>\n",
       "    <tr>\n",
       "      <th>122</th>\n",
       "      <td>2023-04-06</td>\n",
       "      <td>18.40</td>\n",
       "      <td>19.30</td>\n",
       "      <td>19.88</td>\n",
       "      <td>18.35</td>\n",
       "      <td>0.42</td>\n",
       "      <td>-1.751</td>\n",
       "      <td>1.08</td>\n",
       "    </tr>\n",
       "    <tr>\n",
       "      <th>123</th>\n",
       "      <td>2023-04-07</td>\n",
       "      <td>18.40</td>\n",
       "      <td>18.40</td>\n",
       "      <td>18.40</td>\n",
       "      <td>18.40</td>\n",
       "      <td>-3.56</td>\n",
       "      <td>-4.663</td>\n",
       "      <td>1.53</td>\n",
       "    </tr>\n",
       "    <tr>\n",
       "      <th>...</th>\n",
       "      <td>...</td>\n",
       "      <td>...</td>\n",
       "      <td>...</td>\n",
       "      <td>...</td>\n",
       "      <td>...</td>\n",
       "      <td>...</td>\n",
       "      <td>...</td>\n",
       "      <td>...</td>\n",
       "    </tr>\n",
       "    <tr>\n",
       "      <th>259</th>\n",
       "      <td>2023-10-16</td>\n",
       "      <td>17.21</td>\n",
       "      <td>19.10</td>\n",
       "      <td>19.57</td>\n",
       "      <td>17.14</td>\n",
       "      <td>15.76</td>\n",
       "      <td>16.878</td>\n",
       "      <td>4.28</td>\n",
       "    </tr>\n",
       "    <tr>\n",
       "      <th>260</th>\n",
       "      <td>2023-10-17</td>\n",
       "      <td>17.88</td>\n",
       "      <td>17.41</td>\n",
       "      <td>18.54</td>\n",
       "      <td>16.97</td>\n",
       "      <td>-10.92</td>\n",
       "      <td>-9.895</td>\n",
       "      <td>2.43</td>\n",
       "    </tr>\n",
       "    <tr>\n",
       "      <th>261</th>\n",
       "      <td>2023-10-18</td>\n",
       "      <td>19.22</td>\n",
       "      <td>18.36</td>\n",
       "      <td>20.15</td>\n",
       "      <td>17.88</td>\n",
       "      <td>3.89</td>\n",
       "      <td>2.700</td>\n",
       "      <td>1.57</td>\n",
       "    </tr>\n",
       "    <tr>\n",
       "      <th>262</th>\n",
       "      <td>2023-10-19</td>\n",
       "      <td>21.40</td>\n",
       "      <td>19.73</td>\n",
       "      <td>21.40</td>\n",
       "      <td>18.55</td>\n",
       "      <td>7.49</td>\n",
       "      <td>4.684</td>\n",
       "      <td>2.27</td>\n",
       "    </tr>\n",
       "    <tr>\n",
       "      <th>263</th>\n",
       "      <td>2023-10-20</td>\n",
       "      <td>21.71</td>\n",
       "      <td>21.59</td>\n",
       "      <td>21.83</td>\n",
       "      <td>20.42</td>\n",
       "      <td>11.34</td>\n",
       "      <td>8.464</td>\n",
       "      <td>2.85</td>\n",
       "    </tr>\n",
       "  </tbody>\n",
       "</table>\n",
       "<p>145 rows × 8 columns</p>\n",
       "</div>"
      ],
      "text/plain": [
       "            날짜     종가     시가     고가     저가   변동 %  당일 변동률  당일 변화량\n",
       "119 2023-04-03  18.55  19.79  19.83  18.54  -1.68  -2.655    0.91\n",
       "120 2023-04-04  19.00  18.79  20.03  18.58  -0.80  -6.266    1.29\n",
       "121 2023-04-05  19.08  19.42  20.08  19.00   2.43   1.118    1.45\n",
       "122 2023-04-06  18.40  19.30  19.88  18.35   0.42  -1.751    1.08\n",
       "123 2023-04-07  18.40  18.40  18.40  18.40  -3.56  -4.663    1.53\n",
       "..         ...    ...    ...    ...    ...    ...     ...     ...\n",
       "259 2023-10-16  17.21  19.10  19.57  17.14  15.76  16.878    4.28\n",
       "260 2023-10-17  17.88  17.41  18.54  16.97 -10.92  -9.895    2.43\n",
       "261 2023-10-18  19.22  18.36  20.15  17.88   3.89   2.700    1.57\n",
       "262 2023-10-19  21.40  19.73  21.40  18.55   7.49   4.684    2.27\n",
       "263 2023-10-20  21.71  21.59  21.83  20.42  11.34   8.464    2.85\n",
       "\n",
       "[145 rows x 8 columns]"
      ]
     },
     "execution_count": 36,
     "metadata": {},
     "output_type": "execute_result"
    }
   ],
   "source": [
    "vix[119:]"
   ]
  },
  {
   "cell_type": "code",
   "execution_count": 37,
   "metadata": {},
   "outputs": [],
   "source": [
    "vix[119:].reset_index(drop=True)[['날짜', '변동 %', '당일 변동률', '당일 변화량']].to_csv('../half_clean_feature/vix_half.csv')"
   ]
  },
  {
   "cell_type": "code",
   "execution_count": 38,
   "metadata": {},
   "outputs": [],
   "source": [
    "vix[204:].reset_index(drop=True)[['날짜', '변동 %', '당일 변동률', '당일 변화량']].to_csv('../quater_clean_feature/vix_quater.csv')"
   ]
  },
  {
   "cell_type": "code",
   "execution_count": null,
   "metadata": {},
   "outputs": [],
   "source": []
  }
 ],
 "metadata": {
  "kernelspec": {
   "display_name": "Python 3",
   "language": "python",
   "name": "python3"
  },
  "language_info": {
   "codemirror_mode": {
    "name": "ipython",
    "version": 3
   },
   "file_extension": ".py",
   "mimetype": "text/x-python",
   "name": "python",
   "nbconvert_exporter": "python",
   "pygments_lexer": "ipython3",
   "version": "3.11.4"
  }
 },
 "nbformat": 4,
 "nbformat_minor": 2
}

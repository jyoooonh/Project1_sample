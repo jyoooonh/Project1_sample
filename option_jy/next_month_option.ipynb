{
 "cells": [
  {
   "cell_type": "code",
   "execution_count": 1,
   "metadata": {},
   "outputs": [],
   "source": [
    "import pandas as pd"
   ]
  },
  {
   "cell_type": "code",
   "execution_count": 11,
   "metadata": {},
   "outputs": [],
   "source": [
    "day_list = [20230904, 20230905, 20230906, 20230907, 20231010, 20231011, 20231012]"
   ]
  },
  {
   "cell_type": "code",
   "execution_count": 12,
   "metadata": {},
   "outputs": [],
   "source": [
    "strike_price = pd.read_csv('./strike_price.csv')\n",
    "strike_price = strike_price[:31]"
   ]
  },
  {
   "cell_type": "code",
   "execution_count": 14,
   "metadata": {},
   "outputs": [
    {
     "name": "stdout",
     "output_type": "stream",
     "text": [
      "29    337.5\n",
      "Name: 기준행사가, dtype: float64\n",
      "28    340.0\n",
      "Name: 기준행사가, dtype: float64\n",
      "27    340.0\n",
      "Name: 기준행사가, dtype: float64\n",
      "26    337.5\n",
      "Name: 기준행사가, dtype: float64\n",
      "8    317.5\n",
      "Name: 기준행사가, dtype: float64\n",
      "7    317.5\n",
      "Name: 기준행사가, dtype: float64\n",
      "6    322.5\n",
      "Name: 기준행사가, dtype: float64\n"
     ]
    }
   ],
   "source": [
    "for date in day_list:\n",
    "\tdata = pd.read_csv(f'./option_day_price/{date}.csv', encoding='cp949')\n",
    "\tdata = data[data['결제월번호'] == 2]\n",
    "\tprice = strike_price['기준행사가'].loc[strike_price['일자'] == date]\n",
    "\tprint(price)\n",
    "\t# 날짜에 해당하는 기준 행사가 변수에 저장 / 해당 기준행사가 +-4 행사가 리스트 저장\n",
    "\tprice = price.values[0]\n",
    "\tprice_list = [price-10, price-7.5, price-5, price-2.5, price, price+2.5, price+5, price+7.5, price+10]\n",
    "\t\n",
    "\t# loc 비교할때 str으로 변환해서 비교\n",
    "\tdata['행사가'] = data['행사가'].astype(str)\n",
    "\tprice_list = list(map(str, price_list))\n",
    "\n",
    "\t# 저장할 빈 데이터프레임 \n",
    "\tdf = pd.DataFrame()\n",
    "\tfor price in price_list:\n",
    "\t\t\tfiltered_data = data.loc[data['행사가'] == price]\n",
    "\t\t\tdf = pd.concat([df, filtered_data])\n",
    "\t\n",
    "\tdf.reset_index(drop=True).to_csv(f'./option_day_strike_price/{date}_clean.csv')"
   ]
  },
  {
   "cell_type": "code",
   "execution_count": null,
   "metadata": {},
   "outputs": [],
   "source": []
  }
 ],
 "metadata": {
  "kernelspec": {
   "display_name": "Python 3",
   "language": "python",
   "name": "python3"
  },
  "language_info": {
   "codemirror_mode": {
    "name": "ipython",
    "version": 3
   },
   "file_extension": ".py",
   "mimetype": "text/x-python",
   "name": "python",
   "nbconvert_exporter": "python",
   "pygments_lexer": "ipython3",
   "version": "3.11.4"
  }
 },
 "nbformat": 4,
 "nbformat_minor": 2
}

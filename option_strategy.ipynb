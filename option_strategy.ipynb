{
 "cells": [
  {
   "cell_type": "markdown",
   "metadata": {},
   "source": [
    "import modules"
   ]
  },
  {
   "cell_type": "code",
   "execution_count": 137,
   "metadata": {},
   "outputs": [
    {
     "name": "stdout",
     "output_type": "stream",
     "text": [
      "현재 디렉토리: c:\\apps\\Project1\n"
     ]
    }
   ],
   "source": [
    "import pandas as pd\n",
    "import glob\n",
    "import os\n",
    "current_directory = os.getcwd()\n",
    "print(\"현재 디렉토리:\", current_directory)"
   ]
  },
  {
   "cell_type": "markdown",
   "metadata": {},
   "source": [
    "목표 : 각 옵션종목을 각 dataframe으로 저장\n",
    "dataframe이름 예로 201TB305는 콜옵션, 23년, 11월, 행사가 305이므로 -> TB305C\n",
    "201TC2337는 콜옵션, 23년, 12월, 행사가 337.5이므로 -> TC337C\n",
    "301TB312는 풋옵션, 23년, 11월, 행사가 312.5이므로 -> TB312P\n",
    "301TC335는 풋옵션, 23년, 12월, 행사가 335이므로 -> TC335P"
   ]
  },
  {
   "cell_type": "markdown",
   "metadata": {},
   "source": [
    "load files"
   ]
  },
  {
   "cell_type": "code",
   "execution_count": 128,
   "metadata": {},
   "outputs": [],
   "source": [
    "strike_price = pd.read_csv('./dataset/strike_price.csv')"
   ]
  },
  {
   "cell_type": "code",
   "execution_count": 129,
   "metadata": {},
   "outputs": [
    {
     "name": "stdout",
     "output_type": "stream",
     "text": [
      "['201TB305_352.5', '201TC305_337.5', '301TB305_352.5', '301TC305_337.5']\n"
     ]
    }
   ],
   "source": [
    "folder_path = './option_price/' # 폴더 경로\n",
    "subfolders = [os.path.basename(f.path) for f in os.scandir(folder_path) if f.is_dir()] # 폴더 내의 모든 하위 폴더를 리스트로 얻음\n",
    "# subfolders 리스트에는 모든 하위 폴더의 이름이 저장됨\n",
    "print(subfolders)"
   ]
  },
  {
   "cell_type": "code",
   "execution_count": 130,
   "metadata": {},
   "outputs": [
    {
     "name": "stdout",
     "output_type": "stream",
     "text": [
      "['201TB305.csv', '201TB307.csv', '201TB310.csv', '201TB312.csv', '201TB315.csv', '201TB317.csv', '201TB319.csv', '201TB322.csv', '201TB324.csv', '201TB327.csv', '201TB332.csv', '201TB334.csv', '201TB337.csv', '201TB339.csv', '201TB342.csv', '201TB344.csv', '201TB347.csv', '201TB349.csv', '201TB352.csv']\n",
      "['CTB305', 'CTB307', 'CTB310', 'CTB312', 'CTB315', 'CTB317', 'CTB319', 'CTB322', 'CTB324', 'CTB327', 'CTB332', 'CTB334', 'CTB337', 'CTB339', 'CTB342', 'CTB344', 'CTB347', 'CTB349', 'CTB352']\n"
     ]
    }
   ],
   "source": [
    "csv_file_names = []\n",
    "folder_with_csv = os.path.join(folder_path, subfolders[0])\n",
    "csv_files = glob.glob(os.path.join(folder_with_csv, '*.csv'))\n",
    "csv_file_names.extend([os.path.basename(file) for file in csv_files])\n",
    "print(csv_file_names)\n",
    "df_names = [] # 파일 이름 리스트\n",
    "for file in csv_file_names:\n",
    "    if file.startswith('201'): # 201로 시작하면 끝에 C를 붙인다.\n",
    "        df_names.append(\"C\" + file.split('.')[0].split('201')[1])\n",
    "    elif file.startswith('301'): # 301로 시작하면 끝에 P를 붙인다.\n",
    "        df_names.append(\"P\" + file.split('.')[0].split('301')[1])\n",
    "print(df_names)"
   ]
  },
  {
   "cell_type": "code",
   "execution_count": 131,
   "metadata": {},
   "outputs": [
    {
     "name": "stdout",
     "output_type": "stream",
     "text": [
      "['201TB305.csv', '201TB307.csv', '201TB310.csv', '201TB312.csv', '201TB315.csv', '201TB317.csv', '201TB319.csv', '201TB322.csv', '201TB324.csv', '201TB327.csv', '201TB332.csv', '201TB334.csv', '201TB337.csv', '201TB339.csv', '201TB342.csv', '201TB344.csv', '201TB347.csv', '201TB349.csv', '201TB352.csv', '201TC305.csv', '201TC307.csv', '201TC310.csv', '201TC312.csv', '201TC315.csv', '201TC320.csv', '201TC322.csv', '201TC325.csv', '201TC327.csv', '201TC330.csv', '201TC332.csv', '201TC335.csv', '201TC337.csv', '301TB305.csv', '301TB307.csv', '301TB310.csv', '301TB312.csv', '301TB315.csv', '301TB317.csv', '301TB320.csv', '301TB322.csv', '301TB325.csv', '301TB327.csv', '301TB330.csv', '301TB332.csv', '301TB335.csv', '301TB337.csv', '301TB340.csv', '301TB345.csv', '301TB347.csv', '301TB350.csv', '301TB352.csv', '301TC305.csv', '301TC307.csv', '301TC310.csv', '301TC312.csv', '301TC315.csv', '301TC317.csv', '301TC320.csv', '301TC322.csv', '301TC325.csv', '301TC327.csv', '301TC330.csv', '301TC332.csv', '301TC335.csv', '301TC337.csv']\n"
     ]
    }
   ],
   "source": [
    "csv_file_names = [] # CSV 파일 이름을 저장할 리스트\n",
    "for subfolder in subfolders: # 각 하위 폴더에서 CSV 파일 이름을 추출하고 리스트에 추가\n",
    "    folder_with_csv = os.path.join(folder_path, subfolder)\n",
    "    csv_files = glob.glob(os.path.join(folder_with_csv, '*.csv'))\n",
    "    csv_file_names.extend([os.path.basename(file) for file in csv_files])\n",
    "print(csv_file_names)# 선택된 CSV 파일들의 이름 리스트"
   ]
  },
  {
   "cell_type": "code",
   "execution_count": 132,
   "metadata": {},
   "outputs": [
    {
     "name": "stdout",
     "output_type": "stream",
     "text": [
      "['TB305C', 'TB307C', 'TB310C', 'TB312C', 'TB315C', 'TB317C', 'TB319C', 'TB322C', 'TB324C', 'TB327C', 'TB332C', 'TB334C', 'TB337C', 'TB339C', 'TB342C', 'TB344C', 'TB347C', 'TB349C', 'TB352C', 'TC305C', 'TC307C', 'TC310C', 'TC312C', 'TC315C', 'TC320C', 'TC322C', 'TC325C', 'TC327C', 'TC330C', 'TC332C', 'TC335C', 'TC337C', 'TB305P', 'TB307P', 'TB310P', 'TB312P', 'TB315P', 'TB317P', 'TB320P', 'TB322P', 'TB325P', 'TB327P', 'TB330P', 'TB332P', 'TB335P', 'TB337P', 'TB340P', 'TB345P', 'TB347P', 'TB350P', 'TB352P', 'TC305P', 'TC307P', 'TC310P', 'TC312P', 'TC315P', 'TC317P', 'TC320P', 'TC322P', 'TC325P', 'TC327P', 'TC330P', 'TC332P', 'TC335P', 'TC337P']\n"
     ]
    }
   ],
   "source": [
    "df_names = [] # 파일 이름 리스트\n",
    "for file in csv_file_names:\n",
    "    if file.startswith('201'): # 201로 시작하면 끝에 C를 붙인다.\n",
    "        df_names.append(file.split('.')[0].split('201')[1] + \"C\")\n",
    "    elif file.startswith('301'): # 301로 시작하면 끝에 P를 붙인다.\n",
    "        df_names.append(file.split('.')[0].split('301')[1] + \"P\")\n",
    "print(df_names)"
   ]
  },
  {
   "cell_type": "code",
   "execution_count": 134,
   "metadata": {},
   "outputs": [
    {
     "name": "stdout",
     "output_type": "stream",
     "text": [
      "       현재가   거래량          체결시간    시가    고가    저가  전일종가\n",
      "0     6.54   2.0  2.023103e+13  6.54  6.54  6.54 -5.44\n",
      "1     6.66  11.0  2.023103e+13  6.65  6.68  6.60   NaN\n",
      "2     6.65  22.0  2.023103e+13  6.78  6.78  6.65   NaN\n",
      "3     6.70  52.0  2.023103e+13  6.64  6.86  6.55   NaN\n",
      "4     6.55  14.0  2.023103e+13 -6.50  6.72 -6.48   NaN\n",
      "...    ...   ...           ...   ...   ...   ...   ...\n",
      "6305  2.50   3.0  2.023082e+13  2.50  2.50  2.50   NaN\n",
      "6306  2.67   4.0  2.023082e+13  2.65  2.67  2.65   NaN\n",
      "6307  3.05   1.0  2.023081e+13  3.05  3.05  3.05   NaN\n",
      "6308  3.54   5.0  2.023081e+13  3.53  3.54  3.52   NaN\n",
      "6309  4.85  14.0  2.023081e+13  5.03  5.03 -4.77   NaN\n",
      "\n",
      "[6310 rows x 7 columns]\n"
     ]
    }
   ],
   "source": [
    "import os\n",
    "import pandas as pd\n",
    "\n",
    "# 데이터를 저장할 빈 데이터 프레임 생성\n",
    "combined_data = pd.DataFrame()\n",
    "\n",
    "# option_price 폴더에서 시작하고 모든 하위 폴더를 반복\n",
    "start_dir = 'option_price/201TB305_352.5/'  # option_price 폴더의 경로를 수정하세요.\n",
    "for folder, _, files in os.walk(start_dir):\n",
    "    for file in files:\n",
    "        if file.endswith(\".csv\"):\n",
    "            file_path = os.path.join(folder, file)\n",
    "            # CSV 파일 로드\n",
    "            data = pd.read_csv(file_path)\n",
    "            # 데이터를 빈 데이터 프레임에 추가\n",
    "            combined_data = pd.concat([combined_data, data], ignore_index=True)\n",
    "\n",
    "# 모든 CSV 파일이 합쳐진 데이터를 출력하거나 저장할 수 있습니다.\n",
    "print(combined_data)"
   ]
  },
  {
   "cell_type": "code",
   "execution_count": 135,
   "metadata": {},
   "outputs": [],
   "source": [
    "combined_data['체결시간'] = pd.to_datetime(combined_data['체결시간'], format=\"%Y%m%d%H%M%S\")\n",
    "combined_data = combined_data[['체결시간', '현재가']]"
   ]
  },
  {
   "cell_type": "code",
   "execution_count": 136,
   "metadata": {},
   "outputs": [
    {
     "data": {
      "text/html": [
       "<div>\n",
       "<style scoped>\n",
       "    .dataframe tbody tr th:only-of-type {\n",
       "        vertical-align: middle;\n",
       "    }\n",
       "\n",
       "    .dataframe tbody tr th {\n",
       "        vertical-align: top;\n",
       "    }\n",
       "\n",
       "    .dataframe thead th {\n",
       "        text-align: right;\n",
       "    }\n",
       "</style>\n",
       "<table border=\"1\" class=\"dataframe\">\n",
       "  <thead>\n",
       "    <tr style=\"text-align: right;\">\n",
       "      <th></th>\n",
       "      <th>체결시간</th>\n",
       "      <th>현재가</th>\n",
       "    </tr>\n",
       "  </thead>\n",
       "  <tbody>\n",
       "    <tr>\n",
       "      <th>0</th>\n",
       "      <td>2023-10-27 15:45:00</td>\n",
       "      <td>6.54</td>\n",
       "    </tr>\n",
       "    <tr>\n",
       "      <th>1</th>\n",
       "      <td>2023-10-27 15:30:00</td>\n",
       "      <td>6.66</td>\n",
       "    </tr>\n",
       "    <tr>\n",
       "      <th>2</th>\n",
       "      <td>2023-10-27 15:15:00</td>\n",
       "      <td>6.65</td>\n",
       "    </tr>\n",
       "    <tr>\n",
       "      <th>3</th>\n",
       "      <td>2023-10-27 15:00:00</td>\n",
       "      <td>6.70</td>\n",
       "    </tr>\n",
       "    <tr>\n",
       "      <th>4</th>\n",
       "      <td>2023-10-27 14:45:00</td>\n",
       "      <td>6.55</td>\n",
       "    </tr>\n",
       "    <tr>\n",
       "      <th>...</th>\n",
       "      <td>...</td>\n",
       "      <td>...</td>\n",
       "    </tr>\n",
       "    <tr>\n",
       "      <th>6305</th>\n",
       "      <td>2023-08-16 09:00:00</td>\n",
       "      <td>2.50</td>\n",
       "    </tr>\n",
       "    <tr>\n",
       "      <th>6306</th>\n",
       "      <td>2023-08-16 08:45:00</td>\n",
       "      <td>2.67</td>\n",
       "    </tr>\n",
       "    <tr>\n",
       "      <th>6307</th>\n",
       "      <td>2023-08-14 11:15:00</td>\n",
       "      <td>3.05</td>\n",
       "    </tr>\n",
       "    <tr>\n",
       "      <th>6308</th>\n",
       "      <td>2023-08-14 10:00:00</td>\n",
       "      <td>3.54</td>\n",
       "    </tr>\n",
       "    <tr>\n",
       "      <th>6309</th>\n",
       "      <td>2023-08-11 09:30:00</td>\n",
       "      <td>4.85</td>\n",
       "    </tr>\n",
       "  </tbody>\n",
       "</table>\n",
       "<p>6310 rows × 2 columns</p>\n",
       "</div>"
      ],
      "text/plain": [
       "                    체결시간   현재가\n",
       "0    2023-10-27 15:45:00  6.54\n",
       "1    2023-10-27 15:30:00  6.66\n",
       "2    2023-10-27 15:15:00  6.65\n",
       "3    2023-10-27 15:00:00  6.70\n",
       "4    2023-10-27 14:45:00  6.55\n",
       "...                  ...   ...\n",
       "6305 2023-08-16 09:00:00  2.50\n",
       "6306 2023-08-16 08:45:00  2.67\n",
       "6307 2023-08-14 11:15:00  3.05\n",
       "6308 2023-08-14 10:00:00  3.54\n",
       "6309 2023-08-11 09:30:00  4.85\n",
       "\n",
       "[6310 rows x 2 columns]"
      ]
     },
     "execution_count": 136,
     "metadata": {},
     "output_type": "execute_result"
    }
   ],
   "source": [
    "combined_data"
   ]
  }
 ],
 "metadata": {
  "kernelspec": {
   "display_name": "Python 3",
   "language": "python",
   "name": "python3"
  },
  "language_info": {
   "codemirror_mode": {
    "name": "ipython",
    "version": 3
   },
   "file_extension": ".py",
   "mimetype": "text/x-python",
   "name": "python",
   "nbconvert_exporter": "python",
   "pygments_lexer": "ipython3",
   "version": "3.11.4"
  }
 },
 "nbformat": 4,
 "nbformat_minor": 2
}
